{
 "cells": [
  {
   "cell_type": "code",
   "execution_count": 201,
   "metadata": {},
   "outputs": [],
   "source": [
    "import pandas as pd\n",
    "import numpy as np\n",
    "import matplotlib.pyplot as plt\n",
    "import seaborn as sns\n",
    "import nltk\n",
    "from nltk.probability import FreqDist\n",
    "from nltk.corpus import stopwords\n",
    "from nltk.tokenize import regexp_tokenize, word_tokenize, RegexpTokenizer\n",
    "from nltk import pos_tag\n",
    "from nltk import WordNetLemmatizer\n",
    "from nltk.corpus import wordnet\n",
    "from sklearn.feature_extraction.text import CountVectorizer, TfidfTransformer, TfidfVectorizer\n",
    "from sklearn.naive_bayes import MultinomialNB\n",
    "from sklearn.metrics import accuracy_score, precision_score, recall_score, confusion_matrix, f1_score, plot_confusion_matrix\n",
    "\n",
    "from sklearn.pipeline import make_pipeline , Pipeline"
   ]
  },
  {
   "cell_type": "code",
   "execution_count": 3,
   "metadata": {},
   "outputs": [],
   "source": [
    "def summary_scores(model, train_set_x, test_set_x, train_set_y, test_set_y):\n",
    "    print(f'Training Accuracy: {model.score(train_set_x, train_set_y)}')\n",
    "    print(f'Testing Accuracy: {model.score(test_set_x, test_set_y)}')\n",
    "    print(f'F1 Score: {f1_score(test_set_y, model.predict(test_set_x), average=\"weighted\")}')\n",
    "    print(f'Recall: {recall_score(test_set_y, model.predict(test_set_x), average=\"weighted\")}')\n",
    "    print(f'Precision: {precision_score(test_set_y, model.predict(test_set_x), average=\"weighted\")}')\n"
   ]
  },
  {
   "cell_type": "markdown",
   "metadata": {},
   "source": [
    "#### Load Dataframe"
   ]
  },
  {
   "cell_type": "code",
   "execution_count": 4,
   "metadata": {},
   "outputs": [],
   "source": [
    "df = pd.read_csv('data/judge-1377884607_tweet_product_company.csv',encoding='latin1')"
   ]
  },
  {
   "cell_type": "markdown",
   "metadata": {},
   "source": [
    "#### Rename columns for simplicity"
   ]
  },
  {
   "cell_type": "code",
   "execution_count": 231,
   "metadata": {},
   "outputs": [
    {
     "data": {
      "text/plain": [
       "(9091, 7)"
      ]
     },
     "execution_count": 231,
     "metadata": {},
     "output_type": "execute_result"
    }
   ],
   "source": [
    "df.shape"
   ]
  },
  {
   "cell_type": "code",
   "execution_count": 5,
   "metadata": {},
   "outputs": [],
   "source": [
    "df.rename(columns = {'emotion_in_tweet_is_directed_at': 'Product', 'is_there_an_emotion_directed_at_a_brand_or_product': 'Emotion', 'tweet_text': 'Tweet'}, inplace= True)"
   ]
  },
  {
   "cell_type": "code",
   "execution_count": 6,
   "metadata": {},
   "outputs": [],
   "source": [
    "df.drop(9092, inplace=True)\n",
    "df.reset_index(drop=True, inplace=True)"
   ]
  },
  {
   "cell_type": "markdown",
   "metadata": {},
   "source": [
    "#### LowerCase tweets for ease of use"
   ]
  },
  {
   "cell_type": "code",
   "execution_count": 7,
   "metadata": {},
   "outputs": [],
   "source": [
    "df['Text'] = df['Tweet'].str.lower()\n",
    "df['Text'] = df['Text'].str.replace(r'[^\\w\\s]', '')\n",
    "df['Text'] = df['Text'].str.split(' ')"
   ]
  },
  {
   "cell_type": "code",
   "execution_count": 8,
   "metadata": {},
   "outputs": [],
   "source": [
    "df.dropna(subset=['Text'], inplace=True)"
   ]
  },
  {
   "cell_type": "code",
   "execution_count": 9,
   "metadata": {
    "scrolled": true
   },
   "outputs": [
    {
     "data": {
      "text/plain": [
       "iPad                               946\n",
       "Apple                              661\n",
       "iPad or iPhone App                 470\n",
       "Google                             430\n",
       "iPhone                             297\n",
       "Other Google product or service    293\n",
       "Android App                         81\n",
       "Android                             78\n",
       "Other Apple product or service      35\n",
       "Name: Product, dtype: int64"
      ]
     },
     "execution_count": 9,
     "metadata": {},
     "output_type": "execute_result"
    }
   ],
   "source": [
    "df['Product'].value_counts()"
   ]
  },
  {
   "cell_type": "code",
   "execution_count": 10,
   "metadata": {},
   "outputs": [],
   "source": [
    "df['test'] = ''\n",
    "df.fillna('na', inplace=True)"
   ]
  },
  {
   "cell_type": "code",
   "execution_count": 11,
   "metadata": {},
   "outputs": [],
   "source": [
    "apple_keywords = ['apple', '#apple', 'ipad', '#ipad', '#iphone', 'iphone', 'itunes', '#itunes', 'ios', 'airpods', '#ios', '#airpods'\n",
    "                 'iphones', 'ipads', 'apples', 'quotapple', 'quotipad', 'ipadquot', 'quotipads', 'ipadsquot', 'applequot', 'quotiphone', 'iphonequot', 'quotios', 'iosquot', 'quotiphones', 'iphonesquot', 'ipad2']\n",
    "google_keywords = ['google', '#google', 'android', '#android', 'googles', 'androids', 'quotgoogle', 'googlequot', 'quotandroid', 'androidquot', 'quotandroids', 'androidsquot' ]\n",
    "\n",
    "for ind, val in enumerate(df['Text']):\n",
    "    if df['Product'].values[ind] == 'na':\n",
    "        for y in val:\n",
    "            if y in apple_keywords:\n",
    "                df['test'].values[ind] = y\n",
    "            elif y in google_keywords:\n",
    "                df['test'].values[ind] = y\n",
    "                \n",
    "    else:\n",
    "        df['test'].values[ind] = df['Product'].values[ind]\n"
   ]
  },
  {
   "cell_type": "code",
   "execution_count": 12,
   "metadata": {
    "scrolled": true
   },
   "outputs": [
    {
     "data": {
      "text/plain": [
       "array(['iphone', 'ipad or iphone app', 'ipad', 'google', 'android',\n",
       "       'apple', 'android app', 'other google product or service',\n",
       "       'itunes', '', 'quotgoogle', 'ipad2', 'googles', 'ipads',\n",
       "       'applequot', 'ios', 'apples', 'ipadquot',\n",
       "       'other apple product or service', 'quotipad', 'iosquot',\n",
       "       'quotiphone', 'androidquot', 'googlequot', 'quotapple', 'androids',\n",
       "       'iphonequot'], dtype=object)"
      ]
     },
     "execution_count": 12,
     "metadata": {},
     "output_type": "execute_result"
    }
   ],
   "source": [
    "df['test'] = df['test'].map(lambda x: x.lower())\n",
    "df['test'].unique()"
   ]
  },
  {
   "cell_type": "code",
   "execution_count": 13,
   "metadata": {},
   "outputs": [
    {
     "data": {
      "text/plain": [
       "array(['iphone', 'ipad or iphone app', 'ipad', 'google', 'android',\n",
       "       'apple', 'android app', 'other google product or service',\n",
       "       'itunes', '', 'ios', 'other apple product or service'],\n",
       "      dtype=object)"
      ]
     },
     "execution_count": 13,
     "metadata": {},
     "output_type": "execute_result"
    }
   ],
   "source": [
    "df['test'] = df['test'].replace({'googles': 'google', 'apples': 'apple', 'androids': 'android','ipads': 'ipad', 'ipad2': 'ipad',\n",
    "                                'quotgoogle': 'google', 'ipadquot': 'ipad', 'quotipad': 'ipad', 'androidquot': 'android', 'applequot': 'apple',\n",
    "                               'googlequot': 'google', 'iphonequot': 'iphone', 'quotapple' : 'apple', 'iosquot': 'ios', 'quotiphone': 'iphone',\n",
    "                                '#ipad' : 'ipad', '#google' : 'google', '#android': 'android', '#apple': 'apple', '#iphone': 'iphone'})\n",
    "df['test'].unique()"
   ]
  },
  {
   "cell_type": "code",
   "execution_count": 14,
   "metadata": {},
   "outputs": [],
   "source": [
    "emotion_dict = {'No emotion toward brand or product' : 'Neutral emotion', \"I can't tell\": 'Neutral emotion', 'Positive emotion': 'Positive emotion',\n",
    "               'Negative emotion': 'Negative emotion'}\n",
    "df['Emotion'] = df['Emotion'].map(emotion_dict)"
   ]
  },
  {
   "cell_type": "code",
   "execution_count": 15,
   "metadata": {
    "scrolled": true
   },
   "outputs": [
    {
     "data": {
      "text/plain": [
       "Neutral emotion     0.609724\n",
       "Positive emotion    0.327577\n",
       "Negative emotion    0.062699\n",
       "Name: Emotion, dtype: float64"
      ]
     },
     "execution_count": 15,
     "metadata": {},
     "output_type": "execute_result"
    }
   ],
   "source": [
    "df['Emotion'].value_counts(normalize=True)"
   ]
  },
  {
   "cell_type": "code",
   "execution_count": 16,
   "metadata": {},
   "outputs": [
    {
     "data": {
      "text/plain": [
       "ipad                               2286\n",
       "google                             2087\n",
       "apple                              1496\n",
       "iphone                             1052\n",
       "                                    840\n",
       "ipad or iphone app                  470\n",
       "android                             379\n",
       "other google product or service     293\n",
       "android app                          81\n",
       "itunes                               64\n",
       "other apple product or service       35\n",
       "ios                                   8\n",
       "Name: test, dtype: int64"
      ]
     },
     "execution_count": 16,
     "metadata": {},
     "output_type": "execute_result"
    }
   ],
   "source": [
    "df['test'].value_counts()"
   ]
  },
  {
   "cell_type": "code",
   "execution_count": 17,
   "metadata": {},
   "outputs": [],
   "source": [
    "def company_search(test):\n",
    "    if test == 'iphone':\n",
    "        return 'apple'\n",
    "    elif test == 'apple':\n",
    "        return 'apple'\n",
    "    elif test == 'ipad':\n",
    "        return 'apple'\n",
    "    elif test == 'ipad or iphone app':\n",
    "        return 'apple'\n",
    "    elif test == 'itunes':\n",
    "        return 'apple'\n",
    "    elif test == 'other apple product or service':\n",
    "        return 'apple'\n",
    "    elif test == 'ios':\n",
    "        return 'apple'\n",
    "    elif test == 'ipadquot':\n",
    "        return 'apple'\n",
    "    elif test == 'applequot':\n",
    "        return 'apple'\n",
    "    elif test == 'iphonequot':\n",
    "        return 'apple'\n",
    "    elif test == 'quotiphone':\n",
    "        return 'apple'\n",
    "    elif test == 'iosquot':\n",
    "        return 'apple'\n",
    "    elif test =='quotipad':\n",
    "        return 'apple'\n",
    "    elif test == 'quotapple':\n",
    "        return 'apple'\n",
    "    elif test =='google':\n",
    "        return 'google'\n",
    "    elif test == 'android':\n",
    "        return 'google'\n",
    "    elif test == 'other google product or service':\n",
    "        return 'google'\n",
    "    elif test == 'android app':\n",
    "        return 'google'\n",
    "    elif test == 'quotgoogle':\n",
    "        return 'google'\n",
    "    elif test == 'googlequot':\n",
    "        return 'google'\n",
    "    elif test == 'androidquot':\n",
    "        return 'google'\n",
    "    else:\n",
    "        return 'unknown'"
   ]
  },
  {
   "cell_type": "code",
   "execution_count": 18,
   "metadata": {},
   "outputs": [],
   "source": [
    "df['company'] = df['test'].apply(company_search)"
   ]
  },
  {
   "cell_type": "code",
   "execution_count": 19,
   "metadata": {
    "scrolled": false
   },
   "outputs": [
    {
     "data": {
      "text/plain": [
       "apple      5411\n",
       "google     2840\n",
       "unknown     840\n",
       "Name: company, dtype: int64"
      ]
     },
     "execution_count": 19,
     "metadata": {},
     "output_type": "execute_result"
    }
   ],
   "source": [
    "df['company'].value_counts()"
   ]
  },
  {
   "cell_type": "code",
   "execution_count": 126,
   "metadata": {},
   "outputs": [],
   "source": [
    "from nltk.tokenize import TweetTokenizer\n",
    "ttokenize = TweetTokenizer(preserve_case=False, reduce_len=False)"
   ]
  },
  {
   "cell_type": "code",
   "execution_count": 132,
   "metadata": {},
   "outputs": [],
   "source": [
    "import re"
   ]
  },
  {
   "cell_type": "code",
   "execution_count": 133,
   "metadata": {},
   "outputs": [],
   "source": [
    "df['clean_tweet'] = [re.sub(r'(http://[^\"\\s]+)|(@\\w+)', '', tweet)\n",
    "                           for tweet in df['Tweet']]"
   ]
  },
  {
   "cell_type": "code",
   "execution_count": 158,
   "metadata": {},
   "outputs": [],
   "source": [
    "df['clean_tweet'] = df['Tweet'].str.replace(r'[^\\w\\s]', '')"
   ]
  },
  {
   "cell_type": "code",
   "execution_count": 157,
   "metadata": {},
   "outputs": [],
   "source": [
    "def clean_tweet(tweet):\n",
    "    token = ttokenize.tokenize(tweet)\n",
    "    tokens = [word.lower() for word in token]\n",
    "    no_sw = [word for word in tokens if word not in sw]\n",
    "    lemmad = [lemma.lemmatize(word) for word in no_sw]\n",
    "    return lemmad\n",
    "    "
   ]
  },
  {
   "cell_type": "code",
   "execution_count": 159,
   "metadata": {},
   "outputs": [],
   "source": [
    "df['clean_tweet'] = df['clean_tweet'].apply(clean_tweet)"
   ]
  },
  {
   "cell_type": "code",
   "execution_count": 442,
   "metadata": {},
   "outputs": [
    {
     "ename": "AttributeError",
     "evalue": "'TweetTokenizer' object has no attribute 'fit_on_texts'",
     "output_type": "error",
     "traceback": [
      "\u001b[0;31m---------------------------------------------------------------------------\u001b[0m",
      "\u001b[0;31mAttributeError\u001b[0m                            Traceback (most recent call last)",
      "\u001b[0;32m<ipython-input-442-056698f4ad52>\u001b[0m in \u001b[0;36m<module>\u001b[0;34m\u001b[0m\n\u001b[0;32m----> 1\u001b[0;31m \u001b[0mnn_text\u001b[0m \u001b[0;34m=\u001b[0m \u001b[0mttokenize\u001b[0m\u001b[0;34m.\u001b[0m\u001b[0mfit_on_texts\u001b[0m\u001b[0;34m(\u001b[0m\u001b[0mlist\u001b[0m\u001b[0;34m(\u001b[0m\u001b[0mdf_test\u001b[0m\u001b[0;34m[\u001b[0m\u001b[0;34m'clean_tweet'\u001b[0m\u001b[0;34m]\u001b[0m\u001b[0;34m)\u001b[0m\u001b[0;34m)\u001b[0m\u001b[0;34m\u001b[0m\u001b[0;34m\u001b[0m\u001b[0m\n\u001b[0m",
      "\u001b[0;31mAttributeError\u001b[0m: 'TweetTokenizer' object has no attribute 'fit_on_texts'"
     ]
    }
   ],
   "source": []
  },
  {
   "cell_type": "markdown",
   "metadata": {},
   "source": [
    "### Add Target values\n"
   ]
  },
  {
   "cell_type": "code",
   "execution_count": 20,
   "metadata": {},
   "outputs": [],
   "source": [
    "target_dict = {'Negative emotion': 0, 'Neutral emotion': 1, 'Positive emotion': 2}\n",
    "df['target'] = df['Emotion'].map(target_dict)"
   ]
  },
  {
   "cell_type": "code",
   "execution_count": 21,
   "metadata": {
    "scrolled": true
   },
   "outputs": [
    {
     "data": {
      "text/plain": [
       "1    5543\n",
       "2    2978\n",
       "0     570\n",
       "Name: target, dtype: int64"
      ]
     },
     "execution_count": 21,
     "metadata": {},
     "output_type": "execute_result"
    }
   ],
   "source": [
    "df['target'].value_counts()"
   ]
  },
  {
   "cell_type": "markdown",
   "metadata": {},
   "source": [
    "#### Seperate Dataframes by company"
   ]
  },
  {
   "cell_type": "code",
   "execution_count": 22,
   "metadata": {},
   "outputs": [],
   "source": [
    "df_apple = df.loc[df['company'] == 'apple']\n",
    "df_google = df.loc[df['company'] == 'google']\n"
   ]
  },
  {
   "cell_type": "markdown",
   "metadata": {},
   "source": [
    "#### Seperate Dataframes by tweet sentiment"
   ]
  },
  {
   "cell_type": "code",
   "execution_count": 23,
   "metadata": {},
   "outputs": [],
   "source": [
    "df_pos = df.loc[df.target == 2]\n",
    "df_neg = df.loc[df.target == 0]\n",
    "df_neutral = df.loc[df.target == 1]"
   ]
  },
  {
   "cell_type": "markdown",
   "metadata": {},
   "source": [
    "#### Lists/Dictionary of words used in pos/neg/neutral tweets"
   ]
  },
  {
   "cell_type": "code",
   "execution_count": 24,
   "metadata": {},
   "outputs": [],
   "source": [
    "pos_words = []\n",
    "neg_words = []\n",
    "neutral_words = []\n",
    "\n",
    "for list_ in df_pos['Text']:\n",
    "    for word in list_:\n",
    "        pos_words.append(word)\n",
    "\n",
    "        \n",
    "for list_ in df_neg['Text']:\n",
    "    for word in list_:\n",
    "        neg_words.append(word)\n",
    "        \n",
    "        \n",
    "for list_ in df_neutral['Text']:\n",
    "    for word in list_:\n",
    "        neutral_words.append(word)\n",
    "    "
   ]
  },
  {
   "cell_type": "code",
   "execution_count": 25,
   "metadata": {},
   "outputs": [],
   "source": [
    "from collections import Counter\n",
    "sw = stopwords.words('english')"
   ]
  },
  {
   "cell_type": "code",
   "execution_count": 26,
   "metadata": {},
   "outputs": [],
   "source": [
    "from nltk.stem import WordNetLemmatizer\n",
    "lemma = WordNetLemmatizer()"
   ]
  },
  {
   "cell_type": "code",
   "execution_count": 27,
   "metadata": {},
   "outputs": [],
   "source": [
    "pos_words = [lemma.lemmatize(word) for word in pos_words if word not in sw]\n",
    "neg_words = [lemma.lemmatize(word) for word in neg_words if word not in sw]\n",
    "neutral_words =  [lemma.lemmatize(word) for word in neutral_words if word not in sw]\n",
    "\n"
   ]
  },
  {
   "cell_type": "code",
   "execution_count": 28,
   "metadata": {},
   "outputs": [],
   "source": [
    "pos_dict = Counter(pos_words)\n",
    "neg_dict = Counter(neg_words)\n",
    "neutral_dict = Counter(neutral_words)"
   ]
  },
  {
   "cell_type": "code",
   "execution_count": 29,
   "metadata": {},
   "outputs": [],
   "source": [
    "pos_dict = dict(sorted(pos_dict.items(), key=lambda item: item[1], reverse=True))\n",
    "neg_dict = dict(sorted(neg_dict.items(), key=lambda item: item[1], reverse=True))\n",
    "neutral_dict = dict(sorted(neutral_dict.items(), key=lambda item: item[1], reverse=True))"
   ]
  },
  {
   "cell_type": "code",
   "execution_count": 30,
   "metadata": {
    "scrolled": false
   },
   "outputs": [
    {
     "data": {
      "text/plain": [
       "2098"
      ]
     },
     "execution_count": 30,
     "metadata": {},
     "output_type": "execute_result"
    }
   ],
   "source": [
    "pos_dict.pop('')\n",
    "neg_dict.pop('')\n",
    "neutral_dict.pop('')"
   ]
  },
  {
   "cell_type": "code",
   "execution_count": 31,
   "metadata": {
    "scrolled": false
   },
   "outputs": [
    {
     "data": {
      "text/plain": [
       "{'sxsw': 3068,\n",
       " 'mention': 2113,\n",
       " 'link': 1206,\n",
       " 'ipad': 982,\n",
       " 'rt': 922,\n",
       " 'apple': 875,\n",
       " 'google': 690,\n",
       " 'store': 549,\n",
       " 'iphone': 520,\n",
       " '2': 497,\n",
       " 'app': 391,\n",
       " 'new': 359,\n",
       " 'austin': 292,\n",
       " 'popup': 218,\n",
       " 'ipad2': 202,\n",
       " 'android': 198,\n",
       " 'amp': 181,\n",
       " 'get': 181,\n",
       " 'launch': 174,\n",
       " 'one': 148}"
      ]
     },
     "execution_count": 31,
     "metadata": {},
     "output_type": "execute_result"
    }
   ],
   "source": [
    "dict(list(pos_dict.items())[0:20])"
   ]
  },
  {
   "cell_type": "code",
   "execution_count": 32,
   "metadata": {
    "scrolled": true
   },
   "outputs": [
    {
     "data": {
      "text/plain": [
       "{'sxsw': 578,\n",
       " 'mention': 301,\n",
       " 'ipad': 181,\n",
       " 'iphone': 155,\n",
       " 'google': 141,\n",
       " 'rt': 137,\n",
       " 'apple': 106,\n",
       " 'link': 101,\n",
       " '2': 65,\n",
       " 'app': 60,\n",
       " 'store': 45,\n",
       " 'new': 43,\n",
       " 'like': 42,\n",
       " 'circle': 36,\n",
       " 'need': 35,\n",
       " 'social': 30,\n",
       " 'apps': 30,\n",
       " 'people': 29,\n",
       " 'design': 28,\n",
       " 'get': 25}"
      ]
     },
     "execution_count": 32,
     "metadata": {},
     "output_type": "execute_result"
    }
   ],
   "source": [
    "dict(list(neg_dict.items())[0:20])"
   ]
  },
  {
   "cell_type": "markdown",
   "metadata": {},
   "source": [
    "#### Adding common words used in both positive and negative tweets to stopwords list"
   ]
  },
  {
   "cell_type": "code",
   "execution_count": 33,
   "metadata": {},
   "outputs": [],
   "source": [
    "common_words = ['sxsw', 'mention', 'link', 'ipad', 'iphone', 'google', 'apple', '2', 'android', 'rt']\n"
   ]
  },
  {
   "cell_type": "code",
   "execution_count": 34,
   "metadata": {},
   "outputs": [],
   "source": [
    "sw.extend(common_words)"
   ]
  },
  {
   "cell_type": "code",
   "execution_count": 48,
   "metadata": {},
   "outputs": [
    {
     "data": {
      "text/html": [
       "<div>\n",
       "<style scoped>\n",
       "    .dataframe tbody tr th:only-of-type {\n",
       "        vertical-align: middle;\n",
       "    }\n",
       "\n",
       "    .dataframe tbody tr th {\n",
       "        vertical-align: top;\n",
       "    }\n",
       "\n",
       "    .dataframe thead th {\n",
       "        text-align: right;\n",
       "    }\n",
       "</style>\n",
       "<table border=\"1\" class=\"dataframe\">\n",
       "  <thead>\n",
       "    <tr style=\"text-align: right;\">\n",
       "      <th></th>\n",
       "      <th>Tweet</th>\n",
       "      <th>Product</th>\n",
       "      <th>Emotion</th>\n",
       "      <th>Text</th>\n",
       "      <th>test</th>\n",
       "      <th>company</th>\n",
       "      <th>target</th>\n",
       "    </tr>\n",
       "  </thead>\n",
       "  <tbody>\n",
       "    <tr>\n",
       "      <th>0</th>\n",
       "      <td>.@wesley83 I have a 3G iPhone. After 3 hrs twe...</td>\n",
       "      <td>iPhone</td>\n",
       "      <td>Negative emotion</td>\n",
       "      <td>[wesley83, i, have, a, 3g, iphone, after, 3, h...</td>\n",
       "      <td>iphone</td>\n",
       "      <td>apple</td>\n",
       "      <td>0</td>\n",
       "    </tr>\n",
       "    <tr>\n",
       "      <th>1</th>\n",
       "      <td>@jessedee Know about @fludapp ? Awesome iPad/i...</td>\n",
       "      <td>iPad or iPhone App</td>\n",
       "      <td>Positive emotion</td>\n",
       "      <td>[jessedee, know, about, fludapp, , awesome, ip...</td>\n",
       "      <td>ipad or iphone app</td>\n",
       "      <td>apple</td>\n",
       "      <td>2</td>\n",
       "    </tr>\n",
       "    <tr>\n",
       "      <th>2</th>\n",
       "      <td>@swonderlin Can not wait for #iPad 2 also. The...</td>\n",
       "      <td>iPad</td>\n",
       "      <td>Positive emotion</td>\n",
       "      <td>[swonderlin, can, not, wait, for, ipad, 2, als...</td>\n",
       "      <td>ipad</td>\n",
       "      <td>apple</td>\n",
       "      <td>2</td>\n",
       "    </tr>\n",
       "    <tr>\n",
       "      <th>3</th>\n",
       "      <td>@sxsw I hope this year's festival isn't as cra...</td>\n",
       "      <td>iPad or iPhone App</td>\n",
       "      <td>Negative emotion</td>\n",
       "      <td>[sxsw, i, hope, this, years, festival, isnt, a...</td>\n",
       "      <td>ipad or iphone app</td>\n",
       "      <td>apple</td>\n",
       "      <td>0</td>\n",
       "    </tr>\n",
       "    <tr>\n",
       "      <th>4</th>\n",
       "      <td>@sxtxstate great stuff on Fri #SXSW: Marissa M...</td>\n",
       "      <td>Google</td>\n",
       "      <td>Positive emotion</td>\n",
       "      <td>[sxtxstate, great, stuff, on, fri, sxsw, maris...</td>\n",
       "      <td>google</td>\n",
       "      <td>google</td>\n",
       "      <td>2</td>\n",
       "    </tr>\n",
       "    <tr>\n",
       "      <th>...</th>\n",
       "      <td>...</td>\n",
       "      <td>...</td>\n",
       "      <td>...</td>\n",
       "      <td>...</td>\n",
       "      <td>...</td>\n",
       "      <td>...</td>\n",
       "      <td>...</td>\n",
       "    </tr>\n",
       "    <tr>\n",
       "      <th>9087</th>\n",
       "      <td>@mention Yup, but I don't have a third app yet...</td>\n",
       "      <td>na</td>\n",
       "      <td>Neutral emotion</td>\n",
       "      <td>[mention, yup, but, i, dont, have, a, third, a...</td>\n",
       "      <td>android</td>\n",
       "      <td>google</td>\n",
       "      <td>1</td>\n",
       "    </tr>\n",
       "    <tr>\n",
       "      <th>9088</th>\n",
       "      <td>Ipad everywhere. #SXSW {link}</td>\n",
       "      <td>iPad</td>\n",
       "      <td>Positive emotion</td>\n",
       "      <td>[ipad, everywhere, sxsw, link]</td>\n",
       "      <td>ipad</td>\n",
       "      <td>apple</td>\n",
       "      <td>2</td>\n",
       "    </tr>\n",
       "    <tr>\n",
       "      <th>9089</th>\n",
       "      <td>Wave, buzz... RT @mention We interrupt your re...</td>\n",
       "      <td>na</td>\n",
       "      <td>Neutral emotion</td>\n",
       "      <td>[wave, buzz, rt, mention, we, interrupt, your,...</td>\n",
       "      <td>google</td>\n",
       "      <td>google</td>\n",
       "      <td>1</td>\n",
       "    </tr>\n",
       "    <tr>\n",
       "      <th>9090</th>\n",
       "      <td>Google's Zeiger, a physician never reported po...</td>\n",
       "      <td>na</td>\n",
       "      <td>Neutral emotion</td>\n",
       "      <td>[googles, zeiger, a, physician, never, reporte...</td>\n",
       "      <td>google</td>\n",
       "      <td>google</td>\n",
       "      <td>1</td>\n",
       "    </tr>\n",
       "    <tr>\n",
       "      <th>9091</th>\n",
       "      <td>Some Verizon iPhone customers complained their...</td>\n",
       "      <td>na</td>\n",
       "      <td>Neutral emotion</td>\n",
       "      <td>[some, verizon, iphone, customers, complained,...</td>\n",
       "      <td>iphone</td>\n",
       "      <td>apple</td>\n",
       "      <td>1</td>\n",
       "    </tr>\n",
       "  </tbody>\n",
       "</table>\n",
       "<p>9091 rows × 7 columns</p>\n",
       "</div>"
      ],
      "text/plain": [
       "                                                  Tweet             Product  \\\n",
       "0     .@wesley83 I have a 3G iPhone. After 3 hrs twe...              iPhone   \n",
       "1     @jessedee Know about @fludapp ? Awesome iPad/i...  iPad or iPhone App   \n",
       "2     @swonderlin Can not wait for #iPad 2 also. The...                iPad   \n",
       "3     @sxsw I hope this year's festival isn't as cra...  iPad or iPhone App   \n",
       "4     @sxtxstate great stuff on Fri #SXSW: Marissa M...              Google   \n",
       "...                                                 ...                 ...   \n",
       "9087  @mention Yup, but I don't have a third app yet...                  na   \n",
       "9088                      Ipad everywhere. #SXSW {link}                iPad   \n",
       "9089  Wave, buzz... RT @mention We interrupt your re...                  na   \n",
       "9090  Google's Zeiger, a physician never reported po...                  na   \n",
       "9091  Some Verizon iPhone customers complained their...                  na   \n",
       "\n",
       "               Emotion                                               Text  \\\n",
       "0     Negative emotion  [wesley83, i, have, a, 3g, iphone, after, 3, h...   \n",
       "1     Positive emotion  [jessedee, know, about, fludapp, , awesome, ip...   \n",
       "2     Positive emotion  [swonderlin, can, not, wait, for, ipad, 2, als...   \n",
       "3     Negative emotion  [sxsw, i, hope, this, years, festival, isnt, a...   \n",
       "4     Positive emotion  [sxtxstate, great, stuff, on, fri, sxsw, maris...   \n",
       "...                ...                                                ...   \n",
       "9087   Neutral emotion  [mention, yup, but, i, dont, have, a, third, a...   \n",
       "9088  Positive emotion                     [ipad, everywhere, sxsw, link]   \n",
       "9089   Neutral emotion  [wave, buzz, rt, mention, we, interrupt, your,...   \n",
       "9090   Neutral emotion  [googles, zeiger, a, physician, never, reporte...   \n",
       "9091   Neutral emotion  [some, verizon, iphone, customers, complained,...   \n",
       "\n",
       "                    test company  target  \n",
       "0                 iphone   apple       0  \n",
       "1     ipad or iphone app   apple       2  \n",
       "2                   ipad   apple       2  \n",
       "3     ipad or iphone app   apple       0  \n",
       "4                 google  google       2  \n",
       "...                  ...     ...     ...  \n",
       "9087             android  google       1  \n",
       "9088                ipad   apple       2  \n",
       "9089              google  google       1  \n",
       "9090              google  google       1  \n",
       "9091              iphone   apple       1  \n",
       "\n",
       "[9091 rows x 7 columns]"
      ]
     },
     "execution_count": 48,
     "metadata": {},
     "output_type": "execute_result"
    }
   ],
   "source": [
    "df[]"
   ]
  },
  {
   "cell_type": "markdown",
   "metadata": {},
   "source": [
    "## Visualizations"
   ]
  },
  {
   "cell_type": "code",
   "execution_count": 399,
   "metadata": {
    "scrolled": false
   },
   "outputs": [
    {
     "data": {
      "image/png": "[encoded data removed]",
      "text/plain": [
       "<Figure size 1080x864 with 2 Axes>"
      ]
     },
     "metadata": {},
     "output_type": "display_data"
    }
   ],
   "source": [
    "plt.figure(figsize=(15, 12))\n",
    "ax1 = plt.subplot2grid(shape=(2,5), loc = (0,0))\n",
    "ax2 = plt.subplot2grid(shape=(2,5), loc = (0,1),)\n",
    "\n",
    "sns.barplot(x = df_apple['Emotion'].value_counts().index,\n",
    "           y = df_apple['Emotion'].value_counts().values,\n",
    "           ax =ax1)\n",
    "ax1.set_xticklabels(['Neutral', 'Positive', 'Negative'])\n",
    "ax1.set_title('Apple')\n",
    "ax1.set_ylim(0,3000)\n",
    "\n",
    "sns.barplot(x = df_google['Emotion'].value_counts().index,\n",
    "           y = df_google['Emotion'].value_counts().values,\n",
    "           ax = ax2)\n",
    "ax2.set_xticklabels(['Neutral', 'Positive', 'Negative'])\n",
    "ax2.set_title('Google')\n",
    "ax2.set_ylim(0,3000)\n",
    "ax2.set(yticklabels = []);"
   ]
  },
  {
   "cell_type": "code",
   "execution_count": 47,
   "metadata": {},
   "outputs": [
    {
     "data": {
      "text/plain": [
       "<AxesSubplot:>"
      ]
     },
     "execution_count": 47,
     "metadata": {},
     "output_type": "execute_result"
    },
    {
     "data": {
      "image/png": "[encoded data removed]",
      "text/plain": [
       "<Figure size 1008x864 with 1 Axes>"
      ]
     },
     "metadata": {
      "needs_background": "light"
     },
     "output_type": "display_data"
    }
   ],
   "source": [
    "plt.figure(figsize=(14,12))\n",
    "\n",
    "sns.set_style('darkgrid')\n",
    "\n",
    "sns.barplot(x = df['test'].value_counts().index,\n",
    "           y = df['test'].value_counts().values)"
   ]
  },
  {
   "cell_type": "code",
   "execution_count": 133,
   "metadata": {
    "scrolled": true
   },
   "outputs": [
    {
     "data": {
      "text/plain": [
       "<AxesSubplot:>"
      ]
     },
     "execution_count": 133,
     "metadata": {},
     "output_type": "execute_result"
    },
    {
     "data": {
      "image/png": "[encoded data removed]",
      "text/plain": [
       "<Figure size 1008x864 with 1 Axes>"
      ]
     },
     "metadata": {
      "needs_background": "light"
     },
     "output_type": "display_data"
    }
   ],
   "source": [
    "plt.figure(figsize=(14,12))\n",
    "\n",
    "sns.set_style('darkgrid')\n",
    "\n",
    "sns.barplot(x = df_pos['test'].value_counts().index,\n",
    "           y = df_pos['test'].value_counts().values)"
   ]
  },
  {
   "cell_type": "code",
   "execution_count": 134,
   "metadata": {
    "scrolled": true
   },
   "outputs": [
    {
     "data": {
      "text/plain": [
       "<AxesSubplot:>"
      ]
     },
     "execution_count": 134,
     "metadata": {},
     "output_type": "execute_result"
    },
    {
     "data": {
      "image/png": "[encoded data removed]",
      "text/plain": [
       "<Figure size 1080x864 with 1 Axes>"
      ]
     },
     "metadata": {},
     "output_type": "display_data"
    }
   ],
   "source": [
    "plt.figure(figsize=(15,12))\n",
    "\n",
    "sns.barplot(x = df_neg['test'].value_counts().index,\n",
    "           y = df_neg['test'].value_counts().values)"
   ]
  },
  {
   "cell_type": "code",
   "execution_count": 407,
   "metadata": {},
   "outputs": [],
   "source": [
    "cat_dict = {'iphone' : 'Phone/iPad', 'android': 'Phone/iPad', 'ipad': 'Phone/iPad', 'apple':'Platform',\n",
    "'google':'Platform', 'ipad or iphone app': 'App', 'android app': 'App', 'other google product or service' : 'Other product/service',\n",
    "'other apple product or service': 'Other product/service', 'ios': 'Other product/service', 'itunes': 'Other product/service'}\n"
   ]
  },
  {
   "cell_type": "code",
   "execution_count": 408,
   "metadata": {},
   "outputs": [],
   "source": [
    "df['category'] = df['test'].map(cat_dict)"
   ]
  },
  {
   "cell_type": "code",
   "execution_count": 427,
   "metadata": {},
   "outputs": [
    {
     "data": {
      "image/png": "[encoded data removed]",
      "text/plain": [
       "<Figure size 1440x1008 with 4 Axes>"
      ]
     },
     "metadata": {},
     "output_type": "display_data"
    }
   ],
   "source": [
    "plt.figure(figsize=(20,14))\n",
    "\n",
    "ax1 = plt.subplot2grid(shape=(2,4), loc=(0,0))\n",
    "ax2 = plt.subplot2grid(shape=(2,4), loc=(0,1))\n",
    "ax3 = plt.subplot2grid(shape=(2,4), loc=(1,0))\n",
    "ax4 = plt.subplot2grid(shape=(2,4), loc=(1,1))\n",
    "\n",
    "sns.barplot(x = df.loc[df.category == 'Phone/iPad']['target'].value_counts().index,\n",
    "               y = df.loc[df.category == 'Phone/iPad']['target'].value_counts(normalize=True),\n",
    "           ax=ax1)\n",
    "ax1.set_title('Phone/iPad')\n",
    "ax1.set_xlabel('Sentiment')\n",
    "ax1.set_ylabel('Frequency')\n",
    "ax1.set_xticklabels(['Negative', 'Neutral', 'Positive'])\n",
    "\n",
    "sns.barplot(x = df.loc[df.category == 'Platform']['target'].value_counts().index,\n",
    "            y = df.loc[df.category == 'Platform']['target'].value_counts(normalize=True),\n",
    "           ax=ax2)\n",
    "ax2.set_title('Platform')\n",
    "ax2.set_xlabel('Sentiment')\n",
    "ax2.set_ylabel('Frequency')\n",
    "ax2.set_xticklabels(['Negative', 'Neutral', 'Positive'])\n",
    "\n",
    "sns.barplot(x = df.loc[df.category == 'App']['target'].value_counts().index,\n",
    "               y = df.loc[df.category == 'App']['target'].value_counts(normalize=True),\n",
    "           ax=ax3)\n",
    "ax3.set_title('App-Related')\n",
    "ax3.set_xlabel('Sentiment')\n",
    "ax3.set_ylabel('Frequency')\n",
    "ax3.set_xticklabels(['Negative', 'Neutral', 'Positive'])\n",
    "\n",
    "sns.barplot(x = df.loc[df.category == 'Other product/service']['target'].value_counts().index,\n",
    "               y = df.loc[df.category == 'Other product/service']['target'].value_counts(normalize=True),\n",
    "           ax=ax4)\n",
    "ax4.set_title('Other Products/Services')\n",
    "ax4.set_xlabel('Sentiment')\n",
    "ax4.set_ylabel('Frequency')\n",
    "ax4.set_xticklabels(['Negative', 'Neutral', 'Positive']);"
   ]
  },
  {
   "cell_type": "code",
   "execution_count": 401,
   "metadata": {
    "scrolled": false
   },
   "outputs": [
    {
     "data": {
      "image/png": "[encoded data removed]",
      "text/plain": [
       "<Figure size 864x720 with 5 Axes>"
      ]
     },
     "metadata": {},
     "output_type": "display_data"
    }
   ],
   "source": [
    "plt.figure(figsize=(12,10))\n",
    "\n",
    "ax1 = plt.subplot2grid(shape=(2,4), loc=(0,0))\n",
    "ax2 = plt.subplot2grid(shape=(2,4), loc=(0,1))\n",
    "ax3 = plt.subplot2grid(shape=(2,4), loc=(1,0))\n",
    "ax4 = plt.subplot2grid(shape=(2,4), loc=(1,1))\n",
    "ax5 = plt.subplot2grid(shape=(2,4), loc=(0,2))\n",
    "\n",
    "sns.set_palette('Set2')\n",
    "\n",
    "sns.barplot(x = df.loc[df.test == 'iphone']['target'].value_counts().index,\n",
    "               y = df.loc[df.test == 'iphone']['target'].value_counts(normalize=True),\n",
    "           ax=ax1)\n",
    "ax1.set_title('iPhone')\n",
    "ax1.set_xlabel('Sentiment')\n",
    "ax1.set_ylabel('Frequency')\n",
    "ax1.set_xticklabels(['Negative', 'Neutral', 'Positive'])\n",
    "\n",
    "sns.barplot(x = df.loc[df.test == 'ipad']['target'].value_counts().index,\n",
    "           y = df.loc[df.test == 'ipad']['target'].value_counts(normalize=True),\n",
    "           ax=ax2)\n",
    "\n",
    "\n",
    "ax2.set_title('iPad')\n",
    "ax2.set_xlabel('Sentiment')\n",
    "ax2.set_ylabel('Frequency')\n",
    "ax2.set_xticklabels(['Negative', 'Neutral', 'Positive'])\n",
    "\n",
    "sns.barplot(x = df.loc[df.test == 'ipad or iphone app']['target'].value_counts().index,\n",
    "           y = df.loc[df.test == 'ipad or iphone app']['target'].value_counts(normalize=True),\n",
    "           ax=ax3)\n",
    "\n",
    "ax3.set_title('iPad/iPhone App')\n",
    "ax3.set_xlabel('Sentiment')\n",
    "ax3.set_ylabel('Frequency')\n",
    "ax3.set_xticklabels(['Negative', 'Neutral', 'Positive'])\n",
    "\n",
    "\n",
    "sns.barplot(x = df.loc[df.test == 'other apple product or service']['target'].value_counts().index,\n",
    "           y = df.loc[df.test == 'other apple product or service']['target'].value_counts(normalize=True),\n",
    "           ax=ax4)\n",
    "\n",
    "ax4.set_title('Other apple products/services')\n",
    "ax4.set_xlabel('Sentiment')\n",
    "ax4.set_ylabel('Frequency')\n",
    "ax4.set_xticklabels(['Negative', 'Neutral', 'Positive'])\n",
    "\n",
    "sns.barplot(x = df.loc[df.test == 'apple']['target'].value_counts().index,\n",
    "           y = df.loc[df.test == 'apple']['target'].value_counts(normalize=True),\n",
    "           ax=ax5)\n",
    "\n",
    "ax5.set_title('Apple')\n",
    "ax5.set_xlabel('Sentiment')\n",
    "ax5.set_ylabel('Frequency')\n",
    "ax5.set_xticklabels(['Negative', 'Neutral', 'Positive'])\n",
    "\n",
    "\n",
    "plt.tight_layout()\n",
    "\n",
    "\n",
    "\n"
   ]
  },
  {
   "cell_type": "code",
   "execution_count": 121,
   "metadata": {
    "scrolled": true
   },
   "outputs": [
    {
     "data": {
      "image/png": "[encoded data removed]",
      "text/plain": [
       "<Figure size 864x720 with 4 Axes>"
      ]
     },
     "metadata": {},
     "output_type": "display_data"
    }
   ],
   "source": [
    "plt.figure(figsize=(12,10))\n",
    "\n",
    "ax1 = plt.subplot2grid(shape=(2,4), loc=(0,0))\n",
    "ax2 = plt.subplot2grid(shape=(2,4), loc=(0,1))\n",
    "ax3 = plt.subplot2grid(shape=(2,4), loc=(1,0))\n",
    "ax4 = plt.subplot2grid(shape=(2,4), loc=(1,1))\n",
    "\n",
    "sns.barplot(x = df.loc[df.test == 'android']['target'].value_counts().index,\n",
    "               y = df.loc[df.test == 'android']['target'].value_counts(normalize=True),\n",
    "           ax=ax1)\n",
    "ax1.set_title('Android')\n",
    "ax1.set_xlabel('Sentiment')\n",
    "ax1.set_ylabel('Frequency')\n",
    "ax1.set_xticklabels(['Negative', 'Neutral', 'Positive'])\n",
    "\n",
    "sns.barplot(x = df.loc[df.test == 'google']['target'].value_counts().index,\n",
    "           y = df.loc[df.test == 'google']['target'].value_counts(normalize=True),\n",
    "           ax=ax2)\n",
    "\n",
    "\n",
    "ax2.set_title('Google')\n",
    "ax2.set_xlabel('Sentiment')\n",
    "ax2.set_ylabel('Frequency')\n",
    "ax2.set_xticklabels(['Negative', 'Neutral', 'Positive'])\n",
    "\n",
    "sns.barplot(x = df.loc[df.test == 'android app']['target'].value_counts().index,\n",
    "           y = df.loc[df.test == 'android app']['target'].value_counts(normalize=True),\n",
    "           ax=ax3)\n",
    "\n",
    "ax3.set_title('Android App')\n",
    "ax3.set_xlabel('Sentiment')\n",
    "ax3.set_ylabel('Frequency')\n",
    "ax3.set_xticklabels(['Negative', 'Neutral', 'Positive'])\n",
    "\n",
    "\n",
    "sns.barplot(x = df.loc[df.test == 'other google product or service']['target'].value_counts().index,\n",
    "           y = df.loc[df.test == 'other google product or service']['target'].value_counts(normalize=True),\n",
    "           ax=ax4)\n",
    "\n",
    "ax4.set_title('Other google products/services')\n",
    "ax4.set_xlabel('Sentiment')\n",
    "ax4.set_ylabel('Frequency')\n",
    "ax4.set_xticklabels(['Negative', 'Neutral', 'Positive'])\n",
    "\n",
    "plt.tight_layout()\n"
   ]
  },
  {
   "cell_type": "code",
   "execution_count": 90,
   "metadata": {
    "scrolled": true
   },
   "outputs": [],
   "source": [
    "app = (df.loc[df.test == 'ipad or iphone app']['Text'])"
   ]
  },
  {
   "cell_type": "code",
   "execution_count": 100,
   "metadata": {
    "scrolled": true
   },
   "outputs": [],
   "source": [
    "app_words = []\n",
    "\n",
    "for list in app:\n",
    "    for word in list:\n",
    "        app_words.append(word)\n",
    "        "
   ]
  },
  {
   "cell_type": "code",
   "execution_count": 431,
   "metadata": {
    "scrolled": false
   },
   "outputs": [],
   "source": [
    "app_words_c = Counter(app_words)\n",
    "app_words_dict = dict(sorted(app_words_c.items(), key=lambda item: item[1], reverse=True))"
   ]
  },
  {
   "cell_type": "markdown",
   "metadata": {},
   "source": [
    "#### Modeling"
   ]
  },
  {
   "cell_type": "code",
   "execution_count": 177,
   "metadata": {},
   "outputs": [],
   "source": [
    "def metrics(y_true,y_preds):\n",
    "    '''Gives recall,precision,accuracy,F1 score and confusion matrix'''\n",
    "    return print(f'''Recall Score: {recall_score(y_true,y_preds,average='micro')}\n",
    "Precision Score: {precision_score(y_true,y_preds,average='micro')}\n",
    "Accuracy Score:{accuracy_score(y_true,y_preds)}\n",
    "F1 Score: {f1_score(y_true,y_preds,average='micro')}\n",
    "Confusion Matrix: \n",
    "{confusion_matrix(y_true,y_preds)}''')\n",
    "def mean_scores(results):\n",
    "    '''Return Train/Test Mean Score from a Cross Val'''\n",
    "    return print(f'''Mean Train Score: {results['train_score'].mean()}\n",
    "Mean Test Score: {results['test_score'].mean()}''')"
   ]
  },
  {
   "cell_type": "code",
   "execution_count": 190,
   "metadata": {},
   "outputs": [],
   "source": [
    "from sklearn.model_selection import train_test_split\n",
    "from sklearn.ensemble import RandomForestClassifier\n",
    "from sklearn.naive_bayes import MultinomialNB\n",
    "from sklearn.model_selection import train_test_split , cross_validate , GridSearchCV, cross_val_predict\n",
    "from sklearn.linear_model import LogisticRegression\n",
    "from sklearn.svm import SVC"
   ]
  },
  {
   "cell_type": "markdown",
   "metadata": {},
   "source": [
    "### Tfidf Exploration"
   ]
  },
  {
   "cell_type": "code",
   "execution_count": 261,
   "metadata": {},
   "outputs": [],
   "source": [
    "raw_pos = []\n",
    "raw_neg = []\n",
    "raw_neu = []\n",
    "\n",
    "pos_tweets = df_test.loc[df.target==2]\n",
    "pos_tweets\n",
    "\n",
    "neg_tweets = df_test.loc[df.target==0]\n",
    "\n",
    "neutral_tweets = df_test.loc[df.target==1]\n",
    "\n",
    "for listx in pos_tweets.clean_tweet:\n",
    "    for x in listx:\n",
    "        raw_pos.append(x)\n",
    "    \n",
    "for listx in neg_tweets.clean_tweet:\n",
    "    for x in listx:\n",
    "        raw_neg.append(x)\n",
    "        \n",
    "for listx in neutral_tweets.clean_tweet:\n",
    "    for x in listx:\n",
    "        raw_neu.append(x)"
   ]
  },
  {
   "cell_type": "code",
   "execution_count": 271,
   "metadata": {},
   "outputs": [],
   "source": [
    "raw_pos = ' '.join(raw_pos)\n",
    "raw_neg = ' '.join(raw_neg)\n",
    "raw_neu = ' '.join(raw_neu)"
   ]
  },
  {
   "cell_type": "code",
   "execution_count": 354,
   "metadata": {},
   "outputs": [],
   "source": [
    "top_poswords = dict(df_topwords.loc[['positive']].max().sort_values(ascending=False)[:150])"
   ]
  },
  {
   "cell_type": "code",
   "execution_count": 355,
   "metadata": {
    "scrolled": true
   },
   "outputs": [
    {
     "data": {
      "text/plain": [
       "{'store': 0.4460859665691307,\n",
       " 'app': 0.31932929847298425,\n",
       " 'new': 0.29170284516997796,\n",
       " 'austin': 0.2372624813081715,\n",
       " 'popup': 0.17713431823692258,\n",
       " 'get': 0.1470702367012981,\n",
       " 'amp': 0.1470702367012981,\n",
       " 'launch': 0.14138243749185564,\n",
       " 'one': 0.12025632614249789,\n",
       " 'party': 0.11456852693305543,\n",
       " 'line': 0.11456852693305543,\n",
       " 'time': 0.10969327046781902,\n",
       " 'great': 0.10969327046781902,\n",
       " 'via': 0.10644309949099476,\n",
       " 'social': 0.10075530028155229,\n",
       " 'free': 0.09913021479314016,\n",
       " 'cool': 0.09506750107210982,\n",
       " 'day': 0.09506750107210982,\n",
       " 'map': 0.09425495832790375,\n",
       " 'win': 0.09344241558369769,\n",
       " 'like': 0.09262987283949162,\n",
       " 'im': 0.09100478735107949,\n",
       " 'today': 0.09100478735107949,\n",
       " 'circle': 0.09019224460687342,\n",
       " 'go': 0.08369190265322489,\n",
       " 'come': 0.08206681716481275,\n",
       " 'mobile': 0.08044173167640062,\n",
       " 'sxswi': 0.07719156069957635,\n",
       " 'love': 0.07556647521116422,\n",
       " 'network': 0.07394138972275208,\n",
       " 'awesome': 0.07312884697854602,\n",
       " 'temporary': 0.07231630423433995,\n",
       " 'downtown': 0.07150376149013388,\n",
       " 'opening': 0.07150376149013388,\n",
       " 'good': 0.07069121874592782,\n",
       " 'apps': 0.06744104776910355,\n",
       " 'open': 0.06662850502489748,\n",
       " 'got': 0.06419087679227928,\n",
       " 'people': 0.06419087679227928,\n",
       " 'check': 0.06256579130386715,\n",
       " 'see': 0.06012816307124894,\n",
       " 'dont': 0.06012816307124894,\n",
       " 'even': 0.05769053483863074,\n",
       " 'thanks': 0.05687799209442468,\n",
       " 'mayer': 0.05606544935021861,\n",
       " 'need': 0.05525290660601254,\n",
       " 'going': 0.05444036386180648,\n",
       " 'user': 0.05362782111760041,\n",
       " 'fun': 0.05336113296556119,\n",
       " 'year': 0.05281527837339434,\n",
       " 'called': 0.05200273562918828,\n",
       " 'first': 0.05200273562918828,\n",
       " 'want': 0.05200273562918828,\n",
       " 'next': 0.04956510739657008,\n",
       " 'best': 0.04956510739657008,\n",
       " 'marissa': 0.04956510739657008,\n",
       " 'video': 0.04875256465236401,\n",
       " 'around': 0.04875256465236401,\n",
       " 'begin': 0.048129649341486565,\n",
       " 'major': 0.047940021908157944,\n",
       " 'ûïmention': 0.047940021908157944,\n",
       " 'look': 0.04712747916395187,\n",
       " 'pop': 0.04712747916395187,\n",
       " 'make': 0.04631493641974581,\n",
       " 'case': 0.04631493641974581,\n",
       " 'use': 0.04468985093133367,\n",
       " 'set': 0.043064765442921545,\n",
       " 'ever': 0.043064765442921545,\n",
       " 'really': 0.04225222269871547,\n",
       " 'shop': 0.04225222269871547,\n",
       " 'tech': 0.04225222269871547,\n",
       " 'know': 0.04062713721030334,\n",
       " 'nice': 0.04062713721030334,\n",
       " 'smart': 0.039814594466097274,\n",
       " 'thing': 0.039814594466097274,\n",
       " 'game': 0.03900205172189121,\n",
       " 'technology': 0.03900205172189121,\n",
       " 'heard': 0.03900205172189121,\n",
       " 'music': 0.03871297881815224,\n",
       " 'using': 0.03818950897768514,\n",
       " 'team': 0.03818950897768514,\n",
       " 'phone': 0.037376966233479074,\n",
       " 'panel': 0.03656442348927301,\n",
       " 'big': 0.03656442348927301,\n",
       " 'take': 0.034939338000860874,\n",
       " 'marketing': 0.03412679525665481,\n",
       " 'wow': 0.03412679525665481,\n",
       " 'design': 0.03412679525665481,\n",
       " 'week': 0.03412679525665481,\n",
       " 'giving': 0.03348149519407761,\n",
       " 'right': 0.03331425251244874,\n",
       " 'still': 0.03331425251244874,\n",
       " 'possibly': 0.03331425251244874,\n",
       " 'think': 0.03331425251244874,\n",
       " 'quotapple': 0.032501709768242674,\n",
       " 'session': 0.032501709768242674,\n",
       " 'ipads': 0.032501709768242674,\n",
       " 'buy': 0.032501709768242674,\n",
       " 'conferencesquot': 0.03243519846926268,\n",
       " 'would': 0.0316891670240366,\n",
       " 'yes': 0.0316891670240366,\n",
       " 'coming': 0.0316891670240366,\n",
       " 'wait': 0.0316891670240366,\n",
       " 'news': 0.0316891670240366,\n",
       " 'search': 0.0316891670240366,\n",
       " 'work': 0.0316891670240366,\n",
       " 'also': 0.0316891670240366,\n",
       " 'rumor': 0.03087662427983054,\n",
       " 'guy': 0.03087662427983054,\n",
       " 'others': 0.030342605019632835,\n",
       " 'world': 0.03006408153562447,\n",
       " 'last': 0.03006408153562447,\n",
       " 'photo': 0.03006408153562447,\n",
       " 'event': 0.029296308294817913,\n",
       " 'rock': 0.029296308294817913,\n",
       " 'could': 0.029251538791418407,\n",
       " 'product': 0.029251538791418407,\n",
       " 'well': 0.029251538791418407,\n",
       " 'show': 0.02843899604721234,\n",
       " 'ill': 0.02843899604721234,\n",
       " 'school': 0.02825001157000298,\n",
       " 'congress': 0.02825001157000298,\n",
       " 'winning': 0.02825001157000298,\n",
       " 'everyone': 0.02762645330300627,\n",
       " 'web': 0.02762645330300627,\n",
       " 'looking': 0.02762645330300627,\n",
       " 'say': 0.02762645330300627,\n",
       " 'hot': 0.027203714845188055,\n",
       " 'way': 0.026813910558800204,\n",
       " 'temp': 0.026813910558800204,\n",
       " 'live': 0.026813910558800204,\n",
       " 'talk': 0.026813910558800204,\n",
       " 'amazing': 0.02600136781459414,\n",
       " 'place': 0.02600136781459414,\n",
       " 'lot': 0.02600136781459414,\n",
       " 'away': 0.02600136781459414,\n",
       " 'keep': 0.025188825070388072,\n",
       " 'download': 0.025188825070388072,\n",
       " 'getting': 0.025188825070388072,\n",
       " 'better': 0.025188825070388072,\n",
       " 'action': 0.025188825070388072,\n",
       " 'share': 0.025111121395558208,\n",
       " 'gowalla': 0.025111121395558208,\n",
       " 'may': 0.024376282326182004,\n",
       " 'every': 0.024376282326182004,\n",
       " 'tonight': 0.024376282326182004,\n",
       " 'hour': 0.024376282326182004,\n",
       " 'hey': 0.024376282326182004,\n",
       " 'ready': 0.024376282326182004,\n",
       " 'cant': 0.024376282326182004}"
      ]
     },
     "execution_count": 355,
     "metadata": {},
     "output_type": "execute_result"
    }
   ],
   "source": [
    "top_poswords"
   ]
  },
  {
   "cell_type": "code",
   "execution_count": 359,
   "metadata": {},
   "outputs": [],
   "source": [
    "top_negwords = dict(df_topwords.loc[['negative']].max().sort_values(ascending=False)[:100])"
   ]
  },
  {
   "cell_type": "code",
   "execution_count": 357,
   "metadata": {},
   "outputs": [
    {
     "data": {
      "text/plain": [
       "{'app': 0.3064738766191898,\n",
       " 'store': 0.22985540746439231,\n",
       " 'new': 0.219639611577086,\n",
       " 'like': 0.21453171363343285,\n",
       " 'circle': 0.18388432597151386,\n",
       " 'need': 0.1787764280278607,\n",
       " 'social': 0.1532369383095949,\n",
       " 'apps': 0.1532369383095949,\n",
       " 'people': 0.1481290403659417,\n",
       " 'design': 0.14302114242228856,\n",
       " 'get': 0.12769744859132906,\n",
       " 'austin': 0.1225895506476759,\n",
       " 'time': 0.11748165270402275,\n",
       " 'think': 0.11748165270402275,\n",
       " 'one': 0.11748165270402275,\n",
       " 'look': 0.10726585681671642,\n",
       " 'launch': 0.10726585681671642,\n",
       " 'dont': 0.10726585681671642,\n",
       " 'line': 0.10215795887306325,\n",
       " 'say': 0.10215795887306325,\n",
       " 'day': 0.10215795887306325,\n",
       " 'would': 0.0970500609294101,\n",
       " 'today': 0.09194216298575693,\n",
       " 'news': 0.09194216298575693,\n",
       " 'go': 0.08683426504210377,\n",
       " 'fail': 0.08683426504210377,\n",
       " 'phone': 0.08683426504210377,\n",
       " 'long': 0.08683426504210377,\n",
       " 'battery': 0.0817263670984506,\n",
       " 'product': 0.0817263670984506,\n",
       " 'user': 0.0817263670984506,\n",
       " 'year': 0.0817263670984506,\n",
       " 'thing': 0.07661846915479745,\n",
       " 'headache': 0.07661846915479745,\n",
       " 'much': 0.07661846915479745,\n",
       " 'good': 0.07661846915479745,\n",
       " 'company': 0.07661846915479745,\n",
       " 'im': 0.07661846915479745,\n",
       " 'network': 0.07661846915479745,\n",
       " 'ive': 0.07661846915479745,\n",
       " 'popup': 0.07661846915479745,\n",
       " 'major': 0.07151057121114428,\n",
       " 'way': 0.07151057121114428,\n",
       " 'take': 0.07151057121114428,\n",
       " 'amp': 0.07151057121114428,\n",
       " 'talk': 0.07151057121114428,\n",
       " 'cant': 0.07151057121114428,\n",
       " 'via': 0.07151057121114428,\n",
       " 'money': 0.07151057121114428,\n",
       " 'see': 0.07151057121114428,\n",
       " 'doesnt': 0.06640267326749112,\n",
       " 'many': 0.06640267326749112,\n",
       " 'going': 0.06640267326749112,\n",
       " 'really': 0.06640267326749112,\n",
       " 'called': 0.06640267326749112,\n",
       " 'room': 0.06640267326749112,\n",
       " 'wait': 0.06129477532383795,\n",
       " 'yet': 0.06129477532383795,\n",
       " 'back': 0.06129477532383795,\n",
       " 'fast': 0.06129477532383795,\n",
       " 'already': 0.06129477532383795,\n",
       " 'tapworthy': 0.06129477532383795,\n",
       " 'sxswi': 0.05618687738018479,\n",
       " 'first': 0.05618687738018479,\n",
       " 'twitter': 0.05618687738018479,\n",
       " 'instead': 0.05618687738018479,\n",
       " 'know': 0.05618687738018479,\n",
       " 'guy': 0.05618687738018479,\n",
       " 'japan': 0.05618687738018479,\n",
       " 'quoti': 0.05618687738018479,\n",
       " 'best': 0.05107897943653163,\n",
       " 'coming': 0.05107897943653163,\n",
       " 'still': 0.05107897943653163,\n",
       " 'every': 0.05107897943653163,\n",
       " 'heard': 0.05107897943653163,\n",
       " 'gave': 0.05107897943653163,\n",
       " 'blackberry': 0.05107897943653163,\n",
       " 'mayer': 0.05107897943653163,\n",
       " 'quotapple': 0.05107897943653163,\n",
       " 'bing': 0.05107897943653163,\n",
       " 'want': 0.05107897943653163,\n",
       " 'nothing': 0.05107897943653163,\n",
       " 'content': 0.05107897943653163,\n",
       " 'come': 0.05107897943653163,\n",
       " 'session': 0.05107897943653163,\n",
       " 'better': 0.05107897943653163,\n",
       " 'made': 0.05107897943653163,\n",
       " 'didnt': 0.045971081492878464,\n",
       " 'may': 0.045971081492878464,\n",
       " 'diller': 0.045971081492878464,\n",
       " 'map': 0.045971081492878464,\n",
       " 'even': 0.045971081492878464,\n",
       " 'ever': 0.045971081492878464,\n",
       " 'everyone': 0.045971081492878464,\n",
       " 'another': 0.045971081492878464,\n",
       " 'getting': 0.045971081492878464,\n",
       " 'use': 0.045971081492878464,\n",
       " 'last': 0.045971081492878464,\n",
       " 'weekend': 0.045971081492878464,\n",
       " 'ûïmention': 0.0408631835492253,\n",
       " 'morning': 0.0408631835492253,\n",
       " 'make': 0.0408631835492253,\n",
       " 'great': 0.0408631835492253,\n",
       " 'relief': 0.0408631835492253,\n",
       " 'panel': 0.0408631835492253,\n",
       " 'hey': 0.0408631835492253,\n",
       " 'ipads': 0.0408631835492253,\n",
       " 'digital': 0.0408631835492253,\n",
       " 'hand': 0.0408631835492253,\n",
       " '2011': 0.0408631835492253,\n",
       " 'wont': 0.0408631835492253,\n",
       " 'life': 0.0408631835492253,\n",
       " 'tweet': 0.0408631835492253,\n",
       " 'work': 0.0408631835492253,\n",
       " 'give': 0.0408631835492253,\n",
       " 'lost': 0.0408631835492253,\n",
       " 'call': 0.0408631835492253,\n",
       " 'buy': 0.0408631835492253,\n",
       " 'possibly': 0.0408631835492253,\n",
       " 'taking': 0.0408631835492253,\n",
       " 'well': 0.03575528560557214,\n",
       " '3g': 0.03575528560557214,\n",
       " 'update': 0.03575528560557214,\n",
       " 'open': 0.03575528560557214,\n",
       " 'someone': 0.03575528560557214,\n",
       " 'anyone': 0.03575528560557214,\n",
       " 'using': 0.03575528560557214,\n",
       " 'tablet': 0.03575528560557214,\n",
       " 'might': 0.03575528560557214,\n",
       " 'feel': 0.03575528560557214,\n",
       " 'photo': 0.03575528560557214,\n",
       " 'hour': 0.03575528560557214,\n",
       " 'data': 0.03575528560557214,\n",
       " 'got': 0.03575528560557214,\n",
       " 'search': 0.03575528560557214,\n",
       " 'service': 0.03575528560557214,\n",
       " 'seems': 0.03575528560557214,\n",
       " 'flipboard': 0.03575528560557214,\n",
       " 'mobile': 0.03575528560557214,\n",
       " 'thanks': 0.03575528560557214,\n",
       " 'theyre': 0.03575528560557214,\n",
       " 'tv': 0.03575528560557214,\n",
       " 'else': 0.03575528560557214,\n",
       " 'thought': 0.030647387661918976,\n",
       " 'party': 0.030647387661918976,\n",
       " 'also': 0.030647387661918976,\n",
       " 'pretty': 0.030647387661918976,\n",
       " 'bad': 0.030647387661918976,\n",
       " 'quotgoogle': 0.030647387661918976,\n",
       " 'business': 0.030647387661918976}"
      ]
     },
     "execution_count": 357,
     "metadata": {},
     "output_type": "execute_result"
    }
   ],
   "source": [
    "top_negwords"
   ]
  },
  {
   "cell_type": "code",
   "execution_count": 272,
   "metadata": {},
   "outputs": [],
   "source": [
    "word_list = [raw_pos, raw_neg, raw_neu]"
   ]
  },
  {
   "cell_type": "code",
   "execution_count": 162,
   "metadata": {},
   "outputs": [],
   "source": [
    "df_test = df.drop(['Product', 'Emotion', 'company'], axis=1)"
   ]
  },
  {
   "cell_type": "code",
   "execution_count": 274,
   "metadata": {
    "scrolled": false
   },
   "outputs": [],
   "source": [
    "df_raw = pd.DataFrame(word_list, index = ['positive', 'negative', 'neutral'], columns = ['raw_text'])"
   ]
  },
  {
   "cell_type": "code",
   "execution_count": 282,
   "metadata": {
    "scrolled": true
   },
   "outputs": [],
   "source": [
    "tfidf_raw = TfidfVectorizer(stop_words = sw, max_features=500)\n",
    "X_raw = tfidf_raw.fit_transform(df_raw.raw_text)\n",
    "df_topwords = pd.DataFrame(X_raw.toarray(), columns = tfidf_raw.get_feature_names(), index=df_raw.index)"
   ]
  },
  {
   "cell_type": "code",
   "execution_count": 481,
   "metadata": {
    "scrolled": true
   },
   "outputs": [
    {
     "name": "stdout",
     "output_type": "stream",
     "text": [
      "party 0.11456852693305543\n",
      "great 0.10969327046781902\n",
      "free 0.09913021479314016\n",
      "cool 0.09506750107210982\n",
      "win 0.09344241558369769\n",
      "mobile 0.08044173167640062\n",
      "love 0.07556647521116422\n",
      "awesome 0.07312884697854602\n",
      "temporary 0.07231630423433995\n",
      "downtown 0.07150376149013388\n",
      "opening 0.07150376149013388\n",
      "open 0.06662850502489748\n",
      "got 0.06419087679227928\n",
      "check 0.06256579130386715\n",
      "thanks 0.05687799209442468\n",
      "fun 0.05336113296556119\n",
      "next 0.04956510739657008\n",
      "marissa 0.04956510739657008\n",
      "video 0.04875256465236401\n",
      "around 0.04875256465236401\n",
      "begin 0.048129649341486565\n",
      "pop 0.04712747916395187\n",
      "make 0.04631493641974581\n",
      "case 0.04631493641974581\n",
      "set 0.043064765442921545\n",
      "shop 0.04225222269871547\n",
      "tech 0.04225222269871547\n",
      "nice 0.04062713721030334\n",
      "smart 0.039814594466097274\n",
      "game 0.03900205172189121\n",
      "technology 0.03900205172189121\n",
      "music 0.03871297881815224\n",
      "using 0.03818950897768514\n",
      "team 0.03818950897768514\n",
      "panel 0.03656442348927301\n",
      "big 0.03656442348927301\n",
      "marketing 0.03412679525665481\n",
      "wow 0.03412679525665481\n",
      "week 0.03412679525665481\n",
      "giving 0.03348149519407761\n",
      "right 0.03331425251244874\n",
      "possibly 0.03331425251244874\n",
      "ipads 0.032501709768242674\n",
      "buy 0.032501709768242674\n",
      "conferencesquot 0.03243519846926268\n",
      "yes 0.0316891670240366\n",
      "search 0.0316891670240366\n",
      "work 0.0316891670240366\n",
      "also 0.0316891670240366\n",
      "rumor 0.03087662427983054\n",
      "others 0.030342605019632835\n",
      "world 0.03006408153562447\n",
      "photo 0.03006408153562447\n",
      "event 0.029296308294817913\n",
      "rock 0.029296308294817913\n",
      "could 0.029251538791418407\n",
      "well 0.029251538791418407\n",
      "show 0.02843899604721234\n",
      "ill 0.02843899604721234\n",
      "school 0.02825001157000298\n",
      "congress 0.02825001157000298\n",
      "winning 0.02825001157000298\n",
      "web 0.02762645330300627\n",
      "looking 0.02762645330300627\n",
      "hot 0.027203714845188055\n",
      "temp 0.026813910558800204\n",
      "live 0.026813910558800204\n",
      "amazing 0.02600136781459414\n",
      "place 0.02600136781459414\n",
      "lot 0.02600136781459414\n",
      "away 0.02600136781459414\n",
      "keep 0.025188825070388072\n",
      "download 0.025188825070388072\n",
      "action 0.025188825070388072\n",
      "share 0.025111121395558208\n",
      "gowalla 0.025111121395558208\n",
      "tonight 0.024376282326182004\n",
      "hour 0.024376282326182004\n",
      "hey 0.024376282326182004\n",
      "ready 0.024376282326182004\n"
     ]
    }
   ],
   "source": [
    "poswords_dict = {}\n",
    "for word, item in top_poswords.items():\n",
    "    if word not in top_negwords.keys():\n",
    "        poswords_dict = {poswords_dict[word]: powe}\n",
    "        "
   ]
  },
  {
   "cell_type": "code",
   "execution_count": 480,
   "metadata": {},
   "outputs": [
    {
     "data": {
      "text/plain": [
       "{'ready': 0.024376282326182004}"
      ]
     },
     "execution_count": 480,
     "metadata": {},
     "output_type": "execute_result"
    }
   ],
   "source": []
  },
  {
   "cell_type": "code",
   "execution_count": 398,
   "metadata": {
    "scrolled": false
   },
   "outputs": [
    {
     "name": "stdout",
     "output_type": "stream",
     "text": [
      "fail 0.08683426504210377\n",
      "long 0.08683426504210377\n",
      "battery 0.0817263670984506\n",
      "headache 0.07661846915479745\n",
      "much 0.07661846915479745\n",
      "company 0.07661846915479745\n",
      "ive 0.07661846915479745\n",
      "money 0.07151057121114428\n",
      "doesnt 0.06640267326749112\n",
      "many 0.06640267326749112\n",
      "room 0.06640267326749112\n",
      "yet 0.06129477532383795\n",
      "back 0.06129477532383795\n",
      "fast 0.06129477532383795\n",
      "already 0.06129477532383795\n",
      "tapworthy 0.06129477532383795\n",
      "twitter 0.05618687738018479\n",
      "instead 0.05618687738018479\n",
      "japan 0.05618687738018479\n",
      "quoti 0.05618687738018479\n",
      "gave 0.05107897943653163\n",
      "blackberry 0.05107897943653163\n",
      "bing 0.05107897943653163\n",
      "nothing 0.05107897943653163\n",
      "content 0.05107897943653163\n",
      "made 0.05107897943653163\n",
      "didnt 0.045971081492878464\n",
      "diller 0.045971081492878464\n",
      "another 0.045971081492878464\n",
      "weekend 0.045971081492878464\n"
     ]
    }
   ],
   "source": [
    "for word, item in top_negwords.items():\n",
    "    if word not in top_poswords.keys():\n",
    "        print(word, item)"
   ]
  },
  {
   "cell_type": "code",
   "execution_count": 313,
   "metadata": {},
   "outputs": [],
   "source": [
    "pd.set_option('display.max_colwidth', None)"
   ]
  },
  {
   "cell_type": "code",
   "execution_count": 221,
   "metadata": {
    "scrolled": true
   },
   "outputs": [],
   "source": [
    "df_test['body'] = df_test['clean_tweet'].str.join(' ')"
   ]
  },
  {
   "cell_type": "code",
   "execution_count": 232,
   "metadata": {
    "scrolled": false
   },
   "outputs": [
    {
     "data": {
      "text/html": [
       "<div>\n",
       "<style scoped>\n",
       "    .dataframe tbody tr th:only-of-type {\n",
       "        vertical-align: middle;\n",
       "    }\n",
       "\n",
       "    .dataframe tbody tr th {\n",
       "        vertical-align: top;\n",
       "    }\n",
       "\n",
       "    .dataframe thead th {\n",
       "        text-align: right;\n",
       "    }\n",
       "</style>\n",
       "<table border=\"1\" class=\"dataframe\">\n",
       "  <thead>\n",
       "    <tr style=\"text-align: right;\">\n",
       "      <th></th>\n",
       "      <th>aapl</th>\n",
       "      <th>aaron</th>\n",
       "      <th>aarpbulletin</th>\n",
       "      <th>ab</th>\n",
       "      <th>abacus</th>\n",
       "      <th>abandoned</th>\n",
       "      <th>abba</th>\n",
       "      <th>abc</th>\n",
       "      <th>aber</th>\n",
       "      <th>ability</th>\n",
       "      <th>...</th>\n",
       "      <th>zlf</th>\n",
       "      <th>zms</th>\n",
       "      <th>zomb</th>\n",
       "      <th>zombie</th>\n",
       "      <th>zomg</th>\n",
       "      <th>zone</th>\n",
       "      <th>zoom</th>\n",
       "      <th>zuckerberg</th>\n",
       "      <th>zynga</th>\n",
       "      <th>zzzs</th>\n",
       "    </tr>\n",
       "  </thead>\n",
       "  <tbody>\n",
       "    <tr>\n",
       "      <th>0</th>\n",
       "      <td>0.0</td>\n",
       "      <td>0.0</td>\n",
       "      <td>0.0</td>\n",
       "      <td>0.0</td>\n",
       "      <td>0.0</td>\n",
       "      <td>0.0</td>\n",
       "      <td>0.0</td>\n",
       "      <td>0.0</td>\n",
       "      <td>0.0</td>\n",
       "      <td>0.0</td>\n",
       "      <td>...</td>\n",
       "      <td>0.0</td>\n",
       "      <td>0.0</td>\n",
       "      <td>0.0</td>\n",
       "      <td>0.0</td>\n",
       "      <td>0.0</td>\n",
       "      <td>0.0</td>\n",
       "      <td>0.0</td>\n",
       "      <td>0.0</td>\n",
       "      <td>0.0</td>\n",
       "      <td>0.0</td>\n",
       "    </tr>\n",
       "    <tr>\n",
       "      <th>1</th>\n",
       "      <td>0.0</td>\n",
       "      <td>0.0</td>\n",
       "      <td>0.0</td>\n",
       "      <td>0.0</td>\n",
       "      <td>0.0</td>\n",
       "      <td>0.0</td>\n",
       "      <td>0.0</td>\n",
       "      <td>0.0</td>\n",
       "      <td>0.0</td>\n",
       "      <td>0.0</td>\n",
       "      <td>...</td>\n",
       "      <td>0.0</td>\n",
       "      <td>0.0</td>\n",
       "      <td>0.0</td>\n",
       "      <td>0.0</td>\n",
       "      <td>0.0</td>\n",
       "      <td>0.0</td>\n",
       "      <td>0.0</td>\n",
       "      <td>0.0</td>\n",
       "      <td>0.0</td>\n",
       "      <td>0.0</td>\n",
       "    </tr>\n",
       "    <tr>\n",
       "      <th>2</th>\n",
       "      <td>0.0</td>\n",
       "      <td>0.0</td>\n",
       "      <td>0.0</td>\n",
       "      <td>0.0</td>\n",
       "      <td>0.0</td>\n",
       "      <td>0.0</td>\n",
       "      <td>0.0</td>\n",
       "      <td>0.0</td>\n",
       "      <td>0.0</td>\n",
       "      <td>0.0</td>\n",
       "      <td>...</td>\n",
       "      <td>0.0</td>\n",
       "      <td>0.0</td>\n",
       "      <td>0.0</td>\n",
       "      <td>0.0</td>\n",
       "      <td>0.0</td>\n",
       "      <td>0.0</td>\n",
       "      <td>0.0</td>\n",
       "      <td>0.0</td>\n",
       "      <td>0.0</td>\n",
       "      <td>0.0</td>\n",
       "    </tr>\n",
       "    <tr>\n",
       "      <th>3</th>\n",
       "      <td>0.0</td>\n",
       "      <td>0.0</td>\n",
       "      <td>0.0</td>\n",
       "      <td>0.0</td>\n",
       "      <td>0.0</td>\n",
       "      <td>0.0</td>\n",
       "      <td>0.0</td>\n",
       "      <td>0.0</td>\n",
       "      <td>0.0</td>\n",
       "      <td>0.0</td>\n",
       "      <td>...</td>\n",
       "      <td>0.0</td>\n",
       "      <td>0.0</td>\n",
       "      <td>0.0</td>\n",
       "      <td>0.0</td>\n",
       "      <td>0.0</td>\n",
       "      <td>0.0</td>\n",
       "      <td>0.0</td>\n",
       "      <td>0.0</td>\n",
       "      <td>0.0</td>\n",
       "      <td>0.0</td>\n",
       "    </tr>\n",
       "    <tr>\n",
       "      <th>4</th>\n",
       "      <td>0.0</td>\n",
       "      <td>0.0</td>\n",
       "      <td>0.0</td>\n",
       "      <td>0.0</td>\n",
       "      <td>0.0</td>\n",
       "      <td>0.0</td>\n",
       "      <td>0.0</td>\n",
       "      <td>0.0</td>\n",
       "      <td>0.0</td>\n",
       "      <td>0.0</td>\n",
       "      <td>...</td>\n",
       "      <td>0.0</td>\n",
       "      <td>0.0</td>\n",
       "      <td>0.0</td>\n",
       "      <td>0.0</td>\n",
       "      <td>0.0</td>\n",
       "      <td>0.0</td>\n",
       "      <td>0.0</td>\n",
       "      <td>0.0</td>\n",
       "      <td>0.0</td>\n",
       "      <td>0.0</td>\n",
       "    </tr>\n",
       "  </tbody>\n",
       "</table>\n",
       "<p>5 rows × 9510 columns</p>\n",
       "</div>"
      ],
      "text/plain": [
       "   aapl  aaron  aarpbulletin   ab  abacus  abandoned  abba  abc  aber  \\\n",
       "0   0.0    0.0           0.0  0.0     0.0        0.0   0.0  0.0   0.0   \n",
       "1   0.0    0.0           0.0  0.0     0.0        0.0   0.0  0.0   0.0   \n",
       "2   0.0    0.0           0.0  0.0     0.0        0.0   0.0  0.0   0.0   \n",
       "3   0.0    0.0           0.0  0.0     0.0        0.0   0.0  0.0   0.0   \n",
       "4   0.0    0.0           0.0  0.0     0.0        0.0   0.0  0.0   0.0   \n",
       "\n",
       "   ability  ...  zlf  zms  zomb  zombie  zomg  zone  zoom  zuckerberg  zynga  \\\n",
       "0      0.0  ...  0.0  0.0   0.0     0.0   0.0   0.0   0.0         0.0    0.0   \n",
       "1      0.0  ...  0.0  0.0   0.0     0.0   0.0   0.0   0.0         0.0    0.0   \n",
       "2      0.0  ...  0.0  0.0   0.0     0.0   0.0   0.0   0.0         0.0    0.0   \n",
       "3      0.0  ...  0.0  0.0   0.0     0.0   0.0   0.0   0.0         0.0    0.0   \n",
       "4      0.0  ...  0.0  0.0   0.0     0.0   0.0   0.0   0.0         0.0    0.0   \n",
       "\n",
       "   zzzs  \n",
       "0   0.0  \n",
       "1   0.0  \n",
       "2   0.0  \n",
       "3   0.0  \n",
       "4   0.0  \n",
       "\n",
       "[5 rows x 9510 columns]"
      ]
     },
     "execution_count": 232,
     "metadata": {},
     "output_type": "execute_result"
    }
   ],
   "source": [
    "tf_vec = TfidfVectorizer(token_pattern=r\"([a-zA-Z]+(?:'[a-z]+)?)\", stop_words=sw)\n",
    "X_tfv = tf_vec.fit_transform(df_test.body)\n",
    "\n",
    "df_tfv = pd.DataFrame(X_tfv.toarray(), columns=tf_vec.get_feature_names())\n",
    "df_tfv.head()\n",
    "\n"
   ]
  },
  {
   "cell_type": "code",
   "execution_count": null,
   "metadata": {},
   "outputs": [],
   "source": [
    "df_tfv(columns)"
   ]
  },
  {
   "cell_type": "code",
   "execution_count": 242,
   "metadata": {},
   "outputs": [],
   "source": [
    "df_tfv_sums = df_tfv.append(df_tfv.sum(numeric_only=True), ignore_index=True)"
   ]
  },
  {
   "cell_type": "code",
   "execution_count": 243,
   "metadata": {
    "scrolled": false
   },
   "outputs": [
    {
     "data": {
      "text/html": [
       "<div>\n",
       "<style scoped>\n",
       "    .dataframe tbody tr th:only-of-type {\n",
       "        vertical-align: middle;\n",
       "    }\n",
       "\n",
       "    .dataframe tbody tr th {\n",
       "        vertical-align: top;\n",
       "    }\n",
       "\n",
       "    .dataframe thead th {\n",
       "        text-align: right;\n",
       "    }\n",
       "</style>\n",
       "<table border=\"1\" class=\"dataframe\">\n",
       "  <thead>\n",
       "    <tr style=\"text-align: right;\">\n",
       "      <th></th>\n",
       "      <th>aapl</th>\n",
       "      <th>aaron</th>\n",
       "      <th>aarpbulletin</th>\n",
       "      <th>ab</th>\n",
       "      <th>abacus</th>\n",
       "      <th>abandoned</th>\n",
       "      <th>abba</th>\n",
       "      <th>abc</th>\n",
       "      <th>aber</th>\n",
       "      <th>ability</th>\n",
       "      <th>...</th>\n",
       "      <th>zlf</th>\n",
       "      <th>zms</th>\n",
       "      <th>zomb</th>\n",
       "      <th>zombie</th>\n",
       "      <th>zomg</th>\n",
       "      <th>zone</th>\n",
       "      <th>zoom</th>\n",
       "      <th>zuckerberg</th>\n",
       "      <th>zynga</th>\n",
       "      <th>zzzs</th>\n",
       "    </tr>\n",
       "  </thead>\n",
       "  <tbody>\n",
       "    <tr>\n",
       "      <th>9087</th>\n",
       "      <td>0.000000</td>\n",
       "      <td>0.000000</td>\n",
       "      <td>0.000000</td>\n",
       "      <td>0.000000</td>\n",
       "      <td>0.000000</td>\n",
       "      <td>0.0000</td>\n",
       "      <td>0.000000</td>\n",
       "      <td>0.000000</td>\n",
       "      <td>0.000000</td>\n",
       "      <td>0.00000</td>\n",
       "      <td>...</td>\n",
       "      <td>0.000000</td>\n",
       "      <td>0.000000</td>\n",
       "      <td>0.000000</td>\n",
       "      <td>0.000000</td>\n",
       "      <td>0.000000</td>\n",
       "      <td>0.00000</td>\n",
       "      <td>0.000000</td>\n",
       "      <td>0.000000</td>\n",
       "      <td>0.000000</td>\n",
       "      <td>0.000000</td>\n",
       "    </tr>\n",
       "    <tr>\n",
       "      <th>9088</th>\n",
       "      <td>0.000000</td>\n",
       "      <td>0.000000</td>\n",
       "      <td>0.000000</td>\n",
       "      <td>0.000000</td>\n",
       "      <td>0.000000</td>\n",
       "      <td>0.0000</td>\n",
       "      <td>0.000000</td>\n",
       "      <td>0.000000</td>\n",
       "      <td>0.000000</td>\n",
       "      <td>0.00000</td>\n",
       "      <td>...</td>\n",
       "      <td>0.000000</td>\n",
       "      <td>0.000000</td>\n",
       "      <td>0.000000</td>\n",
       "      <td>0.000000</td>\n",
       "      <td>0.000000</td>\n",
       "      <td>0.00000</td>\n",
       "      <td>0.000000</td>\n",
       "      <td>0.000000</td>\n",
       "      <td>0.000000</td>\n",
       "      <td>0.000000</td>\n",
       "    </tr>\n",
       "    <tr>\n",
       "      <th>9089</th>\n",
       "      <td>0.000000</td>\n",
       "      <td>0.000000</td>\n",
       "      <td>0.000000</td>\n",
       "      <td>0.000000</td>\n",
       "      <td>0.000000</td>\n",
       "      <td>0.0000</td>\n",
       "      <td>0.000000</td>\n",
       "      <td>0.000000</td>\n",
       "      <td>0.000000</td>\n",
       "      <td>0.00000</td>\n",
       "      <td>...</td>\n",
       "      <td>0.000000</td>\n",
       "      <td>0.000000</td>\n",
       "      <td>0.000000</td>\n",
       "      <td>0.000000</td>\n",
       "      <td>0.000000</td>\n",
       "      <td>0.00000</td>\n",
       "      <td>0.000000</td>\n",
       "      <td>0.000000</td>\n",
       "      <td>0.000000</td>\n",
       "      <td>0.000000</td>\n",
       "    </tr>\n",
       "    <tr>\n",
       "      <th>9090</th>\n",
       "      <td>0.000000</td>\n",
       "      <td>0.000000</td>\n",
       "      <td>0.000000</td>\n",
       "      <td>0.000000</td>\n",
       "      <td>0.000000</td>\n",
       "      <td>0.0000</td>\n",
       "      <td>0.000000</td>\n",
       "      <td>0.000000</td>\n",
       "      <td>0.000000</td>\n",
       "      <td>0.00000</td>\n",
       "      <td>...</td>\n",
       "      <td>0.000000</td>\n",
       "      <td>0.000000</td>\n",
       "      <td>0.000000</td>\n",
       "      <td>0.000000</td>\n",
       "      <td>0.000000</td>\n",
       "      <td>0.00000</td>\n",
       "      <td>0.000000</td>\n",
       "      <td>0.000000</td>\n",
       "      <td>0.000000</td>\n",
       "      <td>0.000000</td>\n",
       "    </tr>\n",
       "    <tr>\n",
       "      <th>9091</th>\n",
       "      <td>4.649007</td>\n",
       "      <td>0.705112</td>\n",
       "      <td>0.935498</td>\n",
       "      <td>3.874814</td>\n",
       "      <td>0.741375</td>\n",
       "      <td>0.4283</td>\n",
       "      <td>0.585132</td>\n",
       "      <td>2.104779</td>\n",
       "      <td>0.407726</td>\n",
       "      <td>1.51783</td>\n",
       "      <td>...</td>\n",
       "      <td>5.978721</td>\n",
       "      <td>0.852745</td>\n",
       "      <td>4.638374</td>\n",
       "      <td>2.564003</td>\n",
       "      <td>2.923855</td>\n",
       "      <td>1.06909</td>\n",
       "      <td>1.050605</td>\n",
       "      <td>1.190754</td>\n",
       "      <td>1.452015</td>\n",
       "      <td>0.380383</td>\n",
       "    </tr>\n",
       "  </tbody>\n",
       "</table>\n",
       "<p>5 rows × 9510 columns</p>\n",
       "</div>"
      ],
      "text/plain": [
       "          aapl     aaron  aarpbulletin        ab    abacus  abandoned  \\\n",
       "9087  0.000000  0.000000      0.000000  0.000000  0.000000     0.0000   \n",
       "9088  0.000000  0.000000      0.000000  0.000000  0.000000     0.0000   \n",
       "9089  0.000000  0.000000      0.000000  0.000000  0.000000     0.0000   \n",
       "9090  0.000000  0.000000      0.000000  0.000000  0.000000     0.0000   \n",
       "9091  4.649007  0.705112      0.935498  3.874814  0.741375     0.4283   \n",
       "\n",
       "          abba       abc      aber  ability  ...       zlf       zms  \\\n",
       "9087  0.000000  0.000000  0.000000  0.00000  ...  0.000000  0.000000   \n",
       "9088  0.000000  0.000000  0.000000  0.00000  ...  0.000000  0.000000   \n",
       "9089  0.000000  0.000000  0.000000  0.00000  ...  0.000000  0.000000   \n",
       "9090  0.000000  0.000000  0.000000  0.00000  ...  0.000000  0.000000   \n",
       "9091  0.585132  2.104779  0.407726  1.51783  ...  5.978721  0.852745   \n",
       "\n",
       "          zomb    zombie      zomg     zone      zoom  zuckerberg     zynga  \\\n",
       "9087  0.000000  0.000000  0.000000  0.00000  0.000000    0.000000  0.000000   \n",
       "9088  0.000000  0.000000  0.000000  0.00000  0.000000    0.000000  0.000000   \n",
       "9089  0.000000  0.000000  0.000000  0.00000  0.000000    0.000000  0.000000   \n",
       "9090  0.000000  0.000000  0.000000  0.00000  0.000000    0.000000  0.000000   \n",
       "9091  4.638374  2.564003  2.923855  1.06909  1.050605    1.190754  1.452015   \n",
       "\n",
       "          zzzs  \n",
       "9087  0.000000  \n",
       "9088  0.000000  \n",
       "9089  0.000000  \n",
       "9090  0.000000  \n",
       "9091  0.380383  \n",
       "\n",
       "[5 rows x 9510 columns]"
      ]
     },
     "execution_count": 243,
     "metadata": {},
     "output_type": "execute_result"
    }
   ],
   "source": [
    "df_tfv_sums.tail()"
   ]
  },
  {
   "cell_type": "code",
   "execution_count": 248,
   "metadata": {},
   "outputs": [
    {
     "data": {
      "text/plain": [
       "store       295.261359\n",
       "new         208.971155\n",
       "austin      200.387100\n",
       "launch      171.774050\n",
       "circle      165.308805\n",
       "               ...    \n",
       "primo         0.221553\n",
       "visto         0.221553\n",
       "os            0.221553\n",
       "lexpress      0.221553\n",
       "nowhere       0.221553\n",
       "Name: 9091, Length: 9510, dtype: float64"
      ]
     },
     "execution_count": 248,
     "metadata": {},
     "output_type": "execute_result"
    }
   ],
   "source": [
    "df_tfv_sums.iloc[9091].sort_values(ascending=False)"
   ]
  },
  {
   "cell_type": "code",
   "execution_count": 237,
   "metadata": {
    "scrolled": true
   },
   "outputs": [
    {
     "data": {
      "text/plain": [
       "circle          1.000000\n",
       "austin          1.000000\n",
       "partyawesome    1.000000\n",
       "rock            1.000000\n",
       "take            1.000000\n",
       "taken           1.000000\n",
       "worship         1.000000\n",
       "dev             1.000000\n",
       "everywhere      1.000000\n",
       "hmmmm           1.000000\n",
       "screen          1.000000\n",
       "line            1.000000\n",
       "charging        1.000000\n",
       "lazy            1.000000\n",
       "traveling       1.000000\n",
       "texas           1.000000\n",
       "spot            1.000000\n",
       "check           1.000000\n",
       "haha            1.000000\n",
       "doodle          1.000000\n",
       "store           1.000000\n",
       "heart           1.000000\n",
       "watch           1.000000\n",
       "location        0.971965\n",
       "soo             0.954119\n",
       "dtype: float64"
      ]
     },
     "execution_count": 237,
     "metadata": {},
     "output_type": "execute_result"
    }
   ],
   "source": [
    "df_tfv.max().sort_values(ascending=False)[:25]"
   ]
  },
  {
   "cell_type": "code",
   "execution_count": 235,
   "metadata": {},
   "outputs": [
    {
     "data": {
      "text/plain": [
       "1717    1.0\n",
       "Name: rock, dtype: float64"
      ]
     },
     "execution_count": 235,
     "metadata": {},
     "output_type": "execute_result"
    }
   ],
   "source": [
    "df_tfv.loc[df_tfv.rock == 1]['rock']"
   ]
  },
  {
   "cell_type": "code",
   "execution_count": 244,
   "metadata": {
    "scrolled": true
   },
   "outputs": [
    {
     "data": {
      "text/plain": [
       "'@mention #SXSW iPad rocks'"
      ]
     },
     "execution_count": 244,
     "metadata": {},
     "output_type": "execute_result"
    }
   ],
   "source": [
    "df_test.Tweet.iloc[1717]"
   ]
  },
  {
   "cell_type": "markdown",
   "metadata": {},
   "source": [
    "#### Train Test Split"
   ]
  },
  {
   "cell_type": "code",
   "execution_count": 214,
   "metadata": {},
   "outputs": [],
   "source": [
    "X = df_test['clean_tweet'].str.join(' ')\n",
    "y = df_test.target\n"
   ]
  },
  {
   "cell_type": "code",
   "execution_count": 166,
   "metadata": {},
   "outputs": [],
   "source": [
    "X_train, X_test, y_train, y_test = train_test_split(X,y,stratify=y)"
   ]
  },
  {
   "cell_type": "markdown",
   "metadata": {},
   "source": [
    "### RandomForestClassifier"
   ]
  },
  {
   "cell_type": "code",
   "execution_count": 193,
   "metadata": {},
   "outputs": [],
   "source": [
    "pipe = make_pipeline(TfidfVectorizer(), RandomForestClassifier())\n",
    "cv = cross_validate(pipe, X_train, y_train,return_train_score=True)\n"
   ]
  },
  {
   "cell_type": "code",
   "execution_count": 194,
   "metadata": {},
   "outputs": [
    {
     "name": "stdout",
     "output_type": "stream",
     "text": [
      "Mean Train Score: 0.9675124707704501\n",
      "Mean Test Score: 0.6855379822411749\n"
     ]
    }
   ],
   "source": [
    "mean_scores(cv)"
   ]
  },
  {
   "cell_type": "markdown",
   "metadata": {},
   "source": [
    "### MultinomialNB"
   ]
  },
  {
   "cell_type": "code",
   "execution_count": 183,
   "metadata": {
    "scrolled": true
   },
   "outputs": [
    {
     "name": "stdout",
     "output_type": "stream",
     "text": [
      "Mean Train Score: 0.7672337695119954\n",
      "Mean Test Score: 0.6635397594146086\n"
     ]
    }
   ],
   "source": [
    "pipemnb = make_pipeline(TfidfVectorizer(), MultinomialNB())\n",
    "cvmnb = cross_validate(pipemnb, X_train, y_train, return_train_score=True)\n",
    "mean_scores(cvmnb)"
   ]
  },
  {
   "cell_type": "markdown",
   "metadata": {},
   "source": [
    "### Logistic Regression"
   ]
  },
  {
   "cell_type": "code",
   "execution_count": 186,
   "metadata": {
    "scrolled": false
   },
   "outputs": [
    {
     "name": "stdout",
     "output_type": "stream",
     "text": [
      "Mean Train Score: 0.8191919888597475\n",
      "Mean Test Score: 0.689058657481018\n"
     ]
    }
   ],
   "source": [
    "pipelr = make_pipeline(TfidfVectorizer(), LogisticRegression())\n",
    "cvlr = cross_validate(pipelr, X_train, y_train, return_train_score=True)\n",
    "mean_scores(cvlr)"
   ]
  },
  {
   "cell_type": "code",
   "execution_count": 369,
   "metadata": {},
   "outputs": [],
   "source": [
    "svc_pipe = Pipeline([(\"count\" , TfidfVectorizer()),\n",
    "                       (\"svc\", SVC(kernel = 'linear'))])"
   ]
  },
  {
   "cell_type": "code",
   "execution_count": 370,
   "metadata": {
    "scrolled": true
   },
   "outputs": [
    {
     "name": "stdout",
     "output_type": "stream",
     "text": [
      "Mean Train Score: 0.8484893738380865\n",
      "Mean Test Score: 0.6925790099896081\n"
     ]
    }
   ],
   "source": [
    "cv_svc = cross_validate(svc_pipe, X_train, y_train, return_train_score=True)\n",
    "mean_scores(cv_svc)"
   ]
  },
  {
   "cell_type": "markdown",
   "metadata": {},
   "source": [
    "### SVC w/ Tfidfvectorizer model"
   ]
  },
  {
   "cell_type": "code",
   "execution_count": 191,
   "metadata": {},
   "outputs": [],
   "source": [
    "svc = SVC(kernel = 'linear')"
   ]
  },
  {
   "cell_type": "code",
   "execution_count": 436,
   "metadata": {},
   "outputs": [],
   "source": [
    "svc2 = SVC(kernel='rbf', C=3)"
   ]
  },
  {
   "cell_type": "code",
   "execution_count": 196,
   "metadata": {},
   "outputs": [],
   "source": [
    "tfidf = TfidfVectorizer()\n",
    "tfidf_x_tr = tfidf.fit_transform(X_train)\n",
    "tfidf_x_ts = tfidf.transform(X_test)\n"
   ]
  },
  {
   "cell_type": "code",
   "execution_count": 205,
   "metadata": {
    "scrolled": true
   },
   "outputs": [
    {
     "data": {
      "text/plain": [
       "SVC(kernel='linear')"
      ]
     },
     "execution_count": 205,
     "metadata": {},
     "output_type": "execute_result"
    }
   ],
   "source": [
    "svc.fit(tfidf_x_tr, y_train)"
   ]
  },
  {
   "cell_type": "code",
   "execution_count": 434,
   "metadata": {},
   "outputs": [
    {
     "data": {
      "text/plain": [
       "SVC(C=3)"
      ]
     },
     "execution_count": 434,
     "metadata": {},
     "output_type": "execute_result"
    }
   ],
   "source": [
    "svc2.fit(tfidf_x_tr, y_train)"
   ]
  },
  {
   "cell_type": "code",
   "execution_count": 200,
   "metadata": {
    "scrolled": true
   },
   "outputs": [
    {
     "name": "stdout",
     "output_type": "stream",
     "text": [
      "Mean Train Score: 0.848892666840775\n",
      "Mean Test Score: 0.6956593722231665\n"
     ]
    }
   ],
   "source": [
    "cvsvc = cross_validate(svc, tfidf_x_tr, y_train, return_train_score=True)\n",
    "mean_scores(cvsvc)"
   ]
  },
  {
   "cell_type": "code",
   "execution_count": 437,
   "metadata": {},
   "outputs": [
    {
     "name": "stdout",
     "output_type": "stream",
     "text": [
      "Mean Train Score: 0.9609123148795173\n",
      "Mean Test Score: 0.6934600663105148\n"
     ]
    }
   ],
   "source": [
    "cvsvc2 = cross_validate(svc2, tfidf_x_tr, y_train, return_train_score=True)\n",
    "mean_scores(cvsvc2)"
   ]
  },
  {
   "cell_type": "code",
   "execution_count": 430,
   "metadata": {
    "scrolled": true
   },
   "outputs": [
    {
     "data": {
      "image/png": "[encoded data removed]",
      "text/plain": [
       "<Figure size 432x288 with 2 Axes>"
      ]
     },
     "metadata": {},
     "output_type": "display_data"
    }
   ],
   "source": [
    "plot_confusion_matrix(svc, tfidf_x_ts, y_test, display_labels = ['Negative', 'Neutral', 'Positive'])\n",
    "plt.grid(False)"
   ]
  },
  {
   "cell_type": "markdown",
   "metadata": {},
   "source": [
    "### Neural Network Attempt"
   ]
  },
  {
   "cell_type": "code",
   "execution_count": 443,
   "metadata": {},
   "outputs": [],
   "source": [
    "from gensim.models import word2vec\n",
    "from nltk import word_tokenize\n",
    "from keras.preprocessing.sequence import pad_sequences\n",
    "from keras.layers import Input, Dense, LSTM, Embedding\n",
    "from keras import regularizers\n",
    "from keras.layers import Dropout, Activation, Bidirectional, GlobalMaxPool1D\n",
    "from keras.models import Sequential\n",
    "from keras import initializers, regularizers, constraints, optimizers, layers\n",
    "from keras.preprocessing import text, sequence"
   ]
  },
  {
   "cell_type": "code",
   "execution_count": 447,
   "metadata": {},
   "outputs": [],
   "source": [
    "y_nn = df_test['target']\n",
    "x_nn = df_test['body']"
   ]
  },
  {
   "cell_type": "code",
   "execution_count": 456,
   "metadata": {},
   "outputs": [
    {
     "data": {
      "text/plain": [
       "pandas.core.series.Series"
      ]
     },
     "execution_count": 456,
     "metadata": {},
     "output_type": "execute_result"
    }
   ],
   "source": [
    "type(x_nn)"
   ]
  },
  {
   "cell_type": "code",
   "execution_count": 457,
   "metadata": {},
   "outputs": [],
   "source": [
    "def clean_string(text):\n",
    "    clean_text = text.replace(\"[\",'').replace(\"]\",'').replace(\"'\",'').replace(\",\",'')\n",
    "    return clean_text\n",
    "\n",
    "x_nn = x_nn.to_list()"
   ]
  },
  {
   "cell_type": "code",
   "execution_count": 450,
   "metadata": {},
   "outputs": [],
   "source": [
    "words = x_nn\n",
    "words_list = []\n",
    "\n",
    "for string_ele in words:\n",
    "    split_up_words = string_ele.split()\n",
    "    for i in range(0, len(split_up_words)):\n",
    "        words_list.append(split_up_words[i])"
   ]
  },
  {
   "cell_type": "code",
   "execution_count": 451,
   "metadata": {},
   "outputs": [
    {
     "data": {
      "text/plain": [
       "78674"
      ]
     },
     "execution_count": 451,
     "metadata": {},
     "output_type": "execute_result"
    }
   ],
   "source": [
    "len(words_list)"
   ]
  },
  {
   "cell_type": "code",
   "execution_count": 453,
   "metadata": {
    "scrolled": true
   },
   "outputs": [
    {
     "data": {
      "text/plain": [
       "10184"
      ]
     },
     "execution_count": 453,
     "metadata": {},
     "output_type": "execute_result"
    }
   ],
   "source": [
    "len(set(words_list))"
   ]
  },
  {
   "cell_type": "code",
   "execution_count": 459,
   "metadata": {},
   "outputs": [],
   "source": [
    "text_t = text.Tokenizer(num_words=7000)\n",
    "text_t.fit_on_texts((x_nn))\n",
    "list_tt = text_t.texts_to_sequences(x_nn)\n",
    "x_nn = sequence.pad_sequences(list_tt)"
   ]
  },
  {
   "cell_type": "code",
   "execution_count": 460,
   "metadata": {},
   "outputs": [],
   "source": [
    "model_nn = Sequential()"
   ]
  },
  {
   "cell_type": "code",
   "execution_count": 461,
   "metadata": {},
   "outputs": [],
   "source": [
    "model_nn.add(Embedding(7000, 100))\n",
    "model_nn.add(LSTM(25))\n",
    "model_nn.add(Dense(50, activation='relu'))\n",
    "model_nn.add(Dense(3, activation='relu'))\n"
   ]
  },
  {
   "cell_type": "code",
   "execution_count": 462,
   "metadata": {
    "scrolled": true
   },
   "outputs": [
    {
     "name": "stdout",
     "output_type": "stream",
     "text": [
      "Model: \"sequential_1\"\n",
      "_________________________________________________________________\n",
      "Layer (type)                 Output Shape              Param #   \n",
      "=================================================================\n",
      "embedding (Embedding)        (None, None, 100)         700000    \n",
      "_________________________________________________________________\n",
      "lstm (LSTM)                  (None, 25)                12600     \n",
      "_________________________________________________________________\n",
      "dense (Dense)                (None, 50)                1300      \n",
      "_________________________________________________________________\n",
      "dense_1 (Dense)              (None, 3)                 153       \n",
      "=================================================================\n",
      "Total params: 714,053\n",
      "Trainable params: 714,053\n",
      "Non-trainable params: 0\n",
      "_________________________________________________________________\n"
     ]
    }
   ],
   "source": [
    "model_nn.compile(optimizer='adam',\n",
    "              loss='binary_crossentropy',\n",
    "              metrics=['accuracy'])\n",
    "model_nn.summary()"
   ]
  },
  {
   "cell_type": "code",
   "execution_count": 463,
   "metadata": {
    "scrolled": true
   },
   "outputs": [
    {
     "name": "stdout",
     "output_type": "stream",
     "text": [
      "Epoch 1/30\n",
      "91/91 [==============================] - 2s 27ms/step - loss: -0.2126 - accuracy: 0.4504\n",
      "Epoch 2/30\n",
      "91/91 [==============================] - 2s 25ms/step - loss: -4.0392 - accuracy: 0.6097\n",
      "Epoch 3/30\n",
      "91/91 [==============================] - 2s 21ms/step - loss: -4.0392 - accuracy: 0.6097\n",
      "Epoch 4/30\n",
      "91/91 [==============================] - 2s 23ms/step - loss: -4.0392 - accuracy: 0.6097\n",
      "Epoch 5/30\n",
      "91/91 [==============================] - 2s 24ms/step - loss: -4.0392 - accuracy: 0.6097\n",
      "Epoch 6/30\n",
      "91/91 [==============================] - 2s 21ms/step - loss: -4.0392 - accuracy: 0.6097\n",
      "Epoch 7/30\n",
      "91/91 [==============================] - 2s 22ms/step - loss: -4.0392 - accuracy: 0.6097\n",
      "Epoch 8/30\n",
      "91/91 [==============================] - 2s 23ms/step - loss: -4.0392 - accuracy: 0.6097\n",
      "Epoch 9/30\n",
      "91/91 [==============================] - 2s 22ms/step - loss: -4.0392 - accuracy: 0.6097\n",
      "Epoch 10/30\n",
      "91/91 [==============================] - 2s 23ms/step - loss: -4.0392 - accuracy: 0.6097\n",
      "Epoch 11/30\n",
      "91/91 [==============================] - 2s 23ms/step - loss: -4.0392 - accuracy: 0.6097\n",
      "Epoch 12/30\n",
      "91/91 [==============================] - 2s 23ms/step - loss: -4.0392 - accuracy: 0.6097\n",
      "Epoch 13/30\n",
      "91/91 [==============================] - 2s 27ms/step - loss: -4.0392 - accuracy: 0.6097\n",
      "Epoch 14/30\n",
      "91/91 [==============================] - 2s 23ms/step - loss: -4.0392 - accuracy: 0.6097\n",
      "Epoch 15/30\n",
      "91/91 [==============================] - 2s 23ms/step - loss: -4.0392 - accuracy: 0.6097\n",
      "Epoch 16/30\n",
      "91/91 [==============================] - 2s 27ms/step - loss: -4.0392 - accuracy: 0.6097\n",
      "Epoch 17/30\n",
      "91/91 [==============================] - 2s 26ms/step - loss: -4.0392 - accuracy: 0.6097\n",
      "Epoch 18/30\n",
      "91/91 [==============================] - 3s 28ms/step - loss: -4.0392 - accuracy: 0.6097\n",
      "Epoch 19/30\n",
      "91/91 [==============================] - 3s 30ms/step - loss: -4.0392 - accuracy: 0.6097\n",
      "Epoch 20/30\n",
      "91/91 [==============================] - 3s 34ms/step - loss: -4.0392 - accuracy: 0.6097\n",
      "Epoch 21/30\n",
      "91/91 [==============================] - 3s 28ms/step - loss: -4.0392 - accuracy: 0.6097\n",
      "Epoch 22/30\n",
      "91/91 [==============================] - 3s 28ms/step - loss: -4.0392 - accuracy: 0.6097\n",
      "Epoch 23/30\n",
      "91/91 [==============================] - 3s 28ms/step - loss: -4.0392 - accuracy: 0.6097\n",
      "Epoch 24/30\n",
      "91/91 [==============================] - 3s 33ms/step - loss: -4.0392 - accuracy: 0.6097\n",
      "Epoch 25/30\n",
      "91/91 [==============================] - 3s 33ms/step - loss: -4.0392 - accuracy: 0.6097\n",
      "Epoch 26/30\n",
      "91/91 [==============================] - 3s 30ms/step - loss: -4.0392 - accuracy: 0.6097\n",
      "Epoch 27/30\n",
      "91/91 [==============================] - 3s 31ms/step - loss: -4.0392 - accuracy: 0.6097\n",
      "Epoch 28/30\n",
      "91/91 [==============================] - 3s 30ms/step - loss: -4.0392 - accuracy: 0.6097\n",
      "Epoch 29/30\n",
      "91/91 [==============================] - 2s 26ms/step - loss: -4.0392 - accuracy: 0.6097\n",
      "Epoch 30/30\n",
      "91/91 [==============================] - 2s 24ms/step - loss: -4.0392 - accuracy: 0.6097\n"
     ]
    }
   ],
   "source": [
    "results = model_nn.fit(x_nn, y_nn, epochs=30, batch_size=100)"
   ]
  },
  {
   "cell_type": "code",
   "execution_count": 464,
   "metadata": {},
   "outputs": [],
   "source": [
    "model_nn2 = Sequential()"
   ]
  },
  {
   "cell_type": "code",
   "execution_count": 468,
   "metadata": {},
   "outputs": [],
   "source": [
    "model_nn2.add(Embedding(7000, 15))\n",
    "model_nn2.add(Dense(10, activation='relu', kernel_regularizer=regularizers.l1(0.005)))\n",
    "model_nn2.add(LSTM(15))\n",
    "model_nn2.add(Dropout(0.5))\n",
    "model_nn2.add(Dense(3, activation='sigmoid'))\n",
    "model_nn2.add(Dropout(0.5))\n",
    "model_nn2.add(Dense(1, activation='relu'))"
   ]
  },
  {
   "cell_type": "code",
   "execution_count": 469,
   "metadata": {
    "scrolled": true
   },
   "outputs": [
    {
     "name": "stdout",
     "output_type": "stream",
     "text": [
      "Model: \"sequential_2\"\n",
      "_________________________________________________________________\n",
      "Layer (type)                 Output Shape              Param #   \n",
      "=================================================================\n",
      "embedding_1 (Embedding)      (None, None, 15)          105000    \n",
      "_________________________________________________________________\n",
      "dense_2 (Dense)              (None, None, 10)          160       \n",
      "_________________________________________________________________\n",
      "lstm_1 (LSTM)                (None, 15)                1560      \n",
      "_________________________________________________________________\n",
      "dropout (Dropout)            (None, 15)                0         \n",
      "_________________________________________________________________\n",
      "dense_3 (Dense)              (None, 3)                 48        \n",
      "_________________________________________________________________\n",
      "dropout_1 (Dropout)          (None, 3)                 0         \n",
      "_________________________________________________________________\n",
      "dense_4 (Dense)              (None, 1)                 4         \n",
      "_________________________________________________________________\n",
      "embedding_2 (Embedding)      (None, 1, 15)             105000    \n",
      "_________________________________________________________________\n",
      "dense_5 (Dense)              (None, 1, 10)             160       \n",
      "_________________________________________________________________\n",
      "lstm_2 (LSTM)                (None, 15)                1560      \n",
      "_________________________________________________________________\n",
      "dropout_2 (Dropout)          (None, 15)                0         \n",
      "_________________________________________________________________\n",
      "dense_6 (Dense)              (None, 3)                 48        \n",
      "_________________________________________________________________\n",
      "dropout_3 (Dropout)          (None, 3)                 0         \n",
      "_________________________________________________________________\n",
      "dense_7 (Dense)              (None, 1)                 4         \n",
      "=================================================================\n",
      "Total params: 213,544\n",
      "Trainable params: 213,544\n",
      "Non-trainable params: 0\n",
      "_________________________________________________________________\n"
     ]
    }
   ],
   "source": [
    "model_nn2.compile(optimizer='adam',\n",
    "              loss='binary_crossentropy',\n",
    "              metrics=['accuracy'])\n",
    "model_nn2.summary()"
   ]
  },
  {
   "cell_type": "code",
   "execution_count": 470,
   "metadata": {
    "scrolled": false
   },
   "outputs": [
    {
     "name": "stdout",
     "output_type": "stream",
     "text": [
      "Epoch 1/30\n",
      "WARNING:tensorflow:Gradients do not exist for variables ['embedding_1/embeddings:0', 'dense_2/kernel:0', 'dense_2/bias:0', 'lstm_1/lstm_cell_1/kernel:0', 'lstm_1/lstm_cell_1/recurrent_kernel:0', 'lstm_1/lstm_cell_1/bias:0', 'dense_3/kernel:0', 'dense_3/bias:0', 'dense_4/kernel:0', 'dense_4/bias:0'] when minimizing the loss.\n",
      "WARNING:tensorflow:Gradients do not exist for variables ['embedding_1/embeddings:0', 'dense_2/kernel:0', 'dense_2/bias:0', 'lstm_1/lstm_cell_1/kernel:0', 'lstm_1/lstm_cell_1/recurrent_kernel:0', 'lstm_1/lstm_cell_1/bias:0', 'dense_3/kernel:0', 'dense_3/bias:0', 'dense_4/kernel:0', 'dense_4/bias:0'] when minimizing the loss.\n",
      "WARNING:tensorflow:Gradients do not exist for variables ['embedding_1/embeddings:0', 'dense_2/kernel:0', 'dense_2/bias:0', 'lstm_1/lstm_cell_1/kernel:0', 'lstm_1/lstm_cell_1/recurrent_kernel:0', 'lstm_1/lstm_cell_1/bias:0', 'dense_3/kernel:0', 'dense_3/bias:0', 'dense_4/kernel:0', 'dense_4/bias:0'] when minimizing the loss.\n",
      "WARNING:tensorflow:Gradients do not exist for variables ['embedding_1/embeddings:0', 'dense_2/kernel:0', 'dense_2/bias:0', 'lstm_1/lstm_cell_1/kernel:0', 'lstm_1/lstm_cell_1/recurrent_kernel:0', 'lstm_1/lstm_cell_1/bias:0', 'dense_3/kernel:0', 'dense_3/bias:0', 'dense_4/kernel:0', 'dense_4/bias:0'] when minimizing the loss.\n",
      "25/25 [==============================] - 1s 35ms/step - loss: 10.9040 - accuracy: 0.1353 - val_loss: 19.7374 - val_accuracy: 0.0510\n",
      "Epoch 2/30\n",
      "25/25 [==============================] - 0s 9ms/step - loss: 10.3538 - accuracy: 0.1347 - val_loss: 19.7197 - val_accuracy: 0.0510\n",
      "Epoch 3/30\n",
      "25/25 [==============================] - 0s 9ms/step - loss: 9.7427 - accuracy: 0.2511 - val_loss: 4.1302 - val_accuracy: 0.0510\n",
      "Epoch 4/30\n",
      "25/25 [==============================] - 0s 9ms/step - loss: 7.8142 - accuracy: 0.2727 - val_loss: 1.8769 - val_accuracy: 0.0510\n",
      "Epoch 5/30\n",
      "25/25 [==============================] - 0s 9ms/step - loss: 6.8352 - accuracy: 0.3098 - val_loss: 1.1649 - val_accuracy: 0.0510\n",
      "Epoch 6/30\n",
      "25/25 [==============================] - 0s 9ms/step - loss: 6.2922 - accuracy: 0.3296 - val_loss: 0.7519 - val_accuracy: 0.6298\n",
      "Epoch 7/30\n",
      "25/25 [==============================] - 0s 9ms/step - loss: 5.9246 - accuracy: 0.3385 - val_loss: 0.5432 - val_accuracy: 0.6298\n",
      "Epoch 8/30\n",
      "25/25 [==============================] - 0s 8ms/step - loss: 6.4780 - accuracy: 0.3283 - val_loss: 0.3883 - val_accuracy: 0.6298\n",
      "Epoch 9/30\n",
      "25/25 [==============================] - 0s 9ms/step - loss: 6.0562 - accuracy: 0.3332 - val_loss: 0.2545 - val_accuracy: 0.6298\n",
      "Epoch 10/30\n",
      "25/25 [==============================] - 0s 9ms/step - loss: 6.0316 - accuracy: 0.3310 - val_loss: 0.1672 - val_accuracy: 0.6298\n",
      "Epoch 11/30\n",
      "25/25 [==============================] - 0s 9ms/step - loss: 6.1149 - accuracy: 0.3300 - val_loss: 0.0891 - val_accuracy: 0.6298\n",
      "Epoch 12/30\n",
      "25/25 [==============================] - 0s 9ms/step - loss: 5.7127 - accuracy: 0.3371 - val_loss: -0.0178 - val_accuracy: 0.6298\n",
      "Epoch 13/30\n",
      "25/25 [==============================] - 0s 9ms/step - loss: 5.9324 - accuracy: 0.3371 - val_loss: -0.0553 - val_accuracy: 0.6298\n",
      "Epoch 14/30\n",
      "25/25 [==============================] - 0s 9ms/step - loss: 5.8211 - accuracy: 0.3347 - val_loss: -0.1083 - val_accuracy: 0.6298\n",
      "Epoch 15/30\n",
      "25/25 [==============================] - 0s 8ms/step - loss: 5.4245 - accuracy: 0.3291 - val_loss: -0.1646 - val_accuracy: 0.6298\n",
      "Epoch 16/30\n",
      "25/25 [==============================] - 0s 9ms/step - loss: 5.5761 - accuracy: 0.3281 - val_loss: -0.2110 - val_accuracy: 0.6298\n",
      "Epoch 17/30\n",
      "25/25 [==============================] - 0s 9ms/step - loss: 5.7244 - accuracy: 0.3366 - val_loss: -0.2754 - val_accuracy: 0.6298\n",
      "Epoch 18/30\n",
      "25/25 [==============================] - 0s 8ms/step - loss: 5.8475 - accuracy: 0.3297 - val_loss: -0.2915 - val_accuracy: 0.6298\n",
      "Epoch 19/30\n",
      "25/25 [==============================] - 0s 9ms/step - loss: 5.5684 - accuracy: 0.3357 - val_loss: -0.3921 - val_accuracy: 0.6298\n",
      "Epoch 20/30\n",
      "25/25 [==============================] - 0s 9ms/step - loss: 5.7005 - accuracy: 0.3363 - val_loss: -0.7416 - val_accuracy: 0.6298\n",
      "Epoch 21/30\n",
      "25/25 [==============================] - 0s 8ms/step - loss: 5.3209 - accuracy: 0.3324 - val_loss: -4.0149 - val_accuracy: 0.6298\n",
      "Epoch 22/30\n",
      "25/25 [==============================] - 0s 9ms/step - loss: 2.5580 - accuracy: 0.3401 - val_loss: -4.0044 - val_accuracy: 0.6298\n",
      "Epoch 23/30\n",
      "25/25 [==============================] - 0s 9ms/step - loss: 0.5315 - accuracy: 0.3396 - val_loss: -3.9983 - val_accuracy: 0.6298\n",
      "Epoch 24/30\n",
      "25/25 [==============================] - 0s 9ms/step - loss: -0.2974 - accuracy: 0.3366 - val_loss: -3.9958 - val_accuracy: 0.6298\n",
      "Epoch 25/30\n",
      "25/25 [==============================] - 0s 9ms/step - loss: -0.5805 - accuracy: 0.3428 - val_loss: -3.9942 - val_accuracy: 0.6298\n",
      "Epoch 26/30\n",
      "25/25 [==============================] - 0s 8ms/step - loss: -0.5981 - accuracy: 0.3253 - val_loss: -3.9934 - val_accuracy: 0.6298\n",
      "Epoch 27/30\n",
      "25/25 [==============================] - 0s 9ms/step - loss: -0.8612 - accuracy: 0.3354 - val_loss: -3.9931 - val_accuracy: 0.6298\n",
      "Epoch 28/30\n",
      "25/25 [==============================] - 0s 9ms/step - loss: -0.8979 - accuracy: 0.3374 - val_loss: -3.9930 - val_accuracy: 0.6298\n",
      "Epoch 29/30\n",
      "25/25 [==============================] - 0s 12ms/step - loss: -0.9941 - accuracy: 0.3399 - val_loss: -3.9932 - val_accuracy: 0.6298\n",
      "Epoch 30/30\n",
      "25/25 [==============================] - 0s 11ms/step - loss: -1.0389 - accuracy: 0.3365 - val_loss: -3.9936 - val_accuracy: 0.6298\n"
     ]
    },
    {
     "data": {
      "text/plain": [
       "<tensorflow.python.keras.callbacks.History at 0x7fd1fae74bb0>"
      ]
     },
     "execution_count": 470,
     "metadata": {},
     "output_type": "execute_result"
    }
   ],
   "source": [
    "model_nn2.fit(x_nn, y_nn, epochs=30, batch_size=256, validation_split=0.3)"
   ]
  },
  {
   "cell_type": "code",
   "execution_count": 473,
   "metadata": {},
   "outputs": [],
   "source": [
    "model_nn3 = Sequential()\n",
    "model_nn3.add(Embedding(7000, 16))\n",
    "model_nn3.add(Dense(8, activation='relu', kernel_regularizer=regularizers.l1(0.005)))\n",
    "model_nn3.add(Dropout(0.5))\n",
    "model_nn3.add(LSTM(5))\n",
    "model_nn3.add(Dropout(0.3))\n",
    "model_nn3.add(Dense(4, activation='relu', kernel_regularizer=regularizers.l1(0.005)))\n",
    "model_nn3.add(Dropout(0.3))\n",
    "model_nn3.add(Dense(1, activation='sigmoid'))"
   ]
  },
  {
   "cell_type": "code",
   "execution_count": 474,
   "metadata": {
    "scrolled": true
   },
   "outputs": [
    {
     "name": "stdout",
     "output_type": "stream",
     "text": [
      "Model: \"sequential_4\"\n",
      "_________________________________________________________________\n",
      "Layer (type)                 Output Shape              Param #   \n",
      "=================================================================\n",
      "embedding_4 (Embedding)      (None, None, 16)          112000    \n",
      "_________________________________________________________________\n",
      "dense_11 (Dense)             (None, None, 8)           136       \n",
      "_________________________________________________________________\n",
      "dropout_7 (Dropout)          (None, None, 8)           0         \n",
      "_________________________________________________________________\n",
      "lstm_4 (LSTM)                (None, 5)                 280       \n",
      "_________________________________________________________________\n",
      "dropout_8 (Dropout)          (None, 5)                 0         \n",
      "_________________________________________________________________\n",
      "dense_12 (Dense)             (None, 4)                 24        \n",
      "_________________________________________________________________\n",
      "dropout_9 (Dropout)          (None, 4)                 0         \n",
      "_________________________________________________________________\n",
      "dense_13 (Dense)             (None, 1)                 5         \n",
      "=================================================================\n",
      "Total params: 112,445\n",
      "Trainable params: 112,445\n",
      "Non-trainable params: 0\n",
      "_________________________________________________________________\n"
     ]
    }
   ],
   "source": [
    "model_nn3.compile(loss='binary_crossentropy', optimizer='adam', metrics=['accuracy'])\n",
    "model_nn3.summary()"
   ]
  },
  {
   "cell_type": "code",
   "execution_count": 475,
   "metadata": {},
   "outputs": [
    {
     "name": "stdout",
     "output_type": "stream",
     "text": [
      "Epoch 1/50\n",
      "36/36 [==============================] - 0s 11ms/step - loss: 0.8242 - accuracy: 0.6058\n",
      "Epoch 2/50\n",
      "36/36 [==============================] - 0s 10ms/step - loss: 0.6282 - accuracy: 0.6097\n",
      "Epoch 3/50\n",
      "36/36 [==============================] - 0s 9ms/step - loss: 0.3307 - accuracy: 0.6097\n",
      "Epoch 4/50\n",
      "36/36 [==============================] - 0s 11ms/step - loss: 0.0219 - accuracy: 0.6097\n",
      "Epoch 5/50\n",
      "36/36 [==============================] - 0s 10ms/step - loss: -0.2761 - accuracy: 0.6097\n",
      "Epoch 6/50\n",
      "36/36 [==============================] - 0s 10ms/step - loss: -0.7010 - accuracy: 0.6097\n",
      "Epoch 7/50\n",
      "36/36 [==============================] - 0s 10ms/step - loss: -1.1464 - accuracy: 0.6097\n",
      "Epoch 8/50\n",
      "36/36 [==============================] - 0s 9ms/step - loss: -1.6580 - accuracy: 0.6097\n",
      "Epoch 9/50\n",
      "36/36 [==============================] - 0s 10ms/step - loss: -2.2373 - accuracy: 0.6097\n",
      "Epoch 10/50\n",
      "36/36 [==============================] - 0s 9ms/step - loss: -2.7543 - accuracy: 0.6097\n",
      "Epoch 11/50\n",
      "36/36 [==============================] - 0s 10ms/step - loss: -3.3383 - accuracy: 0.6097\n",
      "Epoch 12/50\n",
      "36/36 [==============================] - 0s 12ms/step - loss: -3.9345 - accuracy: 0.6097\n",
      "Epoch 13/50\n",
      "36/36 [==============================] - 0s 9ms/step - loss: -4.6457 - accuracy: 0.6097\n",
      "Epoch 14/50\n",
      "36/36 [==============================] - 0s 9ms/step - loss: -5.1752 - accuracy: 0.6097\n",
      "Epoch 15/50\n",
      "36/36 [==============================] - 0s 10ms/step - loss: -5.9779 - accuracy: 0.6097\n",
      "Epoch 16/50\n",
      "36/36 [==============================] - 0s 9ms/step - loss: -6.5219 - accuracy: 0.6097\n",
      "Epoch 17/50\n",
      "36/36 [==============================] - 0s 8ms/step - loss: -7.4500 - accuracy: 0.6097\n",
      "Epoch 18/50\n",
      "36/36 [==============================] - 0s 10ms/step - loss: -8.1163 - accuracy: 0.6097\n",
      "Epoch 19/50\n",
      "36/36 [==============================] - 0s 11ms/step - loss: -9.0115 - accuracy: 0.6097\n",
      "Epoch 20/50\n",
      "36/36 [==============================] - 0s 9ms/step - loss: -9.8307 - accuracy: 0.6097\n",
      "Epoch 21/50\n",
      "36/36 [==============================] - 0s 9ms/step - loss: -10.7463 - accuracy: 0.6097\n",
      "Epoch 22/50\n",
      "36/36 [==============================] - 0s 10ms/step - loss: -11.6933 - accuracy: 0.6097\n",
      "Epoch 23/50\n",
      "36/36 [==============================] - 0s 10ms/step - loss: -12.6850 - accuracy: 0.6097\n",
      "Epoch 24/50\n",
      "36/36 [==============================] - 0s 9ms/step - loss: -13.4985 - accuracy: 0.6097\n",
      "Epoch 25/50\n",
      "36/36 [==============================] - 0s 10ms/step - loss: -14.7295 - accuracy: 0.6097\n",
      "Epoch 26/50\n",
      "36/36 [==============================] - 0s 10ms/step - loss: -15.5090 - accuracy: 0.6097\n",
      "Epoch 27/50\n",
      "36/36 [==============================] - 0s 9ms/step - loss: -16.6100 - accuracy: 0.6097\n",
      "Epoch 28/50\n",
      "36/36 [==============================] - 0s 9ms/step - loss: -18.1761 - accuracy: 0.6097\n",
      "Epoch 29/50\n",
      "36/36 [==============================] - 0s 10ms/step - loss: -18.9790 - accuracy: 0.6097\n",
      "Epoch 30/50\n",
      "36/36 [==============================] - 0s 11ms/step - loss: -20.4111 - accuracy: 0.6097\n",
      "Epoch 31/50\n",
      "36/36 [==============================] - 0s 10ms/step - loss: -21.6080 - accuracy: 0.6097\n",
      "Epoch 32/50\n",
      "36/36 [==============================] - 0s 9ms/step - loss: -22.8363 - accuracy: 0.6097\n",
      "Epoch 33/50\n",
      "36/36 [==============================] - 0s 9ms/step - loss: -24.2504 - accuracy: 0.6097\n",
      "Epoch 34/50\n",
      "36/36 [==============================] - 0s 9ms/step - loss: -25.3511 - accuracy: 0.6097\n",
      "Epoch 35/50\n",
      "36/36 [==============================] - 0s 9ms/step - loss: -26.8923 - accuracy: 0.6097\n",
      "Epoch 36/50\n",
      "36/36 [==============================] - 0s 10ms/step - loss: -27.8950 - accuracy: 0.6097\n",
      "Epoch 37/50\n",
      "36/36 [==============================] - 0s 9ms/step - loss: -29.1293 - accuracy: 0.6097\n",
      "Epoch 38/50\n",
      "36/36 [==============================] - 0s 9ms/step - loss: -31.2826 - accuracy: 0.6097\n",
      "Epoch 39/50\n",
      "36/36 [==============================] - 0s 11ms/step - loss: -32.1287 - accuracy: 0.6097\n",
      "Epoch 40/50\n",
      "36/36 [==============================] - 0s 9ms/step - loss: -33.3171 - accuracy: 0.6097\n",
      "Epoch 41/50\n",
      "36/36 [==============================] - 0s 11ms/step - loss: -35.0694 - accuracy: 0.6097\n",
      "Epoch 42/50\n",
      "36/36 [==============================] - 0s 9ms/step - loss: -36.7229 - accuracy: 0.6097\n",
      "Epoch 43/50\n",
      "36/36 [==============================] - 0s 11ms/step - loss: -38.6050 - accuracy: 0.6097\n",
      "Epoch 44/50\n",
      "36/36 [==============================] - 0s 10ms/step - loss: -39.9257 - accuracy: 0.6097\n",
      "Epoch 45/50\n",
      "36/36 [==============================] - 0s 9ms/step - loss: -41.6940 - accuracy: 0.6097\n",
      "Epoch 46/50\n",
      "36/36 [==============================] - 0s 12ms/step - loss: -43.1519 - accuracy: 0.6097\n",
      "Epoch 47/50\n",
      "36/36 [==============================] - 0s 11ms/step - loss: -45.3855 - accuracy: 0.6097\n",
      "Epoch 48/50\n",
      "36/36 [==============================] - 0s 13ms/step - loss: -46.9278 - accuracy: 0.6097\n",
      "Epoch 49/50\n",
      "36/36 [==============================] - 0s 11ms/step - loss: -48.6136 - accuracy: 0.6097\n",
      "Epoch 50/50\n",
      "36/36 [==============================] - 0s 9ms/step - loss: -49.7198 - accuracy: 0.6097\n"
     ]
    },
    {
     "data": {
      "text/plain": [
       "<tensorflow.python.keras.callbacks.History at 0x7fd203df71c0>"
      ]
     },
     "execution_count": 475,
     "metadata": {},
     "output_type": "execute_result"
    }
   ],
   "source": [
    "model_nn3.fit(x_nn, y_nn, epochs=50, batch_size=256)"
   ]
  },
  {
   "cell_type": "markdown",
   "metadata": {},
   "source": [
    "### Models"
   ]
  },
  {
   "cell_type": "code",
   "execution_count": null,
   "metadata": {},
   "outputs": [],
   "source": [
    "tfidf_vec = TfidfVectorizer()"
   ]
  },
  {
   "cell_type": "code",
   "execution_count": 152,
   "metadata": {},
   "outputs": [],
   "source": [
    "X = df.Text\n",
    "y = df.target"
   ]
  },
  {
   "cell_type": "code",
   "execution_count": 153,
   "metadata": {},
   "outputs": [],
   "source": [
    "X_train, X_test, y_train, y_test = train_test_split(X, y, stratify=y, random_state=42)\n",
    "\n",
    "X_train = X_train.str.join(' ')\n",
    "X_test = X_test.str.join(' ')"
   ]
  },
  {
   "cell_type": "code",
   "execution_count": 154,
   "metadata": {},
   "outputs": [],
   "source": [
    "tfidf = TfidfVectorizer(stop_words=sw, ngram_range = (1,3))\n",
    "X_train_vec = tfidf.fit_transform(X_train)\n",
    "X_train_vec = pd.DataFrame.sparse.from_spmatrix(X_train_vec)\n",
    "X_train_vec.columns = sorted(tfidf.vocabulary_)\n",
    "X_train_vec.set_index(y_train.index, inplace=True)"
   ]
  },
  {
   "cell_type": "code",
   "execution_count": 155,
   "metadata": {},
   "outputs": [],
   "source": [
    "X_val_vec = tfidf.transform(X_test)\n",
    "X_val_vec = pd.DataFrame.sparse.from_spmatrix(X_val_vec)\n",
    "X_val_vec.columns = sorted(tfidf.vocabulary_)\n",
    "X_val_vec.set_index(y_test.index, inplace=True)"
   ]
  },
  {
   "cell_type": "code",
   "execution_count": 156,
   "metadata": {
    "scrolled": false
   },
   "outputs": [],
   "source": [
    "mnb = MultinomialNB()\n",
    "mnb.fit(X_train_vec, y_train)\n",
    "y_hat = mnb.predict(X_train_vec)"
   ]
  },
  {
   "cell_type": "code",
   "execution_count": 157,
   "metadata": {
    "scrolled": true
   },
   "outputs": [
    {
     "name": "stdout",
     "output_type": "stream",
     "text": [
      "[[  18  402    8]\n",
      " [   1 4140   16]\n",
      " [   0  655 1578]]\n"
     ]
    }
   ],
   "source": [
    "print(confusion_matrix(y_train, y_hat))"
   ]
  },
  {
   "cell_type": "code",
   "execution_count": 158,
   "metadata": {
    "scrolled": true
   },
   "outputs": [
    {
     "name": "stdout",
     "output_type": "stream",
     "text": [
      "0.8413024347315928\n"
     ]
    }
   ],
   "source": [
    "print(accuracy_score(y_train, y_hat))"
   ]
  },
  {
   "cell_type": "code",
   "execution_count": 159,
   "metadata": {},
   "outputs": [
    {
     "name": "stdout",
     "output_type": "stream",
     "text": [
      "0.6559612846458425\n"
     ]
    }
   ],
   "source": [
    "y_hat_test = mnb.predict(X_val_vec)\n",
    "print(accuracy_score(y_test, y_hat_test))"
   ]
  },
  {
   "cell_type": "code",
   "execution_count": 160,
   "metadata": {},
   "outputs": [],
   "source": [
    "from sklearn.model_selection import cross_val_score"
   ]
  },
  {
   "cell_type": "code",
   "execution_count": 161,
   "metadata": {},
   "outputs": [],
   "source": [
    "cv_mnb = cross_val_score(mnb, X_train_vec, y_train, cv=5, scoring = 'accuracy')"
   ]
  },
  {
   "cell_type": "code",
   "execution_count": 162,
   "metadata": {},
   "outputs": [
    {
     "data": {
      "text/plain": [
       "array([0.66202346, 0.6568915 , 0.66055718, 0.65443874, 0.65003668])"
      ]
     },
     "execution_count": 162,
     "metadata": {},
     "output_type": "execute_result"
    }
   ],
   "source": [
    "cv_mnb"
   ]
  },
  {
   "cell_type": "markdown",
   "metadata": {},
   "source": [
    "### Binary Model"
   ]
  },
  {
   "cell_type": "code",
   "execution_count": 135,
   "metadata": {},
   "outputs": [],
   "source": [
    "df_binary = df"
   ]
  },
  {
   "cell_type": "code",
   "execution_count": 195,
   "metadata": {},
   "outputs": [],
   "source": [
    "df_binary.drop('target', axis=1, inplace=True)\n",
    "df_pos_binary = df_binary"
   ]
  },
  {
   "cell_type": "code",
   "execution_count": 194,
   "metadata": {},
   "outputs": [],
   "source": [
    "binary_target_dict = {'Negative emotion' : 1, 'Positive emotion' : 0, 'Neutral emotion' : 0}\n",
    "pos_binary_dict = {'Positive emotion' : 1, 'Negative emotion' : 0, 'Neutral emotion' : 0}"
   ]
  },
  {
   "cell_type": "code",
   "execution_count": 196,
   "metadata": {},
   "outputs": [],
   "source": [
    "df_binary['target'] = df_binary['Emotion'].map(binary_target_dict)\n",
    "df_pos_binary['target'] = df_binary['Emotion'].map(pos_binary_dict)"
   ]
  },
  {
   "cell_type": "markdown",
   "metadata": {},
   "source": [
    "##### Binary model with Negative as target"
   ]
  },
  {
   "cell_type": "code",
   "execution_count": 177,
   "metadata": {},
   "outputs": [],
   "source": [
    "X = df_binary.Text\n",
    "y = df_binary.target"
   ]
  },
  {
   "cell_type": "code",
   "execution_count": 178,
   "metadata": {},
   "outputs": [],
   "source": [
    "X_train, X_test, y_train, y_test = train_test_split(X, y, stratify =y, random_state=42)\n",
    "\n",
    "X_train = X_train.str.join(' ')\n",
    "X_test = X_test.str.join(' ')"
   ]
  },
  {
   "cell_type": "code",
   "execution_count": 184,
   "metadata": {},
   "outputs": [],
   "source": [
    "tfidf = TfidfVectorizer(stop_words=sw, ngram_range = (1,3))\n",
    "X_train_vec = tfidf.fit_transform(X_train)\n",
    "X_train_vec = pd.DataFrame.sparse.from_spmatrix(X_train_vec)\n",
    "X_train_vec.columns = sorted(tfidf.vocabulary_)\n",
    "X_train_vec.set_index(y_train.index, inplace=True)"
   ]
  },
  {
   "cell_type": "code",
   "execution_count": 185,
   "metadata": {},
   "outputs": [],
   "source": [
    "X_val_vec = tfidf.transform(X_test)\n",
    "X_val_vec = pd.DataFrame.sparse.from_spmatrix(X_val_vec)\n",
    "X_val_vec.columns = sorted(tfidf.vocabulary_)\n",
    "X_val_vec.set_index(y_test.index, inplace=True)"
   ]
  },
  {
   "cell_type": "code",
   "execution_count": 186,
   "metadata": {},
   "outputs": [],
   "source": [
    "mnb = MultinomialNB()\n",
    "mnb.fit(X_train_vec, y_train)\n",
    "y_hat = mnb.predict(X_train_vec)"
   ]
  },
  {
   "cell_type": "code",
   "execution_count": 188,
   "metadata": {
    "scrolled": true
   },
   "outputs": [
    {
     "name": "stdout",
     "output_type": "stream",
     "text": [
      "[[6391    0]\n",
      " [ 413   14]]\n"
     ]
    }
   ],
   "source": [
    "print(confusion_matrix(y_train, y_hat))"
   ]
  },
  {
   "cell_type": "code",
   "execution_count": 226,
   "metadata": {},
   "outputs": [],
   "source": [
    "from imblearn.over_sampling import RandomOverSampler"
   ]
  },
  {
   "cell_type": "markdown",
   "metadata": {},
   "source": [
    "##### Binary model with positive as target"
   ]
  },
  {
   "cell_type": "code",
   "execution_count": 207,
   "metadata": {},
   "outputs": [
    {
     "data": {
      "text/plain": [
       "0    6113\n",
       "1    2978\n",
       "Name: target, dtype: int64"
      ]
     },
     "execution_count": 207,
     "metadata": {},
     "output_type": "execute_result"
    }
   ],
   "source": [
    "df_pos_binary['target'].value_counts()"
   ]
  },
  {
   "cell_type": "code",
   "execution_count": 208,
   "metadata": {},
   "outputs": [],
   "source": [
    "X = df_pos_binary.Text\n",
    "y = df_pos_binary.target"
   ]
  },
  {
   "cell_type": "code",
   "execution_count": 209,
   "metadata": {},
   "outputs": [],
   "source": [
    "X_train, X_test, y_train, y_test = train_test_split(X, y, stratify =y, random_state=42)\n",
    "\n",
    "X_train = X_train.str.join(' ')\n",
    "X_test = X_test.str.join(' ')"
   ]
  },
  {
   "cell_type": "code",
   "execution_count": 210,
   "metadata": {},
   "outputs": [],
   "source": [
    "tfidf = TfidfVectorizer(stop_words=sw, ngram_range = (1,3))\n",
    "X_train_vec = tfidf.fit_transform(X_train)\n",
    "X_train_vec = pd.DataFrame.sparse.from_spmatrix(X_train_vec)\n",
    "X_train_vec.columns = sorted(tfidf.vocabulary_)\n",
    "X_train_vec.set_index(y_train.index, inplace=True)"
   ]
  },
  {
   "cell_type": "code",
   "execution_count": 211,
   "metadata": {},
   "outputs": [],
   "source": [
    "X_val_vec = tfidf.transform(X_test)\n",
    "X_val_vec = pd.DataFrame.sparse.from_spmatrix(X_val_vec)\n",
    "X_val_vec.columns = sorted(tfidf.vocabulary_)\n",
    "X_val_vec.set_index(y_test.index, inplace=True)"
   ]
  },
  {
   "cell_type": "code",
   "execution_count": 215,
   "metadata": {},
   "outputs": [],
   "source": [
    "mnb = MultinomialNB()\n",
    "mnb.fit(X_train_vec, y_train)\n",
    "y_hat = mnb.predict(X_train_vec)\n",
    "y_test_hat = mnb.predict(X_val_vec)"
   ]
  },
  {
   "cell_type": "code",
   "execution_count": 214,
   "metadata": {
    "scrolled": true
   },
   "outputs": [
    {
     "name": "stdout",
     "output_type": "stream",
     "text": [
      "Training Accuracy: 0.8876503373423291\n",
      "Testing Accuracy: 0.7127144742630884\n",
      "F1 Score: 0.6536448564247553\n",
      "Recall: 0.7127144742630884\n",
      "Precision: 0.7143568554844766\n"
     ]
    }
   ],
   "source": [
    "summary_scores(mnb, X_train_vec, X_val_vec, y_train, y_test)"
   ]
  },
  {
   "cell_type": "code",
   "execution_count": 218,
   "metadata": {
    "scrolled": true
   },
   "outputs": [
    {
     "name": "stdout",
     "output_type": "stream",
     "text": [
      "[[1469   59]\n",
      " [ 594  151]]\n"
     ]
    }
   ],
   "source": [
    "print(confusion_matrix(y_test, y_test_hat))"
   ]
  },
  {
   "cell_type": "code",
   "execution_count": 175,
   "metadata": {},
   "outputs": [],
   "source": [
    "from imblearn.over_sampling import SMOTE"
   ]
  },
  {
   "cell_type": "code",
   "execution_count": null,
   "metadata": {},
   "outputs": [],
   "source": []
  }
 ],
 "metadata": {
  "kernelspec": {
   "display_name": "Python 3",
   "language": "python",
   "name": "python3"
  },
  "language_info": {
   "codemirror_mode": {
    "name": "ipython",
    "version": 3
   },
   "file_extension": ".py",
   "mimetype": "text/x-python",
   "name": "python",
   "nbconvert_exporter": "python",
   "pygments_lexer": "ipython3",
   "version": "3.8.5"
  }
 },
 "nbformat": 4,
 "nbformat_minor": 4
}
