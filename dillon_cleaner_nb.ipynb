{
 "cells": [
  {
   "cell_type": "code",
   "execution_count": 201,
   "metadata": {},
   "outputs": [],
   "source": [
    "import pandas as pd\n",
    "import numpy as np\n",
    "import matplotlib.pyplot as plt\n",
    "import seaborn as sns\n",
    "import nltk\n",
    "from nltk.probability import FreqDist\n",
    "from nltk.corpus import stopwords\n",
    "from nltk.tokenize import regexp_tokenize, word_tokenize, RegexpTokenizer\n",
    "from nltk import pos_tag\n",
    "from nltk import WordNetLemmatizer\n",
    "from nltk.corpus import wordnet\n",
    "from sklearn.feature_extraction.text import CountVectorizer, TfidfTransformer, TfidfVectorizer\n",
    "from sklearn.naive_bayes import MultinomialNB\n",
    "from sklearn.metrics import accuracy_score, precision_score, recall_score, confusion_matrix, f1_score, plot_confusion_matrix\n",
    "\n",
    "from sklearn.pipeline import make_pipeline , Pipeline"
   ]
  },
  {
   "cell_type": "code",
   "execution_count": 3,
   "metadata": {},
   "outputs": [],
   "source": [
    "def summary_scores(model, train_set_x, test_set_x, train_set_y, test_set_y):\n",
    "    print(f'Training Accuracy: {model.score(train_set_x, train_set_y)}')\n",
    "    print(f'Testing Accuracy: {model.score(test_set_x, test_set_y)}')\n",
    "    print(f'F1 Score: {f1_score(test_set_y, model.predict(test_set_x), average=\"weighted\")}')\n",
    "    print(f'Recall: {recall_score(test_set_y, model.predict(test_set_x), average=\"weighted\")}')\n",
    "    print(f'Precision: {precision_score(test_set_y, model.predict(test_set_x), average=\"weighted\")}')\n"
   ]
  },
  {
   "cell_type": "markdown",
   "metadata": {},
   "source": [
    "#### Load Dataframe"
   ]
  },
  {
   "cell_type": "code",
   "execution_count": 4,
   "metadata": {},
   "outputs": [],
   "source": [
    "df = pd.read_csv('data/judge-1377884607_tweet_product_company.csv',encoding='latin1')"
   ]
  },
  {
   "cell_type": "markdown",
   "metadata": {},
   "source": [
    "#### Rename columns for simplicity"
   ]
  },
  {
   "cell_type": "code",
   "execution_count": 231,
   "metadata": {},
   "outputs": [
    {
     "data": {
      "text/plain": [
       "(9091, 7)"
      ]
     },
     "execution_count": 231,
     "metadata": {},
     "output_type": "execute_result"
    }
   ],
   "source": [
    "df.shape"
   ]
  },
  {
   "cell_type": "code",
   "execution_count": 5,
   "metadata": {},
   "outputs": [],
   "source": [
    "df.rename(columns = {'emotion_in_tweet_is_directed_at': 'Product', 'is_there_an_emotion_directed_at_a_brand_or_product': 'Emotion', 'tweet_text': 'Tweet'}, inplace= True)"
   ]
  },
  {
   "cell_type": "code",
   "execution_count": 6,
   "metadata": {},
   "outputs": [],
   "source": [
    "df.drop(9092, inplace=True)\n",
    "df.reset_index(drop=True, inplace=True)"
   ]
  },
  {
   "cell_type": "markdown",
   "metadata": {},
   "source": [
    "#### LowerCase tweets for ease of use"
   ]
  },
  {
   "cell_type": "code",
   "execution_count": 7,
   "metadata": {},
   "outputs": [],
   "source": [
    "df['Text'] = df['Tweet'].str.lower()\n",
    "df['Text'] = df['Text'].str.replace(r'[^\\w\\s]', '')\n",
    "df['Text'] = df['Text'].str.split(' ')"
   ]
  },
  {
   "cell_type": "code",
   "execution_count": 8,
   "metadata": {},
   "outputs": [],
   "source": [
    "df.dropna(subset=['Text'], inplace=True)"
   ]
  },
  {
   "cell_type": "code",
   "execution_count": 9,
   "metadata": {
    "scrolled": true
   },
   "outputs": [
    {
     "data": {
      "text/plain": [
       "iPad                               946\n",
       "Apple                              661\n",
       "iPad or iPhone App                 470\n",
       "Google                             430\n",
       "iPhone                             297\n",
       "Other Google product or service    293\n",
       "Android App                         81\n",
       "Android                             78\n",
       "Other Apple product or service      35\n",
       "Name: Product, dtype: int64"
      ]
     },
     "execution_count": 9,
     "metadata": {},
     "output_type": "execute_result"
    }
   ],
   "source": [
    "df['Product'].value_counts()"
   ]
  },
  {
   "cell_type": "code",
   "execution_count": 10,
   "metadata": {},
   "outputs": [],
   "source": [
    "df['test'] = ''\n",
    "df.fillna('na', inplace=True)"
   ]
  },
  {
   "cell_type": "code",
   "execution_count": 11,
   "metadata": {},
   "outputs": [],
   "source": [
    "apple_keywords = ['apple', '#apple', 'ipad', '#ipad', '#iphone', 'iphone', 'itunes', '#itunes', 'ios', 'airpods', '#ios', '#airpods'\n",
    "                 'iphones', 'ipads', 'apples', 'quotapple', 'quotipad', 'ipadquot', 'quotipads', 'ipadsquot', 'applequot', 'quotiphone', 'iphonequot', 'quotios', 'iosquot', 'quotiphones', 'iphonesquot', 'ipad2']\n",
    "google_keywords = ['google', '#google', 'android', '#android', 'googles', 'androids', 'quotgoogle', 'googlequot', 'quotandroid', 'androidquot', 'quotandroids', 'androidsquot' ]\n",
    "\n",
    "for ind, val in enumerate(df['Text']):\n",
    "    if df['Product'].values[ind] == 'na':\n",
    "        for y in val:\n",
    "            if y in apple_keywords:\n",
    "                df['test'].values[ind] = y\n",
    "            elif y in google_keywords:\n",
    "                df['test'].values[ind] = y\n",
    "                \n",
    "    else:\n",
    "        df['test'].values[ind] = df['Product'].values[ind]\n"
   ]
  },
  {
   "cell_type": "code",
   "execution_count": 12,
   "metadata": {
    "scrolled": true
   },
   "outputs": [
    {
     "data": {
      "text/plain": [
       "array(['iphone', 'ipad or iphone app', 'ipad', 'google', 'android',\n",
       "       'apple', 'android app', 'other google product or service',\n",
       "       'itunes', '', 'quotgoogle', 'ipad2', 'googles', 'ipads',\n",
       "       'applequot', 'ios', 'apples', 'ipadquot',\n",
       "       'other apple product or service', 'quotipad', 'iosquot',\n",
       "       'quotiphone', 'androidquot', 'googlequot', 'quotapple', 'androids',\n",
       "       'iphonequot'], dtype=object)"
      ]
     },
     "execution_count": 12,
     "metadata": {},
     "output_type": "execute_result"
    }
   ],
   "source": [
    "df['test'] = df['test'].map(lambda x: x.lower())\n",
    "df['test'].unique()"
   ]
  },
  {
   "cell_type": "code",
   "execution_count": 13,
   "metadata": {},
   "outputs": [
    {
     "data": {
      "text/plain": [
       "array(['iphone', 'ipad or iphone app', 'ipad', 'google', 'android',\n",
       "       'apple', 'android app', 'other google product or service',\n",
       "       'itunes', '', 'ios', 'other apple product or service'],\n",
       "      dtype=object)"
      ]
     },
     "execution_count": 13,
     "metadata": {},
     "output_type": "execute_result"
    }
   ],
   "source": [
    "df['test'] = df['test'].replace({'googles': 'google', 'apples': 'apple', 'androids': 'android','ipads': 'ipad', 'ipad2': 'ipad',\n",
    "                                'quotgoogle': 'google', 'ipadquot': 'ipad', 'quotipad': 'ipad', 'androidquot': 'android', 'applequot': 'apple',\n",
    "                               'googlequot': 'google', 'iphonequot': 'iphone', 'quotapple' : 'apple', 'iosquot': 'ios', 'quotiphone': 'iphone',\n",
    "                                '#ipad' : 'ipad', '#google' : 'google', '#android': 'android', '#apple': 'apple', '#iphone': 'iphone'})\n",
    "df['test'].unique()"
   ]
  },
  {
   "cell_type": "code",
   "execution_count": 14,
   "metadata": {},
   "outputs": [],
   "source": [
    "emotion_dict = {'No emotion toward brand or product' : 'Neutral emotion', \"I can't tell\": 'Neutral emotion', 'Positive emotion': 'Positive emotion',\n",
    "               'Negative emotion': 'Negative emotion'}\n",
    "df['Emotion'] = df['Emotion'].map(emotion_dict)"
   ]
  },
  {
   "cell_type": "code",
   "execution_count": 15,
   "metadata": {
    "scrolled": true
   },
   "outputs": [
    {
     "data": {
      "text/plain": [
       "Neutral emotion     0.609724\n",
       "Positive emotion    0.327577\n",
       "Negative emotion    0.062699\n",
       "Name: Emotion, dtype: float64"
      ]
     },
     "execution_count": 15,
     "metadata": {},
     "output_type": "execute_result"
    }
   ],
   "source": [
    "df['Emotion'].value_counts(normalize=True)"
   ]
  },
  {
   "cell_type": "code",
   "execution_count": 16,
   "metadata": {},
   "outputs": [
    {
     "data": {
      "text/plain": [
       "ipad                               2286\n",
       "google                             2087\n",
       "apple                              1496\n",
       "iphone                             1052\n",
       "                                    840\n",
       "ipad or iphone app                  470\n",
       "android                             379\n",
       "other google product or service     293\n",
       "android app                          81\n",
       "itunes                               64\n",
       "other apple product or service       35\n",
       "ios                                   8\n",
       "Name: test, dtype: int64"
      ]
     },
     "execution_count": 16,
     "metadata": {},
     "output_type": "execute_result"
    }
   ],
   "source": [
    "df['test'].value_counts()"
   ]
  },
  {
   "cell_type": "code",
   "execution_count": 17,
   "metadata": {},
   "outputs": [],
   "source": [
    "def company_search(test):\n",
    "    if test == 'iphone':\n",
    "        return 'apple'\n",
    "    elif test == 'apple':\n",
    "        return 'apple'\n",
    "    elif test == 'ipad':\n",
    "        return 'apple'\n",
    "    elif test == 'ipad or iphone app':\n",
    "        return 'apple'\n",
    "    elif test == 'itunes':\n",
    "        return 'apple'\n",
    "    elif test == 'other apple product or service':\n",
    "        return 'apple'\n",
    "    elif test == 'ios':\n",
    "        return 'apple'\n",
    "    elif test == 'ipadquot':\n",
    "        return 'apple'\n",
    "    elif test == 'applequot':\n",
    "        return 'apple'\n",
    "    elif test == 'iphonequot':\n",
    "        return 'apple'\n",
    "    elif test == 'quotiphone':\n",
    "        return 'apple'\n",
    "    elif test == 'iosquot':\n",
    "        return 'apple'\n",
    "    elif test =='quotipad':\n",
    "        return 'apple'\n",
    "    elif test == 'quotapple':\n",
    "        return 'apple'\n",
    "    elif test =='google':\n",
    "        return 'google'\n",
    "    elif test == 'android':\n",
    "        return 'google'\n",
    "    elif test == 'other google product or service':\n",
    "        return 'google'\n",
    "    elif test == 'android app':\n",
    "        return 'google'\n",
    "    elif test == 'quotgoogle':\n",
    "        return 'google'\n",
    "    elif test == 'googlequot':\n",
    "        return 'google'\n",
    "    elif test == 'androidquot':\n",
    "        return 'google'\n",
    "    else:\n",
    "        return 'unknown'"
   ]
  },
  {
   "cell_type": "code",
   "execution_count": 18,
   "metadata": {},
   "outputs": [],
   "source": [
    "df['company'] = df['test'].apply(company_search)"
   ]
  },
  {
   "cell_type": "code",
   "execution_count": 19,
   "metadata": {
    "scrolled": false
   },
   "outputs": [
    {
     "data": {
      "text/plain": [
       "apple      5411\n",
       "google     2840\n",
       "unknown     840\n",
       "Name: company, dtype: int64"
      ]
     },
     "execution_count": 19,
     "metadata": {},
     "output_type": "execute_result"
    }
   ],
   "source": [
    "df['company'].value_counts()"
   ]
  },
  {
   "cell_type": "code",
   "execution_count": 126,
   "metadata": {},
   "outputs": [],
   "source": [
    "from nltk.tokenize import TweetTokenizer\n",
    "ttokenize = TweetTokenizer(preserve_case=False, reduce_len=False)"
   ]
  },
  {
   "cell_type": "code",
   "execution_count": 132,
   "metadata": {},
   "outputs": [],
   "source": [
    "import re"
   ]
  },
  {
   "cell_type": "code",
   "execution_count": 133,
   "metadata": {},
   "outputs": [],
   "source": [
    "df['clean_tweet'] = [re.sub(r'(http://[^\"\\s]+)|(@\\w+)', '', tweet)\n",
    "                           for tweet in df['Tweet']]"
   ]
  },
  {
   "cell_type": "code",
   "execution_count": 158,
   "metadata": {},
   "outputs": [],
   "source": [
    "df['clean_tweet'] = df['Tweet'].str.replace(r'[^\\w\\s]', '')"
   ]
  },
  {
   "cell_type": "code",
   "execution_count": 157,
   "metadata": {},
   "outputs": [],
   "source": [
    "def clean_tweet(tweet):\n",
    "    token = ttokenize.tokenize(tweet)\n",
    "    tokens = [word.lower() for word in token]\n",
    "    no_sw = [word for word in tokens if word not in sw]\n",
    "    lemmad = [lemma.lemmatize(word) for word in no_sw]\n",
    "    return lemmad\n",
    "    "
   ]
  },
  {
   "cell_type": "code",
   "execution_count": 159,
   "metadata": {},
   "outputs": [],
   "source": [
    "df['clean_tweet'] = df['clean_tweet'].apply(clean_tweet)"
   ]
  },
  {
   "cell_type": "code",
   "execution_count": 144,
   "metadata": {
    "scrolled": true
   },
   "outputs": [
    {
     "ename": "TypeError",
     "evalue": "'list' object is not callable",
     "output_type": "error",
     "traceback": [
      "\u001b[0;31m---------------------------------------------------------------------------\u001b[0m",
      "\u001b[0;31mTypeError\u001b[0m                                 Traceback (most recent call last)",
      "\u001b[0;32m<ipython-input-144-d5024b29fa81>\u001b[0m in \u001b[0;36m<module>\u001b[0;34m\u001b[0m\n\u001b[0;32m----> 1\u001b[0;31m \u001b[0mtokens\u001b[0m \u001b[0;34m=\u001b[0m \u001b[0mlist\u001b[0m\u001b[0;34m(\u001b[0m\u001b[0mmap\u001b[0m\u001b[0;34m(\u001b[0m\u001b[0mclean_tweet\u001b[0m\u001b[0;34m,\u001b[0m \u001b[0mdf\u001b[0m\u001b[0;34m[\u001b[0m\u001b[0;34m'clean_tweet'\u001b[0m\u001b[0;34m]\u001b[0m\u001b[0;34m)\u001b[0m\u001b[0;34m)\u001b[0m\u001b[0;34m\u001b[0m\u001b[0;34m\u001b[0m\u001b[0m\n\u001b[0m",
      "\u001b[0;31mTypeError\u001b[0m: 'list' object is not callable"
     ]
    }
   ],
   "source": [
    "tokens = list(map(clean_tweet, df['clean_tweet']))"
   ]
  },
  {
   "cell_type": "markdown",
   "metadata": {},
   "source": [
    "### Add Target values\n"
   ]
  },
  {
   "cell_type": "code",
   "execution_count": 20,
   "metadata": {},
   "outputs": [],
   "source": [
    "target_dict = {'Negative emotion': 0, 'Neutral emotion': 1, 'Positive emotion': 2}\n",
    "df['target'] = df['Emotion'].map(target_dict)"
   ]
  },
  {
   "cell_type": "code",
   "execution_count": 21,
   "metadata": {
    "scrolled": true
   },
   "outputs": [
    {
     "data": {
      "text/plain": [
       "1    5543\n",
       "2    2978\n",
       "0     570\n",
       "Name: target, dtype: int64"
      ]
     },
     "execution_count": 21,
     "metadata": {},
     "output_type": "execute_result"
    }
   ],
   "source": [
    "df['target'].value_counts()"
   ]
  },
  {
   "cell_type": "markdown",
   "metadata": {},
   "source": [
    "#### Seperate Dataframes by company"
   ]
  },
  {
   "cell_type": "code",
   "execution_count": 22,
   "metadata": {},
   "outputs": [],
   "source": [
    "df_apple = df.loc[df['company'] == 'apple']\n",
    "df_google = df.loc[df['company'] == 'google']\n"
   ]
  },
  {
   "cell_type": "markdown",
   "metadata": {},
   "source": [
    "#### Seperate Dataframes by tweet sentiment"
   ]
  },
  {
   "cell_type": "code",
   "execution_count": 23,
   "metadata": {},
   "outputs": [],
   "source": [
    "df_pos = df.loc[df.target == 2]\n",
    "df_neg = df.loc[df.target == 0]\n",
    "df_neutral = df.loc[df.target == 1]"
   ]
  },
  {
   "cell_type": "markdown",
   "metadata": {},
   "source": [
    "#### Lists/Dictionary of words used in pos/neg/neutral tweets"
   ]
  },
  {
   "cell_type": "code",
   "execution_count": 24,
   "metadata": {},
   "outputs": [],
   "source": [
    "pos_words = []\n",
    "neg_words = []\n",
    "neutral_words = []\n",
    "\n",
    "for list_ in df_pos['Text']:\n",
    "    for word in list_:\n",
    "        pos_words.append(word)\n",
    "\n",
    "        \n",
    "for list_ in df_neg['Text']:\n",
    "    for word in list_:\n",
    "        neg_words.append(word)\n",
    "        \n",
    "        \n",
    "for list_ in df_neutral['Text']:\n",
    "    for word in list_:\n",
    "        neutral_words.append(word)\n",
    "    "
   ]
  },
  {
   "cell_type": "code",
   "execution_count": 25,
   "metadata": {},
   "outputs": [],
   "source": [
    "from collections import Counter\n",
    "sw = stopwords.words('english')"
   ]
  },
  {
   "cell_type": "code",
   "execution_count": 26,
   "metadata": {},
   "outputs": [],
   "source": [
    "from nltk.stem import WordNetLemmatizer\n",
    "lemma = WordNetLemmatizer()"
   ]
  },
  {
   "cell_type": "code",
   "execution_count": 27,
   "metadata": {},
   "outputs": [],
   "source": [
    "pos_words = [lemma.lemmatize(word) for word in pos_words if word not in sw]\n",
    "neg_words = [lemma.lemmatize(word) for word in neg_words if word not in sw]\n",
    "neutral_words =  [lemma.lemmatize(word) for word in neutral_words if word not in sw]\n",
    "\n"
   ]
  },
  {
   "cell_type": "code",
   "execution_count": 28,
   "metadata": {},
   "outputs": [],
   "source": [
    "pos_dict = Counter(pos_words)\n",
    "neg_dict = Counter(neg_words)\n",
    "neutral_dict = Counter(neutral_words)"
   ]
  },
  {
   "cell_type": "code",
   "execution_count": 29,
   "metadata": {},
   "outputs": [],
   "source": [
    "pos_dict = dict(sorted(pos_dict.items(), key=lambda item: item[1], reverse=True))\n",
    "neg_dict = dict(sorted(neg_dict.items(), key=lambda item: item[1], reverse=True))\n",
    "neutral_dict = dict(sorted(neutral_dict.items(), key=lambda item: item[1], reverse=True))"
   ]
  },
  {
   "cell_type": "code",
   "execution_count": 30,
   "metadata": {
    "scrolled": false
   },
   "outputs": [
    {
     "data": {
      "text/plain": [
       "2098"
      ]
     },
     "execution_count": 30,
     "metadata": {},
     "output_type": "execute_result"
    }
   ],
   "source": [
    "pos_dict.pop('')\n",
    "neg_dict.pop('')\n",
    "neutral_dict.pop('')"
   ]
  },
  {
   "cell_type": "code",
   "execution_count": 31,
   "metadata": {
    "scrolled": false
   },
   "outputs": [
    {
     "data": {
      "text/plain": [
       "{'sxsw': 3068,\n",
       " 'mention': 2113,\n",
       " 'link': 1206,\n",
       " 'ipad': 982,\n",
       " 'rt': 922,\n",
       " 'apple': 875,\n",
       " 'google': 690,\n",
       " 'store': 549,\n",
       " 'iphone': 520,\n",
       " '2': 497,\n",
       " 'app': 391,\n",
       " 'new': 359,\n",
       " 'austin': 292,\n",
       " 'popup': 218,\n",
       " 'ipad2': 202,\n",
       " 'android': 198,\n",
       " 'amp': 181,\n",
       " 'get': 181,\n",
       " 'launch': 174,\n",
       " 'one': 148}"
      ]
     },
     "execution_count": 31,
     "metadata": {},
     "output_type": "execute_result"
    }
   ],
   "source": [
    "dict(list(pos_dict.items())[0:20])"
   ]
  },
  {
   "cell_type": "code",
   "execution_count": 32,
   "metadata": {
    "scrolled": true
   },
   "outputs": [
    {
     "data": {
      "text/plain": [
       "{'sxsw': 578,\n",
       " 'mention': 301,\n",
       " 'ipad': 181,\n",
       " 'iphone': 155,\n",
       " 'google': 141,\n",
       " 'rt': 137,\n",
       " 'apple': 106,\n",
       " 'link': 101,\n",
       " '2': 65,\n",
       " 'app': 60,\n",
       " 'store': 45,\n",
       " 'new': 43,\n",
       " 'like': 42,\n",
       " 'circle': 36,\n",
       " 'need': 35,\n",
       " 'social': 30,\n",
       " 'apps': 30,\n",
       " 'people': 29,\n",
       " 'design': 28,\n",
       " 'get': 25}"
      ]
     },
     "execution_count": 32,
     "metadata": {},
     "output_type": "execute_result"
    }
   ],
   "source": [
    "dict(list(neg_dict.items())[0:20])"
   ]
  },
  {
   "cell_type": "markdown",
   "metadata": {},
   "source": [
    "#### Adding common words used in both positive and negative tweets to stopwords list"
   ]
  },
  {
   "cell_type": "code",
   "execution_count": 33,
   "metadata": {},
   "outputs": [],
   "source": [
    "common_words = ['sxsw', 'mention', 'link', 'ipad', 'iphone', 'google', 'apple', '2', 'android', 'rt']\n"
   ]
  },
  {
   "cell_type": "code",
   "execution_count": 34,
   "metadata": {},
   "outputs": [],
   "source": [
    "sw.extend(common_words)"
   ]
  },
  {
   "cell_type": "code",
   "execution_count": 48,
   "metadata": {},
   "outputs": [
    {
     "data": {
      "text/html": [
       "<div>\n",
       "<style scoped>\n",
       "    .dataframe tbody tr th:only-of-type {\n",
       "        vertical-align: middle;\n",
       "    }\n",
       "\n",
       "    .dataframe tbody tr th {\n",
       "        vertical-align: top;\n",
       "    }\n",
       "\n",
       "    .dataframe thead th {\n",
       "        text-align: right;\n",
       "    }\n",
       "</style>\n",
       "<table border=\"1\" class=\"dataframe\">\n",
       "  <thead>\n",
       "    <tr style=\"text-align: right;\">\n",
       "      <th></th>\n",
       "      <th>Tweet</th>\n",
       "      <th>Product</th>\n",
       "      <th>Emotion</th>\n",
       "      <th>Text</th>\n",
       "      <th>test</th>\n",
       "      <th>company</th>\n",
       "      <th>target</th>\n",
       "    </tr>\n",
       "  </thead>\n",
       "  <tbody>\n",
       "    <tr>\n",
       "      <th>0</th>\n",
       "      <td>.@wesley83 I have a 3G iPhone. After 3 hrs twe...</td>\n",
       "      <td>iPhone</td>\n",
       "      <td>Negative emotion</td>\n",
       "      <td>[wesley83, i, have, a, 3g, iphone, after, 3, h...</td>\n",
       "      <td>iphone</td>\n",
       "      <td>apple</td>\n",
       "      <td>0</td>\n",
       "    </tr>\n",
       "    <tr>\n",
       "      <th>1</th>\n",
       "      <td>@jessedee Know about @fludapp ? Awesome iPad/i...</td>\n",
       "      <td>iPad or iPhone App</td>\n",
       "      <td>Positive emotion</td>\n",
       "      <td>[jessedee, know, about, fludapp, , awesome, ip...</td>\n",
       "      <td>ipad or iphone app</td>\n",
       "      <td>apple</td>\n",
       "      <td>2</td>\n",
       "    </tr>\n",
       "    <tr>\n",
       "      <th>2</th>\n",
       "      <td>@swonderlin Can not wait for #iPad 2 also. The...</td>\n",
       "      <td>iPad</td>\n",
       "      <td>Positive emotion</td>\n",
       "      <td>[swonderlin, can, not, wait, for, ipad, 2, als...</td>\n",
       "      <td>ipad</td>\n",
       "      <td>apple</td>\n",
       "      <td>2</td>\n",
       "    </tr>\n",
       "    <tr>\n",
       "      <th>3</th>\n",
       "      <td>@sxsw I hope this year's festival isn't as cra...</td>\n",
       "      <td>iPad or iPhone App</td>\n",
       "      <td>Negative emotion</td>\n",
       "      <td>[sxsw, i, hope, this, years, festival, isnt, a...</td>\n",
       "      <td>ipad or iphone app</td>\n",
       "      <td>apple</td>\n",
       "      <td>0</td>\n",
       "    </tr>\n",
       "    <tr>\n",
       "      <th>4</th>\n",
       "      <td>@sxtxstate great stuff on Fri #SXSW: Marissa M...</td>\n",
       "      <td>Google</td>\n",
       "      <td>Positive emotion</td>\n",
       "      <td>[sxtxstate, great, stuff, on, fri, sxsw, maris...</td>\n",
       "      <td>google</td>\n",
       "      <td>google</td>\n",
       "      <td>2</td>\n",
       "    </tr>\n",
       "    <tr>\n",
       "      <th>...</th>\n",
       "      <td>...</td>\n",
       "      <td>...</td>\n",
       "      <td>...</td>\n",
       "      <td>...</td>\n",
       "      <td>...</td>\n",
       "      <td>...</td>\n",
       "      <td>...</td>\n",
       "    </tr>\n",
       "    <tr>\n",
       "      <th>9087</th>\n",
       "      <td>@mention Yup, but I don't have a third app yet...</td>\n",
       "      <td>na</td>\n",
       "      <td>Neutral emotion</td>\n",
       "      <td>[mention, yup, but, i, dont, have, a, third, a...</td>\n",
       "      <td>android</td>\n",
       "      <td>google</td>\n",
       "      <td>1</td>\n",
       "    </tr>\n",
       "    <tr>\n",
       "      <th>9088</th>\n",
       "      <td>Ipad everywhere. #SXSW {link}</td>\n",
       "      <td>iPad</td>\n",
       "      <td>Positive emotion</td>\n",
       "      <td>[ipad, everywhere, sxsw, link]</td>\n",
       "      <td>ipad</td>\n",
       "      <td>apple</td>\n",
       "      <td>2</td>\n",
       "    </tr>\n",
       "    <tr>\n",
       "      <th>9089</th>\n",
       "      <td>Wave, buzz... RT @mention We interrupt your re...</td>\n",
       "      <td>na</td>\n",
       "      <td>Neutral emotion</td>\n",
       "      <td>[wave, buzz, rt, mention, we, interrupt, your,...</td>\n",
       "      <td>google</td>\n",
       "      <td>google</td>\n",
       "      <td>1</td>\n",
       "    </tr>\n",
       "    <tr>\n",
       "      <th>9090</th>\n",
       "      <td>Google's Zeiger, a physician never reported po...</td>\n",
       "      <td>na</td>\n",
       "      <td>Neutral emotion</td>\n",
       "      <td>[googles, zeiger, a, physician, never, reporte...</td>\n",
       "      <td>google</td>\n",
       "      <td>google</td>\n",
       "      <td>1</td>\n",
       "    </tr>\n",
       "    <tr>\n",
       "      <th>9091</th>\n",
       "      <td>Some Verizon iPhone customers complained their...</td>\n",
       "      <td>na</td>\n",
       "      <td>Neutral emotion</td>\n",
       "      <td>[some, verizon, iphone, customers, complained,...</td>\n",
       "      <td>iphone</td>\n",
       "      <td>apple</td>\n",
       "      <td>1</td>\n",
       "    </tr>\n",
       "  </tbody>\n",
       "</table>\n",
       "<p>9091 rows × 7 columns</p>\n",
       "</div>"
      ],
      "text/plain": [
       "                                                  Tweet             Product  \\\n",
       "0     .@wesley83 I have a 3G iPhone. After 3 hrs twe...              iPhone   \n",
       "1     @jessedee Know about @fludapp ? Awesome iPad/i...  iPad or iPhone App   \n",
       "2     @swonderlin Can not wait for #iPad 2 also. The...                iPad   \n",
       "3     @sxsw I hope this year's festival isn't as cra...  iPad or iPhone App   \n",
       "4     @sxtxstate great stuff on Fri #SXSW: Marissa M...              Google   \n",
       "...                                                 ...                 ...   \n",
       "9087  @mention Yup, but I don't have a third app yet...                  na   \n",
       "9088                      Ipad everywhere. #SXSW {link}                iPad   \n",
       "9089  Wave, buzz... RT @mention We interrupt your re...                  na   \n",
       "9090  Google's Zeiger, a physician never reported po...                  na   \n",
       "9091  Some Verizon iPhone customers complained their...                  na   \n",
       "\n",
       "               Emotion                                               Text  \\\n",
       "0     Negative emotion  [wesley83, i, have, a, 3g, iphone, after, 3, h...   \n",
       "1     Positive emotion  [jessedee, know, about, fludapp, , awesome, ip...   \n",
       "2     Positive emotion  [swonderlin, can, not, wait, for, ipad, 2, als...   \n",
       "3     Negative emotion  [sxsw, i, hope, this, years, festival, isnt, a...   \n",
       "4     Positive emotion  [sxtxstate, great, stuff, on, fri, sxsw, maris...   \n",
       "...                ...                                                ...   \n",
       "9087   Neutral emotion  [mention, yup, but, i, dont, have, a, third, a...   \n",
       "9088  Positive emotion                     [ipad, everywhere, sxsw, link]   \n",
       "9089   Neutral emotion  [wave, buzz, rt, mention, we, interrupt, your,...   \n",
       "9090   Neutral emotion  [googles, zeiger, a, physician, never, reporte...   \n",
       "9091   Neutral emotion  [some, verizon, iphone, customers, complained,...   \n",
       "\n",
       "                    test company  target  \n",
       "0                 iphone   apple       0  \n",
       "1     ipad or iphone app   apple       2  \n",
       "2                   ipad   apple       2  \n",
       "3     ipad or iphone app   apple       0  \n",
       "4                 google  google       2  \n",
       "...                  ...     ...     ...  \n",
       "9087             android  google       1  \n",
       "9088                ipad   apple       2  \n",
       "9089              google  google       1  \n",
       "9090              google  google       1  \n",
       "9091              iphone   apple       1  \n",
       "\n",
       "[9091 rows x 7 columns]"
      ]
     },
     "execution_count": 48,
     "metadata": {},
     "output_type": "execute_result"
    }
   ],
   "source": [
    "df[]"
   ]
  },
  {
   "cell_type": "markdown",
   "metadata": {},
   "source": [
    "## Visualizations"
   ]
  },
  {
   "cell_type": "code",
   "execution_count": 396,
   "metadata": {
    "scrolled": false
   },
   "outputs": [
    {
     "data": {
      "image/png": "[encoded data removed]",
      "text/plain": [
       "<Figure size 1080x864 with 2 Axes>"
      ]
     },
     "metadata": {},
     "output_type": "display_data"
    }
   ],
   "source": [
    "plt.figure(figsize=(15, 12))\n",
    "ax1 = plt.subplot2grid(shape=(2,5), loc = (0,0))\n",
    "ax2 = plt.subplot2grid(shape=(2,5), loc = (0,1),)\n",
    "\n",
    "sns.barplot(x = df_apple['Emotion'].value_counts().index,\n",
    "           y = df_apple['Emotion'].value_counts().values,\n",
    "           ax =ax1)\n",
    "ax1.set_xticklabels(['Neutral', 'Positive', 'Negative'])\n",
    "ax1.set_title('Apple')\n",
    "ax1.set_ylim(0,3000)\n",
    "\n",
    "sns.barplot(x = df_google['Emotion'].value_counts().index,\n",
    "           y = df_google['Emotion'].value_counts().values,\n",
    "           ax = ax2)\n",
    "ax2.set_xticklabels(['Neutral', 'Positive', 'Negative'])\n",
    "ax2.set_title('Google')\n",
    "ax2.set_ylim(0,3000)\n",
    "ax2.;"
   ]
  },
  {
   "cell_type": "code",
   "execution_count": 47,
   "metadata": {},
   "outputs": [
    {
     "data": {
      "text/plain": [
       "<AxesSubplot:>"
      ]
     },
     "execution_count": 47,
     "metadata": {},
     "output_type": "execute_result"
    },
    {
     "data": {
      "image/png": "[encoded data removed]",
      "text/plain": [
       "<Figure size 1008x864 with 1 Axes>"
      ]
     },
     "metadata": {
      "needs_background": "light"
     },
     "output_type": "display_data"
    }
   ],
   "source": [
    "plt.figure(figsize=(14,12))\n",
    "\n",
    "sns.set_style('darkgrid')\n",
    "\n",
    "sns.barplot(x = df['test'].value_counts().index,\n",
    "           y = df['test'].value_counts().values)"
   ]
  },
  {
   "cell_type": "code",
   "execution_count": 133,
   "metadata": {
    "scrolled": true
   },
   "outputs": [
    {
     "data": {
      "text/plain": [
       "<AxesSubplot:>"
      ]
     },
     "execution_count": 133,
     "metadata": {},
     "output_type": "execute_result"
    },
    {
     "data": {
      "image/png": "[encoded data removed]",
      "text/plain": [
       "<Figure size 1008x864 with 1 Axes>"
      ]
     },
     "metadata": {
      "needs_background": "light"
     },
     "output_type": "display_data"
    }
   ],
   "source": [
    "plt.figure(figsize=(14,12))\n",
    "\n",
    "sns.set_style('darkgrid')\n",
    "\n",
    "sns.barplot(x = df_pos['test'].value_counts().index,\n",
    "           y = df_pos['test'].value_counts().values)"
   ]
  },
  {
   "cell_type": "code",
   "execution_count": 134,
   "metadata": {
    "scrolled": true
   },
   "outputs": [
    {
     "data": {
      "text/plain": [
       "<AxesSubplot:>"
      ]
     },
     "execution_count": 134,
     "metadata": {},
     "output_type": "execute_result"
    },
    {
     "data": {
      "image/png": "[encoded data removed]",
      "text/plain": [
       "<Figure size 1080x864 with 1 Axes>"
      ]
     },
     "metadata": {},
     "output_type": "display_data"
    }
   ],
   "source": [
    "plt.figure(figsize=(15,12))\n",
    "\n",
    "sns.barplot(x = df_neg['test'].value_counts().index,\n",
    "           y = df_neg['test'].value_counts().values)"
   ]
  },
  {
   "cell_type": "code",
   "execution_count": 73,
   "metadata": {},
   "outputs": [
    {
     "data": {
      "text/plain": [
       "ipad                               2286\n",
       "google                             2087\n",
       "apple                              1496\n",
       "iphone                             1052\n",
       "                                    840\n",
       "ipad or iphone app                  470\n",
       "android                             379\n",
       "other google product or service     293\n",
       "android app                          81\n",
       "itunes                               64\n",
       "other apple product or service       35\n",
       "ios                                   8\n",
       "Name: test, dtype: int64"
      ]
     },
     "execution_count": 73,
     "metadata": {},
     "output_type": "execute_result"
    }
   ],
   "source": [
    "df['test'].value_counts()"
   ]
  },
  {
   "cell_type": "code",
   "execution_count": 390,
   "metadata": {
    "scrolled": true
   },
   "outputs": [
    {
     "data": {
      "image/png": "[encoded data removed]",
      "text/plain": [
       "<Figure size 864x720 with 5 Axes>"
      ]
     },
     "metadata": {},
     "output_type": "display_data"
    }
   ],
   "source": [
    "plt.figure(figsize=(12,10))\n",
    "\n",
    "ax1 = plt.subplot2grid(shape=(2,4), loc=(0,0))\n",
    "ax2 = plt.subplot2grid(shape=(2,4), loc=(0,1))\n",
    "ax3 = plt.subplot2grid(shape=(2,4), loc=(1,0))\n",
    "ax4 = plt.subplot2grid(shape=(2,4), loc=(1,1))\n",
    "ax5 = plt.subplot2grid(shape=(2,4), loc=(0,2))\n",
    "\n",
    "sns.set_palette('Set2')\n",
    "\n",
    "sns.barplot(x = df.loc[df.test == 'iphone']['target'].value_counts().index,\n",
    "               y = df.loc[df.test == 'iphone']['target'].value_counts(normalize=True),\n",
    "           ax=ax1)\n",
    "ax1.set_title('iPhone')\n",
    "ax1.set_xlabel('Sentiment')\n",
    "ax1.set_ylabel('Frequency')\n",
    "ax1.set_xticklabels(['Negative', 'Neutral', 'Positive'])\n",
    "\n",
    "sns.barplot(x = df.loc[df.test == 'ipad']['target'].value_counts().index,\n",
    "           y = df.loc[df.test == 'ipad']['target'].value_counts(normalize=True),\n",
    "           ax=ax2)\n",
    "\n",
    "\n",
    "ax2.set_title('iPad')\n",
    "ax2.set_xlabel('Sentiment')\n",
    "ax2.set_ylabel('Frequency')\n",
    "ax2.set_xticklabels(['Negative', 'Neutral', 'Positive'])\n",
    "\n",
    "sns.barplot(x = df.loc[df.test == 'ipad or iphone app']['target'].value_counts().index,\n",
    "           y = df.loc[df.test == 'ipad or iphone app']['target'].value_counts(normalize=True),\n",
    "           ax=ax3)\n",
    "\n",
    "ax3.set_title('iPad/iPhone App')\n",
    "ax3.set_xlabel('Sentiment')\n",
    "ax3.set_ylabel('Frequency')\n",
    "ax3.set_xticklabels(['Negative', 'Neutral', 'Positive'])\n",
    "\n",
    "\n",
    "sns.barplot(x = df.loc[df.test == 'other apple product or service']['target'].value_counts().index,\n",
    "           y = df.loc[df.test == 'other apple product or service']['target'].value_counts(normalize=True),\n",
    "           ax=ax4)\n",
    "\n",
    "ax4.set_title('Other apple products/services')\n",
    "ax4.set_xlabel('Sentiment')\n",
    "ax4.set_ylabel('Frequency')\n",
    "ax4.set_xticklabels(['Negative', 'Neutral', 'Positive'])\n",
    "\n",
    "plt.tight_layout()\n",
    "\n"
   ]
  },
  {
   "cell_type": "code",
   "execution_count": 121,
   "metadata": {
    "scrolled": true
   },
   "outputs": [
    {
     "data": {
      "image/png": "[encoded data removed]",
      "text/plain": [
       "<Figure size 864x720 with 4 Axes>"
      ]
     },
     "metadata": {},
     "output_type": "display_data"
    }
   ],
   "source": [
    "plt.figure(figsize=(12,10))\n",
    "\n",
    "ax1 = plt.subplot2grid(shape=(2,4), loc=(0,0))\n",
    "ax2 = plt.subplot2grid(shape=(2,4), loc=(0,1))\n",
    "ax3 = plt.subplot2grid(shape=(2,4), loc=(1,0))\n",
    "ax4 = plt.subplot2grid(shape=(2,4), loc=(1,1))\n",
    "\n",
    "sns.barplot(x = df.loc[df.test == 'android']['target'].value_counts().index,\n",
    "               y = df.loc[df.test == 'android']['target'].value_counts(normalize=True),\n",
    "           ax=ax1)\n",
    "ax1.set_title('Android')\n",
    "ax1.set_xlabel('Sentiment')\n",
    "ax1.set_ylabel('Frequency')\n",
    "ax1.set_xticklabels(['Negative', 'Neutral', 'Positive'])\n",
    "\n",
    "sns.barplot(x = df.loc[df.test == 'google']['target'].value_counts().index,\n",
    "           y = df.loc[df.test == 'google']['target'].value_counts(normalize=True),\n",
    "           ax=ax2)\n",
    "\n",
    "\n",
    "ax2.set_title('Google')\n",
    "ax2.set_xlabel('Sentiment')\n",
    "ax2.set_ylabel('Frequency')\n",
    "ax2.set_xticklabels(['Negative', 'Neutral', 'Positive'])\n",
    "\n",
    "sns.barplot(x = df.loc[df.test == 'android app']['target'].value_counts().index,\n",
    "           y = df.loc[df.test == 'android app']['target'].value_counts(normalize=True),\n",
    "           ax=ax3)\n",
    "\n",
    "ax3.set_title('Android App')\n",
    "ax3.set_xlabel('Sentiment')\n",
    "ax3.set_ylabel('Frequency')\n",
    "ax3.set_xticklabels(['Negative', 'Neutral', 'Positive'])\n",
    "\n",
    "\n",
    "sns.barplot(x = df.loc[df.test == 'other google product or service']['target'].value_counts().index,\n",
    "           y = df.loc[df.test == 'other google product or service']['target'].value_counts(normalize=True),\n",
    "           ax=ax4)\n",
    "\n",
    "ax4.set_title('Other google products/services')\n",
    "ax4.set_xlabel('Sentiment')\n",
    "ax4.set_ylabel('Frequency')\n",
    "ax4.set_xticklabels(['Negative', 'Neutral', 'Positive'])\n",
    "\n",
    "plt.tight_layout()\n"
   ]
  },
  {
   "cell_type": "code",
   "execution_count": 90,
   "metadata": {
    "scrolled": true
   },
   "outputs": [],
   "source": [
    "app = (df.loc[df.test == 'ipad or iphone app']['Text'])"
   ]
  },
  {
   "cell_type": "code",
   "execution_count": 100,
   "metadata": {
    "scrolled": true
   },
   "outputs": [],
   "source": [
    "app_words = []\n",
    "\n",
    "for list in app:\n",
    "    for word in list:\n",
    "        app_words.append(word)\n",
    "        \n"
   ]
  },
  {
   "cell_type": "code",
   "execution_count": 105,
   "metadata": {
    "scrolled": false
   },
   "outputs": [
    {
     "data": {
      "text/plain": [
       "{'sxsw': 489,\n",
       " 'mention': 397,\n",
       " 'app': 323,\n",
       " 'iphone': 288,\n",
       " 'the': 265,\n",
       " 'for': 249,\n",
       " 'link': 227,\n",
       " 'to': 187,\n",
       " '': 165,\n",
       " 'rt': 155,\n",
       " 'ipad': 152,\n",
       " 'at': 113,\n",
       " 'is': 111,\n",
       " 'on': 101,\n",
       " 'new': 97,\n",
       " 'of': 95,\n",
       " 'and': 86,\n",
       " 'a': 84,\n",
       " 'apps': 77,\n",
       " 'in': 73,\n",
       " 'it': 67,\n",
       " 'you': 62,\n",
       " 'my': 55,\n",
       " 'with': 50,\n",
       " 'just': 49,\n",
       " 'this': 46,\n",
       " 'out': 45,\n",
       " 'now': 44,\n",
       " 'i': 42,\n",
       " 'by': 41,\n",
       " 'free': 39,\n",
       " 'get': 39,\n",
       " 'amp': 39,\n",
       " 'our': 36,\n",
       " 'your': 36,\n",
       " 'an': 36,\n",
       " 'austin': 35,\n",
       " 'awesome': 33,\n",
       " 'time': 32,\n",
       " 'that': 31,\n",
       " 'store': 31,\n",
       " 'its': 30,\n",
       " 'have': 30,\n",
       " 'all': 27,\n",
       " 'check': 26,\n",
       " 'download': 26,\n",
       " 'has': 26,\n",
       " 'from': 25,\n",
       " 'be': 25,\n",
       " 'about': 23,\n",
       " 'hollergram': 23,\n",
       " 'android': 23,\n",
       " 'sxswi': 23,\n",
       " 'like': 22,\n",
       " 'cool': 22,\n",
       " 'up': 22,\n",
       " 'as': 21,\n",
       " 'or': 21,\n",
       " 'via': 20,\n",
       " 'if': 20,\n",
       " 'can': 20,\n",
       " 'are': 19,\n",
       " 'game': 19,\n",
       " 'live': 19,\n",
       " 'but': 19,\n",
       " 'good': 19,\n",
       " 'great': 18,\n",
       " 'today': 18,\n",
       " 'video': 17,\n",
       " 'there': 17,\n",
       " 'ubersocial': 17,\n",
       " 'includes': 17,\n",
       " 'uberguide': 17,\n",
       " 'we': 16,\n",
       " 'not': 16,\n",
       " 'news': 16,\n",
       " 'also': 15,\n",
       " 'people': 15,\n",
       " 'going': 15,\n",
       " 'one': 15,\n",
       " 'im': 15,\n",
       " 'nice': 14,\n",
       " 'very': 14,\n",
       " 'available': 14,\n",
       " 'so': 14,\n",
       " 'go': 14,\n",
       " 'guide': 14,\n",
       " 'see': 13,\n",
       " 'holler': 12,\n",
       " 'gram': 12,\n",
       " 'thanks': 12,\n",
       " 'want': 12,\n",
       " 'mobile': 12,\n",
       " 'need': 12,\n",
       " 'their': 12,\n",
       " 'song': 12,\n",
       " 'sponsored': 12,\n",
       " 'amazing': 12,\n",
       " 'updated': 12,\n",
       " 'design': 11,\n",
       " 'really': 11,\n",
       " 'apple': 11,\n",
       " 'me': 11,\n",
       " 'w': 11,\n",
       " 'hot': 11,\n",
       " 'way': 11,\n",
       " '2011': 11,\n",
       " 'day': 11,\n",
       " 'discovr': 11,\n",
       " 'music': 11,\n",
       " 'info': 11,\n",
       " 'will': 11,\n",
       " 'use': 10,\n",
       " 'youre': 10,\n",
       " 'more': 10,\n",
       " 'what': 10,\n",
       " 'was': 10,\n",
       " '247': 10,\n",
       " 'streaming': 10,\n",
       " 'heading': 10,\n",
       " 'know': 9,\n",
       " 'update': 9,\n",
       " 'no': 9,\n",
       " 'ready': 9,\n",
       " '2': 9,\n",
       " 'coming': 9,\n",
       " 'last': 9,\n",
       " 'launched': 9,\n",
       " 'hey': 9,\n",
       " 'week': 9,\n",
       " 'fun': 9,\n",
       " 'they': 9,\n",
       " 'would': 9,\n",
       " 'haha': 8,\n",
       " 'ûïmention': 8,\n",
       " 'dont': 8,\n",
       " 'share': 8,\n",
       " 'mashable': 8,\n",
       " 'bbq': 8,\n",
       " 'fast': 8,\n",
       " 'lp': 8,\n",
       " 'content': 8,\n",
       " 'web': 8,\n",
       " 'getting': 8,\n",
       " 'these': 8,\n",
       " 'keep': 8,\n",
       " 'madebymany': 7,\n",
       " 'rad': 7,\n",
       " 'which': 7,\n",
       " 'looks': 7,\n",
       " 'makes': 7,\n",
       " 'social': 7,\n",
       " 'meet': 7,\n",
       " 'u': 7,\n",
       " 'interactive': 7,\n",
       " 'any': 7,\n",
       " 'some': 7,\n",
       " 'well': 7,\n",
       " 'using': 7,\n",
       " 'users': 7,\n",
       " 'next': 7,\n",
       " '10': 7,\n",
       " 'during': 7,\n",
       " 'cant': 7,\n",
       " 'us': 7,\n",
       " 'first': 7,\n",
       " 'come': 7,\n",
       " 'had': 7,\n",
       " 'think': 7,\n",
       " 'itunes': 7,\n",
       " 'while': 7,\n",
       " 'got': 7,\n",
       " 'made': 7,\n",
       " 'building': 7,\n",
       " 'session': 7,\n",
       " 'ill': 7,\n",
       " 'love': 7,\n",
       " 'flipboard': 7,\n",
       " 'ipadiphone': 6,\n",
       " 'festival': 6,\n",
       " 'smart': 6,\n",
       " 'wrote': 6,\n",
       " 'awesomely': 6,\n",
       " 'must': 6,\n",
       " 'rock': 6,\n",
       " 'were': 6,\n",
       " 'testing': 6,\n",
       " 'book': 6,\n",
       " 'make': 6,\n",
       " 'yes': 6,\n",
       " 'year': 6,\n",
       " 'been': 6,\n",
       " 'find': 6,\n",
       " 'tv': 6,\n",
       " 'how': 6,\n",
       " 'novelty': 6,\n",
       " 'fades': 6,\n",
       " 'among': 6,\n",
       " 'delegates': 6,\n",
       " 'saw': 6,\n",
       " 'early': 6,\n",
       " 'cnn': 6,\n",
       " 'photos': 6,\n",
       " 'notes': 6,\n",
       " 'netflix': 6,\n",
       " 'best': 6,\n",
       " 'showing': 6,\n",
       " 'version': 6,\n",
       " 'site': 6,\n",
       " 'others': 6,\n",
       " 'whats': 6,\n",
       " 'stream': 6,\n",
       " 'years': 5,\n",
       " 'idea': 5,\n",
       " 'downloaded': 5,\n",
       " 'events': 5,\n",
       " 'than': 5,\n",
       " 'should': 5,\n",
       " 'may': 5,\n",
       " 'crashes': 5,\n",
       " 'speech': 5,\n",
       " 'showcased': 5,\n",
       " 'conf': 5,\n",
       " 'after': 5,\n",
       " 'here': 5,\n",
       " 'when': 5,\n",
       " 'schedule': 5,\n",
       " 'still': 5,\n",
       " 'connected': 5,\n",
       " 'platform': 5,\n",
       " 'twitter': 5,\n",
       " 'official': 5,\n",
       " 'does': 5,\n",
       " 'newsapps': 5,\n",
       " 'congrats': 5,\n",
       " 'pretty': 5,\n",
       " 'whrrl': 5,\n",
       " 'used': 5,\n",
       " 'digital': 5,\n",
       " 'cont': 5,\n",
       " 'travel': 5,\n",
       " 'demo': 5,\n",
       " 'latest': 5,\n",
       " 'job': 5,\n",
       " 'doesnt': 5,\n",
       " 'center': 5,\n",
       " 'fam': 5,\n",
       " 'updates': 5,\n",
       " 'interesting': 5,\n",
       " 'foursquare': 5,\n",
       " '4': 5,\n",
       " 'presentation': 5,\n",
       " 'youll': 4,\n",
       " 'hope': 4,\n",
       " 'simple': 4,\n",
       " 'done': 4,\n",
       " 'easier': 4,\n",
       " 'photo': 4,\n",
       " 'tonight': 4,\n",
       " 'leave': 4,\n",
       " 'home': 4,\n",
       " 's': 4,\n",
       " 'post': 4,\n",
       " 'being': 4,\n",
       " 'talk': 4,\n",
       " 'beta': 4,\n",
       " 'moonbot': 4,\n",
       " 'studios': 4,\n",
       " 'louisiana': 4,\n",
       " 'do': 4,\n",
       " 'found': 4,\n",
       " 'geolocation': 4,\n",
       " 'working': 4,\n",
       " 'code': 4,\n",
       " 'beyond': 4,\n",
       " 'hello': 4,\n",
       " 'sure': 4,\n",
       " 'explorer': 4,\n",
       " 'blackberry': 4,\n",
       " 'ive': 4,\n",
       " 'daily': 4,\n",
       " 'grape': 4,\n",
       " 'eats': 4,\n",
       " 'marketplace': 4,\n",
       " 'gsdm': 4,\n",
       " 'w00t': 4,\n",
       " 'pubcamp': 4,\n",
       " 'before': 4,\n",
       " 'march': 4,\n",
       " '915': 4,\n",
       " 'help': 4,\n",
       " 'city': 4,\n",
       " 'nyt': 4,\n",
       " 'iphoneipad': 4,\n",
       " 'party': 4,\n",
       " 'his': 4,\n",
       " 'happy': 4,\n",
       " 'work': 4,\n",
       " 'ûó': 4,\n",
       " 'convention': 4,\n",
       " 'too': 4,\n",
       " 'tell': 4,\n",
       " 'same': 4,\n",
       " 'grooving': 4,\n",
       " 'other': 4,\n",
       " 'released': 4,\n",
       " 'around': 4,\n",
       " 'playing': 4,\n",
       " 'wow': 4,\n",
       " 'big': 4,\n",
       " 'market': 4,\n",
       " 'every': 4,\n",
       " 'lot': 4,\n",
       " 'therapy': 4,\n",
       " 'communication': 4,\n",
       " 'track': 4,\n",
       " 'quotheres': 4,\n",
       " 'better': 4,\n",
       " 'appreciate': 3,\n",
       " 'theyre': 3,\n",
       " 'isnt': 3,\n",
       " 'added': 3,\n",
       " 'flights': 3,\n",
       " 'nicely': 3,\n",
       " 'lovely': 3,\n",
       " 'oh': 3,\n",
       " 'pure': 3,\n",
       " 'installed': 3,\n",
       " 'vuvuzela': 3,\n",
       " 'ipad2': 3,\n",
       " 'ridiculous': 3,\n",
       " 'did': 3,\n",
       " 'sync': 3,\n",
       " 'ur': 3,\n",
       " '3': 3,\n",
       " 'south': 3,\n",
       " 'southwest': 3,\n",
       " 'groupme': 3,\n",
       " 'yet': 3,\n",
       " '5': 3,\n",
       " 'iphones': 3,\n",
       " 'batterykiller': 3,\n",
       " 'phone': 3,\n",
       " 'release': 3,\n",
       " 'qr': 3,\n",
       " 'tweet': 3,\n",
       " 'sharing': 3,\n",
       " 'googletv': 3,\n",
       " 'experience': 3,\n",
       " 'connectedtv': 3,\n",
       " 'into': 3,\n",
       " 'messaging': 3,\n",
       " 'built': 3,\n",
       " 'long': 3,\n",
       " 'community': 3,\n",
       " 'location': 3,\n",
       " 'texas': 3,\n",
       " 'wine': 3,\n",
       " 'dokobots': 3,\n",
       " 'most': 3,\n",
       " 'example': 3,\n",
       " 'navigation': 3,\n",
       " 'didnt': 3,\n",
       " 'learning': 3,\n",
       " 'sxswmobileapps': 3,\n",
       " 'hootsuite': 3,\n",
       " 'tried': 3,\n",
       " 'yall': 3,\n",
       " 'agree': 3,\n",
       " 'killing': 3,\n",
       " 'plan': 3,\n",
       " 'plus': 3,\n",
       " 'hard': 3,\n",
       " 'beat': 3,\n",
       " '15k': 3,\n",
       " 'featured': 3,\n",
       " 'google': 3,\n",
       " 'food': 3,\n",
       " 'half': 3,\n",
       " 'panel': 3,\n",
       " 'film': 3,\n",
       " 'filmaster': 3,\n",
       " 'sense': 3,\n",
       " 'lonely': 3,\n",
       " 'enough': 3,\n",
       " 'bank': 3,\n",
       " 'america': 3,\n",
       " 'customers': 3,\n",
       " 'deleting': 3,\n",
       " 'impressed': 3,\n",
       " 'why': 3,\n",
       " 'ask': 3,\n",
       " 'native': 3,\n",
       " 'airports': 3,\n",
       " 'many': 3,\n",
       " 'musthave': 3,\n",
       " 'quotmistakes': 3,\n",
       " 'iphonequot': 3,\n",
       " 'mistakes': 3,\n",
       " 'put': 3,\n",
       " 'open': 3,\n",
       " 'sweet': 3,\n",
       " 'installing': 3,\n",
       " 'called': 3,\n",
       " 'heatmap': 3,\n",
       " 'incl': 3,\n",
       " 'guess': 3,\n",
       " 'sessions': 3,\n",
       " 'magic': 3,\n",
       " 'folks': 3,\n",
       " 'mike': 3,\n",
       " 'totally': 3,\n",
       " 'month': 3,\n",
       " 'eventseekr': 3,\n",
       " 'making': 3,\n",
       " 'instead': 3,\n",
       " 'group': 3,\n",
       " 'person': 3,\n",
       " 'checking': 3,\n",
       " 'fave': 3,\n",
       " 'pick': 3,\n",
       " 'everything': 3,\n",
       " 'dear': 3,\n",
       " 'own': 3,\n",
       " 'look': 3,\n",
       " 'sxflip': 3,\n",
       " 'feature': 3,\n",
       " 'show': 3,\n",
       " 'outside': 3,\n",
       " 'conference': 3,\n",
       " 'ones': 3,\n",
       " 'limited': 3,\n",
       " 'word': 3,\n",
       " 'survive': 3,\n",
       " 'join': 3,\n",
       " 'moma': 3,\n",
       " 'examples': 3,\n",
       " 'launches': 3,\n",
       " 'tyson': 3,\n",
       " 'papa': 3,\n",
       " 'sangre': 3,\n",
       " 'screen': 3,\n",
       " 'only': 3,\n",
       " 'fight': 3,\n",
       " 'npr': 3,\n",
       " 'songs': 3,\n",
       " 'developed': 3,\n",
       " 'likely': 2,\n",
       " 'giving': 2,\n",
       " 'ts': 2,\n",
       " 'crashy': 2,\n",
       " 'beautifully': 2,\n",
       " 'httpbitlyhtdfim': 2,\n",
       " 'matching': 2,\n",
       " 'planesairports': 2,\n",
       " 'review': 2,\n",
       " 'forbes': 2,\n",
       " 'god': 2,\n",
       " 'unadulterated': 2,\n",
       " 'browse': 2,\n",
       " 'website': 2,\n",
       " 'easy': 2,\n",
       " 'connect': 2,\n",
       " 'networks': 2,\n",
       " 'behaving': 2,\n",
       " 'yesterday': 2,\n",
       " 'her': 2,\n",
       " 'sxswh': 2,\n",
       " 'sxsh': 2,\n",
       " 'together': 2,\n",
       " 'appû': 2,\n",
       " 'lost': 2,\n",
       " 'schedules': 2,\n",
       " 'etc': 2,\n",
       " 'hobo': 2,\n",
       " 'shotgun': 2,\n",
       " 'days': 2,\n",
       " 'kyping': 2,\n",
       " 'releasing': 2,\n",
       " 'background': 2,\n",
       " 'patch': 2,\n",
       " 'youûªll': 2,\n",
       " 'probably': 2,\n",
       " 'login': 2,\n",
       " 'rtmention': 2,\n",
       " 'reader': 2,\n",
       " 'image': 2,\n",
       " 'hour': 2,\n",
       " 'positive': 2,\n",
       " 'actions': 2,\n",
       " 'world': 2,\n",
       " 'earthhour': 2,\n",
       " 'am': 2,\n",
       " 'hitlantis': 2,\n",
       " 'hitlantiscom': 2,\n",
       " 'musicviz': 2,\n",
       " 'sxsw\\nlink': 2,\n",
       " 'fascinating': 2,\n",
       " 'turn': 2,\n",
       " 'physical': 2,\n",
       " 'cheeky': 2,\n",
       " 'worst': 2,\n",
       " 'learn': 2,\n",
       " 'usguys': 2,\n",
       " 'couple': 2,\n",
       " 'dev': 2,\n",
       " 'behind': 2,\n",
       " 'facebook': 2,\n",
       " 'say': 2,\n",
       " 'retiring': 2,\n",
       " 'library': 2,\n",
       " 'moving': 2,\n",
       " 'onto': 2,\n",
       " 'yr': 2,\n",
       " 'thankyouecon': 2,\n",
       " 'seems': 2,\n",
       " 'geogames': 2,\n",
       " 'tmsxsw': 2,\n",
       " 'gonna': 2,\n",
       " 'hashable': 2,\n",
       " 'droid': 2,\n",
       " 'mintcom': 2,\n",
       " 'versions': 2,\n",
       " 'finally': 2,\n",
       " 'sxswquot': 2,\n",
       " 'device': 2,\n",
       " 'bigger': 2,\n",
       " 'anyone': 2,\n",
       " 'play': 2,\n",
       " 'kirkus': 2,\n",
       " 'qrank': 2,\n",
       " 'prizes': 2,\n",
       " 'those': 2,\n",
       " 'lt': 2,\n",
       " 'says': 2,\n",
       " 'ap': 2,\n",
       " 'restaurant': 2,\n",
       " 'maps': 2,\n",
       " 'beluga': 2,\n",
       " 'highlight': 2,\n",
       " 'excellent': 2,\n",
       " 'coordinate': 2,\n",
       " 'sxsw4japan': 2,\n",
       " 'relief': 2,\n",
       " 'effort': 2,\n",
       " 'preview': 2,\n",
       " 'card': 2,\n",
       " 'soon': 2,\n",
       " 'each': 2,\n",
       " 'dawns': 2,\n",
       " 'prep': 2,\n",
       " 'sxswsters': 2,\n",
       " 'scheduling': 2,\n",
       " 'lonelyplanet': 2,\n",
       " 'planet': 2,\n",
       " 'releases': 2,\n",
       " 'arent': 2,\n",
       " 'cluttering': 2,\n",
       " 'handset': 2,\n",
       " '250k': 2,\n",
       " 'bankinnovation': 2,\n",
       " 'wont': 2,\n",
       " 'stop': 2,\n",
       " 'tools': 2,\n",
       " 'developers': 2,\n",
       " 'article': 2,\n",
       " 'bringing': 2,\n",
       " 'spins': 2,\n",
       " 'tons': 2,\n",
       " 'videos': 2,\n",
       " 'whatcha': 2,\n",
       " 'kill': 2,\n",
       " 'putting': 2,\n",
       " 'apples': 2,\n",
       " 'everyone': 2,\n",
       " 'buy': 2,\n",
       " 'bands': 2,\n",
       " 'always': 2,\n",
       " 'stay': 2,\n",
       " 'switch': 2,\n",
       " 'far': 2,\n",
       " 'talked': 2,\n",
       " 'guys': 2,\n",
       " 'mapquest': 2,\n",
       " 'turnbyturn': 2,\n",
       " 'gps': 2,\n",
       " 'reacquainted': 2,\n",
       " 'mq': 2,\n",
       " 'ahead': 2,\n",
       " 'take': 2,\n",
       " 'hipstamatic': 2,\n",
       " 'actually': 2,\n",
       " 'control': 2,\n",
       " 'loving': 2,\n",
       " 'suggestions': 2,\n",
       " 'nextflix': 2,\n",
       " 'lbs': 2,\n",
       " 'super': 2,\n",
       " 'sxsw11': 2,\n",
       " 'yo': 2,\n",
       " 'woot': 2,\n",
       " 'over': 2,\n",
       " 'both': 2,\n",
       " 'where': 2,\n",
       " 'block': 2,\n",
       " 'wait': 2,\n",
       " '4sq': 2,\n",
       " 'select': 2,\n",
       " 'streams': 2,\n",
       " 'few': 2,\n",
       " 'fail': 2,\n",
       " 'ballroom': 2,\n",
       " 'potential': 2,\n",
       " 'tysons': 2,\n",
       " 'aron': 2,\n",
       " 'pilhofer': 2,\n",
       " 'khoi': 2,\n",
       " 'vinh': 2,\n",
       " 'media': 2,\n",
       " 'off': 2,\n",
       " 'tapworthy': 2,\n",
       " 'wordpress': 2,\n",
       " 'midem': 2,\n",
       " 'climbing': 2,\n",
       " 'charts': 2,\n",
       " 'started': 2,\n",
       " 'away': 2,\n",
       " 'wish': 2,\n",
       " 'wooooo': 2,\n",
       " 'features': 2,\n",
       " 'friends': 2,\n",
       " 'amigos': 2,\n",
       " 'change': 2,\n",
       " 'broadcastr': 2,\n",
       " 'bestappever': 2,\n",
       " 'foodspotting': 2,\n",
       " 'finding': 2,\n",
       " 'wins': 2,\n",
       " 'perfect': 2,\n",
       " 'unreal': 2,\n",
       " 'clicked': 2,\n",
       " 'leanstartup': 2,\n",
       " 'seats': 2,\n",
       " 'panned': 2,\n",
       " 'trumping': 2,\n",
       " 'rightfully': 2,\n",
       " 'looking': 2,\n",
       " 'hanging': 2,\n",
       " 'blue': 2,\n",
       " 'down': 2,\n",
       " 'planning': 2,\n",
       " 'excited': 2,\n",
       " 'kinda': 2,\n",
       " 'lax': 2,\n",
       " 'wife': 2,\n",
       " 'freespeech': 2,\n",
       " 'designing': 2,\n",
       " 'sounds': 2,\n",
       " 'detail': 2,\n",
       " 'bomb': 2,\n",
       " 'heat': 2,\n",
       " 'tracker': 2,\n",
       " 'overlay': 2,\n",
       " 'fire': 2,\n",
       " 'event': 2,\n",
       " 'playhopskoch': 2,\n",
       " 'special': 2,\n",
       " 'error': 2,\n",
       " 'yay': 2,\n",
       " 'blog': 2,\n",
       " 'bet': 2,\n",
       " 'theres': 2,\n",
       " 'nerds': 2,\n",
       " 'light': 2,\n",
       " 'saber': 2,\n",
       " 'barroom': 2,\n",
       " 'brawls': 2,\n",
       " 'fists': 2,\n",
       " 'tron': 2,\n",
       " 'syncs': 2,\n",
       " 'ireport': 2,\n",
       " 'through': 2,\n",
       " 'vufinders': 2,\n",
       " '3x': 2,\n",
       " 'speedup': 2,\n",
       " 'object': 2,\n",
       " 'tagging': 2,\n",
       " 'hours': 2,\n",
       " 'domo': 2,\n",
       " 'three': 2,\n",
       " 'weve': 2,\n",
       " 'seen': 2,\n",
       " 'hcsm': 2,\n",
       " 'pages': 2,\n",
       " 'meeting': 2,\n",
       " 'night': 2,\n",
       " 'hopefully': 2,\n",
       " 'line': 2,\n",
       " 'broadfeed': 2,\n",
       " 'later': 2,\n",
       " 'sxswbarcrawl': 2,\n",
       " 'luck': 2,\n",
       " 'interfaces': 2,\n",
       " 'demonstrates': 2,\n",
       " 'pause': 2,\n",
       " 'player': 2,\n",
       " 'spot': 2,\n",
       " 'epicurious': 2,\n",
       " 'wired': 2,\n",
       " 'integration': 2,\n",
       " 'vmware': 2,\n",
       " 'talent': 2,\n",
       " 'rockin': 2,\n",
       " 'signing': 2,\n",
       " 'talented': 2,\n",
       " 'professionals': 2,\n",
       " 'helping': 2,\n",
       " 'clean': 2,\n",
       " 'organize': 2,\n",
       " 'newscontent': 2,\n",
       " 'owners': 2,\n",
       " 'jonathan': 2,\n",
       " 'zaggle': 2,\n",
       " 'showed': 2,\n",
       " 'texting': 2,\n",
       " 'zms': 2,\n",
       " 'v': 2,\n",
       " 'serve': 2,\n",
       " 'readershipquot': 2,\n",
       " 'opportunity': 2,\n",
       " 'ignorequot': 2,\n",
       " 'nerdbird': 2,\n",
       " 'airport': 2,\n",
       " 'walmart': 2,\n",
       " 'immersive': 2,\n",
       " 'audio': 2,\n",
       " 'highly': 2,\n",
       " 'recommended': 2,\n",
       " 'papasangre': 2,\n",
       " 'qrafter': 2,\n",
       " 'paid': 2,\n",
       " 'because': 2,\n",
       " 'scan': 2,\n",
       " 'vcards': 2,\n",
       " 'them': 2,\n",
       " 'qrcode': 2,\n",
       " 'lets': 2,\n",
       " 'd': 2,\n",
       " 'concept': 2,\n",
       " 'follow': 2,\n",
       " 'named': 2,\n",
       " 'top': 2,\n",
       " 'ten': 2,\n",
       " 'thru': 2,\n",
       " 'queue': 2,\n",
       " 'motherboard': 2,\n",
       " 'miss': 2,\n",
       " 'taking': 2,\n",
       " 'pm': 2,\n",
       " 'wanted': 2,\n",
       " 'parties': 2,\n",
       " 'tweeps': 2,\n",
       " 'industry': 2,\n",
       " 'calendar': 2,\n",
       " 'ical': 2,\n",
       " 'goin': 2,\n",
       " 'woohoo': 2,\n",
       " 'right': 2,\n",
       " 'jessedee': 1,\n",
       " 'fludapp': 1,\n",
       " 'thenextweb': 1,\n",
       " 'httpbitlyieavob': 1,\n",
       " 'httptinyurlcom4nqv92l': 1,\n",
       " 'planely': 1,\n",
       " 'klm': 1,\n",
       " 'malbonster': 1,\n",
       " 'httptcog4gzypv': 1,\n",
       " 'httptumblrcomx6t1pi6av7': 1,\n",
       " 'michaelpiliero': 1,\n",
       " '4sq3': 1,\n",
       " 'push': 1,\n",
       " 'httpbitlyetsbzk': 1,\n",
       " 'keepaustinweird': 1,\n",
       " 'httptcoa3xvwc6': 1,\n",
       " 'httpitunesapplecomusapphollergramid420666439mt8': 1,\n",
       " 'ûsmartcoverûª': 1,\n",
       " 'opens': 1,\n",
       " 'instant': 1,\n",
       " 'access': 1,\n",
       " 'waited': 1,\n",
       " 'christian': 1,\n",
       " 'devs': 1,\n",
       " 'maybe': 1,\n",
       " 'wk': 1,\n",
       " 'seriously': 1,\n",
       " 'constant': 1,\n",
       " 'causing': 1,\n",
       " 'wp7': 1,\n",
       " 'blogging': 1,\n",
       " 'caruse': 1,\n",
       " 'zimride': 1,\n",
       " 'rides': 1,\n",
       " 'shareable': 1,\n",
       " 'please': 1,\n",
       " 'read': 1,\n",
       " 'sxswsounds': 1,\n",
       " 'incredible': 1,\n",
       " 'phones': 1,\n",
       " 'personal': 1,\n",
       " 'planner': 1,\n",
       " 'rsvp': 1,\n",
       " 'sundayswaggereventbritecom': 1,\n",
       " '320': 1,\n",
       " 'scoremore': 1,\n",
       " 'software': 1,\n",
       " 'development': 1,\n",
       " 'once': 1,\n",
       " 'start': 1,\n",
       " 'arrived': 1,\n",
       " 'issue': 1,\n",
       " 'hasnt': 1,\n",
       " 'resolved': 1,\n",
       " 'dying': 1,\n",
       " 'attendees': 1,\n",
       " 'badge': 1,\n",
       " 'optiscan': 1,\n",
       " 'earth': 1,\n",
       " '60': 1,\n",
       " 'rsqs': 1,\n",
       " 'certain': 1,\n",
       " 'meetings': 1,\n",
       " 'locations': 1,\n",
       " 'fantastic': 1,\n",
       " 'bummer': 1,\n",
       " 'crackberry': 1,\n",
       " 'windows': 1,\n",
       " '7': 1,\n",
       " 'addition': 1,\n",
       " 'hawk': 1,\n",
       " 'popup': 1,\n",
       " 'gold': 1,\n",
       " 'mocking': 1,\n",
       " 'money': 1,\n",
       " 'flypost': 1,\n",
       " 'bulletin': 1,\n",
       " 'board': 1,\n",
       " 'disliking': 1,\n",
       " 'auto': 1,\n",
       " 'shortening': 1,\n",
       " 'links': 1,\n",
       " 'gotta': 1,\n",
       " 'taariq': 1,\n",
       " 'howdy': 1,\n",
       " 'fav': 1,\n",
       " 'ltandroidor': 1,\n",
       " 'blogs': 1,\n",
       " 'random': 1,\n",
       " 'tips': 1,\n",
       " 'politics': 1,\n",
       " 'html5': 1,\n",
       " 'ûsxsw': 1,\n",
       " 'goûª': 1,\n",
       " 'ipadû': 1,\n",
       " 'ltthanksinstalled': 1,\n",
       " 'dexteria': 1,\n",
       " 'peeps': 1,\n",
       " 'voicefeed': 1,\n",
       " 'let': 1,\n",
       " 'left': 1,\n",
       " 'pocket': 1,\n",
       " 'hotel': 1,\n",
       " 'cope': 1,\n",
       " 'usability': 1,\n",
       " 'reveals': 1,\n",
       " 'average': 1,\n",
       " 'spent': 1,\n",
       " 'nyts': 1,\n",
       " 'oscars': 1,\n",
       " '16mins': 1,\n",
       " 'quotthat': 1,\n",
       " 'blew': 1,\n",
       " 'mindquot': 1,\n",
       " 'dangerous': 1,\n",
       " 'ipoo': 1,\n",
       " 'ha': 1,\n",
       " '4chan': 1,\n",
       " 'internets': 1,\n",
       " 'bathroom': 1,\n",
       " 'wall': 1,\n",
       " 'sxswmoot': 1,\n",
       " 'huge': 1,\n",
       " 'sxswû': 1,\n",
       " 'uxdes': 1,\n",
       " 'resourceful': 1,\n",
       " 'confines': 1,\n",
       " 'coding': 1,\n",
       " 'luxury': 1,\n",
       " 'worry': 1,\n",
       " 'diff': 1,\n",
       " 'xipad': 1,\n",
       " 'bout': 1,\n",
       " 'shite': 1,\n",
       " 'sponsoû_': 1,\n",
       " 'yeaayyy': 1,\n",
       " 'goodguide': 1,\n",
       " 'scans': 1,\n",
       " 'barcode': 1,\n",
       " 'rank': 1,\n",
       " 'environmental': 1,\n",
       " 'responsibility': 1,\n",
       " 'companynice': 1,\n",
       " 'pressuresmmnextgen': 1,\n",
       " 'hmmcant': 1,\n",
       " 'searches': 1,\n",
       " 'tweetdeck': 1,\n",
       " 'cnnmoney': 1,\n",
       " 'computing': 1,\n",
       " 'passì': 1,\n",
       " 'space': 1,\n",
       " 'buzz': 1,\n",
       " 'wssxsw': 1,\n",
       " 'beautiful': 1,\n",
       " 'ps': 1,\n",
       " 'tvontheradio': 1,\n",
       " 'tix': 1,\n",
       " 'quotiphone': 1,\n",
       " 'mealtimequot': 1,\n",
       " 'bizzy': 1,\n",
       " 'dialy': 1,\n",
       " 'thankyou': 1,\n",
       " 'yeay': 1,\n",
       " 'masha': 1,\n",
       " 'applauds': 1,\n",
       " 'tis': 1,\n",
       " 'covered': 1,\n",
       " 'sauce': 1,\n",
       " 'forget': 1,\n",
       " 'bored': 1,\n",
       " 'try': 1,\n",
       " 'quothighquality': 1,\n",
       " 'pdfquot': 1,\n",
       " 'investment': 1,\n",
       " 'small': 1,\n",
       " 'mags': 1,\n",
       " 'chris': 1,\n",
       " 'tomlinson': 1,\n",
       " 'formerly': 1,\n",
       " 'obs': 1,\n",
       " 'setup': 1,\n",
       " 'page': 1,\n",
       " 'sign': 1,\n",
       " 'hi': 1,\n",
       " 'works': 1,\n",
       " 'pushed': 1,\n",
       " 'paperless': 1,\n",
       " 'biz': 1,\n",
       " 'solution': 1,\n",
       " 'related': 1,\n",
       " 'rm': 1,\n",
       " 'lovefresh': 1,\n",
       " 'writer': 1,\n",
       " 'saved': 1,\n",
       " 'ass': 1,\n",
       " 'flight': 1,\n",
       " 'checkin': 1,\n",
       " 'screenings': 1,\n",
       " 'private': 1,\n",
       " 'recommendations': 1,\n",
       " 'limit': 1,\n",
       " 'specific': 1,\n",
       " 'interview': 1,\n",
       " '9': 1,\n",
       " 'essential': 1,\n",
       " 'underwire': 1,\n",
       " 'wiredcom': 1,\n",
       " 'socialmedia': 1,\n",
       " 'flummoxed': 1,\n",
       " 'godsend': 1,\n",
       " 'gpsaware': 1,\n",
       " 'map': 1,\n",
       " 'without': 1,\n",
       " '3g': 1,\n",
       " 'wifi': 1,\n",
       " 'planets': 1,\n",
       " 'loading': 1,\n",
       " 'draining': 1,\n",
       " 'power': 1,\n",
       " 'x': 1,\n",
       " 'cancel': 1,\n",
       " 'evaporation': 1,\n",
       " 'business': 1,\n",
       " 'model': 1,\n",
       " 'approves': 1,\n",
       " 'irelay': 1,\n",
       " 'network': 1,\n",
       " 'square': 1,\n",
       " 'credit': 1,\n",
       " 'amazingly': 1,\n",
       " 'such': 1,\n",
       " 'important': 1,\n",
       " ...}"
      ]
     },
     "execution_count": 105,
     "metadata": {},
     "output_type": "execute_result"
    }
   ],
   "source": [
    "app_words_c = Counter(app_words)\n",
    "dict(sorted(app_words_c.items(), key=lambda item: item[1], reverse=True))"
   ]
  },
  {
   "cell_type": "code",
   "execution_count": 177,
   "metadata": {},
   "outputs": [],
   "source": [
    "def metrics(y_true,y_preds):\n",
    "    '''Gives recall,precision,accuracy,F1 score and confusion matrix'''\n",
    "    return print(f'''Recall Score: {recall_score(y_true,y_preds,average='micro')}\n",
    "Precision Score: {precision_score(y_true,y_preds,average='micro')}\n",
    "Accuracy Score:{accuracy_score(y_true,y_preds)}\n",
    "F1 Score: {f1_score(y_true,y_preds,average='micro')}\n",
    "Confusion Matrix: \n",
    "{confusion_matrix(y_true,y_preds)}''')\n",
    "def mean_scores(results):\n",
    "    '''Return Train/Test Mean Score from a Cross Val'''\n",
    "    return print(f'''Mean Train Score: {results['train_score'].mean()}\n",
    "Mean Test Score: {results['test_score'].mean()}''')"
   ]
  },
  {
   "cell_type": "markdown",
   "metadata": {},
   "source": [
    "#### Models with tokenized tweets"
   ]
  },
  {
   "cell_type": "code",
   "execution_count": 190,
   "metadata": {},
   "outputs": [],
   "source": [
    "from sklearn.model_selection import train_test_split\n",
    "from sklearn.ensemble import RandomForestClassifier\n",
    "from sklearn.naive_bayes import MultinomialNB\n",
    "from sklearn.model_selection import train_test_split , cross_validate , GridSearchCV, cross_val_predict\n",
    "from sklearn.linear_model import LogisticRegression\n",
    "from sklearn.svm import SVC"
   ]
  },
  {
   "cell_type": "code",
   "execution_count": 162,
   "metadata": {},
   "outputs": [],
   "source": [
    "df_test = df.drop(['Product', 'Emotion', 'company'], axis=1)"
   ]
  },
  {
   "cell_type": "code",
   "execution_count": 214,
   "metadata": {},
   "outputs": [],
   "source": [
    "X = df_test['clean_tweet'].str.join(' ')\n",
    "y = df_test.target\n"
   ]
  },
  {
   "cell_type": "code",
   "execution_count": 261,
   "metadata": {},
   "outputs": [],
   "source": [
    "raw_pos = []\n",
    "raw_neg = []\n",
    "raw_neu = []\n",
    "\n",
    "pos_tweets = df_test.loc[df.target==2]\n",
    "pos_tweets\n",
    "\n",
    "neg_tweets = df_test.loc[df.target==0]\n",
    "\n",
    "neutral_tweets = df_test.loc[df.target==1]\n",
    "\n",
    "for listx in pos_tweets.clean_tweet:\n",
    "    for x in listx:\n",
    "        raw_pos.append(x)\n",
    "    \n",
    "for listx in neg_tweets.clean_tweet:\n",
    "    for x in listx:\n",
    "        raw_neg.append(x)\n",
    "        \n",
    "for listx in neutral_tweets.clean_tweet:\n",
    "    for x in listx:\n",
    "        raw_neu.append(x)"
   ]
  },
  {
   "cell_type": "code",
   "execution_count": 308,
   "metadata": {},
   "outputs": [
    {
     "data": {
      "text/html": [
       "<div>\n",
       "<style scoped>\n",
       "    .dataframe tbody tr th:only-of-type {\n",
       "        vertical-align: middle;\n",
       "    }\n",
       "\n",
       "    .dataframe tbody tr th {\n",
       "        vertical-align: top;\n",
       "    }\n",
       "\n",
       "    .dataframe thead th {\n",
       "        text-align: right;\n",
       "    }\n",
       "</style>\n",
       "<table border=\"1\" class=\"dataframe\">\n",
       "  <thead>\n",
       "    <tr style=\"text-align: right;\">\n",
       "      <th></th>\n",
       "      <th>Tweet</th>\n",
       "      <th>Text</th>\n",
       "      <th>test</th>\n",
       "      <th>target</th>\n",
       "      <th>clean_tweet</th>\n",
       "      <th>body</th>\n",
       "    </tr>\n",
       "  </thead>\n",
       "  <tbody>\n",
       "    <tr>\n",
       "      <th>1</th>\n",
       "      <td>@jessedee Know about @fludapp ? Awesome iPad/i...</td>\n",
       "      <td>[jessedee, know, about, fludapp, , awesome, ip...</td>\n",
       "      <td>ipad or iphone app</td>\n",
       "      <td>2</td>\n",
       "      <td>[jessedee, know, fludapp, awesome, ipadiphone,...</td>\n",
       "      <td>jessedee know fludapp awesome ipadiphone app y...</td>\n",
       "    </tr>\n",
       "    <tr>\n",
       "      <th>2</th>\n",
       "      <td>@swonderlin Can not wait for #iPad 2 also. The...</td>\n",
       "      <td>[swonderlin, can, not, wait, for, ipad, 2, als...</td>\n",
       "      <td>ipad</td>\n",
       "      <td>2</td>\n",
       "      <td>[swonderlin, wait, also, sale]</td>\n",
       "      <td>swonderlin wait also sale</td>\n",
       "    </tr>\n",
       "    <tr>\n",
       "      <th>4</th>\n",
       "      <td>@sxtxstate great stuff on Fri #SXSW: Marissa M...</td>\n",
       "      <td>[sxtxstate, great, stuff, on, fri, sxsw, maris...</td>\n",
       "      <td>google</td>\n",
       "      <td>2</td>\n",
       "      <td>[sxtxstate, great, stuff, fri, marissa, mayer,...</td>\n",
       "      <td>sxtxstate great stuff fri marissa mayer tim or...</td>\n",
       "    </tr>\n",
       "    <tr>\n",
       "      <th>7</th>\n",
       "      <td>#SXSW is just starting, #CTIA is around the co...</td>\n",
       "      <td>[sxsw, is, just, starting, ctia, is, around, t...</td>\n",
       "      <td>android</td>\n",
       "      <td>2</td>\n",
       "      <td>[starting, ctia, around, corner, googleio, hop...</td>\n",
       "      <td>starting ctia around corner googleio hop skip ...</td>\n",
       "    </tr>\n",
       "    <tr>\n",
       "      <th>8</th>\n",
       "      <td>Beautifully smart and simple idea RT @madebyma...</td>\n",
       "      <td>[beautifully, smart, and, simple, idea, rt, ma...</td>\n",
       "      <td>ipad or iphone app</td>\n",
       "      <td>2</td>\n",
       "      <td>[beautifully, smart, simple, idea, madebymany,...</td>\n",
       "      <td>beautifully smart simple idea madebymany thene...</td>\n",
       "    </tr>\n",
       "    <tr>\n",
       "      <th>...</th>\n",
       "      <td>...</td>\n",
       "      <td>...</td>\n",
       "      <td>...</td>\n",
       "      <td>...</td>\n",
       "      <td>...</td>\n",
       "      <td>...</td>\n",
       "    </tr>\n",
       "    <tr>\n",
       "      <th>9072</th>\n",
       "      <td>@mention your iPhone 4 cases are Rad and Ready...</td>\n",
       "      <td>[mention, your, iphone, 4, cases, are, rad, an...</td>\n",
       "      <td>iphone</td>\n",
       "      <td>2</td>\n",
       "      <td>[4, case, rad, ready, stop, tomorrow, get, zaz...</td>\n",
       "      <td>4 case rad ready stop tomorrow get zazzlesxsw ...</td>\n",
       "    </tr>\n",
       "    <tr>\n",
       "      <th>9077</th>\n",
       "      <td>@mention your PR guy just convinced me to swit...</td>\n",
       "      <td>[mention, your, pr, guy, just, convinced, me, ...</td>\n",
       "      <td>iphone</td>\n",
       "      <td>2</td>\n",
       "      <td>[pr, guy, convinced, switch, back, great, cove...</td>\n",
       "      <td>pr guy convinced switch back great coverage pr...</td>\n",
       "    </tr>\n",
       "    <tr>\n",
       "      <th>9079</th>\n",
       "      <td>&amp;quot;papyrus...sort of like the ipad&amp;quot; - ...</td>\n",
       "      <td>[quotpapyrussort, of, like, the, ipadquot, , n...</td>\n",
       "      <td>ipad</td>\n",
       "      <td>2</td>\n",
       "      <td>[quotpapyrussort, like, ipadquot, nice, lol, l...</td>\n",
       "      <td>quotpapyrussort like ipadquot nice lol lavelle</td>\n",
       "    </tr>\n",
       "    <tr>\n",
       "      <th>9085</th>\n",
       "      <td>I've always used Camera+ for my iPhone b/c it ...</td>\n",
       "      <td>[ive, always, used, camera, for, my, iphone, b...</td>\n",
       "      <td>ipad or iphone app</td>\n",
       "      <td>2</td>\n",
       "      <td>[ive, always, used, camera, bc, image, stabili...</td>\n",
       "      <td>ive always used camera bc image stabilizer mod...</td>\n",
       "    </tr>\n",
       "    <tr>\n",
       "      <th>9088</th>\n",
       "      <td>Ipad everywhere. #SXSW {link}</td>\n",
       "      <td>[ipad, everywhere, sxsw, link]</td>\n",
       "      <td>ipad</td>\n",
       "      <td>2</td>\n",
       "      <td>[everywhere]</td>\n",
       "      <td>everywhere</td>\n",
       "    </tr>\n",
       "  </tbody>\n",
       "</table>\n",
       "<p>2978 rows × 6 columns</p>\n",
       "</div>"
      ],
      "text/plain": [
       "                                                  Tweet  \\\n",
       "1     @jessedee Know about @fludapp ? Awesome iPad/i...   \n",
       "2     @swonderlin Can not wait for #iPad 2 also. The...   \n",
       "4     @sxtxstate great stuff on Fri #SXSW: Marissa M...   \n",
       "7     #SXSW is just starting, #CTIA is around the co...   \n",
       "8     Beautifully smart and simple idea RT @madebyma...   \n",
       "...                                                 ...   \n",
       "9072  @mention your iPhone 4 cases are Rad and Ready...   \n",
       "9077  @mention your PR guy just convinced me to swit...   \n",
       "9079  &quot;papyrus...sort of like the ipad&quot; - ...   \n",
       "9085  I've always used Camera+ for my iPhone b/c it ...   \n",
       "9088                      Ipad everywhere. #SXSW {link}   \n",
       "\n",
       "                                                   Text                test  \\\n",
       "1     [jessedee, know, about, fludapp, , awesome, ip...  ipad or iphone app   \n",
       "2     [swonderlin, can, not, wait, for, ipad, 2, als...                ipad   \n",
       "4     [sxtxstate, great, stuff, on, fri, sxsw, maris...              google   \n",
       "7     [sxsw, is, just, starting, ctia, is, around, t...             android   \n",
       "8     [beautifully, smart, and, simple, idea, rt, ma...  ipad or iphone app   \n",
       "...                                                 ...                 ...   \n",
       "9072  [mention, your, iphone, 4, cases, are, rad, an...              iphone   \n",
       "9077  [mention, your, pr, guy, just, convinced, me, ...              iphone   \n",
       "9079  [quotpapyrussort, of, like, the, ipadquot, , n...                ipad   \n",
       "9085  [ive, always, used, camera, for, my, iphone, b...  ipad or iphone app   \n",
       "9088                     [ipad, everywhere, sxsw, link]                ipad   \n",
       "\n",
       "      target                                        clean_tweet  \\\n",
       "1          2  [jessedee, know, fludapp, awesome, ipadiphone,...   \n",
       "2          2                     [swonderlin, wait, also, sale]   \n",
       "4          2  [sxtxstate, great, stuff, fri, marissa, mayer,...   \n",
       "7          2  [starting, ctia, around, corner, googleio, hop...   \n",
       "8          2  [beautifully, smart, simple, idea, madebymany,...   \n",
       "...      ...                                                ...   \n",
       "9072       2  [4, case, rad, ready, stop, tomorrow, get, zaz...   \n",
       "9077       2  [pr, guy, convinced, switch, back, great, cove...   \n",
       "9079       2  [quotpapyrussort, like, ipadquot, nice, lol, l...   \n",
       "9085       2  [ive, always, used, camera, bc, image, stabili...   \n",
       "9088       2                                       [everywhere]   \n",
       "\n",
       "                                                   body  \n",
       "1     jessedee know fludapp awesome ipadiphone app y...  \n",
       "2                             swonderlin wait also sale  \n",
       "4     sxtxstate great stuff fri marissa mayer tim or...  \n",
       "7     starting ctia around corner googleio hop skip ...  \n",
       "8     beautifully smart simple idea madebymany thene...  \n",
       "...                                                 ...  \n",
       "9072  4 case rad ready stop tomorrow get zazzlesxsw ...  \n",
       "9077  pr guy convinced switch back great coverage pr...  \n",
       "9079     quotpapyrussort like ipadquot nice lol lavelle  \n",
       "9085  ive always used camera bc image stabilizer mod...  \n",
       "9088                                         everywhere  \n",
       "\n",
       "[2978 rows x 6 columns]"
      ]
     },
     "execution_count": 308,
     "metadata": {},
     "output_type": "execute_result"
    }
   ],
   "source": []
  },
  {
   "cell_type": "code",
   "execution_count": 271,
   "metadata": {},
   "outputs": [],
   "source": [
    "raw_pos = ' '.join(raw_pos)\n",
    "raw_neg = ' '.join(raw_neg)\n",
    "raw_neu = ' '.join(raw_neu)"
   ]
  },
  {
   "cell_type": "code",
   "execution_count": 272,
   "metadata": {},
   "outputs": [],
   "source": [
    "word_list = [raw_pos, raw_neg, raw_neu]"
   ]
  },
  {
   "cell_type": "code",
   "execution_count": 274,
   "metadata": {
    "scrolled": false
   },
   "outputs": [],
   "source": [
    "df_raw = pd.DataFrame(word_list, index = ['positive', 'negative', 'neutral'], columns = ['raw_text'])"
   ]
  },
  {
   "cell_type": "code",
   "execution_count": 282,
   "metadata": {
    "scrolled": true
   },
   "outputs": [],
   "source": [
    "tfidf_raw = TfidfVectorizer(stop_words = sw, max_features=500)\n",
    "X_raw = tfidf_raw.fit_transform(df_raw.raw_text)\n",
    "df_topwords = pd.DataFrame(X_raw.toarray(), columns = tfidf_raw.get_feature_names(), index=df_raw.index)"
   ]
  },
  {
   "cell_type": "code",
   "execution_count": 354,
   "metadata": {},
   "outputs": [],
   "source": [
    "top_poswords = dict(df_topwords.loc[['positive']].max().sort_values(ascending=False)[:150])"
   ]
  },
  {
   "cell_type": "code",
   "execution_count": 355,
   "metadata": {
    "scrolled": true
   },
   "outputs": [
    {
     "data": {
      "text/plain": [
       "{'store': 0.4460859665691307,\n",
       " 'app': 0.31932929847298425,\n",
       " 'new': 0.29170284516997796,\n",
       " 'austin': 0.2372624813081715,\n",
       " 'popup': 0.17713431823692258,\n",
       " 'get': 0.1470702367012981,\n",
       " 'amp': 0.1470702367012981,\n",
       " 'launch': 0.14138243749185564,\n",
       " 'one': 0.12025632614249789,\n",
       " 'party': 0.11456852693305543,\n",
       " 'line': 0.11456852693305543,\n",
       " 'time': 0.10969327046781902,\n",
       " 'great': 0.10969327046781902,\n",
       " 'via': 0.10644309949099476,\n",
       " 'social': 0.10075530028155229,\n",
       " 'free': 0.09913021479314016,\n",
       " 'cool': 0.09506750107210982,\n",
       " 'day': 0.09506750107210982,\n",
       " 'map': 0.09425495832790375,\n",
       " 'win': 0.09344241558369769,\n",
       " 'like': 0.09262987283949162,\n",
       " 'im': 0.09100478735107949,\n",
       " 'today': 0.09100478735107949,\n",
       " 'circle': 0.09019224460687342,\n",
       " 'go': 0.08369190265322489,\n",
       " 'come': 0.08206681716481275,\n",
       " 'mobile': 0.08044173167640062,\n",
       " 'sxswi': 0.07719156069957635,\n",
       " 'love': 0.07556647521116422,\n",
       " 'network': 0.07394138972275208,\n",
       " 'awesome': 0.07312884697854602,\n",
       " 'temporary': 0.07231630423433995,\n",
       " 'downtown': 0.07150376149013388,\n",
       " 'opening': 0.07150376149013388,\n",
       " 'good': 0.07069121874592782,\n",
       " 'apps': 0.06744104776910355,\n",
       " 'open': 0.06662850502489748,\n",
       " 'got': 0.06419087679227928,\n",
       " 'people': 0.06419087679227928,\n",
       " 'check': 0.06256579130386715,\n",
       " 'see': 0.06012816307124894,\n",
       " 'dont': 0.06012816307124894,\n",
       " 'even': 0.05769053483863074,\n",
       " 'thanks': 0.05687799209442468,\n",
       " 'mayer': 0.05606544935021861,\n",
       " 'need': 0.05525290660601254,\n",
       " 'going': 0.05444036386180648,\n",
       " 'user': 0.05362782111760041,\n",
       " 'fun': 0.05336113296556119,\n",
       " 'year': 0.05281527837339434,\n",
       " 'called': 0.05200273562918828,\n",
       " 'first': 0.05200273562918828,\n",
       " 'want': 0.05200273562918828,\n",
       " 'next': 0.04956510739657008,\n",
       " 'best': 0.04956510739657008,\n",
       " 'marissa': 0.04956510739657008,\n",
       " 'video': 0.04875256465236401,\n",
       " 'around': 0.04875256465236401,\n",
       " 'begin': 0.048129649341486565,\n",
       " 'major': 0.047940021908157944,\n",
       " 'ûïmention': 0.047940021908157944,\n",
       " 'look': 0.04712747916395187,\n",
       " 'pop': 0.04712747916395187,\n",
       " 'make': 0.04631493641974581,\n",
       " 'case': 0.04631493641974581,\n",
       " 'use': 0.04468985093133367,\n",
       " 'set': 0.043064765442921545,\n",
       " 'ever': 0.043064765442921545,\n",
       " 'really': 0.04225222269871547,\n",
       " 'shop': 0.04225222269871547,\n",
       " 'tech': 0.04225222269871547,\n",
       " 'know': 0.04062713721030334,\n",
       " 'nice': 0.04062713721030334,\n",
       " 'smart': 0.039814594466097274,\n",
       " 'thing': 0.039814594466097274,\n",
       " 'game': 0.03900205172189121,\n",
       " 'technology': 0.03900205172189121,\n",
       " 'heard': 0.03900205172189121,\n",
       " 'music': 0.03871297881815224,\n",
       " 'using': 0.03818950897768514,\n",
       " 'team': 0.03818950897768514,\n",
       " 'phone': 0.037376966233479074,\n",
       " 'panel': 0.03656442348927301,\n",
       " 'big': 0.03656442348927301,\n",
       " 'take': 0.034939338000860874,\n",
       " 'marketing': 0.03412679525665481,\n",
       " 'wow': 0.03412679525665481,\n",
       " 'design': 0.03412679525665481,\n",
       " 'week': 0.03412679525665481,\n",
       " 'giving': 0.03348149519407761,\n",
       " 'right': 0.03331425251244874,\n",
       " 'still': 0.03331425251244874,\n",
       " 'possibly': 0.03331425251244874,\n",
       " 'think': 0.03331425251244874,\n",
       " 'quotapple': 0.032501709768242674,\n",
       " 'session': 0.032501709768242674,\n",
       " 'ipads': 0.032501709768242674,\n",
       " 'buy': 0.032501709768242674,\n",
       " 'conferencesquot': 0.03243519846926268,\n",
       " 'would': 0.0316891670240366,\n",
       " 'yes': 0.0316891670240366,\n",
       " 'coming': 0.0316891670240366,\n",
       " 'wait': 0.0316891670240366,\n",
       " 'news': 0.0316891670240366,\n",
       " 'search': 0.0316891670240366,\n",
       " 'work': 0.0316891670240366,\n",
       " 'also': 0.0316891670240366,\n",
       " 'rumor': 0.03087662427983054,\n",
       " 'guy': 0.03087662427983054,\n",
       " 'others': 0.030342605019632835,\n",
       " 'world': 0.03006408153562447,\n",
       " 'last': 0.03006408153562447,\n",
       " 'photo': 0.03006408153562447,\n",
       " 'event': 0.029296308294817913,\n",
       " 'rock': 0.029296308294817913,\n",
       " 'could': 0.029251538791418407,\n",
       " 'product': 0.029251538791418407,\n",
       " 'well': 0.029251538791418407,\n",
       " 'show': 0.02843899604721234,\n",
       " 'ill': 0.02843899604721234,\n",
       " 'school': 0.02825001157000298,\n",
       " 'congress': 0.02825001157000298,\n",
       " 'winning': 0.02825001157000298,\n",
       " 'everyone': 0.02762645330300627,\n",
       " 'web': 0.02762645330300627,\n",
       " 'looking': 0.02762645330300627,\n",
       " 'say': 0.02762645330300627,\n",
       " 'hot': 0.027203714845188055,\n",
       " 'way': 0.026813910558800204,\n",
       " 'temp': 0.026813910558800204,\n",
       " 'live': 0.026813910558800204,\n",
       " 'talk': 0.026813910558800204,\n",
       " 'amazing': 0.02600136781459414,\n",
       " 'place': 0.02600136781459414,\n",
       " 'lot': 0.02600136781459414,\n",
       " 'away': 0.02600136781459414,\n",
       " 'keep': 0.025188825070388072,\n",
       " 'download': 0.025188825070388072,\n",
       " 'getting': 0.025188825070388072,\n",
       " 'better': 0.025188825070388072,\n",
       " 'action': 0.025188825070388072,\n",
       " 'share': 0.025111121395558208,\n",
       " 'gowalla': 0.025111121395558208,\n",
       " 'may': 0.024376282326182004,\n",
       " 'every': 0.024376282326182004,\n",
       " 'tonight': 0.024376282326182004,\n",
       " 'hour': 0.024376282326182004,\n",
       " 'hey': 0.024376282326182004,\n",
       " 'ready': 0.024376282326182004,\n",
       " 'cant': 0.024376282326182004}"
      ]
     },
     "execution_count": 355,
     "metadata": {},
     "output_type": "execute_result"
    }
   ],
   "source": [
    "top_poswords"
   ]
  },
  {
   "cell_type": "code",
   "execution_count": 359,
   "metadata": {},
   "outputs": [],
   "source": [
    "top_negwords = dict(df_topwords.loc[['negative']].max().sort_values(ascending=False)[:100])"
   ]
  },
  {
   "cell_type": "code",
   "execution_count": 357,
   "metadata": {},
   "outputs": [
    {
     "data": {
      "text/plain": [
       "{'app': 0.3064738766191898,\n",
       " 'store': 0.22985540746439231,\n",
       " 'new': 0.219639611577086,\n",
       " 'like': 0.21453171363343285,\n",
       " 'circle': 0.18388432597151386,\n",
       " 'need': 0.1787764280278607,\n",
       " 'social': 0.1532369383095949,\n",
       " 'apps': 0.1532369383095949,\n",
       " 'people': 0.1481290403659417,\n",
       " 'design': 0.14302114242228856,\n",
       " 'get': 0.12769744859132906,\n",
       " 'austin': 0.1225895506476759,\n",
       " 'time': 0.11748165270402275,\n",
       " 'think': 0.11748165270402275,\n",
       " 'one': 0.11748165270402275,\n",
       " 'look': 0.10726585681671642,\n",
       " 'launch': 0.10726585681671642,\n",
       " 'dont': 0.10726585681671642,\n",
       " 'line': 0.10215795887306325,\n",
       " 'say': 0.10215795887306325,\n",
       " 'day': 0.10215795887306325,\n",
       " 'would': 0.0970500609294101,\n",
       " 'today': 0.09194216298575693,\n",
       " 'news': 0.09194216298575693,\n",
       " 'go': 0.08683426504210377,\n",
       " 'fail': 0.08683426504210377,\n",
       " 'phone': 0.08683426504210377,\n",
       " 'long': 0.08683426504210377,\n",
       " 'battery': 0.0817263670984506,\n",
       " 'product': 0.0817263670984506,\n",
       " 'user': 0.0817263670984506,\n",
       " 'year': 0.0817263670984506,\n",
       " 'thing': 0.07661846915479745,\n",
       " 'headache': 0.07661846915479745,\n",
       " 'much': 0.07661846915479745,\n",
       " 'good': 0.07661846915479745,\n",
       " 'company': 0.07661846915479745,\n",
       " 'im': 0.07661846915479745,\n",
       " 'network': 0.07661846915479745,\n",
       " 'ive': 0.07661846915479745,\n",
       " 'popup': 0.07661846915479745,\n",
       " 'major': 0.07151057121114428,\n",
       " 'way': 0.07151057121114428,\n",
       " 'take': 0.07151057121114428,\n",
       " 'amp': 0.07151057121114428,\n",
       " 'talk': 0.07151057121114428,\n",
       " 'cant': 0.07151057121114428,\n",
       " 'via': 0.07151057121114428,\n",
       " 'money': 0.07151057121114428,\n",
       " 'see': 0.07151057121114428,\n",
       " 'doesnt': 0.06640267326749112,\n",
       " 'many': 0.06640267326749112,\n",
       " 'going': 0.06640267326749112,\n",
       " 'really': 0.06640267326749112,\n",
       " 'called': 0.06640267326749112,\n",
       " 'room': 0.06640267326749112,\n",
       " 'wait': 0.06129477532383795,\n",
       " 'yet': 0.06129477532383795,\n",
       " 'back': 0.06129477532383795,\n",
       " 'fast': 0.06129477532383795,\n",
       " 'already': 0.06129477532383795,\n",
       " 'tapworthy': 0.06129477532383795,\n",
       " 'sxswi': 0.05618687738018479,\n",
       " 'first': 0.05618687738018479,\n",
       " 'twitter': 0.05618687738018479,\n",
       " 'instead': 0.05618687738018479,\n",
       " 'know': 0.05618687738018479,\n",
       " 'guy': 0.05618687738018479,\n",
       " 'japan': 0.05618687738018479,\n",
       " 'quoti': 0.05618687738018479,\n",
       " 'best': 0.05107897943653163,\n",
       " 'coming': 0.05107897943653163,\n",
       " 'still': 0.05107897943653163,\n",
       " 'every': 0.05107897943653163,\n",
       " 'heard': 0.05107897943653163,\n",
       " 'gave': 0.05107897943653163,\n",
       " 'blackberry': 0.05107897943653163,\n",
       " 'mayer': 0.05107897943653163,\n",
       " 'quotapple': 0.05107897943653163,\n",
       " 'bing': 0.05107897943653163,\n",
       " 'want': 0.05107897943653163,\n",
       " 'nothing': 0.05107897943653163,\n",
       " 'content': 0.05107897943653163,\n",
       " 'come': 0.05107897943653163,\n",
       " 'session': 0.05107897943653163,\n",
       " 'better': 0.05107897943653163,\n",
       " 'made': 0.05107897943653163,\n",
       " 'didnt': 0.045971081492878464,\n",
       " 'may': 0.045971081492878464,\n",
       " 'diller': 0.045971081492878464,\n",
       " 'map': 0.045971081492878464,\n",
       " 'even': 0.045971081492878464,\n",
       " 'ever': 0.045971081492878464,\n",
       " 'everyone': 0.045971081492878464,\n",
       " 'another': 0.045971081492878464,\n",
       " 'getting': 0.045971081492878464,\n",
       " 'use': 0.045971081492878464,\n",
       " 'last': 0.045971081492878464,\n",
       " 'weekend': 0.045971081492878464,\n",
       " 'ûïmention': 0.0408631835492253,\n",
       " 'morning': 0.0408631835492253,\n",
       " 'make': 0.0408631835492253,\n",
       " 'great': 0.0408631835492253,\n",
       " 'relief': 0.0408631835492253,\n",
       " 'panel': 0.0408631835492253,\n",
       " 'hey': 0.0408631835492253,\n",
       " 'ipads': 0.0408631835492253,\n",
       " 'digital': 0.0408631835492253,\n",
       " 'hand': 0.0408631835492253,\n",
       " '2011': 0.0408631835492253,\n",
       " 'wont': 0.0408631835492253,\n",
       " 'life': 0.0408631835492253,\n",
       " 'tweet': 0.0408631835492253,\n",
       " 'work': 0.0408631835492253,\n",
       " 'give': 0.0408631835492253,\n",
       " 'lost': 0.0408631835492253,\n",
       " 'call': 0.0408631835492253,\n",
       " 'buy': 0.0408631835492253,\n",
       " 'possibly': 0.0408631835492253,\n",
       " 'taking': 0.0408631835492253,\n",
       " 'well': 0.03575528560557214,\n",
       " '3g': 0.03575528560557214,\n",
       " 'update': 0.03575528560557214,\n",
       " 'open': 0.03575528560557214,\n",
       " 'someone': 0.03575528560557214,\n",
       " 'anyone': 0.03575528560557214,\n",
       " 'using': 0.03575528560557214,\n",
       " 'tablet': 0.03575528560557214,\n",
       " 'might': 0.03575528560557214,\n",
       " 'feel': 0.03575528560557214,\n",
       " 'photo': 0.03575528560557214,\n",
       " 'hour': 0.03575528560557214,\n",
       " 'data': 0.03575528560557214,\n",
       " 'got': 0.03575528560557214,\n",
       " 'search': 0.03575528560557214,\n",
       " 'service': 0.03575528560557214,\n",
       " 'seems': 0.03575528560557214,\n",
       " 'flipboard': 0.03575528560557214,\n",
       " 'mobile': 0.03575528560557214,\n",
       " 'thanks': 0.03575528560557214,\n",
       " 'theyre': 0.03575528560557214,\n",
       " 'tv': 0.03575528560557214,\n",
       " 'else': 0.03575528560557214,\n",
       " 'thought': 0.030647387661918976,\n",
       " 'party': 0.030647387661918976,\n",
       " 'also': 0.030647387661918976,\n",
       " 'pretty': 0.030647387661918976,\n",
       " 'bad': 0.030647387661918976,\n",
       " 'quotgoogle': 0.030647387661918976,\n",
       " 'business': 0.030647387661918976}"
      ]
     },
     "execution_count": 357,
     "metadata": {},
     "output_type": "execute_result"
    }
   ],
   "source": [
    "top_negwords"
   ]
  },
  {
   "cell_type": "code",
   "execution_count": 301,
   "metadata": {},
   "outputs": [
    {
     "data": {
      "text/plain": [
       "dict_keys(['app', 'store', 'new', 'like', 'circle', 'need', 'social', 'apps', 'people', 'design', 'get', 'austin', 'time', 'think', 'one', 'look', 'launch', 'dont', 'line', 'say', 'day', 'would', 'today', 'news', 'go', 'fail', 'phone', 'long', 'battery', 'product', 'user', 'year', 'thing', 'headache', 'much', 'good', 'company', 'im', 'network', 'ive', 'popup', 'major', 'way', 'take', 'amp', 'talk', 'cant', 'via', 'money', 'see', 'doesnt', 'many', 'going', 'really', 'called', 'room', 'wait', 'yet', 'back', 'fast', 'already', 'tapworthy', 'sxswi', 'first', 'twitter', 'instead', 'know', 'guy', 'japan', 'quoti', 'best', 'coming', 'still', 'every', 'heard', 'gave', 'blackberry', 'mayer', 'quotapple', 'bing', 'want', 'nothing', 'content', 'come', 'session', 'better', 'made', 'didnt', 'may', 'diller', 'map', 'even', 'ever', 'everyone', 'another', 'getting', 'use', 'last', 'weekend', 'ûïmention'])"
      ]
     },
     "execution_count": 301,
     "metadata": {},
     "output_type": "execute_result"
    }
   ],
   "source": [
    "top_negwords.keys()"
   ]
  },
  {
   "cell_type": "code",
   "execution_count": 360,
   "metadata": {
    "scrolled": true
   },
   "outputs": [
    {
     "name": "stdout",
     "output_type": "stream",
     "text": [
      "party 0.11456852693305543\n",
      "great 0.10969327046781902\n",
      "free 0.09913021479314016\n",
      "cool 0.09506750107210982\n",
      "win 0.09344241558369769\n",
      "mobile 0.08044173167640062\n",
      "love 0.07556647521116422\n",
      "awesome 0.07312884697854602\n",
      "temporary 0.07231630423433995\n",
      "downtown 0.07150376149013388\n",
      "opening 0.07150376149013388\n",
      "open 0.06662850502489748\n",
      "got 0.06419087679227928\n",
      "check 0.06256579130386715\n",
      "thanks 0.05687799209442468\n",
      "fun 0.05336113296556119\n",
      "next 0.04956510739657008\n",
      "marissa 0.04956510739657008\n",
      "video 0.04875256465236401\n",
      "around 0.04875256465236401\n",
      "begin 0.048129649341486565\n",
      "pop 0.04712747916395187\n",
      "make 0.04631493641974581\n",
      "case 0.04631493641974581\n",
      "set 0.043064765442921545\n",
      "shop 0.04225222269871547\n",
      "tech 0.04225222269871547\n",
      "nice 0.04062713721030334\n",
      "smart 0.039814594466097274\n",
      "game 0.03900205172189121\n",
      "technology 0.03900205172189121\n",
      "music 0.03871297881815224\n",
      "using 0.03818950897768514\n",
      "team 0.03818950897768514\n",
      "panel 0.03656442348927301\n",
      "big 0.03656442348927301\n",
      "marketing 0.03412679525665481\n",
      "wow 0.03412679525665481\n",
      "week 0.03412679525665481\n",
      "giving 0.03348149519407761\n",
      "right 0.03331425251244874\n",
      "possibly 0.03331425251244874\n",
      "ipads 0.032501709768242674\n",
      "buy 0.032501709768242674\n",
      "conferencesquot 0.03243519846926268\n",
      "yes 0.0316891670240366\n",
      "search 0.0316891670240366\n",
      "work 0.0316891670240366\n",
      "also 0.0316891670240366\n",
      "rumor 0.03087662427983054\n",
      "others 0.030342605019632835\n",
      "world 0.03006408153562447\n",
      "photo 0.03006408153562447\n",
      "event 0.029296308294817913\n",
      "rock 0.029296308294817913\n",
      "could 0.029251538791418407\n",
      "well 0.029251538791418407\n",
      "show 0.02843899604721234\n",
      "ill 0.02843899604721234\n",
      "school 0.02825001157000298\n",
      "congress 0.02825001157000298\n",
      "winning 0.02825001157000298\n",
      "web 0.02762645330300627\n",
      "looking 0.02762645330300627\n",
      "hot 0.027203714845188055\n",
      "temp 0.026813910558800204\n",
      "live 0.026813910558800204\n",
      "amazing 0.02600136781459414\n",
      "place 0.02600136781459414\n",
      "lot 0.02600136781459414\n",
      "away 0.02600136781459414\n",
      "keep 0.025188825070388072\n",
      "download 0.025188825070388072\n",
      "action 0.025188825070388072\n",
      "share 0.025111121395558208\n",
      "gowalla 0.025111121395558208\n",
      "tonight 0.024376282326182004\n",
      "hour 0.024376282326182004\n",
      "hey 0.024376282326182004\n",
      "ready 0.024376282326182004\n"
     ]
    }
   ],
   "source": [
    "for word, item in top_poswords.items():\n",
    "    if word not in top_negwords.keys():\n",
    "        print(word, item)"
   ]
  },
  {
   "cell_type": "code",
   "execution_count": 304,
   "metadata": {
    "scrolled": false
   },
   "outputs": [
    {
     "name": "stdout",
     "output_type": "stream",
     "text": [
      "say\n",
      "news\n",
      "fail\n",
      "long\n",
      "battery\n",
      "product\n",
      "headache\n",
      "much\n",
      "company\n",
      "ive\n",
      "way\n",
      "talk\n",
      "cant\n",
      "money\n",
      "doesnt\n",
      "many\n",
      "room\n",
      "wait\n",
      "yet\n",
      "back\n",
      "fast\n",
      "already\n",
      "tapworthy\n",
      "twitter\n",
      "instead\n",
      "guy\n",
      "japan\n",
      "quoti\n",
      "coming\n",
      "every\n",
      "gave\n",
      "blackberry\n",
      "bing\n",
      "nothing\n",
      "content\n",
      "better\n",
      "made\n",
      "didnt\n",
      "may\n",
      "diller\n",
      "everyone\n",
      "another\n",
      "getting\n",
      "last\n",
      "weekend\n"
     ]
    }
   ],
   "source": [
    "for word in top_negwords.keys():\n",
    "    if word not in top_poswords.keys():\n",
    "        print(word)"
   ]
  },
  {
   "cell_type": "code",
   "execution_count": 313,
   "metadata": {},
   "outputs": [],
   "source": [
    "pd.set_option('display.max_colwidth', None)"
   ]
  },
  {
   "cell_type": "code",
   "execution_count": 365,
   "metadata": {},
   "outputs": [
    {
     "data": {
      "text/plain": [
       "124                                          Christian #iPad #iPhone devs I want to talk to u at #sxsw or after -maybe we can wk together on cool app! @mention me\n",
       "145                                                ÛÏ@mention #sxsw beta testing interactive book for iPad app by Moonbot studios out of Louisiana.  Cool app.Û\n",
       "296                                                                        Temporary Apple store at SXSW is really cool...as is the iPad 2 :) #apple #SXSW #fanboy\n",
       "428                                                  Google TV demo at the league for extraordinary hackers. Cool stuff! I like Web apps on TV. #google #sxsw #lxh\n",
       "516                                                                                 Hitlantis for the iPad. Cool song explorer app. Hitlantis.com. #sxsw #musicviz\n",
       "611         I may not have invites to all the &quot;cool&quot; #sxsw #sxswi parties, but I do have two iPhone chargers in my pocket, so you'll be happy to see me!\n",
       "702                                           Very cool iphone app just launched at #sxsw FlyPost: community bulletin board w/ location. Learn more: {link} {link}\n",
       "861     .@mention Love it. @mention @mention #sxsw: &quot;apple comes up w/ cool technology no one's ever heard of because they don't go 2 conferences&quot; me 2!\n",
       "862         ÛÏ@mention Love it. @mention at #sxsw: &quot;apple comes up with cool technology no one's ever heard of because they don't go to conferences&quot;Û\n",
       "1140                                                Check out the #dokobots game from @mention for iPhone and Android.  Seems pretty cool. #geogames #SXSW #tmsxsw\n",
       "1179                       Exploring the World in 3D with XML combines Google Earth w/ location of individuals to show where you've been over time. So cool! #SxSW\n",
       "1376                                                                                                         Apple pop-up shop for #SXSW. How cool is that? {link}\n",
       "1456                                  Very cool! RT @mention RT @mention Not a rumor: Apple to open temporary store in dt ATX for #SXSW &amp; iPad 2 launch {link}\n",
       "1485                       It begins... on a story about a cool SXSW app and also Apple is launching the iPad 2 from a temp store. Stay tuned... I love you! #sxsw\n",
       "1571                       Love it. @mention at #sxsw: &quot;apple comes up with cool technology no one's ever heard of because they don't go to conferences&quot;\n",
       "1572                               Love it. @mention at #sxsw: &quot;apple comes up with cool technology no one's ever heard of because they don't go to... {link}\n",
       "1594                                       Cool! RT @mention Heard about Apple's pop-up store in downtown Austin? Pics are already on Gowalla: {link} #sxsw #iPad2\n",
       "1847                                                              #sxsw beta testing interactive book for iPad app by Moonbot studios out of Louisiana.  Cool app.\n",
       "1859                       Not just about pretty content. Nat Geo has pretty article on iPad. Cooler is twitter list of current Arctic explorers. #flipboard #SXSW\n",
       "1926                                         Apple's taking old iPads for Teach For America (user gets a tax write-off) when you buy a new iPad. Kinda cool. #sxsw\n",
       "Name: Tweet, dtype: object"
      ]
     },
     "execution_count": 365,
     "metadata": {},
     "output_type": "execute_result"
    }
   ],
   "source": [
    "pos_tweets.loc[(pos_tweets.body.str.contains('cool'))]['Tweet'][:20]"
   ]
  },
  {
   "cell_type": "code",
   "execution_count": 340,
   "metadata": {
    "scrolled": false
   },
   "outputs": [
    {
     "data": {
      "text/plain": [
       "214     Picked up a Mophie battery case 4 my iPhone in prep for #SXSW. Not lugging around a laptop &amp; only using my phone was a huge win last year.\n",
       "356                                                                                                       My iPhone battery at 100%. #winning at #SXSW\n",
       "1833      Just had a really great #mophie experience at #sxsw -a user for over 3 months I highly recommend their iPhone 4 battery #goodcustomerservice\n",
       "1907                                              Best schwag I've seen at #SXSW is the @mention battery charger for your iPhone. How do I get one?!?!\n",
       "3233                Regretting that I didn't bring my iPad to #sxsw. Seeing lots of times it would be useful, especially for it's battery life. #woops\n",
       "3994                                                                  The hannukah miracle of the morning: uncharged iPhone still at 55% battery #sxsw\n",
       "4332                                Lucky! ÛÏ@mention RT @mention Scored a #mophie juice pack at the #tradeshow #sxsw. Double your iPhone battery!Û\n",
       "4397                               Just got my Mophie Juice Pack plus for my iPhone 4! Now I'm ready for #sxsw. More than double the battery life #FTW\n",
       "7016                   Tip for conference goers everywhere: bring iPad, leave laptop at hotel. I've had no battery and a sore shoulder all week! #sxsw\n",
       "7399                               Smart. Apple opening pop-up in Austin for #SXSW {link}  Hope they stock up on extra battery chargers.  thx @mention\n",
       "8242                       #sxsw just helped @mention charge her iPhone with my NewTrent IMP1000 battery pack. I love this thing! #unpaid #endorsement\n",
       "8454                Phone on the way out battery wise and I believe this week is the only week I'd be comfortable typing on an iPad on sixth st. #SXSW\n",
       "Name: Tweet, dtype: object"
      ]
     },
     "execution_count": 340,
     "metadata": {},
     "output_type": "execute_result"
    }
   ],
   "source": [
    "pos_tweets.loc[(pos_tweets.body.str.contains('battery'))]['Tweet'][:20]"
   ]
  },
  {
   "cell_type": "code",
   "execution_count": 389,
   "metadata": {
    "scrolled": false
   },
   "outputs": [
    {
     "data": {
      "text/plain": [
       "261                           Found the app kyping my iPhone's geolocation &amp; not releasing when in background. Need a patch, @mention #batterykiller #SXSW\n",
       "335     overheard at MDW (and I'll second it) &quot;halfway through my iPhone battery already and I haven't even boarded the plane to #sxsw&quot; #amateurhour\n",
       "357                                                                         My iPhone battery can't keep up with my tweets! Thanks Apple.  #SXSW  #precommerce\n",
       "747               iPhone, I know this #SXSW week will be tough on your already-dwindling battery, but so help me Jeebus if you keep correcting my curse words.\n",
       "1335                                        Disgusted with my iPhone's battery life. Already down to 11% at 3:30 pm while my blackberry is going strong. #Sxsw\n",
       "1390                              At midday, iPhone at mid-battery. This outlet, blocked by an immobile booth, serves no purpose but to taunt me. #SXSW {link}\n",
       "2169                                                                                                       #iPhone battery doesn't last long under #sxsw usage\n",
       "2629                                                                                                        The iPhone battery was not made for @mention #sxsw\n",
       "2738               Would like to know which LBS app I downloaded has commandeered my iPhone's geolocation setting &amp; won't relinquish. #batterykiller #SXSW\n",
       "2790                                                                I never realized how shitty by iphone battery was until #sxsw I'm charging every few hours\n",
       "2998                      It is never more apparent than at #sxsw how nice it would be if apple made stuff w/ removable batteries. #alwayshavingtoplugin #gsdm\n",
       "3121                                                                                                    #sxsw is exposing my iphone's horrendous battery life.\n",
       "3275             @mention glad I've not got a faulty iPhone then. That'll go down well for #sxsw everyone's battery dies 5 times quicker. Hope @mention knows.\n",
       "5739              RT @mention Found the app kyping my iPhone's geolocation &amp; not releasing when in background. Need a patch, @mention #batterykiller #SXSW\n",
       "6051                                                  RT @mention I feel like my iPhone: Always on, always doing something, running out of battery fast. #sxsw\n",
       "7671                      @mention Respectfully disagree about the iphone. Battery life is a problem and it isn't as ubiquitous as it seems. #project314 #sxsw\n",
       "7777                       Or Droid RT @mention Has spontaniety in life been replaced by technology? When your iPhone battery dies you go home. Great ?  #sxsw\n",
       "8610                                               iPhone battery is going quickly. Guy behind me let me borrow his portable charger. I want one! {link} #SXSW\n",
       "8820                             This #SXSW I am grateful for: my bicycle, having a back-up Twitter app. Cursing: losing an hour of zzzs, iPhone battery life.\n",
       "8855                                   If there was a popup store in Austin that sold nothing but iPhone battery extenders, it would make so much money. #sxsw\n",
       "Name: Tweet, dtype: object"
      ]
     },
     "execution_count": 389,
     "metadata": {},
     "output_type": "execute_result"
    }
   ],
   "source": [
    "neg_tweets.loc[neg_tweets.body.str.contains('battery')]['Tweet']"
   ]
  },
  {
   "cell_type": "code",
   "execution_count": 386,
   "metadata": {},
   "outputs": [
    {
     "data": {
      "text/plain": [
       "Tweet               iPad news apps 'so last year' at #SXSW {link}\n",
       "Text           [ipad, news, apps, so, last, year, at, sxsw, link]\n",
       "test                                           ipad or iphone app\n",
       "target                                                          0\n",
       "clean_tweet                              [news, apps, last, year]\n",
       "body                                          news apps last year\n",
       "Name: 304, dtype: object"
      ]
     },
     "execution_count": 386,
     "metadata": {},
     "output_type": "execute_result"
    }
   ],
   "source": [
    "df_test.loc[304]"
   ]
  },
  {
   "cell_type": "code",
   "execution_count": null,
   "metadata": {},
   "outputs": [],
   "source": []
  },
  {
   "cell_type": "code",
   "execution_count": null,
   "metadata": {},
   "outputs": [],
   "source": []
  },
  {
   "cell_type": "code",
   "execution_count": 166,
   "metadata": {},
   "outputs": [],
   "source": [
    "X_train, X_test, y_train, y_test = train_test_split(X,y,stratify=y)"
   ]
  },
  {
   "cell_type": "code",
   "execution_count": 193,
   "metadata": {},
   "outputs": [],
   "source": [
    "pipe = make_pipeline(TfidfVectorizer(), RandomForestClassifier())\n",
    "cv = cross_validate(pipe, X_train, y_train,return_train_score=True)\n"
   ]
  },
  {
   "cell_type": "code",
   "execution_count": 194,
   "metadata": {},
   "outputs": [
    {
     "name": "stdout",
     "output_type": "stream",
     "text": [
      "Mean Train Score: 0.9675124707704501\n",
      "Mean Test Score: 0.6855379822411749\n"
     ]
    }
   ],
   "source": [
    "mean_scores(cv)"
   ]
  },
  {
   "cell_type": "code",
   "execution_count": 183,
   "metadata": {},
   "outputs": [
    {
     "name": "stdout",
     "output_type": "stream",
     "text": [
      "Mean Train Score: 0.7672337695119954\n",
      "Mean Test Score: 0.6635397594146086\n"
     ]
    }
   ],
   "source": [
    "pipemnb = make_pipeline(TfidfVectorizer(), MultinomialNB())\n",
    "cvmnb = cross_validate(pipemnb, X_train, y_train, return_train_score=True)\n",
    "mean_scores(cvmnb)"
   ]
  },
  {
   "cell_type": "code",
   "execution_count": 186,
   "metadata": {
    "scrolled": true
   },
   "outputs": [
    {
     "name": "stdout",
     "output_type": "stream",
     "text": [
      "Mean Train Score: 0.8191919888597475\n",
      "Mean Test Score: 0.689058657481018\n"
     ]
    }
   ],
   "source": [
    "pipelr = make_pipeline(TfidfVectorizer(), LogisticRegression())\n",
    "cvlr = cross_validate(pipelr, X_train, y_train, return_train_score=True)\n",
    "mean_scores(cvlr)"
   ]
  },
  {
   "cell_type": "code",
   "execution_count": 369,
   "metadata": {},
   "outputs": [],
   "source": [
    "svc_pipe = Pipeline([(\"count\" , TfidfVectorizer()),\n",
    "                       (\"svc\", SVC(kernel = 'linear'))])"
   ]
  },
  {
   "cell_type": "code",
   "execution_count": 370,
   "metadata": {
    "scrolled": true
   },
   "outputs": [
    {
     "name": "stdout",
     "output_type": "stream",
     "text": [
      "Mean Train Score: 0.8484893738380865\n",
      "Mean Test Score: 0.6925790099896081\n"
     ]
    }
   ],
   "source": [
    "cv_svc = cross_validate(svc_pipe, X_train, y_train, return_train_score=True)\n",
    "mean_scores(cv_svc)"
   ]
  },
  {
   "cell_type": "code",
   "execution_count": 191,
   "metadata": {},
   "outputs": [],
   "source": [
    "svc = SVC(kernel = 'linear')"
   ]
  },
  {
   "cell_type": "code",
   "execution_count": 196,
   "metadata": {},
   "outputs": [],
   "source": [
    "tfidf = TfidfVectorizer()\n",
    "tfidf_x_tr = tfidf.fit_transform(X_train)\n",
    "tfidf_x_ts = tfidf.transform(X_test)\n"
   ]
  },
  {
   "cell_type": "code",
   "execution_count": 200,
   "metadata": {
    "scrolled": true
   },
   "outputs": [
    {
     "name": "stdout",
     "output_type": "stream",
     "text": [
      "Mean Train Score: 0.848892666840775\n",
      "Mean Test Score: 0.6956593722231665\n"
     ]
    }
   ],
   "source": [
    "cvsvc = cross_validate(svc, tfidf_x_tr, y_train, return_train_score=True)\n",
    "mean_scores(cvsvc)"
   ]
  },
  {
   "cell_type": "code",
   "execution_count": 205,
   "metadata": {
    "scrolled": true
   },
   "outputs": [
    {
     "data": {
      "text/plain": [
       "SVC(kernel='linear')"
      ]
     },
     "execution_count": 205,
     "metadata": {},
     "output_type": "execute_result"
    }
   ],
   "source": [
    "svc.fit(tfidf_x_tr, y_train)"
   ]
  },
  {
   "cell_type": "code",
   "execution_count": 207,
   "metadata": {
    "scrolled": false
   },
   "outputs": [
    {
     "data": {
      "image/png": "[encoded data removed]",
      "text/plain": [
       "<Figure size 432x288 with 2 Axes>"
      ]
     },
     "metadata": {},
     "output_type": "display_data"
    }
   ],
   "source": [
    "plot_confusion_matrix(svc, tfidf_x_ts, y_test)\n",
    "plt.grid(False)"
   ]
  },
  {
   "cell_type": "code",
   "execution_count": 221,
   "metadata": {
    "scrolled": true
   },
   "outputs": [],
   "source": [
    "df_test['body'] = df_test['clean_tweet'].str.join(' ')"
   ]
  },
  {
   "cell_type": "code",
   "execution_count": 232,
   "metadata": {
    "scrolled": true
   },
   "outputs": [
    {
     "data": {
      "text/html": [
       "<div>\n",
       "<style scoped>\n",
       "    .dataframe tbody tr th:only-of-type {\n",
       "        vertical-align: middle;\n",
       "    }\n",
       "\n",
       "    .dataframe tbody tr th {\n",
       "        vertical-align: top;\n",
       "    }\n",
       "\n",
       "    .dataframe thead th {\n",
       "        text-align: right;\n",
       "    }\n",
       "</style>\n",
       "<table border=\"1\" class=\"dataframe\">\n",
       "  <thead>\n",
       "    <tr style=\"text-align: right;\">\n",
       "      <th></th>\n",
       "      <th>aapl</th>\n",
       "      <th>aaron</th>\n",
       "      <th>aarpbulletin</th>\n",
       "      <th>ab</th>\n",
       "      <th>abacus</th>\n",
       "      <th>abandoned</th>\n",
       "      <th>abba</th>\n",
       "      <th>abc</th>\n",
       "      <th>aber</th>\n",
       "      <th>ability</th>\n",
       "      <th>...</th>\n",
       "      <th>zlf</th>\n",
       "      <th>zms</th>\n",
       "      <th>zomb</th>\n",
       "      <th>zombie</th>\n",
       "      <th>zomg</th>\n",
       "      <th>zone</th>\n",
       "      <th>zoom</th>\n",
       "      <th>zuckerberg</th>\n",
       "      <th>zynga</th>\n",
       "      <th>zzzs</th>\n",
       "    </tr>\n",
       "  </thead>\n",
       "  <tbody>\n",
       "    <tr>\n",
       "      <th>0</th>\n",
       "      <td>0.0</td>\n",
       "      <td>0.0</td>\n",
       "      <td>0.0</td>\n",
       "      <td>0.0</td>\n",
       "      <td>0.0</td>\n",
       "      <td>0.0</td>\n",
       "      <td>0.0</td>\n",
       "      <td>0.0</td>\n",
       "      <td>0.0</td>\n",
       "      <td>0.0</td>\n",
       "      <td>...</td>\n",
       "      <td>0.0</td>\n",
       "      <td>0.0</td>\n",
       "      <td>0.0</td>\n",
       "      <td>0.0</td>\n",
       "      <td>0.0</td>\n",
       "      <td>0.0</td>\n",
       "      <td>0.0</td>\n",
       "      <td>0.0</td>\n",
       "      <td>0.0</td>\n",
       "      <td>0.0</td>\n",
       "    </tr>\n",
       "    <tr>\n",
       "      <th>1</th>\n",
       "      <td>0.0</td>\n",
       "      <td>0.0</td>\n",
       "      <td>0.0</td>\n",
       "      <td>0.0</td>\n",
       "      <td>0.0</td>\n",
       "      <td>0.0</td>\n",
       "      <td>0.0</td>\n",
       "      <td>0.0</td>\n",
       "      <td>0.0</td>\n",
       "      <td>0.0</td>\n",
       "      <td>...</td>\n",
       "      <td>0.0</td>\n",
       "      <td>0.0</td>\n",
       "      <td>0.0</td>\n",
       "      <td>0.0</td>\n",
       "      <td>0.0</td>\n",
       "      <td>0.0</td>\n",
       "      <td>0.0</td>\n",
       "      <td>0.0</td>\n",
       "      <td>0.0</td>\n",
       "      <td>0.0</td>\n",
       "    </tr>\n",
       "    <tr>\n",
       "      <th>2</th>\n",
       "      <td>0.0</td>\n",
       "      <td>0.0</td>\n",
       "      <td>0.0</td>\n",
       "      <td>0.0</td>\n",
       "      <td>0.0</td>\n",
       "      <td>0.0</td>\n",
       "      <td>0.0</td>\n",
       "      <td>0.0</td>\n",
       "      <td>0.0</td>\n",
       "      <td>0.0</td>\n",
       "      <td>...</td>\n",
       "      <td>0.0</td>\n",
       "      <td>0.0</td>\n",
       "      <td>0.0</td>\n",
       "      <td>0.0</td>\n",
       "      <td>0.0</td>\n",
       "      <td>0.0</td>\n",
       "      <td>0.0</td>\n",
       "      <td>0.0</td>\n",
       "      <td>0.0</td>\n",
       "      <td>0.0</td>\n",
       "    </tr>\n",
       "    <tr>\n",
       "      <th>3</th>\n",
       "      <td>0.0</td>\n",
       "      <td>0.0</td>\n",
       "      <td>0.0</td>\n",
       "      <td>0.0</td>\n",
       "      <td>0.0</td>\n",
       "      <td>0.0</td>\n",
       "      <td>0.0</td>\n",
       "      <td>0.0</td>\n",
       "      <td>0.0</td>\n",
       "      <td>0.0</td>\n",
       "      <td>...</td>\n",
       "      <td>0.0</td>\n",
       "      <td>0.0</td>\n",
       "      <td>0.0</td>\n",
       "      <td>0.0</td>\n",
       "      <td>0.0</td>\n",
       "      <td>0.0</td>\n",
       "      <td>0.0</td>\n",
       "      <td>0.0</td>\n",
       "      <td>0.0</td>\n",
       "      <td>0.0</td>\n",
       "    </tr>\n",
       "    <tr>\n",
       "      <th>4</th>\n",
       "      <td>0.0</td>\n",
       "      <td>0.0</td>\n",
       "      <td>0.0</td>\n",
       "      <td>0.0</td>\n",
       "      <td>0.0</td>\n",
       "      <td>0.0</td>\n",
       "      <td>0.0</td>\n",
       "      <td>0.0</td>\n",
       "      <td>0.0</td>\n",
       "      <td>0.0</td>\n",
       "      <td>...</td>\n",
       "      <td>0.0</td>\n",
       "      <td>0.0</td>\n",
       "      <td>0.0</td>\n",
       "      <td>0.0</td>\n",
       "      <td>0.0</td>\n",
       "      <td>0.0</td>\n",
       "      <td>0.0</td>\n",
       "      <td>0.0</td>\n",
       "      <td>0.0</td>\n",
       "      <td>0.0</td>\n",
       "    </tr>\n",
       "  </tbody>\n",
       "</table>\n",
       "<p>5 rows × 9510 columns</p>\n",
       "</div>"
      ],
      "text/plain": [
       "   aapl  aaron  aarpbulletin   ab  abacus  abandoned  abba  abc  aber  \\\n",
       "0   0.0    0.0           0.0  0.0     0.0        0.0   0.0  0.0   0.0   \n",
       "1   0.0    0.0           0.0  0.0     0.0        0.0   0.0  0.0   0.0   \n",
       "2   0.0    0.0           0.0  0.0     0.0        0.0   0.0  0.0   0.0   \n",
       "3   0.0    0.0           0.0  0.0     0.0        0.0   0.0  0.0   0.0   \n",
       "4   0.0    0.0           0.0  0.0     0.0        0.0   0.0  0.0   0.0   \n",
       "\n",
       "   ability  ...  zlf  zms  zomb  zombie  zomg  zone  zoom  zuckerberg  zynga  \\\n",
       "0      0.0  ...  0.0  0.0   0.0     0.0   0.0   0.0   0.0         0.0    0.0   \n",
       "1      0.0  ...  0.0  0.0   0.0     0.0   0.0   0.0   0.0         0.0    0.0   \n",
       "2      0.0  ...  0.0  0.0   0.0     0.0   0.0   0.0   0.0         0.0    0.0   \n",
       "3      0.0  ...  0.0  0.0   0.0     0.0   0.0   0.0   0.0         0.0    0.0   \n",
       "4      0.0  ...  0.0  0.0   0.0     0.0   0.0   0.0   0.0         0.0    0.0   \n",
       "\n",
       "   zzzs  \n",
       "0   0.0  \n",
       "1   0.0  \n",
       "2   0.0  \n",
       "3   0.0  \n",
       "4   0.0  \n",
       "\n",
       "[5 rows x 9510 columns]"
      ]
     },
     "execution_count": 232,
     "metadata": {},
     "output_type": "execute_result"
    }
   ],
   "source": [
    "tf_vec = TfidfVectorizer(token_pattern=r\"([a-zA-Z]+(?:'[a-z]+)?)\", stop_words=sw)\n",
    "X_tfv = tf_vec.fit_transform(df_test.body)\n",
    "\n",
    "df_tfv = pd.DataFrame(X_tfv.toarray(), columns=tf_vec.get_feature_names())\n",
    "df_tfv.head()\n",
    "\n"
   ]
  },
  {
   "cell_type": "code",
   "execution_count": null,
   "metadata": {},
   "outputs": [],
   "source": [
    "df_tfv(columns)"
   ]
  },
  {
   "cell_type": "code",
   "execution_count": 242,
   "metadata": {},
   "outputs": [],
   "source": [
    "df_tfv_sums = df_tfv.append(df_tfv.sum(numeric_only=True), ignore_index=True)"
   ]
  },
  {
   "cell_type": "code",
   "execution_count": 243,
   "metadata": {
    "scrolled": false
   },
   "outputs": [
    {
     "data": {
      "text/html": [
       "<div>\n",
       "<style scoped>\n",
       "    .dataframe tbody tr th:only-of-type {\n",
       "        vertical-align: middle;\n",
       "    }\n",
       "\n",
       "    .dataframe tbody tr th {\n",
       "        vertical-align: top;\n",
       "    }\n",
       "\n",
       "    .dataframe thead th {\n",
       "        text-align: right;\n",
       "    }\n",
       "</style>\n",
       "<table border=\"1\" class=\"dataframe\">\n",
       "  <thead>\n",
       "    <tr style=\"text-align: right;\">\n",
       "      <th></th>\n",
       "      <th>aapl</th>\n",
       "      <th>aaron</th>\n",
       "      <th>aarpbulletin</th>\n",
       "      <th>ab</th>\n",
       "      <th>abacus</th>\n",
       "      <th>abandoned</th>\n",
       "      <th>abba</th>\n",
       "      <th>abc</th>\n",
       "      <th>aber</th>\n",
       "      <th>ability</th>\n",
       "      <th>...</th>\n",
       "      <th>zlf</th>\n",
       "      <th>zms</th>\n",
       "      <th>zomb</th>\n",
       "      <th>zombie</th>\n",
       "      <th>zomg</th>\n",
       "      <th>zone</th>\n",
       "      <th>zoom</th>\n",
       "      <th>zuckerberg</th>\n",
       "      <th>zynga</th>\n",
       "      <th>zzzs</th>\n",
       "    </tr>\n",
       "  </thead>\n",
       "  <tbody>\n",
       "    <tr>\n",
       "      <th>9087</th>\n",
       "      <td>0.000000</td>\n",
       "      <td>0.000000</td>\n",
       "      <td>0.000000</td>\n",
       "      <td>0.000000</td>\n",
       "      <td>0.000000</td>\n",
       "      <td>0.0000</td>\n",
       "      <td>0.000000</td>\n",
       "      <td>0.000000</td>\n",
       "      <td>0.000000</td>\n",
       "      <td>0.00000</td>\n",
       "      <td>...</td>\n",
       "      <td>0.000000</td>\n",
       "      <td>0.000000</td>\n",
       "      <td>0.000000</td>\n",
       "      <td>0.000000</td>\n",
       "      <td>0.000000</td>\n",
       "      <td>0.00000</td>\n",
       "      <td>0.000000</td>\n",
       "      <td>0.000000</td>\n",
       "      <td>0.000000</td>\n",
       "      <td>0.000000</td>\n",
       "    </tr>\n",
       "    <tr>\n",
       "      <th>9088</th>\n",
       "      <td>0.000000</td>\n",
       "      <td>0.000000</td>\n",
       "      <td>0.000000</td>\n",
       "      <td>0.000000</td>\n",
       "      <td>0.000000</td>\n",
       "      <td>0.0000</td>\n",
       "      <td>0.000000</td>\n",
       "      <td>0.000000</td>\n",
       "      <td>0.000000</td>\n",
       "      <td>0.00000</td>\n",
       "      <td>...</td>\n",
       "      <td>0.000000</td>\n",
       "      <td>0.000000</td>\n",
       "      <td>0.000000</td>\n",
       "      <td>0.000000</td>\n",
       "      <td>0.000000</td>\n",
       "      <td>0.00000</td>\n",
       "      <td>0.000000</td>\n",
       "      <td>0.000000</td>\n",
       "      <td>0.000000</td>\n",
       "      <td>0.000000</td>\n",
       "    </tr>\n",
       "    <tr>\n",
       "      <th>9089</th>\n",
       "      <td>0.000000</td>\n",
       "      <td>0.000000</td>\n",
       "      <td>0.000000</td>\n",
       "      <td>0.000000</td>\n",
       "      <td>0.000000</td>\n",
       "      <td>0.0000</td>\n",
       "      <td>0.000000</td>\n",
       "      <td>0.000000</td>\n",
       "      <td>0.000000</td>\n",
       "      <td>0.00000</td>\n",
       "      <td>...</td>\n",
       "      <td>0.000000</td>\n",
       "      <td>0.000000</td>\n",
       "      <td>0.000000</td>\n",
       "      <td>0.000000</td>\n",
       "      <td>0.000000</td>\n",
       "      <td>0.00000</td>\n",
       "      <td>0.000000</td>\n",
       "      <td>0.000000</td>\n",
       "      <td>0.000000</td>\n",
       "      <td>0.000000</td>\n",
       "    </tr>\n",
       "    <tr>\n",
       "      <th>9090</th>\n",
       "      <td>0.000000</td>\n",
       "      <td>0.000000</td>\n",
       "      <td>0.000000</td>\n",
       "      <td>0.000000</td>\n",
       "      <td>0.000000</td>\n",
       "      <td>0.0000</td>\n",
       "      <td>0.000000</td>\n",
       "      <td>0.000000</td>\n",
       "      <td>0.000000</td>\n",
       "      <td>0.00000</td>\n",
       "      <td>...</td>\n",
       "      <td>0.000000</td>\n",
       "      <td>0.000000</td>\n",
       "      <td>0.000000</td>\n",
       "      <td>0.000000</td>\n",
       "      <td>0.000000</td>\n",
       "      <td>0.00000</td>\n",
       "      <td>0.000000</td>\n",
       "      <td>0.000000</td>\n",
       "      <td>0.000000</td>\n",
       "      <td>0.000000</td>\n",
       "    </tr>\n",
       "    <tr>\n",
       "      <th>9091</th>\n",
       "      <td>4.649007</td>\n",
       "      <td>0.705112</td>\n",
       "      <td>0.935498</td>\n",
       "      <td>3.874814</td>\n",
       "      <td>0.741375</td>\n",
       "      <td>0.4283</td>\n",
       "      <td>0.585132</td>\n",
       "      <td>2.104779</td>\n",
       "      <td>0.407726</td>\n",
       "      <td>1.51783</td>\n",
       "      <td>...</td>\n",
       "      <td>5.978721</td>\n",
       "      <td>0.852745</td>\n",
       "      <td>4.638374</td>\n",
       "      <td>2.564003</td>\n",
       "      <td>2.923855</td>\n",
       "      <td>1.06909</td>\n",
       "      <td>1.050605</td>\n",
       "      <td>1.190754</td>\n",
       "      <td>1.452015</td>\n",
       "      <td>0.380383</td>\n",
       "    </tr>\n",
       "  </tbody>\n",
       "</table>\n",
       "<p>5 rows × 9510 columns</p>\n",
       "</div>"
      ],
      "text/plain": [
       "          aapl     aaron  aarpbulletin        ab    abacus  abandoned  \\\n",
       "9087  0.000000  0.000000      0.000000  0.000000  0.000000     0.0000   \n",
       "9088  0.000000  0.000000      0.000000  0.000000  0.000000     0.0000   \n",
       "9089  0.000000  0.000000      0.000000  0.000000  0.000000     0.0000   \n",
       "9090  0.000000  0.000000      0.000000  0.000000  0.000000     0.0000   \n",
       "9091  4.649007  0.705112      0.935498  3.874814  0.741375     0.4283   \n",
       "\n",
       "          abba       abc      aber  ability  ...       zlf       zms  \\\n",
       "9087  0.000000  0.000000  0.000000  0.00000  ...  0.000000  0.000000   \n",
       "9088  0.000000  0.000000  0.000000  0.00000  ...  0.000000  0.000000   \n",
       "9089  0.000000  0.000000  0.000000  0.00000  ...  0.000000  0.000000   \n",
       "9090  0.000000  0.000000  0.000000  0.00000  ...  0.000000  0.000000   \n",
       "9091  0.585132  2.104779  0.407726  1.51783  ...  5.978721  0.852745   \n",
       "\n",
       "          zomb    zombie      zomg     zone      zoom  zuckerberg     zynga  \\\n",
       "9087  0.000000  0.000000  0.000000  0.00000  0.000000    0.000000  0.000000   \n",
       "9088  0.000000  0.000000  0.000000  0.00000  0.000000    0.000000  0.000000   \n",
       "9089  0.000000  0.000000  0.000000  0.00000  0.000000    0.000000  0.000000   \n",
       "9090  0.000000  0.000000  0.000000  0.00000  0.000000    0.000000  0.000000   \n",
       "9091  4.638374  2.564003  2.923855  1.06909  1.050605    1.190754  1.452015   \n",
       "\n",
       "          zzzs  \n",
       "9087  0.000000  \n",
       "9088  0.000000  \n",
       "9089  0.000000  \n",
       "9090  0.000000  \n",
       "9091  0.380383  \n",
       "\n",
       "[5 rows x 9510 columns]"
      ]
     },
     "execution_count": 243,
     "metadata": {},
     "output_type": "execute_result"
    }
   ],
   "source": [
    "df_tfv_sums.tail()"
   ]
  },
  {
   "cell_type": "code",
   "execution_count": 250,
   "metadata": {
    "scrolled": true
   },
   "outputs": [
    {
     "data": {
      "text/html": [
       "<div>\n",
       "<style scoped>\n",
       "    .dataframe tbody tr th:only-of-type {\n",
       "        vertical-align: middle;\n",
       "    }\n",
       "\n",
       "    .dataframe tbody tr th {\n",
       "        vertical-align: top;\n",
       "    }\n",
       "\n",
       "    .dataframe thead th {\n",
       "        text-align: right;\n",
       "    }\n",
       "</style>\n",
       "<table border=\"1\" class=\"dataframe\">\n",
       "  <thead>\n",
       "    <tr style=\"text-align: right;\">\n",
       "      <th></th>\n",
       "      <th>Tweet</th>\n",
       "      <th>Product</th>\n",
       "      <th>Emotion</th>\n",
       "      <th>Text</th>\n",
       "      <th>test</th>\n",
       "      <th>company</th>\n",
       "      <th>target</th>\n",
       "    </tr>\n",
       "  </thead>\n",
       "  <tbody>\n",
       "    <tr>\n",
       "      <th>1</th>\n",
       "      <td>@jessedee Know about @fludapp ? Awesome iPad/i...</td>\n",
       "      <td>iPad or iPhone App</td>\n",
       "      <td>Positive emotion</td>\n",
       "      <td>[jessedee, know, about, fludapp, , awesome, ip...</td>\n",
       "      <td>ipad or iphone app</td>\n",
       "      <td>apple</td>\n",
       "      <td>2</td>\n",
       "    </tr>\n",
       "    <tr>\n",
       "      <th>2</th>\n",
       "      <td>@swonderlin Can not wait for #iPad 2 also. The...</td>\n",
       "      <td>iPad</td>\n",
       "      <td>Positive emotion</td>\n",
       "      <td>[swonderlin, can, not, wait, for, ipad, 2, als...</td>\n",
       "      <td>ipad</td>\n",
       "      <td>apple</td>\n",
       "      <td>2</td>\n",
       "    </tr>\n",
       "    <tr>\n",
       "      <th>4</th>\n",
       "      <td>@sxtxstate great stuff on Fri #SXSW: Marissa M...</td>\n",
       "      <td>Google</td>\n",
       "      <td>Positive emotion</td>\n",
       "      <td>[sxtxstate, great, stuff, on, fri, sxsw, maris...</td>\n",
       "      <td>google</td>\n",
       "      <td>google</td>\n",
       "      <td>2</td>\n",
       "    </tr>\n",
       "    <tr>\n",
       "      <th>7</th>\n",
       "      <td>#SXSW is just starting, #CTIA is around the co...</td>\n",
       "      <td>Android</td>\n",
       "      <td>Positive emotion</td>\n",
       "      <td>[sxsw, is, just, starting, ctia, is, around, t...</td>\n",
       "      <td>android</td>\n",
       "      <td>google</td>\n",
       "      <td>2</td>\n",
       "    </tr>\n",
       "    <tr>\n",
       "      <th>8</th>\n",
       "      <td>Beautifully smart and simple idea RT @madebyma...</td>\n",
       "      <td>iPad or iPhone App</td>\n",
       "      <td>Positive emotion</td>\n",
       "      <td>[beautifully, smart, and, simple, idea, rt, ma...</td>\n",
       "      <td>ipad or iphone app</td>\n",
       "      <td>apple</td>\n",
       "      <td>2</td>\n",
       "    </tr>\n",
       "    <tr>\n",
       "      <th>...</th>\n",
       "      <td>...</td>\n",
       "      <td>...</td>\n",
       "      <td>...</td>\n",
       "      <td>...</td>\n",
       "      <td>...</td>\n",
       "      <td>...</td>\n",
       "      <td>...</td>\n",
       "    </tr>\n",
       "    <tr>\n",
       "      <th>9072</th>\n",
       "      <td>@mention your iPhone 4 cases are Rad and Ready...</td>\n",
       "      <td>iPhone</td>\n",
       "      <td>Positive emotion</td>\n",
       "      <td>[mention, your, iphone, 4, cases, are, rad, an...</td>\n",
       "      <td>iphone</td>\n",
       "      <td>apple</td>\n",
       "      <td>2</td>\n",
       "    </tr>\n",
       "    <tr>\n",
       "      <th>9077</th>\n",
       "      <td>@mention your PR guy just convinced me to swit...</td>\n",
       "      <td>iPhone</td>\n",
       "      <td>Positive emotion</td>\n",
       "      <td>[mention, your, pr, guy, just, convinced, me, ...</td>\n",
       "      <td>iphone</td>\n",
       "      <td>apple</td>\n",
       "      <td>2</td>\n",
       "    </tr>\n",
       "    <tr>\n",
       "      <th>9079</th>\n",
       "      <td>&amp;quot;papyrus...sort of like the ipad&amp;quot; - ...</td>\n",
       "      <td>iPad</td>\n",
       "      <td>Positive emotion</td>\n",
       "      <td>[quotpapyrussort, of, like, the, ipadquot, , n...</td>\n",
       "      <td>ipad</td>\n",
       "      <td>apple</td>\n",
       "      <td>2</td>\n",
       "    </tr>\n",
       "    <tr>\n",
       "      <th>9085</th>\n",
       "      <td>I've always used Camera+ for my iPhone b/c it ...</td>\n",
       "      <td>iPad or iPhone App</td>\n",
       "      <td>Positive emotion</td>\n",
       "      <td>[ive, always, used, camera, for, my, iphone, b...</td>\n",
       "      <td>ipad or iphone app</td>\n",
       "      <td>apple</td>\n",
       "      <td>2</td>\n",
       "    </tr>\n",
       "    <tr>\n",
       "      <th>9088</th>\n",
       "      <td>Ipad everywhere. #SXSW {link}</td>\n",
       "      <td>iPad</td>\n",
       "      <td>Positive emotion</td>\n",
       "      <td>[ipad, everywhere, sxsw, link]</td>\n",
       "      <td>ipad</td>\n",
       "      <td>apple</td>\n",
       "      <td>2</td>\n",
       "    </tr>\n",
       "  </tbody>\n",
       "</table>\n",
       "<p>2978 rows × 7 columns</p>\n",
       "</div>"
      ],
      "text/plain": [
       "                                                  Tweet             Product  \\\n",
       "1     @jessedee Know about @fludapp ? Awesome iPad/i...  iPad or iPhone App   \n",
       "2     @swonderlin Can not wait for #iPad 2 also. The...                iPad   \n",
       "4     @sxtxstate great stuff on Fri #SXSW: Marissa M...              Google   \n",
       "7     #SXSW is just starting, #CTIA is around the co...             Android   \n",
       "8     Beautifully smart and simple idea RT @madebyma...  iPad or iPhone App   \n",
       "...                                                 ...                 ...   \n",
       "9072  @mention your iPhone 4 cases are Rad and Ready...              iPhone   \n",
       "9077  @mention your PR guy just convinced me to swit...              iPhone   \n",
       "9079  &quot;papyrus...sort of like the ipad&quot; - ...                iPad   \n",
       "9085  I've always used Camera+ for my iPhone b/c it ...  iPad or iPhone App   \n",
       "9088                      Ipad everywhere. #SXSW {link}                iPad   \n",
       "\n",
       "               Emotion                                               Text  \\\n",
       "1     Positive emotion  [jessedee, know, about, fludapp, , awesome, ip...   \n",
       "2     Positive emotion  [swonderlin, can, not, wait, for, ipad, 2, als...   \n",
       "4     Positive emotion  [sxtxstate, great, stuff, on, fri, sxsw, maris...   \n",
       "7     Positive emotion  [sxsw, is, just, starting, ctia, is, around, t...   \n",
       "8     Positive emotion  [beautifully, smart, and, simple, idea, rt, ma...   \n",
       "...                ...                                                ...   \n",
       "9072  Positive emotion  [mention, your, iphone, 4, cases, are, rad, an...   \n",
       "9077  Positive emotion  [mention, your, pr, guy, just, convinced, me, ...   \n",
       "9079  Positive emotion  [quotpapyrussort, of, like, the, ipadquot, , n...   \n",
       "9085  Positive emotion  [ive, always, used, camera, for, my, iphone, b...   \n",
       "9088  Positive emotion                     [ipad, everywhere, sxsw, link]   \n",
       "\n",
       "                    test company  target  \n",
       "1     ipad or iphone app   apple       2  \n",
       "2                   ipad   apple       2  \n",
       "4                 google  google       2  \n",
       "7                android  google       2  \n",
       "8     ipad or iphone app   apple       2  \n",
       "...                  ...     ...     ...  \n",
       "9072              iphone   apple       2  \n",
       "9077              iphone   apple       2  \n",
       "9079                ipad   apple       2  \n",
       "9085  ipad or iphone app   apple       2  \n",
       "9088                ipad   apple       2  \n",
       "\n",
       "[2978 rows x 7 columns]"
      ]
     },
     "execution_count": 250,
     "metadata": {},
     "output_type": "execute_result"
    }
   ],
   "source": [
    "df_pos"
   ]
  },
  {
   "cell_type": "code",
   "execution_count": 248,
   "metadata": {},
   "outputs": [
    {
     "data": {
      "text/plain": [
       "store       295.261359\n",
       "new         208.971155\n",
       "austin      200.387100\n",
       "launch      171.774050\n",
       "circle      165.308805\n",
       "               ...    \n",
       "primo         0.221553\n",
       "visto         0.221553\n",
       "os            0.221553\n",
       "lexpress      0.221553\n",
       "nowhere       0.221553\n",
       "Name: 9091, Length: 9510, dtype: float64"
      ]
     },
     "execution_count": 248,
     "metadata": {},
     "output_type": "execute_result"
    }
   ],
   "source": [
    "df_tfv_sums.iloc[9091].sort_values(ascending=False)"
   ]
  },
  {
   "cell_type": "code",
   "execution_count": 237,
   "metadata": {
    "scrolled": true
   },
   "outputs": [
    {
     "data": {
      "text/plain": [
       "circle          1.000000\n",
       "austin          1.000000\n",
       "partyawesome    1.000000\n",
       "rock            1.000000\n",
       "take            1.000000\n",
       "taken           1.000000\n",
       "worship         1.000000\n",
       "dev             1.000000\n",
       "everywhere      1.000000\n",
       "hmmmm           1.000000\n",
       "screen          1.000000\n",
       "line            1.000000\n",
       "charging        1.000000\n",
       "lazy            1.000000\n",
       "traveling       1.000000\n",
       "texas           1.000000\n",
       "spot            1.000000\n",
       "check           1.000000\n",
       "haha            1.000000\n",
       "doodle          1.000000\n",
       "store           1.000000\n",
       "heart           1.000000\n",
       "watch           1.000000\n",
       "location        0.971965\n",
       "soo             0.954119\n",
       "dtype: float64"
      ]
     },
     "execution_count": 237,
     "metadata": {},
     "output_type": "execute_result"
    }
   ],
   "source": [
    "df_tfv.max().sort_values(ascending=False)[:25]"
   ]
  },
  {
   "cell_type": "code",
   "execution_count": 235,
   "metadata": {},
   "outputs": [
    {
     "data": {
      "text/plain": [
       "1717    1.0\n",
       "Name: rock, dtype: float64"
      ]
     },
     "execution_count": 235,
     "metadata": {},
     "output_type": "execute_result"
    }
   ],
   "source": [
    "df_tfv.loc[df_tfv.rock == 1]['rock']"
   ]
  },
  {
   "cell_type": "code",
   "execution_count": 244,
   "metadata": {},
   "outputs": [
    {
     "data": {
      "text/plain": [
       "'@mention #SXSW iPad rocks'"
      ]
     },
     "execution_count": 244,
     "metadata": {},
     "output_type": "execute_result"
    }
   ],
   "source": [
    "df_test.Tweet.iloc[1717]"
   ]
  },
  {
   "cell_type": "code",
   "execution_count": 249,
   "metadata": {
    "scrolled": true
   },
   "outputs": [
    {
     "data": {
      "text/plain": [
       "Tweet             @mention #SXSW iPad rocks\n",
       "Text           [mention, sxsw, ipad, rocks]\n",
       "test                                   ipad\n",
       "target                                    2\n",
       "clean_tweet                          [rock]\n",
       "body                                   rock\n",
       "Name: 1718, dtype: object"
      ]
     },
     "execution_count": 249,
     "metadata": {},
     "output_type": "execute_result"
    }
   ],
   "source": [
    "df_test.iloc[1717]"
   ]
  },
  {
   "cell_type": "code",
   "execution_count": 209,
   "metadata": {},
   "outputs": [
    {
     "ename": "AttributeError",
     "evalue": "'Series' object has no attribute 'toarray'",
     "output_type": "error",
     "traceback": [
      "\u001b[0;31m---------------------------------------------------------------------------\u001b[0m",
      "\u001b[0;31mAttributeError\u001b[0m                            Traceback (most recent call last)",
      "\u001b[0;32m<ipython-input-209-f567b9dc7327>\u001b[0m in \u001b[0;36m<module>\u001b[0;34m\u001b[0m\n\u001b[1;32m      1\u001b[0m \u001b[0mfeature_array\u001b[0m \u001b[0;34m=\u001b[0m \u001b[0mnp\u001b[0m\u001b[0;34m.\u001b[0m\u001b[0marray\u001b[0m\u001b[0;34m(\u001b[0m\u001b[0mtfidf\u001b[0m\u001b[0;34m.\u001b[0m\u001b[0mget_feature_names\u001b[0m\u001b[0;34m(\u001b[0m\u001b[0;34m)\u001b[0m\u001b[0;34m)\u001b[0m\u001b[0;34m\u001b[0m\u001b[0;34m\u001b[0m\u001b[0m\n\u001b[0;32m----> 2\u001b[0;31m \u001b[0mtfidf_sorting\u001b[0m \u001b[0;34m=\u001b[0m \u001b[0mnp\u001b[0m\u001b[0;34m.\u001b[0m\u001b[0margsort\u001b[0m\u001b[0;34m(\u001b[0m\u001b[0mX\u001b[0m\u001b[0;34m.\u001b[0m\u001b[0mtoarray\u001b[0m\u001b[0;34m(\u001b[0m\u001b[0;34m)\u001b[0m\u001b[0;34m)\u001b[0m\u001b[0;34m.\u001b[0m\u001b[0mflatten\u001b[0m\u001b[0;34m(\u001b[0m\u001b[0;34m)\u001b[0m\u001b[0;34m[\u001b[0m\u001b[0;34m:\u001b[0m\u001b[0;34m:\u001b[0m\u001b[0;34m-\u001b[0m\u001b[0;36m1\u001b[0m\u001b[0;34m]\u001b[0m\u001b[0;34m\u001b[0m\u001b[0;34m\u001b[0m\u001b[0m\n\u001b[0m",
      "\u001b[0;32m~/opt/anaconda3/envs/learn-env/lib/python3.8/site-packages/pandas/core/generic.py\u001b[0m in \u001b[0;36m__getattr__\u001b[0;34m(self, name)\u001b[0m\n\u001b[1;32m   5137\u001b[0m             \u001b[0;32mif\u001b[0m \u001b[0mself\u001b[0m\u001b[0;34m.\u001b[0m\u001b[0m_info_axis\u001b[0m\u001b[0;34m.\u001b[0m\u001b[0m_can_hold_identifiers_and_holds_name\u001b[0m\u001b[0;34m(\u001b[0m\u001b[0mname\u001b[0m\u001b[0;34m)\u001b[0m\u001b[0;34m:\u001b[0m\u001b[0;34m\u001b[0m\u001b[0;34m\u001b[0m\u001b[0m\n\u001b[1;32m   5138\u001b[0m                 \u001b[0;32mreturn\u001b[0m \u001b[0mself\u001b[0m\u001b[0;34m[\u001b[0m\u001b[0mname\u001b[0m\u001b[0;34m]\u001b[0m\u001b[0;34m\u001b[0m\u001b[0;34m\u001b[0m\u001b[0m\n\u001b[0;32m-> 5139\u001b[0;31m             \u001b[0;32mreturn\u001b[0m \u001b[0mobject\u001b[0m\u001b[0;34m.\u001b[0m\u001b[0m__getattribute__\u001b[0m\u001b[0;34m(\u001b[0m\u001b[0mself\u001b[0m\u001b[0;34m,\u001b[0m \u001b[0mname\u001b[0m\u001b[0;34m)\u001b[0m\u001b[0;34m\u001b[0m\u001b[0;34m\u001b[0m\u001b[0m\n\u001b[0m\u001b[1;32m   5140\u001b[0m \u001b[0;34m\u001b[0m\u001b[0m\n\u001b[1;32m   5141\u001b[0m     \u001b[0;32mdef\u001b[0m \u001b[0m__setattr__\u001b[0m\u001b[0;34m(\u001b[0m\u001b[0mself\u001b[0m\u001b[0;34m,\u001b[0m \u001b[0mname\u001b[0m\u001b[0;34m:\u001b[0m \u001b[0mstr\u001b[0m\u001b[0;34m,\u001b[0m \u001b[0mvalue\u001b[0m\u001b[0;34m)\u001b[0m \u001b[0;34m->\u001b[0m \u001b[0;32mNone\u001b[0m\u001b[0;34m:\u001b[0m\u001b[0;34m\u001b[0m\u001b[0;34m\u001b[0m\u001b[0m\n",
      "\u001b[0;31mAttributeError\u001b[0m: 'Series' object has no attribute 'toarray'"
     ]
    }
   ],
   "source": [
    "feature_array = np.array(tfidf.get_feature_names())\n",
    "tfidf_sorting = np.argsort(X.toarray()).flatten()[::-1]"
   ]
  },
  {
   "cell_type": "markdown",
   "metadata": {},
   "source": [
    "### Models"
   ]
  },
  {
   "cell_type": "code",
   "execution_count": null,
   "metadata": {},
   "outputs": [],
   "source": [
    "tfidf_vec = TfidfVectorizer()\n"
   ]
  },
  {
   "cell_type": "code",
   "execution_count": 152,
   "metadata": {},
   "outputs": [],
   "source": [
    "X = df.Text\n",
    "y = df.target"
   ]
  },
  {
   "cell_type": "code",
   "execution_count": 153,
   "metadata": {},
   "outputs": [],
   "source": [
    "X_train, X_test, y_train, y_test = train_test_split(X, y, stratify=y, random_state=42)\n",
    "\n",
    "X_train = X_train.str.join(' ')\n",
    "X_test = X_test.str.join(' ')"
   ]
  },
  {
   "cell_type": "code",
   "execution_count": 154,
   "metadata": {},
   "outputs": [],
   "source": [
    "tfidf = TfidfVectorizer(stop_words=sw, ngram_range = (1,3))\n",
    "X_train_vec = tfidf.fit_transform(X_train)\n",
    "X_train_vec = pd.DataFrame.sparse.from_spmatrix(X_train_vec)\n",
    "X_train_vec.columns = sorted(tfidf.vocabulary_)\n",
    "X_train_vec.set_index(y_train.index, inplace=True)"
   ]
  },
  {
   "cell_type": "code",
   "execution_count": 155,
   "metadata": {},
   "outputs": [],
   "source": [
    "X_val_vec = tfidf.transform(X_test)\n",
    "X_val_vec = pd.DataFrame.sparse.from_spmatrix(X_val_vec)\n",
    "X_val_vec.columns = sorted(tfidf.vocabulary_)\n",
    "X_val_vec.set_index(y_test.index, inplace=True)"
   ]
  },
  {
   "cell_type": "code",
   "execution_count": 125,
   "metadata": {
    "scrolled": true
   },
   "outputs": [
    {
     "ename": "AttributeError",
     "evalue": "'DataFrame' object has no attribute 'toarray'",
     "output_type": "error",
     "traceback": [
      "\u001b[0;31m---------------------------------------------------------------------------\u001b[0m",
      "\u001b[0;31mAttributeError\u001b[0m                            Traceback (most recent call last)",
      "\u001b[0;32m<ipython-input-125-a48453b90ea5>\u001b[0m in \u001b[0;36m<module>\u001b[0;34m\u001b[0m\n\u001b[0;32m----> 1\u001b[0;31m \u001b[0mdf_vec\u001b[0m \u001b[0;34m=\u001b[0m \u001b[0mpd\u001b[0m\u001b[0;34m.\u001b[0m\u001b[0mDataFrame\u001b[0m\u001b[0;34m(\u001b[0m\u001b[0mX_train_vec\u001b[0m\u001b[0;34m.\u001b[0m\u001b[0mtoarray\u001b[0m\u001b[0;34m(\u001b[0m\u001b[0;34m)\u001b[0m\u001b[0;34m,\u001b[0m \u001b[0mcolumns\u001b[0m \u001b[0;34m=\u001b[0m \u001b[0mtfidf\u001b[0m\u001b[0;34m.\u001b[0m\u001b[0mget_feature_names\u001b[0m\u001b[0;34m(\u001b[0m\u001b[0;34m)\u001b[0m\u001b[0;34m)\u001b[0m\u001b[0;34m\u001b[0m\u001b[0;34m\u001b[0m\u001b[0m\n\u001b[0m\u001b[1;32m      2\u001b[0m \u001b[0mdf_vec\u001b[0m\u001b[0;34m\u001b[0m\u001b[0;34m\u001b[0m\u001b[0m\n",
      "\u001b[0;32m~/opt/anaconda3/envs/learn-env/lib/python3.8/site-packages/pandas/core/generic.py\u001b[0m in \u001b[0;36m__getattr__\u001b[0;34m(self, name)\u001b[0m\n\u001b[1;32m   5137\u001b[0m             \u001b[0;32mif\u001b[0m \u001b[0mself\u001b[0m\u001b[0;34m.\u001b[0m\u001b[0m_info_axis\u001b[0m\u001b[0;34m.\u001b[0m\u001b[0m_can_hold_identifiers_and_holds_name\u001b[0m\u001b[0;34m(\u001b[0m\u001b[0mname\u001b[0m\u001b[0;34m)\u001b[0m\u001b[0;34m:\u001b[0m\u001b[0;34m\u001b[0m\u001b[0;34m\u001b[0m\u001b[0m\n\u001b[1;32m   5138\u001b[0m                 \u001b[0;32mreturn\u001b[0m \u001b[0mself\u001b[0m\u001b[0;34m[\u001b[0m\u001b[0mname\u001b[0m\u001b[0;34m]\u001b[0m\u001b[0;34m\u001b[0m\u001b[0;34m\u001b[0m\u001b[0m\n\u001b[0;32m-> 5139\u001b[0;31m             \u001b[0;32mreturn\u001b[0m \u001b[0mobject\u001b[0m\u001b[0;34m.\u001b[0m\u001b[0m__getattribute__\u001b[0m\u001b[0;34m(\u001b[0m\u001b[0mself\u001b[0m\u001b[0;34m,\u001b[0m \u001b[0mname\u001b[0m\u001b[0;34m)\u001b[0m\u001b[0;34m\u001b[0m\u001b[0;34m\u001b[0m\u001b[0m\n\u001b[0m\u001b[1;32m   5140\u001b[0m \u001b[0;34m\u001b[0m\u001b[0m\n\u001b[1;32m   5141\u001b[0m     \u001b[0;32mdef\u001b[0m \u001b[0m__setattr__\u001b[0m\u001b[0;34m(\u001b[0m\u001b[0mself\u001b[0m\u001b[0;34m,\u001b[0m \u001b[0mname\u001b[0m\u001b[0;34m:\u001b[0m \u001b[0mstr\u001b[0m\u001b[0;34m,\u001b[0m \u001b[0mvalue\u001b[0m\u001b[0;34m)\u001b[0m \u001b[0;34m->\u001b[0m \u001b[0;32mNone\u001b[0m\u001b[0;34m:\u001b[0m\u001b[0;34m\u001b[0m\u001b[0;34m\u001b[0m\u001b[0m\n",
      "\u001b[0;31mAttributeError\u001b[0m: 'DataFrame' object has no attribute 'toarray'"
     ]
    }
   ],
   "source": [
    "df_vec = pd.DataFrame(X_train_vec.toarray(), columns = tfidf.get_feature_names())\n",
    "df_vec"
   ]
  },
  {
   "cell_type": "code",
   "execution_count": 156,
   "metadata": {
    "scrolled": false
   },
   "outputs": [],
   "source": [
    "mnb = MultinomialNB()\n",
    "mnb.fit(X_train_vec, y_train)\n",
    "y_hat = mnb.predict(X_train_vec)"
   ]
  },
  {
   "cell_type": "code",
   "execution_count": 157,
   "metadata": {
    "scrolled": true
   },
   "outputs": [
    {
     "name": "stdout",
     "output_type": "stream",
     "text": [
      "[[  18  402    8]\n",
      " [   1 4140   16]\n",
      " [   0  655 1578]]\n"
     ]
    }
   ],
   "source": [
    "print(confusion_matrix(y_train, y_hat))"
   ]
  },
  {
   "cell_type": "code",
   "execution_count": 158,
   "metadata": {
    "scrolled": true
   },
   "outputs": [
    {
     "name": "stdout",
     "output_type": "stream",
     "text": [
      "0.8413024347315928\n"
     ]
    }
   ],
   "source": [
    "print(accuracy_score(y_train, y_hat))"
   ]
  },
  {
   "cell_type": "code",
   "execution_count": 159,
   "metadata": {},
   "outputs": [
    {
     "name": "stdout",
     "output_type": "stream",
     "text": [
      "0.6559612846458425\n"
     ]
    }
   ],
   "source": [
    "y_hat_test = mnb.predict(X_val_vec)\n",
    "print(accuracy_score(y_test, y_hat_test))"
   ]
  },
  {
   "cell_type": "code",
   "execution_count": 160,
   "metadata": {},
   "outputs": [],
   "source": [
    "from sklearn.model_selection import cross_val_score"
   ]
  },
  {
   "cell_type": "code",
   "execution_count": 161,
   "metadata": {},
   "outputs": [],
   "source": [
    "cv_mnb = cross_val_score(mnb, X_train_vec, y_train, cv=5, scoring = 'accuracy')"
   ]
  },
  {
   "cell_type": "code",
   "execution_count": 162,
   "metadata": {},
   "outputs": [
    {
     "data": {
      "text/plain": [
       "array([0.66202346, 0.6568915 , 0.66055718, 0.65443874, 0.65003668])"
      ]
     },
     "execution_count": 162,
     "metadata": {},
     "output_type": "execute_result"
    }
   ],
   "source": [
    "cv_mnb"
   ]
  },
  {
   "cell_type": "code",
   "execution_count": null,
   "metadata": {},
   "outputs": [],
   "source": []
  },
  {
   "cell_type": "markdown",
   "metadata": {},
   "source": [
    "### Binary Model"
   ]
  },
  {
   "cell_type": "code",
   "execution_count": 135,
   "metadata": {},
   "outputs": [],
   "source": [
    "df_binary = df"
   ]
  },
  {
   "cell_type": "code",
   "execution_count": 195,
   "metadata": {},
   "outputs": [],
   "source": [
    "df_binary.drop('target', axis=1, inplace=True)\n",
    "df_pos_binary = df_binary"
   ]
  },
  {
   "cell_type": "code",
   "execution_count": 194,
   "metadata": {},
   "outputs": [],
   "source": [
    "binary_target_dict = {'Negative emotion' : 1, 'Positive emotion' : 0, 'Neutral emotion' : 0}\n",
    "pos_binary_dict = {'Positive emotion' : 1, 'Negative emotion' : 0, 'Neutral emotion' : 0}"
   ]
  },
  {
   "cell_type": "code",
   "execution_count": 196,
   "metadata": {},
   "outputs": [],
   "source": [
    "df_binary['target'] = df_binary['Emotion'].map(binary_target_dict)\n",
    "df_pos_binary['target'] = df_binary['Emotion'].map(pos_binary_dict)"
   ]
  },
  {
   "cell_type": "markdown",
   "metadata": {},
   "source": [
    "##### Binary model with Negative as target"
   ]
  },
  {
   "cell_type": "code",
   "execution_count": 177,
   "metadata": {},
   "outputs": [],
   "source": [
    "X = df_binary.Text\n",
    "y = df_binary.target"
   ]
  },
  {
   "cell_type": "code",
   "execution_count": 178,
   "metadata": {},
   "outputs": [],
   "source": [
    "X_train, X_test, y_train, y_test = train_test_split(X, y, stratify =y, random_state=42)\n",
    "\n",
    "X_train = X_train.str.join(' ')\n",
    "X_test = X_test.str.join(' ')"
   ]
  },
  {
   "cell_type": "code",
   "execution_count": 184,
   "metadata": {},
   "outputs": [],
   "source": [
    "tfidf = TfidfVectorizer(stop_words=sw, ngram_range = (1,3))\n",
    "X_train_vec = tfidf.fit_transform(X_train)\n",
    "X_train_vec = pd.DataFrame.sparse.from_spmatrix(X_train_vec)\n",
    "X_train_vec.columns = sorted(tfidf.vocabulary_)\n",
    "X_train_vec.set_index(y_train.index, inplace=True)"
   ]
  },
  {
   "cell_type": "code",
   "execution_count": 185,
   "metadata": {},
   "outputs": [],
   "source": [
    "X_val_vec = tfidf.transform(X_test)\n",
    "X_val_vec = pd.DataFrame.sparse.from_spmatrix(X_val_vec)\n",
    "X_val_vec.columns = sorted(tfidf.vocabulary_)\n",
    "X_val_vec.set_index(y_test.index, inplace=True)"
   ]
  },
  {
   "cell_type": "code",
   "execution_count": 186,
   "metadata": {},
   "outputs": [],
   "source": [
    "mnb = MultinomialNB()\n",
    "mnb.fit(X_train_vec, y_train)\n",
    "y_hat = mnb.predict(X_train_vec)"
   ]
  },
  {
   "cell_type": "code",
   "execution_count": 188,
   "metadata": {
    "scrolled": true
   },
   "outputs": [
    {
     "name": "stdout",
     "output_type": "stream",
     "text": [
      "[[6391    0]\n",
      " [ 413   14]]\n"
     ]
    }
   ],
   "source": [
    "print(confusion_matrix(y_train, y_hat))"
   ]
  },
  {
   "cell_type": "code",
   "execution_count": 226,
   "metadata": {},
   "outputs": [],
   "source": [
    "from imblearn.over_sampling import RandomOverSampler"
   ]
  },
  {
   "cell_type": "markdown",
   "metadata": {},
   "source": [
    "##### Binary model with positive as target"
   ]
  },
  {
   "cell_type": "code",
   "execution_count": 207,
   "metadata": {},
   "outputs": [
    {
     "data": {
      "text/plain": [
       "0    6113\n",
       "1    2978\n",
       "Name: target, dtype: int64"
      ]
     },
     "execution_count": 207,
     "metadata": {},
     "output_type": "execute_result"
    }
   ],
   "source": [
    "df_pos_binary['target'].value_counts()"
   ]
  },
  {
   "cell_type": "code",
   "execution_count": 208,
   "metadata": {},
   "outputs": [],
   "source": [
    "X = df_pos_binary.Text\n",
    "y = df_pos_binary.target"
   ]
  },
  {
   "cell_type": "code",
   "execution_count": 209,
   "metadata": {},
   "outputs": [],
   "source": [
    "X_train, X_test, y_train, y_test = train_test_split(X, y, stratify =y, random_state=42)\n",
    "\n",
    "X_train = X_train.str.join(' ')\n",
    "X_test = X_test.str.join(' ')"
   ]
  },
  {
   "cell_type": "code",
   "execution_count": 210,
   "metadata": {},
   "outputs": [],
   "source": [
    "tfidf = TfidfVectorizer(stop_words=sw, ngram_range = (1,3))\n",
    "X_train_vec = tfidf.fit_transform(X_train)\n",
    "X_train_vec = pd.DataFrame.sparse.from_spmatrix(X_train_vec)\n",
    "X_train_vec.columns = sorted(tfidf.vocabulary_)\n",
    "X_train_vec.set_index(y_train.index, inplace=True)"
   ]
  },
  {
   "cell_type": "code",
   "execution_count": 211,
   "metadata": {},
   "outputs": [],
   "source": [
    "X_val_vec = tfidf.transform(X_test)\n",
    "X_val_vec = pd.DataFrame.sparse.from_spmatrix(X_val_vec)\n",
    "X_val_vec.columns = sorted(tfidf.vocabulary_)\n",
    "X_val_vec.set_index(y_test.index, inplace=True)"
   ]
  },
  {
   "cell_type": "code",
   "execution_count": 215,
   "metadata": {},
   "outputs": [],
   "source": [
    "mnb = MultinomialNB()\n",
    "mnb.fit(X_train_vec, y_train)\n",
    "y_hat = mnb.predict(X_train_vec)\n",
    "y_test_hat = mnb.predict(X_val_vec)"
   ]
  },
  {
   "cell_type": "code",
   "execution_count": 214,
   "metadata": {
    "scrolled": true
   },
   "outputs": [
    {
     "name": "stdout",
     "output_type": "stream",
     "text": [
      "Training Accuracy: 0.8876503373423291\n",
      "Testing Accuracy: 0.7127144742630884\n",
      "F1 Score: 0.6536448564247553\n",
      "Recall: 0.7127144742630884\n",
      "Precision: 0.7143568554844766\n"
     ]
    }
   ],
   "source": [
    "summary_scores(mnb, X_train_vec, X_val_vec, y_train, y_test)"
   ]
  },
  {
   "cell_type": "code",
   "execution_count": 218,
   "metadata": {
    "scrolled": true
   },
   "outputs": [
    {
     "name": "stdout",
     "output_type": "stream",
     "text": [
      "[[1469   59]\n",
      " [ 594  151]]\n"
     ]
    }
   ],
   "source": [
    "print(confusion_matrix(y_test, y_test_hat))"
   ]
  },
  {
   "cell_type": "code",
   "execution_count": 175,
   "metadata": {},
   "outputs": [],
   "source": [
    "from imblearn.over_sampling import SMOTE"
   ]
  },
  {
   "cell_type": "code",
   "execution_count": null,
   "metadata": {},
   "outputs": [],
   "source": []
  }
 ],
 "metadata": {
  "kernelspec": {
   "display_name": "Python 3",
   "language": "python",
   "name": "python3"
  },
  "language_info": {
   "codemirror_mode": {
    "name": "ipython",
    "version": 3
   },
   "file_extension": ".py",
   "mimetype": "text/x-python",
   "name": "python",
   "nbconvert_exporter": "python",
   "pygments_lexer": "ipython3",
   "version": "3.8.5"
  }
 },
 "nbformat": 4,
 "nbformat_minor": 4
}
