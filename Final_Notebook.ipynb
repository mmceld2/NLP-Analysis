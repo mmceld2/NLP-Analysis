{
 "cells": [
  {
   "cell_type": "code",
   "execution_count": 307,
   "metadata": {},
   "outputs": [],
   "source": [
    "import pandas as pd\n",
    "from nltk import word_tokenize\n",
    "from keras.preprocessing.sequence import pad_sequences\n",
    "from keras.layers import Input, Dense, LSTM, Embedding\n",
    "from keras import regularizers\n",
    "from keras.layers import Dropout, Activation, Bidirectional, GlobalMaxPool1D\n",
    "from keras.models import Sequential\n",
    "from keras import initializers, regularizers, constraints, optimizers, layers\n",
    "from keras.preprocessing import text, sequence\n",
    "import matplotlib.pyplot as plt\n",
    "from string import punctuation\n",
    "import nltk\n",
    "from nltk.tokenize import regexp_tokenize, word_tokenize, RegexpTokenizer, RegexpTokenizer, TweetTokenizer\n",
    "from nltk.corpus import stopwords, wordnet\n",
    "from nltk import pos_tag\n",
    "import seaborn as sns\n",
    "from nltk.stem import WordNetLemmatizer\n",
    "from sklearn.linear_model import LogisticRegression , SGDClassifier\n",
    "from sklearn.feature_extraction.text import TfidfVectorizer, CountVectorizer\n",
    "from sklearn.model_selection import train_test_split , cross_validate , GridSearchCV, cross_val_predict\n",
    "from sklearn.pipeline import make_pipeline , Pipeline\n",
    "from sklearn.naive_bayes import MultinomialNB\n",
    "from sklearn.metrics import accuracy_score, precision_score, confusion_matrix, recall_score, f1_score, plot_confusion_matrix\n",
    "from nltk.corpus import stopwords as sw\n",
    "from sklearn.ensemble import RandomForestClassifier\n",
    "from nltk.tokenize import  word_tokenize\n",
    "from nltk.sentiment.vader import SentimentIntensityAnalyzer\n",
    "pd.set_option ('display.max_colwidth', None)\n",
    "from sklearn.svm import SVC\n",
    "from imblearn.over_sampling import SMOTE\n",
    "from imblearn.pipeline import Pipeline as imbpipe\n",
    "from xgboost import XGBClassifier\n",
    "from nltk.stem.snowball import SnowballStemmer\n",
    "import warnings\n",
    "warnings.filterwarnings('ignore')\n",
    "%matplotlib inline\n"
   ]
  },
  {
   "cell_type": "code",
   "execution_count": 188,
   "metadata": {},
   "outputs": [],
   "source": [
    "def mean_scores(results):\n",
    "    '''Return Train/Test Mean Score from a Cross Val'''\n",
    "    return print(f'''Mean Train Score: {results['train_score'].mean()}\n",
    "Mean Test Score: {results['test_score'].mean()}''')\n",
    "\n",
    "def metrics(y_true,y_preds):\n",
    "    '''Gives recall,precision,accuracy,F1 score and confusion matrix'''\n",
    "    return print(f'''Recall Score: {recall_score(y_true,y_preds,average='micro')}\n",
    "Precision Score: {precision_score(y_true,y_preds,average='micro')}\n",
    "Accuracy Score:{accuracy_score(y_true,y_preds)}\n",
    "F1 Score: {f1_score(y_true,y_preds,average='micro')}\n",
    "Confusion Matrix: \n",
    "{confusion_matrix(y_true,y_preds)}''')\n",
    "\n",
    "def gs_mean_scores(results):\n",
    "    '''Return Train and Test Scores from a grid search'''\n",
    "    return print(f'''Mean Train Score: {results.cv_results_['mean_train_score'].mean()}'\n",
    "Mean Test Score: {results.cv_results_['mean_test_score'].mean()}''')\n",
    "\n",
    "def company_search(test):\n",
    "    if test == 'iphone':\n",
    "        return 'apple'\n",
    "    elif test == 'apple':\n",
    "        return 'apple'\n",
    "    elif test == 'ipad':\n",
    "        return 'apple'\n",
    "    elif test == 'ipad or iphone app':\n",
    "        return 'apple'\n",
    "    elif test == 'itunes':\n",
    "        return 'apple'\n",
    "    elif test == 'other apple product or service':\n",
    "        return 'apple'\n",
    "    elif test == 'ios':\n",
    "        return 'apple'\n",
    "    elif test == 'ipadquot':\n",
    "        return 'apple'\n",
    "    elif test == 'applequot':\n",
    "        return 'apple'\n",
    "    elif test == 'iphonequot':\n",
    "        return 'apple'\n",
    "    elif test == 'quotiphone':\n",
    "        return 'apple'\n",
    "    elif test == 'iosquot':\n",
    "        return 'apple'\n",
    "    elif test =='quotipad':\n",
    "        return 'apple'\n",
    "    elif test == 'quotapple':\n",
    "        return 'apple'\n",
    "    elif test =='google':\n",
    "        return 'google'\n",
    "    elif test == 'android':\n",
    "        return 'google'\n",
    "    elif test == 'other google product or service':\n",
    "        return 'google'\n",
    "    elif test == 'android app':\n",
    "        return 'google'\n",
    "    elif test == 'quotgoogle':\n",
    "        return 'google'\n",
    "    elif test == 'googlequot':\n",
    "        return 'google'\n",
    "    elif test == 'androidquot':\n",
    "        return 'google'\n",
    "    else:\n",
    "        return 'unknown'"
   ]
  },
  {
   "cell_type": "markdown",
   "metadata": {},
   "source": [
    "# EDA and Pre Processing"
   ]
  },
  {
   "cell_type": "code",
   "execution_count": 195,
   "metadata": {},
   "outputs": [
    {
     "data": {
      "text/plain": [
       "tweet_text                                               1\n",
       "emotion_in_tweet_is_directed_at                       5802\n",
       "is_there_an_emotion_directed_at_a_brand_or_product       0\n",
       "dtype: int64"
      ]
     },
     "execution_count": 195,
     "metadata": {},
     "output_type": "execute_result"
    }
   ],
   "source": [
    "df = pd.read_csv('data/judge-1377884607_tweet_product_company.csv',encoding='latin1')\n",
    "df.isna().sum()"
   ]
  },
  {
   "cell_type": "markdown",
   "metadata": {},
   "source": [
    "There are 5802 missing values telling what the tweet is directed at. A way to combat this would be to look at the tweet and look for keywords such as iphone or ipad and assign who it is directed to that way."
   ]
  },
  {
   "cell_type": "code",
   "execution_count": 196,
   "metadata": {},
   "outputs": [],
   "source": [
    "#We drop the 1 NA value from our dataset\n",
    "df = df.dropna(subset=['tweet_text'])"
   ]
  },
  {
   "cell_type": "code",
   "execution_count": 197,
   "metadata": {},
   "outputs": [],
   "source": [
    "#Take out puncuation and other unnecessary characters\n",
    "df['tweet_text'] = df['tweet_text'].str.replace(r'[^\\w\\s]', '')\n",
    "df['tweet_text'] = df['tweet_text'].str.replace('quot', '')\n",
    "# Make lower case and split\n",
    "df['tweet_text'] = df['tweet_text'].str.lower()"
   ]
  },
  {
   "cell_type": "code",
   "execution_count": null,
   "metadata": {},
   "outputs": [],
   "source": []
  },
  {
   "cell_type": "code",
   "execution_count": 198,
   "metadata": {},
   "outputs": [],
   "source": [
    "snbstem = SnowballStemmer('english')\n",
    "df['lem_text'] = df['tweet_text'].apply(lambda x: [snbstem.stem(x)])"
   ]
  },
  {
   "cell_type": "code",
   "execution_count": 199,
   "metadata": {},
   "outputs": [],
   "source": [
    "df['tweet_text'] = df['tweet_text'].str.split(' ')"
   ]
  },
  {
   "cell_type": "markdown",
   "metadata": {},
   "source": [
    "Here we do some basic cleaning of the data set, removing puncuation making everything lower case and splitting the data. We also use snowball stemmer."
   ]
  },
  {
   "cell_type": "code",
   "execution_count": 201,
   "metadata": {},
   "outputs": [],
   "source": [
    "# Make a blank column to set up for some data cleaning\n",
    "df['test'] = ''\n",
    "# Fill in the values with a string na to avoid errors\n",
    "df.fillna('na',inplace=True)"
   ]
  },
  {
   "cell_type": "code",
   "execution_count": 202,
   "metadata": {},
   "outputs": [],
   "source": [
    "# This salvages alot of our data\n",
    "\n",
    "apple = ['iphone','ipad','apple','apples','ipads']\n",
    "android = ['android','google','androids','googles']\n",
    "\n",
    "# Loop through the tweet column and look for keywords to assign product to\n",
    "for ind , val in enumerate(df['tweet_text']):\n",
    "    if df['emotion_in_tweet_is_directed_at'].values[ind] == 'na':\n",
    "        for y in val:\n",
    "            if y in apple:\n",
    "                df['test'].values[ind] = y\n",
    "            elif y in android:\n",
    "                df['test'].values[ind] = y\n",
    "                \n",
    "    else:\n",
    "        df['test'].values[ind] = df['emotion_in_tweet_is_directed_at'].values[ind]"
   ]
  },
  {
   "cell_type": "markdown",
   "metadata": {},
   "source": [
    "For this process, we looped over the tweets themselves to see if we could determine what product or company the tweet was above."
   ]
  },
  {
   "cell_type": "code",
   "execution_count": 203,
   "metadata": {},
   "outputs": [
    {
     "data": {
      "text/plain": [
       "915"
      ]
     },
     "execution_count": 203,
     "metadata": {},
     "output_type": "execute_result"
    }
   ],
   "source": [
    "len(df.loc[df['test'] == ''])"
   ]
  },
  {
   "cell_type": "markdown",
   "metadata": {},
   "source": [
    "We managed to fill in 4886 rows of missing data with our for loop."
   ]
  },
  {
   "cell_type": "code",
   "execution_count": 204,
   "metadata": {},
   "outputs": [
    {
     "data": {
      "text/plain": [
       "array(['iphone', 'ipad or iphone app', 'ipad', 'google', 'android',\n",
       "       'apple', 'android app', 'other google product or service', '',\n",
       "       'googles', 'ipads', 'apples', 'other apple product or service',\n",
       "       'androids'], dtype=object)"
      ]
     },
     "execution_count": 204,
     "metadata": {},
     "output_type": "execute_result"
    }
   ],
   "source": [
    "#make everything lower case to make values match\n",
    "df['test'] = df['test'].map(lambda x : x.lower())\n",
    "df['test'].unique()"
   ]
  },
  {
   "cell_type": "code",
   "execution_count": 205,
   "metadata": {},
   "outputs": [],
   "source": [
    "#This cell replaces words with the rightful product to reduce unique values\n",
    "df['test'] = df['test'].replace({'googles': 'google', 'apples': 'apple', 'androids': 'android','ipads':'ipad'})\n"
   ]
  },
  {
   "cell_type": "code",
   "execution_count": 206,
   "metadata": {},
   "outputs": [
    {
     "data": {
      "text/plain": [
       "array(['Negative emotion', 'Positive emotion',\n",
       "       'No emotion toward brand or product', \"I can't tell\"], dtype=object)"
      ]
     },
     "execution_count": 206,
     "metadata": {},
     "output_type": "execute_result"
    }
   ],
   "source": [
    "df['is_there_an_emotion_directed_at_a_brand_or_product'].unique()"
   ]
  },
  {
   "cell_type": "markdown",
   "metadata": {},
   "source": [
    "Looking at the target of our dataset, there seems to be four different values. Negative emotion, positive emotion, no emotion and I can't tell. Let's get a closer look at these 'I can't tell' labels."
   ]
  },
  {
   "cell_type": "code",
   "execution_count": 207,
   "metadata": {},
   "outputs": [
    {
     "data": {
      "text/plain": [
       "156"
      ]
     },
     "execution_count": 207,
     "metadata": {},
     "output_type": "execute_result"
    }
   ],
   "source": [
    "len(df.loc[df['is_there_an_emotion_directed_at_a_brand_or_product'] == \"I can't tell\"])"
   ]
  },
  {
   "cell_type": "markdown",
   "metadata": {},
   "source": [
    "Since this makes up such a small amount of our data, we will move the I can't tell value to that of neutral, along with the value 'No emotion toward brand or product'."
   ]
  },
  {
   "cell_type": "code",
   "execution_count": 208,
   "metadata": {},
   "outputs": [],
   "source": [
    "# Here we make change targets into more readable text\n",
    "emotion_dict = {'No emotion toward brand or product' : 'Neutral emotion', \"I can't tell\": 'Neutral emotion', 'Positive emotion': 'Positive emotion',\n",
    "               'Negative emotion': 'Negative emotion'}\n",
    "df['is_there_an_emotion_directed_at_a_brand_or_product'] = df['is_there_an_emotion_directed_at_a_brand_or_product'].map(emotion_dict)"
   ]
  },
  {
   "cell_type": "code",
   "execution_count": 209,
   "metadata": {},
   "outputs": [
    {
     "data": {
      "text/plain": [
       "array(['Negative emotion', 'Positive emotion', 'Neutral emotion'],\n",
       "      dtype=object)"
      ]
     },
     "execution_count": 209,
     "metadata": {},
     "output_type": "execute_result"
    }
   ],
   "source": [
    "df['is_there_an_emotion_directed_at_a_brand_or_product'].unique()"
   ]
  },
  {
   "cell_type": "markdown",
   "metadata": {},
   "source": [
    "We have now turned our dataset into a ternary classification set. With this we will now begin our modeling."
   ]
  },
  {
   "cell_type": "code",
   "execution_count": null,
   "metadata": {},
   "outputs": [],
   "source": []
  },
  {
   "cell_type": "code",
   "execution_count": null,
   "metadata": {},
   "outputs": [],
   "source": []
  },
  {
   "cell_type": "code",
   "execution_count": 305,
   "metadata": {},
   "outputs": [
    {
     "data": {
      "image/png": "[encoded data removed]",
      "text/plain": [
       "<Figure size 432x288 with 1 Axes>"
      ]
     },
     "metadata": {
      "needs_background": "light"
     },
     "output_type": "display_data"
    }
   ],
   "source": [
    "df_dist = df.groupby('is_there_an_emotion_directed_at_a_brand_or_product').count()\n",
    "fig ,ax = plt.subplots()\n",
    "df['is_there_an_emotion_directed_at_a_brand_or_product'].value_counts(normalize=True).plot.bar()\n",
    "\n",
    "plt.xticks(rotation=0,fontsize=10)\n",
    "ax.set_xlabel('Sentiment of Tweet',fontsize=12)\n",
    "ax.set_ylabel('Percent of Distribution',fontsize=12)\n",
    "ax.set_title('Distribution of Sentiments',fontsize=14);"
   ]
  },
  {
   "cell_type": "code",
   "execution_count": null,
   "metadata": {},
   "outputs": [],
   "source": []
  },
  {
   "cell_type": "code",
   "execution_count": null,
   "metadata": {},
   "outputs": [],
   "source": []
  },
  {
   "cell_type": "markdown",
   "metadata": {},
   "source": [
    "# Testing"
   ]
  },
  {
   "cell_type": "code",
   "execution_count": 217,
   "metadata": {},
   "outputs": [],
   "source": [
    "# Map out our values to prepare for modeling\n",
    "target_dict = {'Negative emotion': 2, 'Neutral emotion': 1, 'Positive emotion': 0}\n",
    "df_test = df.copy()\n",
    "df_test['target'] = df['is_there_an_emotion_directed_at_a_brand_or_product'].map(target_dict)"
   ]
  },
  {
   "cell_type": "code",
   "execution_count": 218,
   "metadata": {},
   "outputs": [],
   "source": [
    "X = df_test['lem_text'].str.join(' ')\n",
    "y = df_test['target']"
   ]
  },
  {
   "cell_type": "code",
   "execution_count": 219,
   "metadata": {},
   "outputs": [],
   "source": [
    "# Make Our test and train set\n",
    "X_train,X_test,y_train,y_test = train_test_split(X,y)"
   ]
  },
  {
   "cell_type": "code",
   "execution_count": null,
   "metadata": {},
   "outputs": [],
   "source": []
  },
  {
   "cell_type": "code",
   "execution_count": 220,
   "metadata": {},
   "outputs": [],
   "source": [
    "# Our first model we will try a CountVectorizer with Naive Bayes\n",
    "cv = CountVectorizer()\n",
    "\n",
    "X_t_vec = cv.fit_transform(X_train)\n",
    "X_t_vec = cv.fit_transform(X_train)\n",
    "X_t_vec = pd.DataFrame.sparse.from_spmatrix(X_t_vec)\n",
    "X_t_vec.columns = sorted(cv.vocabulary_)\n",
    "X_t_vec.set_index(y_train.index, inplace=True)"
   ]
  },
  {
   "cell_type": "code",
   "execution_count": 221,
   "metadata": {},
   "outputs": [],
   "source": [
    "mnb = MultinomialNB()"
   ]
  },
  {
   "cell_type": "code",
   "execution_count": 222,
   "metadata": {},
   "outputs": [],
   "source": [
    "mnb.fit(X_t_vec,y_train)\n",
    "results = cross_validate(mnb,X_t_vec,y_train,return_train_score=True)"
   ]
  },
  {
   "cell_type": "code",
   "execution_count": 223,
   "metadata": {},
   "outputs": [
    {
     "name": "stdout",
     "output_type": "stream",
     "text": [
      "Mean Train Score: 0.8341765135163467\n",
      "Mean Test Score: 0.6630004754907128\n"
     ]
    }
   ],
   "source": [
    "mean_scores(results)"
   ]
  },
  {
   "cell_type": "markdown",
   "metadata": {},
   "source": [
    "From our first look at the model, it seems to be overfit. It has high variance from our test and train scores."
   ]
  },
  {
   "cell_type": "code",
   "execution_count": 224,
   "metadata": {},
   "outputs": [
    {
     "name": "stdout",
     "output_type": "stream",
     "text": [
      "Recall Score: 0.6630004399472064\n",
      "Precision Score: 0.6630004399472064\n",
      "Accuracy Score:0.6630004399472064\n",
      "F1 Score: 0.6630004399472064\n",
      "Confusion Matrix: \n",
      "[[1274  989   10]\n",
      " [ 854 3199   55]\n",
      " [ 170  220   48]]\n"
     ]
    }
   ],
   "source": [
    "y_hat = cross_val_predict(mnb,X_t_vec,y_train)\n",
    "metrics(y_train,y_hat)"
   ]
  },
  {
   "cell_type": "markdown",
   "metadata": {},
   "source": [
    "This model doesn't do a great job at predicting negative sentiments. Let's look at other models to see what we can find."
   ]
  },
  {
   "cell_type": "code",
   "execution_count": 225,
   "metadata": {},
   "outputs": [
    {
     "name": "stdout",
     "output_type": "stream",
     "text": [
      "Mean Train Score: 0.8971621786894103\n",
      "Mean Test Score: 0.6918886878392713\n"
     ]
    }
   ],
   "source": [
    "\n",
    "lr_pipe = Pipeline([(\"vec\" , CountVectorizer(stop_words=sw.words('english'))),\n",
    "                       (\"lr\",LogisticRegression(C=.5,solver='saga'))])\n",
    "results_LR = cross_validate(lr_pipe,X_train,y_train,return_train_score=True)\n",
    "mean_scores(results_LR)"
   ]
  },
  {
   "cell_type": "markdown",
   "metadata": {},
   "source": [
    "This scores better than our first model."
   ]
  },
  {
   "cell_type": "code",
   "execution_count": 226,
   "metadata": {},
   "outputs": [
    {
     "name": "stdout",
     "output_type": "stream",
     "text": [
      "Recall Score: 0.6917436574277753\n",
      "Precision Score: 0.6917436574277753\n",
      "Accuracy Score:0.6917436574277753\n",
      "F1 Score: 0.6917436574277753\n",
      "Confusion Matrix: \n",
      "[[1157 1097   19]\n",
      " [ 593 3461   54]\n",
      " [  93  246   99]]\n"
     ]
    }
   ],
   "source": [
    "y_hat_lr = cross_val_predict(lr_pipe, X_train, y_train)\n",
    "metrics(y_train,y_hat_lr)"
   ]
  },
  {
   "cell_type": "markdown",
   "metadata": {},
   "source": [
    "This model seems to do a better job at predictin the negative sentiment, but lost some positive snentiments. This is a better model than our first one."
   ]
  },
  {
   "cell_type": "code",
   "execution_count": 227,
   "metadata": {},
   "outputs": [],
   "source": [
    "#Here we try a TFIDFVectorizer with MNB\n",
    "pipe_tf = make_pipeline(TfidfVectorizer(stop_words=sw.words('english')), MultinomialNB())\n",
    "cv = cross_validate(pipe, X_train, y_train,return_train_score=True)"
   ]
  },
  {
   "cell_type": "code",
   "execution_count": 228,
   "metadata": {},
   "outputs": [
    {
     "name": "stdout",
     "output_type": "stream",
     "text": [
      "Mean Train Score: 0.9961138050323763\n",
      "Mean Test Score: 0.676491394909022\n"
     ]
    }
   ],
   "source": [
    "mean_scores(cv)"
   ]
  },
  {
   "cell_type": "markdown",
   "metadata": {},
   "source": [
    "This is our worst model yet"
   ]
  },
  {
   "cell_type": "code",
   "execution_count": 229,
   "metadata": {},
   "outputs": [
    {
     "name": "stdout",
     "output_type": "stream",
     "text": [
      "Recall Score: 0.649068778413257\n",
      "Precision Score: 0.649068778413257\n",
      "Accuracy Score:0.649068778413257\n",
      "F1 Score: 0.649068778413257\n",
      "Confusion Matrix: \n",
      "[[ 490 1783    0]\n",
      " [ 172 3935    1]\n",
      " [  44  393    1]]\n"
     ]
    }
   ],
   "source": [
    "y_hat_tf = cross_val_predict(pipe_tf, X_train, y_train)\n",
    "metrics(y_train,y_hat_tf)"
   ]
  },
  {
   "cell_type": "markdown",
   "metadata": {},
   "source": [
    "This model cannot predict any negatives at all. "
   ]
  },
  {
   "cell_type": "code",
   "execution_count": 230,
   "metadata": {},
   "outputs": [
    {
     "name": "stdout",
     "output_type": "stream",
     "text": [
      "Mean Train Score: 0.996150468643742\n",
      "Mean Test Score: 0.6773713754590852\n"
     ]
    }
   ],
   "source": [
    "pipe_rf = make_pipeline(TfidfVectorizer(stop_words=sw.words('english')), RandomForestClassifier())\n",
    "cv = cross_validate(pipe_rf, X_train, y_train,return_train_score=True)\n",
    "mean_scores(cv)"
   ]
  },
  {
   "cell_type": "code",
   "execution_count": 232,
   "metadata": {},
   "outputs": [
    {
     "name": "stdout",
     "output_type": "stream",
     "text": [
      "Recall Score: 0.6776653468250476\n",
      "Precision Score: 0.6776653468250476\n",
      "Accuracy Score:0.6776653468250476\n",
      "F1 Score: 0.6776653468250476\n",
      "Confusion Matrix: \n",
      "[[ 898 1372    3]\n",
      " [ 423 3651   34]\n",
      " [  66  300   72]]\n"
     ]
    }
   ],
   "source": [
    "y_hat_rf = cross_val_predict(pipe_rf, X_train, y_train)\n",
    "metrics(y_train,y_hat_rf)"
   ]
  },
  {
   "cell_type": "markdown",
   "metadata": {},
   "source": [
    "Nothing too special about this model, it is not the highest scoring and does a decent job of classifying negatives."
   ]
  },
  {
   "cell_type": "code",
   "execution_count": 233,
   "metadata": {},
   "outputs": [
    {
     "name": "stdout",
     "output_type": "stream",
     "text": [
      "Mean Train Score: 0.8246809943257416\n",
      "Mean Test Score: 0.6847026461811211\n"
     ]
    }
   ],
   "source": [
    "lr_pipe = Pipeline([(\"tfid\" , TfidfVectorizer(stop_words='english')),\n",
    "                       (\"lr\",LogisticRegression())])\n",
    "results_LR = cross_validate(lr_pipe,X_train,y_train,return_train_score=True)\n",
    "mean_scores(results_LR)"
   ]
  },
  {
   "cell_type": "code",
   "execution_count": 234,
   "metadata": {},
   "outputs": [
    {
     "name": "stdout",
     "output_type": "stream",
     "text": [
      "Recall Score: 0.6847045021264115\n",
      "Precision Score: 0.6847045021264115\n",
      "Accuracy Score:0.6847045021264115\n",
      "F1 Score: 0.6847045021264115\n",
      "Confusion Matrix: \n",
      "[[1046 1223    4]\n",
      " [ 502 3595   11]\n",
      " [  99  311   28]]\n"
     ]
    }
   ],
   "source": [
    "y_hat_lr = cross_val_predict(lr_pipe,X_train,y_train)\n",
    "metrics(y_train,y_hat_lr)"
   ]
  },
  {
   "cell_type": "markdown",
   "metadata": {},
   "source": [
    "Althought this does give a good accuracy score, the negative classifying isn't quire there. This model does the best overall at accuracy though. Let's tune some hyper parameters."
   ]
  },
  {
   "cell_type": "code",
   "execution_count": 235,
   "metadata": {},
   "outputs": [],
   "source": [
    "lr_grid = {'lr__C' : [.5, 1, 50],\n",
    "       'lr__max_iter' : [50,100,1750, 2000],\n",
    "       }\n",
    "\n",
    "clf_lr = GridSearchCV(lr_pipe,lr_grid,return_train_score=True)"
   ]
  },
  {
   "cell_type": "code",
   "execution_count": 236,
   "metadata": {},
   "outputs": [
    {
     "name": "stdout",
     "output_type": "stream",
     "text": [
      "Mean Train Score: 0.8506531971350055'\n",
      "Mean Test Score: 0.6773342613649812\n"
     ]
    }
   ],
   "source": [
    "lr_results = clf_lr.fit(X_train,y_train)\n",
    "gs_mean_scores(lr_results)"
   ]
  },
  {
   "cell_type": "code",
   "execution_count": 237,
   "metadata": {},
   "outputs": [
    {
     "data": {
      "text/plain": [
       "{'lr__C': 1, 'lr__max_iter': 100}"
      ]
     },
     "execution_count": 237,
     "metadata": {},
     "output_type": "execute_result"
    }
   ],
   "source": [
    "clf_lr.best_params_\n"
   ]
  },
  {
   "cell_type": "code",
   "execution_count": 238,
   "metadata": {},
   "outputs": [
    {
     "name": "stdout",
     "output_type": "stream",
     "text": [
      "Mean Train Score: 0.8246809943257416\n",
      "Mean Test Score: 0.6847026461811211\n"
     ]
    }
   ],
   "source": [
    "lr_pipe2 = Pipeline([(\"tfid\" , TfidfVectorizer(stop_words='english')),\n",
    "                       (\"lr\",LogisticRegression(max_iter=50))])\n",
    "results_LR = cross_validate(lr_pipe,X_train,y_train,return_train_score=True)\n",
    "mean_scores(results_LR)"
   ]
  },
  {
   "cell_type": "code",
   "execution_count": 239,
   "metadata": {},
   "outputs": [
    {
     "name": "stdout",
     "output_type": "stream",
     "text": [
      "Recall Score: 0.6835313095761842\n",
      "Precision Score: 0.6835313095761842\n",
      "Accuracy Score:0.6835313095761842\n",
      "F1 Score: 0.6835313095761842\n",
      "Confusion Matrix: \n",
      "[[1042 1227    4]\n",
      " [ 502 3593   13]\n",
      " [  98  314   26]]\n"
     ]
    }
   ],
   "source": [
    "y_preds = cross_val_predict(lr_pipe2,X_train,y_train)\n",
    "metrics(y_train,y_preds)"
   ]
  },
  {
   "cell_type": "markdown",
   "metadata": {},
   "source": [
    "This model performs well but is still struggling with the negative classification."
   ]
  },
  {
   "cell_type": "code",
   "execution_count": 240,
   "metadata": {},
   "outputs": [
    {
     "name": "stdout",
     "output_type": "stream",
     "text": [
      "Mean Train Score: 0.9137336740755474\n",
      "Mean Test Score: 0.6932087662414503\n"
     ]
    }
   ],
   "source": [
    "svc_pipe = Pipeline([(\"tfid\" , TfidfVectorizer(stop_words=sw.words('english'))),\n",
    "                     (\"svc\", SVC())])\n",
    "results_svc = cross_validate(svc_pipe,X_train,y_train,return_train_score=True)\n",
    "mean_scores(results_svc)"
   ]
  },
  {
   "cell_type": "code",
   "execution_count": 83,
   "metadata": {},
   "outputs": [
    {
     "name": "stdout",
     "output_type": "stream",
     "text": [
      "Recall Score: 0.6932101481155595\n",
      "Precision Score: 0.6932101481155595\n",
      "Accuracy Score:0.6932101481155595\n",
      "F1 Score: 0.6932101481155595\n",
      "Confusion Matrix: \n",
      "[[ 885 1340    1]\n",
      " [ 363 3806   10]\n",
      " [  47  331   36]]\n"
     ]
    }
   ],
   "source": [
    "y_svc = cross_val_predict(svc_pipe,X_train,y_train)\n",
    "metrics(y_train,y_svc)"
   ]
  },
  {
   "cell_type": "code",
   "execution_count": 346,
   "metadata": {},
   "outputs": [],
   "source": [
    "y_nn = df_test['target']\n",
    "x_nn = df_test['tweet_text']"
   ]
  },
  {
   "cell_type": "code",
   "execution_count": null,
   "metadata": {},
   "outputs": [],
   "source": []
  },
  {
   "cell_type": "code",
   "execution_count": 347,
   "metadata": {},
   "outputs": [],
   "source": [
    "model_nn = Sequential()\n",
    "model_nn.add(Embedding(7000, 100))\n",
    "model_nn.add(LSTM(25))\n",
    "model_nn.add(Dense(50, activation='relu'))\n",
    "model_nn.add(Dense(3, activation='relu'))"
   ]
  },
  {
   "cell_type": "code",
   "execution_count": 348,
   "metadata": {},
   "outputs": [],
   "source": [
    "text_t = text.Tokenizer(num_words=7000)\n",
    "text_t.fit_on_texts((x_nn))\n",
    "list_tt = text_t.texts_to_sequences(x_nn)\n",
    "x_nn = sequence.pad_sequences(list_tt)"
   ]
  },
  {
   "cell_type": "code",
   "execution_count": null,
   "metadata": {},
   "outputs": [],
   "source": []
  },
  {
   "cell_type": "code",
   "execution_count": 349,
   "metadata": {},
   "outputs": [
    {
     "name": "stdout",
     "output_type": "stream",
     "text": [
      "Model: \"sequential_6\"\n",
      "_________________________________________________________________\n",
      "Layer (type)                 Output Shape              Param #   \n",
      "=================================================================\n",
      "embedding_7 (Embedding)      (None, None, 100)         700000    \n",
      "_________________________________________________________________\n",
      "lstm_7 (LSTM)                (None, 25)                12600     \n",
      "_________________________________________________________________\n",
      "dense_18 (Dense)             (None, 50)                1300      \n",
      "_________________________________________________________________\n",
      "dense_19 (Dense)             (None, 3)                 153       \n",
      "=================================================================\n",
      "Total params: 714,053\n",
      "Trainable params: 714,053\n",
      "Non-trainable params: 0\n",
      "_________________________________________________________________\n"
     ]
    }
   ],
   "source": [
    "model_nn.compile(optimizer='adam',\n",
    "              loss='binary_crossentropy',\n",
    "              metrics=['accuracy'])\n",
    "model_nn.summary()"
   ]
  },
  {
   "cell_type": "code",
   "execution_count": 352,
   "metadata": {},
   "outputs": [
    {
     "name": "stdout",
     "output_type": "stream",
     "text": [
      "Epoch 1/100\n",
      "285/285 [==============================] - 2s 8ms/step - loss: -0.7227 - accuracy: 0.3781\n",
      "Epoch 2/100\n",
      "285/285 [==============================] - 2s 8ms/step - loss: -0.7254 - accuracy: 0.4706\n",
      "Epoch 3/100\n",
      "285/285 [==============================] - 2s 8ms/step - loss: -0.7263 - accuracy: 0.5365\n",
      "Epoch 4/100\n",
      "285/285 [==============================] - 2s 8ms/step - loss: -0.7067 - accuracy: 0.4480\n",
      "Epoch 5/100\n",
      "285/285 [==============================] - 2s 8ms/step - loss: -0.6903 - accuracy: 0.3299\n",
      "Epoch 6/100\n",
      "285/285 [==============================] - 2s 8ms/step - loss: -0.7320 - accuracy: 0.3303\n",
      "Epoch 7/100\n",
      "285/285 [==============================] - 2s 8ms/step - loss: -0.7292 - accuracy: 0.3894\n",
      "Epoch 8/100\n",
      "285/285 [==============================] - 2s 8ms/step - loss: -0.7408 - accuracy: 0.4655\n",
      "Epoch 9/100\n",
      "285/285 [==============================] - 2s 8ms/step - loss: -0.7318 - accuracy: 0.5223\n",
      "Epoch 10/100\n",
      "285/285 [==============================] - 2s 8ms/step - loss: -0.7424 - accuracy: 0.5494\n",
      "Epoch 11/100\n",
      "285/285 [==============================] - 2s 8ms/step - loss: -0.6230 - accuracy: 0.5797\n",
      "Epoch 12/100\n",
      "285/285 [==============================] - 2s 8ms/step - loss: -0.6990 - accuracy: 0.6157\n",
      "Epoch 13/100\n",
      "285/285 [==============================] - 2s 8ms/step - loss: -0.7317 - accuracy: 0.6734\n",
      "Epoch 14/100\n",
      "285/285 [==============================] - 2s 8ms/step - loss: -0.7524 - accuracy: 0.5679\n",
      "Epoch 15/100\n",
      "285/285 [==============================] - 2s 8ms/step - loss: -0.7666 - accuracy: 0.6011\n",
      "Epoch 16/100\n",
      "285/285 [==============================] - 2s 8ms/step - loss: -0.7726 - accuracy: 0.6389\n",
      "Epoch 17/100\n",
      "285/285 [==============================] - 2s 8ms/step - loss: -0.7742 - accuracy: 0.6281\n",
      "Epoch 18/100\n",
      "285/285 [==============================] - 2s 8ms/step - loss: -0.7653 - accuracy: 0.6980\n",
      "Epoch 19/100\n",
      "285/285 [==============================] - 2s 8ms/step - loss: -0.7388 - accuracy: 0.6795\n",
      "Epoch 20/100\n",
      "285/285 [==============================] - 2s 8ms/step - loss: -0.6623 - accuracy: 0.7256\n",
      "Epoch 21/100\n",
      "285/285 [==============================] - 2s 8ms/step - loss: -0.7140 - accuracy: 0.6335\n",
      "Epoch 22/100\n",
      "285/285 [==============================] - 2s 8ms/step - loss: -0.7552 - accuracy: 0.5936\n",
      "Epoch 23/100\n",
      "285/285 [==============================] - 2s 8ms/step - loss: -0.7647 - accuracy: 0.5881\n",
      "Epoch 24/100\n",
      "285/285 [==============================] - 2s 8ms/step - loss: -0.7691 - accuracy: 0.6222\n",
      "Epoch 25/100\n",
      "285/285 [==============================] - 2s 8ms/step - loss: -0.7729 - accuracy: 0.6312\n",
      "Epoch 26/100\n",
      "285/285 [==============================] - 2s 8ms/step - loss: -0.7792 - accuracy: 0.6819\n",
      "Epoch 27/100\n",
      "285/285 [==============================] - ETA: 0s - loss: -0.7773 - accuracy: 0.730 - 2s 8ms/step - loss: -0.7792 - accuracy: 0.7311\n",
      "Epoch 28/100\n",
      "285/285 [==============================] - 2s 8ms/step - loss: -0.7796 - accuracy: 0.7003\n",
      "Epoch 29/100\n",
      "285/285 [==============================] - 2s 8ms/step - loss: -0.7721 - accuracy: 0.7301\n",
      "Epoch 30/100\n",
      "285/285 [==============================] - 2s 8ms/step - loss: -0.7190 - accuracy: 0.6337\n",
      "Epoch 31/100\n",
      "285/285 [==============================] - 2s 8ms/step - loss: -0.7241 - accuracy: 0.4822\n",
      "Epoch 32/100\n",
      "285/285 [==============================] - 2s 8ms/step - loss: -0.7477 - accuracy: 0.4968\n",
      "Epoch 33/100\n",
      "285/285 [==============================] - 2s 8ms/step - loss: -0.7461 - accuracy: 0.4548\n",
      "Epoch 34/100\n",
      "285/285 [==============================] - 2s 8ms/step - loss: -0.7779 - accuracy: 0.4786\n",
      "Epoch 35/100\n",
      "285/285 [==============================] - 2s 8ms/step - loss: -0.7843 - accuracy: 0.5546\n",
      "Epoch 36/100\n",
      "285/285 [==============================] - 2s 8ms/step - loss: -0.7870 - accuracy: 0.6200\n",
      "Epoch 37/100\n",
      "285/285 [==============================] - 2s 8ms/step - loss: -0.7889 - accuracy: 0.6075\n",
      "Epoch 38/100\n",
      "285/285 [==============================] - 2s 8ms/step - loss: -0.7718 - accuracy: 0.6117\n",
      "Epoch 39/100\n",
      "285/285 [==============================] - 2s 8ms/step - loss: -0.7121 - accuracy: 0.7066\n",
      "Epoch 40/100\n",
      "285/285 [==============================] - 2s 8ms/step - loss: -0.7098 - accuracy: 0.8328\n",
      "Epoch 41/100\n",
      "285/285 [==============================] - 2s 8ms/step - loss: -0.7623 - accuracy: 0.8112\n",
      "Epoch 42/100\n",
      "285/285 [==============================] - 2s 8ms/step - loss: -0.7844 - accuracy: 0.8249\n",
      "Epoch 43/100\n",
      "285/285 [==============================] - 2s 8ms/step - loss: -0.7892 - accuracy: 0.8374\n",
      "Epoch 44/100\n",
      "285/285 [==============================] - 2s 8ms/step - loss: -0.7906 - accuracy: 0.8307\n",
      "Epoch 45/100\n",
      "285/285 [==============================] - 2s 8ms/step - loss: -0.7923 - accuracy: 0.8230\n",
      "Epoch 46/100\n",
      "285/285 [==============================] - 2s 8ms/step - loss: -0.7921 - accuracy: 0.8293\n",
      "Epoch 47/100\n",
      "285/285 [==============================] - 2s 8ms/step - loss: -0.7930 - accuracy: 0.8229\n",
      "Epoch 48/100\n",
      "285/285 [==============================] - 2s 8ms/step - loss: -0.7824 - accuracy: 0.8269\n",
      "Epoch 49/100\n",
      "285/285 [==============================] - 2s 8ms/step - loss: -0.6740 - accuracy: 0.8363\n",
      "Epoch 50/100\n",
      "285/285 [==============================] - 2s 8ms/step - loss: -0.7402 - accuracy: 0.8429\n",
      "Epoch 51/100\n",
      "285/285 [==============================] - 2s 8ms/step - loss: -0.7755 - accuracy: 0.8525\n",
      "Epoch 52/100\n",
      "285/285 [==============================] - 2s 8ms/step - loss: -0.7849 - accuracy: 0.8938\n",
      "Epoch 53/100\n",
      "285/285 [==============================] - 2s 8ms/step - loss: -0.7895 - accuracy: 0.8775\n",
      "Epoch 54/100\n",
      "285/285 [==============================] - 2s 8ms/step - loss: -0.7361 - accuracy: 0.8029\n",
      "Epoch 55/100\n",
      "285/285 [==============================] - 2s 8ms/step - loss: -0.8011 - accuracy: 0.8357\n",
      "Epoch 56/100\n",
      "285/285 [==============================] - 2s 8ms/step - loss: -0.8018 - accuracy: 0.8075\n",
      "Epoch 57/100\n",
      "285/285 [==============================] - 2s 8ms/step - loss: -0.7295 - accuracy: 0.7293\n",
      "Epoch 58/100\n",
      "285/285 [==============================] - 2s 8ms/step - loss: -0.7658 - accuracy: 0.7371\n",
      "Epoch 59/100\n",
      "285/285 [==============================] - 2s 8ms/step - loss: -0.7846 - accuracy: 0.4073\n",
      "Epoch 60/100\n",
      "285/285 [==============================] - 2s 8ms/step - loss: -0.7986 - accuracy: 0.3910\n",
      "Epoch 61/100\n",
      "285/285 [==============================] - 2s 8ms/step - loss: -0.8025 - accuracy: 0.3821\n",
      "Epoch 62/100\n",
      "285/285 [==============================] - 2s 8ms/step - loss: -0.8004 - accuracy: 0.3891\n",
      "Epoch 63/100\n",
      "285/285 [==============================] - 2s 8ms/step - loss: -0.8058 - accuracy: 0.3902\n",
      "Epoch 64/100\n",
      "285/285 [==============================] - 2s 8ms/step - loss: -0.8044 - accuracy: 0.3899\n",
      "Epoch 65/100\n",
      "285/285 [==============================] - 2s 8ms/step - loss: -0.7652 - accuracy: 0.3649\n",
      "Epoch 66/100\n",
      "285/285 [==============================] - 2s 8ms/step - loss: -0.7854 - accuracy: 0.4810\n",
      "Epoch 67/100\n",
      "285/285 [==============================] - 2s 8ms/step - loss: -0.7730 - accuracy: 0.5453\n",
      "Epoch 68/100\n",
      "285/285 [==============================] - 2s 8ms/step - loss: -0.6765 - accuracy: 0.7077\n",
      "Epoch 69/100\n",
      "285/285 [==============================] - 2s 8ms/step - loss: -0.7844 - accuracy: 0.7939\n",
      "Epoch 70/100\n",
      "285/285 [==============================] - 2s 8ms/step - loss: -0.7756 - accuracy: 0.7818\n",
      "Epoch 71/100\n",
      "285/285 [==============================] - 2s 8ms/step - loss: -0.7914 - accuracy: 0.7731\n",
      "Epoch 72/100\n",
      "285/285 [==============================] - 2s 8ms/step - loss: -0.7973 - accuracy: 0.8216\n",
      "Epoch 73/100\n",
      "285/285 [==============================] - 2s 8ms/step - loss: -0.8038 - accuracy: 0.7865\n",
      "Epoch 74/100\n",
      "285/285 [==============================] - 2s 8ms/step - loss: -0.8015 - accuracy: 0.8209\n",
      "Epoch 75/100\n",
      "285/285 [==============================] - 2s 8ms/step - loss: -0.7880 - accuracy: 0.7887\n",
      "Epoch 76/100\n",
      "285/285 [==============================] - 2s 8ms/step - loss: -0.7911 - accuracy: 0.8087\n",
      "Epoch 77/100\n",
      "285/285 [==============================] - 2s 8ms/step - loss: -0.7867 - accuracy: 0.8461\n",
      "Epoch 78/100\n",
      "285/285 [==============================] - 2s 8ms/step - loss: -0.8058 - accuracy: 0.8657\n",
      "Epoch 79/100\n",
      "285/285 [==============================] - 2s 8ms/step - loss: -0.8165 - accuracy: 0.8721\n",
      "Epoch 80/100\n",
      "285/285 [==============================] - 2s 8ms/step - loss: -0.8127 - accuracy: 0.8304\n",
      "Epoch 81/100\n",
      "285/285 [==============================] - 2s 8ms/step - loss: -0.8176 - accuracy: 0.8264\n",
      "Epoch 82/100\n",
      "285/285 [==============================] - 2s 8ms/step - loss: -0.8020 - accuracy: 0.8158\n",
      "Epoch 83/100\n",
      "285/285 [==============================] - 2s 8ms/step - loss: -0.7785 - accuracy: 0.8407\n",
      "Epoch 84/100\n",
      "285/285 [==============================] - 2s 8ms/step - loss: -0.7957 - accuracy: 0.8610\n",
      "Epoch 85/100\n",
      "285/285 [==============================] - 2s 8ms/step - loss: -0.7258 - accuracy: 0.7069\n",
      "Epoch 86/100\n",
      "285/285 [==============================] - 2s 8ms/step - loss: -0.7624 - accuracy: 0.4451\n",
      "Epoch 87/100\n",
      "285/285 [==============================] - 2s 8ms/step - loss: -0.7867 - accuracy: 0.6914\n",
      "Epoch 88/100\n",
      "285/285 [==============================] - 2s 8ms/step - loss: -0.8027 - accuracy: 0.7103\n",
      "Epoch 89/100\n",
      "285/285 [==============================] - 2s 8ms/step - loss: -0.8052 - accuracy: 0.7492\n",
      "Epoch 90/100\n",
      "285/285 [==============================] - 2s 8ms/step - loss: -0.7920 - accuracy: 0.7666\n",
      "Epoch 91/100\n",
      "285/285 [==============================] - 2s 8ms/step - loss: -0.8041 - accuracy: 0.6963\n",
      "Epoch 92/100\n",
      "285/285 [==============================] - 2s 8ms/step - loss: -0.8046 - accuracy: 0.4827\n",
      "Epoch 93/100\n",
      "285/285 [==============================] - 2s 8ms/step - loss: -0.7790 - accuracy: 0.5623\n",
      "Epoch 94/100\n",
      "285/285 [==============================] - 2s 8ms/step - loss: -0.7737 - accuracy: 0.7489\n",
      "Epoch 95/100\n",
      "285/285 [==============================] - 2s 8ms/step - loss: -0.7633 - accuracy: 0.7811\n",
      "Epoch 96/100\n",
      "285/285 [==============================] - 2s 8ms/step - loss: -0.7734 - accuracy: 0.7768A: 1s - loss: -0.\n",
      "Epoch 97/100\n",
      "285/285 [==============================] - 2s 8ms/step - loss: -0.7985 - accuracy: 0.7893\n",
      "Epoch 98/100\n",
      "285/285 [==============================] - 2s 8ms/step - loss: -0.8139 - accuracy: 0.7923\n",
      "Epoch 99/100\n",
      "285/285 [==============================] - 2s 8ms/step - loss: -0.7762 - accuracy: 0.7607\n",
      "Epoch 100/100\n",
      "285/285 [==============================] - 2s 8ms/step - loss: -0.8090 - accuracy: 0.7808\n"
     ]
    }
   ],
   "source": [
    "results = model_nn.fit(x_nn, y_nn, epochs=100)"
   ]
  },
  {
   "cell_type": "code",
   "execution_count": 360,
   "metadata": {},
   "outputs": [
    {
     "data": {
      "text/plain": [
       "[-0.7746095061302185, 0.5589529275894165]"
      ]
     },
     "execution_count": 360,
     "metadata": {},
     "output_type": "execute_result"
    }
   ],
   "source": [
    "score = model_nn.evaluate(x_nn, y_nn, verbose=0)\n",
    "score"
   ]
  },
  {
   "cell_type": "code",
   "execution_count": 342,
   "metadata": {},
   "outputs": [],
   "source": [
    "text_t = text.Tokenizer(num_words=7000)\n",
    "text_t.fit_on_texts((x_nn))\n",
    "list_tt = text_t.texts_to_sequences(x_nn)\n",
    "x_nn = sequence.pad_sequences(list_tt)"
   ]
  },
  {
   "cell_type": "code",
   "execution_count": 343,
   "metadata": {},
   "outputs": [],
   "source": [
    "model_nn2.add(Embedding(7000, 15))\n",
    "model_nn2.add(Dense(10, activation='relu', kernel_regularizer=regularizers.l1(0.005)))\n",
    "model_nn2.add(LSTM(15))\n",
    "model_nn2.add(Dropout(0.5))\n",
    "model_nn2.add(Dense(3, activation='sigmoid'))\n",
    "model_nn2.add(Dropout(0.5))\n",
    "model_nn2.add(Dense(1, activation='relu'))"
   ]
  },
  {
   "cell_type": "code",
   "execution_count": 344,
   "metadata": {},
   "outputs": [
    {
     "name": "stdout",
     "output_type": "stream",
     "text": [
      "Model: \"sequential_5\"\n",
      "_________________________________________________________________\n",
      "Layer (type)                 Output Shape              Param #   \n",
      "=================================================================\n",
      "embedding_6 (Embedding)      (None, None, 15)          105000    \n",
      "_________________________________________________________________\n",
      "dense_15 (Dense)             (None, None, 10)          160       \n",
      "_________________________________________________________________\n",
      "lstm_6 (LSTM)                (None, 15)                1560      \n",
      "_________________________________________________________________\n",
      "dropout_6 (Dropout)          (None, 15)                0         \n",
      "_________________________________________________________________\n",
      "dense_16 (Dense)             (None, 3)                 48        \n",
      "_________________________________________________________________\n",
      "dropout_7 (Dropout)          (None, 3)                 0         \n",
      "_________________________________________________________________\n",
      "dense_17 (Dense)             (None, 1)                 4         \n",
      "=================================================================\n",
      "Total params: 106,772\n",
      "Trainable params: 106,772\n",
      "Non-trainable params: 0\n",
      "_________________________________________________________________\n"
     ]
    }
   ],
   "source": [
    "model_nn2.compile(optimizer='adam',\n",
    "              loss='binary_crossentropy',\n",
    "              metrics=['accuracy'])\n",
    "model_nn2.summary()"
   ]
  },
  {
   "cell_type": "code",
   "execution_count": 345,
   "metadata": {},
   "outputs": [
    {
     "name": "stdout",
     "output_type": "stream",
     "text": [
      "Epoch 1/30\n",
      "25/25 [==============================] - 1s 27ms/step - loss: 11.5362 - accuracy: 0.3311 - val_loss: 11.4501 - val_accuracy: 0.3193\n",
      "Epoch 2/30\n",
      "25/25 [==============================] - 0s 12ms/step - loss: 11.5185 - accuracy: 0.3311 - val_loss: 11.4329 - val_accuracy: 0.3193\n",
      "Epoch 3/30\n",
      "25/25 [==============================] - 0s 11ms/step - loss: 11.5018 - accuracy: 0.3311 - val_loss: 11.4168 - val_accuracy: 0.3193\n",
      "Epoch 4/30\n",
      "25/25 [==============================] - 0s 11ms/step - loss: 11.4862 - accuracy: 0.3311 - val_loss: 11.4017 - val_accuracy: 0.3193\n",
      "Epoch 5/30\n",
      "25/25 [==============================] - 0s 11ms/step - loss: 11.4719 - accuracy: 0.3311 - val_loss: 11.3880 - val_accuracy: 0.3193\n",
      "Epoch 6/30\n",
      "25/25 [==============================] - 0s 11ms/step - loss: 11.4585 - accuracy: 0.3311 - val_loss: 11.3750 - val_accuracy: 0.3193\n",
      "Epoch 7/30\n",
      "25/25 [==============================] - 0s 11ms/step - loss: 11.4458 - accuracy: 0.3311 - val_loss: 11.3628 - val_accuracy: 0.3193\n",
      "Epoch 8/30\n",
      "25/25 [==============================] - 0s 10ms/step - loss: 11.4341 - accuracy: 0.3311 - val_loss: 11.3517 - val_accuracy: 0.3193\n",
      "Epoch 9/30\n",
      "25/25 [==============================] - 0s 11ms/step - loss: 11.4234 - accuracy: 0.3311 - val_loss: 11.3413 - val_accuracy: 0.3193\n",
      "Epoch 10/30\n",
      "25/25 [==============================] - 0s 10ms/step - loss: 11.4132 - accuracy: 0.3311 - val_loss: 11.3315 - val_accuracy: 0.3193\n",
      "Epoch 11/30\n",
      "25/25 [==============================] - 0s 11ms/step - loss: 11.4039 - accuracy: 0.3311 - val_loss: 11.3227 - val_accuracy: 0.3193\n",
      "Epoch 12/30\n",
      "25/25 [==============================] - 0s 11ms/step - loss: 11.3956 - accuracy: 0.3311 - val_loss: 11.3149 - val_accuracy: 0.3193\n",
      "Epoch 13/30\n",
      "25/25 [==============================] - 0s 11ms/step - loss: 11.3881 - accuracy: 0.3311 - val_loss: 11.3078 - val_accuracy: 0.3193\n",
      "Epoch 14/30\n",
      "25/25 [==============================] - 0s 11ms/step - loss: 11.3815 - accuracy: 0.3311 - val_loss: 11.3017 - val_accuracy: 0.3193\n",
      "Epoch 15/30\n",
      "25/25 [==============================] - 0s 11ms/step - loss: 11.3758 - accuracy: 0.3311 - val_loss: 11.2965 - val_accuracy: 0.3193\n",
      "Epoch 16/30\n",
      "25/25 [==============================] - 0s 10ms/step - loss: 11.3712 - accuracy: 0.3311 - val_loss: 11.2924 - val_accuracy: 0.3193\n",
      "Epoch 17/30\n",
      "25/25 [==============================] - 0s 11ms/step - loss: 11.3675 - accuracy: 0.3311 - val_loss: 11.2893 - val_accuracy: 0.3193\n",
      "Epoch 18/30\n",
      "25/25 [==============================] - 0s 11ms/step - loss: 11.3650 - accuracy: 0.3311 - val_loss: 11.2874 - val_accuracy: 0.3193\n",
      "Epoch 19/30\n",
      "25/25 [==============================] - 0s 11ms/step - loss: 11.3635 - accuracy: 0.3311 - val_loss: 11.2863 - val_accuracy: 0.3193\n",
      "Epoch 20/30\n",
      "25/25 [==============================] - 0s 11ms/step - loss: 11.3629 - accuracy: 0.3311 - val_loss: 11.2861 - val_accuracy: 0.3193\n",
      "Epoch 21/30\n",
      "25/25 [==============================] - 0s 11ms/step - loss: 11.3628 - accuracy: 0.3311 - val_loss: 11.2861 - val_accuracy: 0.3193\n",
      "Epoch 22/30\n",
      "25/25 [==============================] - 0s 11ms/step - loss: 11.3628 - accuracy: 0.3311 - val_loss: 11.2861 - val_accuracy: 0.3193\n",
      "Epoch 23/30\n",
      "25/25 [==============================] - 0s 11ms/step - loss: 11.3628 - accuracy: 0.3311 - val_loss: 11.2861 - val_accuracy: 0.3193\n",
      "Epoch 24/30\n",
      "25/25 [==============================] - 0s 11ms/step - loss: 11.3628 - accuracy: 0.3311 - val_loss: 11.2861 - val_accuracy: 0.3193\n",
      "Epoch 25/30\n",
      "25/25 [==============================] - 0s 11ms/step - loss: 11.3628 - accuracy: 0.3311 - val_loss: 11.2861 - val_accuracy: 0.3193\n",
      "Epoch 26/30\n",
      "25/25 [==============================] - 0s 11ms/step - loss: 11.3628 - accuracy: 0.3311 - val_loss: 11.2861 - val_accuracy: 0.3193\n",
      "Epoch 27/30\n",
      "25/25 [==============================] - 0s 11ms/step - loss: 11.3628 - accuracy: 0.3311 - val_loss: 11.2861 - val_accuracy: 0.3193\n",
      "Epoch 28/30\n",
      "25/25 [==============================] - 0s 11ms/step - loss: 11.3628 - accuracy: 0.3311 - val_loss: 11.2861 - val_accuracy: 0.3193\n",
      "Epoch 29/30\n",
      "25/25 [==============================] - 0s 11ms/step - loss: 11.3628 - accuracy: 0.3311 - val_loss: 11.2861 - val_accuracy: 0.3193\n",
      "Epoch 30/30\n",
      "25/25 [==============================] - 0s 11ms/step - loss: 11.3628 - accuracy: 0.3311 - val_loss: 11.2861 - val_accuracy: 0.3193\n"
     ]
    },
    {
     "data": {
      "text/plain": [
       "<tensorflow.python.keras.callbacks.History at 0x13e0c8b11f0>"
      ]
     },
     "execution_count": 345,
     "metadata": {},
     "output_type": "execute_result"
    }
   ],
   "source": [
    "model_nn2.fit(x_nn, y_nn, epochs=30, batch_size=256, validation_split=0.3)"
   ]
  },
  {
   "cell_type": "code",
   "execution_count": null,
   "metadata": {},
   "outputs": [],
   "source": []
  },
  {
   "cell_type": "code",
   "execution_count": null,
   "metadata": {},
   "outputs": [],
   "source": []
  },
  {
   "cell_type": "code",
   "execution_count": null,
   "metadata": {},
   "outputs": [],
   "source": []
  },
  {
   "cell_type": "code",
   "execution_count": null,
   "metadata": {},
   "outputs": [],
   "source": []
  },
  {
   "cell_type": "markdown",
   "metadata": {},
   "source": [
    "This model gives us high accuracy but still struggles with negative tweets, let us try some hyperparameter tuning."
   ]
  },
  {
   "cell_type": "code",
   "execution_count": 84,
   "metadata": {},
   "outputs": [],
   "source": [
    "svc_params = {'svc__C': [1,2,3,4,5],\n",
    "             'svc__kernel':['linear','rbf','sigmoid','poly'],\n",
    "              'svc__degree':[3,5,7,8],\n",
    "             }\n",
    "\n",
    "svc_gs = GridSearchCV(estimator=svc_pipe, param_grid=svc_params, return_train_score=True)"
   ]
  },
  {
   "cell_type": "code",
   "execution_count": 86,
   "metadata": {},
   "outputs": [],
   "source": [
    "gs_results = svc_gs.fit(X_train,y_train)"
   ]
  },
  {
   "cell_type": "code",
   "execution_count": 88,
   "metadata": {},
   "outputs": [
    {
     "data": {
      "text/plain": [
       "{'svc__C': 2, 'svc__degree': 3, 'svc__kernel': 'rbf'}"
      ]
     },
     "execution_count": 88,
     "metadata": {},
     "output_type": "execute_result"
    }
   ],
   "source": [
    "svc_gs.best_params_"
   ]
  },
  {
   "cell_type": "markdown",
   "metadata": {},
   "source": [
    "GridSearch has determined these are our best parameters, so let's rerun the model with these to see what we get."
   ]
  },
  {
   "cell_type": "code",
   "execution_count": 106,
   "metadata": {},
   "outputs": [],
   "source": []
  },
  {
   "cell_type": "code",
   "execution_count": 259,
   "metadata": {},
   "outputs": [
    {
     "name": "stdout",
     "output_type": "stream",
     "text": [
      "Mean Train Score: 0.9565918834720761\n",
      "Mean Test Score: 0.6917429208899637\n"
     ]
    }
   ],
   "source": [
    "svc_pipe2 = Pipeline([(\"tfid\" , TfidfVectorizer(stop_words=sw.words('english'))),\n",
    "                     (\"svc\", SVC(C=2,kernel='rbf',degree=3))])\n",
    "results_svc = cross_validate(svc_pipe2,X_train,y_train,return_train_score=True)\n",
    "mean_scores(results_svc)"
   ]
  },
  {
   "cell_type": "code",
   "execution_count": 260,
   "metadata": {},
   "outputs": [
    {
     "name": "stdout",
     "output_type": "stream",
     "text": [
      "Recall Score: 0.6917436574277753\n",
      "Precision Score: 0.6917436574277753\n",
      "Accuracy Score:0.6917436574277753\n",
      "F1 Score: 0.6917436574277753\n",
      "Confusion Matrix: \n",
      "[[1143 1123    7]\n",
      " [ 576 3488   44]\n",
      " [  79  273   86]]\n"
     ]
    }
   ],
   "source": [
    "y_svc2 = cross_val_predict(svc_pipe2,X_train,y_train)\n",
    "metrics(y_train,y_svc2)"
   ]
  },
  {
   "cell_type": "markdown",
   "metadata": {},
   "source": [
    "This model gives the highest accuracy and does the best job at classifying negative sentiments. We will choose this as our final model."
   ]
  },
  {
   "cell_type": "markdown",
   "metadata": {},
   "source": [
    "# Final Model - TFIDVectorizer with SVC Classifier"
   ]
  },
  {
   "cell_type": "code",
   "execution_count": 261,
   "metadata": {},
   "outputs": [
    {
     "data": {
      "text/plain": [
       "0.7003959524857017"
      ]
     },
     "execution_count": 261,
     "metadata": {},
     "output_type": "execute_result"
    }
   ],
   "source": [
    "svc_pipe2.fit(X_train,y_train)\n",
    "svc_pipe2.score(X_test,y_test)"
   ]
  },
  {
   "cell_type": "markdown",
   "metadata": {},
   "source": [
    "This gives us a 70% accuracy on our test set."
   ]
  },
  {
   "cell_type": "code",
   "execution_count": 263,
   "metadata": {},
   "outputs": [
    {
     "data": {
      "image/png": "[encoded data removed]",
      "text/plain": [
       "<Figure size 432x288 with 1 Axes>"
      ]
     },
     "metadata": {
      "needs_background": "light"
     },
     "output_type": "display_data"
    }
   ],
   "source": [
    "plot_confusion_matrix(svc_pipe2,X_test,y_test,display_labels=['Positive','Neutral','Negative'],colorbar=False);"
   ]
  },
  {
   "cell_type": "markdown",
   "metadata": {},
   "source": [
    "Our model needs improvement on finding negative sentiments. This would help if we had more negative tweets to go off of."
   ]
  },
  {
   "cell_type": "code",
   "execution_count": null,
   "metadata": {},
   "outputs": [],
   "source": []
  },
  {
   "cell_type": "code",
   "execution_count": null,
   "metadata": {},
   "outputs": [],
   "source": []
  },
  {
   "cell_type": "code",
   "execution_count": null,
   "metadata": {},
   "outputs": [],
   "source": []
  },
  {
   "cell_type": "code",
   "execution_count": null,
   "metadata": {},
   "outputs": [],
   "source": []
  },
  {
   "cell_type": "markdown",
   "metadata": {},
   "source": [
    "## Visualizations"
   ]
  },
  {
   "cell_type": "markdown",
   "metadata": {},
   "source": [
    "##### Seperate Dataframes by company"
   ]
  },
  {
   "cell_type": "code",
   "execution_count": null,
   "metadata": {},
   "outputs": [],
   "source": [
    "df_apple = df.loc[df['company'] == 'apple']\n",
    "df_google = df.loc[df['company'] == 'google']"
   ]
  },
  {
   "cell_type": "markdown",
   "metadata": {},
   "source": [
    "######  Chart displaying total sweets by sentiment for each company"
   ]
  },
  {
   "cell_type": "code",
   "execution_count": null,
   "metadata": {},
   "outputs": [],
   "source": [
    "plt.figure(figsize=(15, 12))\n",
    "\n",
    "sns.set_style('darkgrid')\n",
    "\n",
    "\n",
    "ax1 = plt.subplot2grid(shape=(2,5), loc = (0,0))\n",
    "ax2 = plt.subplot2grid(shape=(2,5), loc = (0,1),)\n",
    "\n",
    "sns.barplot(x = df_apple['Emotion'].value_counts().index,\n",
    "           y = df_apple['Emotion'].value_counts().values,\n",
    "           ax =ax1)\n",
    "ax1.set_xticklabels(['Neutral', 'Positive', 'Negative'])\n",
    "ax1.set_title('Apple')\n",
    "ax1.set_ylim(0,3000)\n",
    "\n",
    "sns.barplot(x = df_google['Emotion'].value_counts().index,\n",
    "           y = df_google['Emotion'].value_counts().values,\n",
    "           ax = ax2)\n",
    "ax2.set_xticklabels(['Neutral', 'Positive', 'Negative'])\n",
    "ax2.set_title('Google')\n",
    "ax2.set_ylim(0,3000)\n",
    "ax2.set(yticklabels = []);"
   ]
  },
  {
   "cell_type": "markdown",
   "metadata": {},
   "source": [
    "##### Chart showing distribution of tweet sentiment by category of item tweeted about"
   ]
  },
  {
   "cell_type": "code",
   "execution_count": null,
   "metadata": {},
   "outputs": [],
   "source": [
    "cat_dict = {'iphone' : 'Phone/iPad', 'android': 'Phone/iPad', 'ipad': 'Phone/iPad', 'apple':'Platform',\n",
    "'google':'Platform', 'ipad or iphone app': 'App', 'android app': 'App', 'other google product or service' : 'Other product/service',\n",
    "'other apple product or service': 'Other product/service', 'ios': 'Other product/service', 'itunes': 'Other product/service'}\n",
    "df['category'] = df['test'].map(cat_dict)"
   ]
  },
  {
   "cell_type": "code",
   "execution_count": null,
   "metadata": {},
   "outputs": [],
   "source": [
    "plt.figure(figsize=(20,14))\n",
    "\n",
    "ax1 = plt.subplot2grid(shape=(2,4), loc=(0,0))\n",
    "ax2 = plt.subplot2grid(shape=(2,4), loc=(0,1))\n",
    "ax3 = plt.subplot2grid(shape=(2,4), loc=(1,0))\n",
    "ax4 = plt.subplot2grid(shape=(2,4), loc=(1,1))\n",
    "\n",
    "sns.barplot(x = df.loc[df.category == 'Phone/iPad']['target'].value_counts().index,\n",
    "               y = df.loc[df.category == 'Phone/iPad']['target'].value_counts(normalize=True),\n",
    "           ax=ax1)\n",
    "ax1.set_title('Phone/iPad')\n",
    "ax1.set_xlabel('Sentiment')\n",
    "ax1.set_ylabel('Frequency')\n",
    "ax1.set_xticklabels(['Negative', 'Neutral', 'Positive'])\n",
    "\n",
    "sns.barplot(x = df.loc[df.category == 'Platform']['target'].value_counts().index,\n",
    "            y = df.loc[df.category == 'Platform']['target'].value_counts(normalize=True),\n",
    "           ax=ax2)\n",
    "ax2.set_title('Platform')\n",
    "ax2.set_xlabel('Sentiment')\n",
    "ax2.set_ylabel('Frequency')\n",
    "ax2.set_xticklabels(['Negative', 'Neutral', 'Positive'])\n",
    "\n",
    "sns.barplot(x = df.loc[df.category == 'App']['target'].value_counts().index,\n",
    "               y = df.loc[df.category == 'App']['target'].value_counts(normalize=True),\n",
    "           ax=ax3)\n",
    "ax3.set_title('App-Related')\n",
    "ax3.set_xlabel('Sentiment')\n",
    "ax3.set_ylabel('Frequency')\n",
    "ax3.set_xticklabels(['Negative', 'Neutral', 'Positive'])\n",
    "\n",
    "sns.barplot(x = df.loc[df.category == 'Other product/service']['target'].value_counts().index,\n",
    "               y = df.loc[df.category == 'Other product/service']['target'].value_counts(normalize=True),\n",
    "           ax=ax4)\n",
    "ax4.set_title('Other Products/Services')\n",
    "ax4.set_xlabel('Sentiment')\n",
    "ax4.set_ylabel('Frequency')\n",
    "ax4.set_xticklabels(['Negative', 'Neutral', 'Positive']);"
   ]
  },
  {
   "cell_type": "markdown",
   "metadata": {},
   "source": [
    "### Tfidf Exploration"
   ]
  },
  {
   "cell_type": "code",
   "execution_count": 1,
   "metadata": {},
   "outputs": [
    {
     "ename": "NameError",
     "evalue": "name 'df_test' is not defined",
     "output_type": "error",
     "traceback": [
      "\u001b[0;31m---------------------------------------------------------------------------\u001b[0m",
      "\u001b[0;31mNameError\u001b[0m                                 Traceback (most recent call last)",
      "\u001b[0;32m<ipython-input-1-02991fe49433>\u001b[0m in \u001b[0;36m<module>\u001b[0;34m\u001b[0m\n\u001b[1;32m      3\u001b[0m \u001b[0mraw_neu\u001b[0m \u001b[0;34m=\u001b[0m \u001b[0;34m[\u001b[0m\u001b[0;34m]\u001b[0m\u001b[0;34m\u001b[0m\u001b[0;34m\u001b[0m\u001b[0m\n\u001b[1;32m      4\u001b[0m \u001b[0;34m\u001b[0m\u001b[0m\n\u001b[0;32m----> 5\u001b[0;31m \u001b[0mpos_tweets\u001b[0m \u001b[0;34m=\u001b[0m \u001b[0mdf_test\u001b[0m\u001b[0;34m.\u001b[0m\u001b[0mloc\u001b[0m\u001b[0;34m[\u001b[0m\u001b[0mdf\u001b[0m\u001b[0;34m.\u001b[0m\u001b[0mtarget\u001b[0m\u001b[0;34m==\u001b[0m\u001b[0;36m2\u001b[0m\u001b[0;34m]\u001b[0m\u001b[0;34m\u001b[0m\u001b[0;34m\u001b[0m\u001b[0m\n\u001b[0m\u001b[1;32m      6\u001b[0m \u001b[0mpos_tweets\u001b[0m\u001b[0;34m\u001b[0m\u001b[0;34m\u001b[0m\u001b[0m\n\u001b[1;32m      7\u001b[0m \u001b[0;34m\u001b[0m\u001b[0m\n",
      "\u001b[0;31mNameError\u001b[0m: name 'df_test' is not defined"
     ]
    }
   ],
   "source": [
    "raw_pos = []\n",
    "raw_neg = []\n",
    "raw_neu = []\n",
    "\n",
    "pos_tweets = df_test.loc[df.target==2]\n",
    "pos_tweets\n",
    "\n",
    "neg_tweets = df_test.loc[df.target==0]\n",
    "\n",
    "neutral_tweets = df_test.loc[df.target==1]\n",
    "\n",
    "for listx in pos_tweets.clean_tweet:\n",
    "    for x in listx:\n",
    "        raw_pos.append(x)\n",
    "    \n",
    "for listx in neg_tweets.clean_tweet:\n",
    "    for x in listx:\n",
    "        raw_neg.append(x)\n",
    "        \n",
    "for listx in neutral_tweets.clean_tweet:\n",
    "    for x in listx:\n",
    "        raw_neu.append(x)\n",
    "        \n",
    "raw_pos = ' '.join(raw_pos)\n",
    "raw_neg = ' '.join(raw_neg)\n",
    "raw_neu = ' '.join(raw_neu)"
   ]
  },
  {
   "cell_type": "code",
   "execution_count": null,
   "metadata": {},
   "outputs": [],
   "source": [
    "top_poswords = dict(df_topwords.loc[['positive']].max().sort_values(ascending=False)[:150])\n",
    "top_negwords = dict(df_topwords.loc[['negative']].max().sort_values(ascending=False)[:100])"
   ]
  }
 ],
 "metadata": {
  "kernelspec": {
   "display_name": "Python (learn-env)",
   "language": "python",
   "name": "learn-env"
  },
  "language_info": {
   "codemirror_mode": {
    "name": "ipython",
    "version": 3
   },
   "file_extension": ".py",
   "mimetype": "text/x-python",
   "name": "python",
   "nbconvert_exporter": "python",
   "pygments_lexer": "ipython3",
   "version": "3.8.5"
  }
 },
 "nbformat": 4,
 "nbformat_minor": 4
}
