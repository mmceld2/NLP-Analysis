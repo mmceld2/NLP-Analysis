{
 "cells": [
  {
   "cell_type": "code",
   "execution_count": 1,
   "metadata": {},
   "outputs": [
    {
     "name": "stderr",
     "output_type": "stream",
     "text": [
      "[nltk_data] Downloading package punkt to\n",
      "[nltk_data]     C:\\Users\\angie\\AppData\\Roaming\\nltk_data...\n",
      "[nltk_data]   Package punkt is already up-to-date!\n"
     ]
    },
    {
     "data": {
      "text/plain": [
       "True"
      ]
     },
     "execution_count": 1,
     "metadata": {},
     "output_type": "execute_result"
    }
   ],
   "source": [
    "import nltk\n",
    "nltk.download('punkt')"
   ]
  },
  {
   "cell_type": "code",
   "execution_count": 2,
   "metadata": {},
   "outputs": [],
   "source": [
    "from pickle import load\n",
    "from sklearn.model_selection import train_test_split\n",
    "from sklearn.feature_extraction.text import TfidfVectorizer\n",
    "from nltk.corpus import stopwords\n",
    "from sklearn.pipeline import make_pipeline\n",
    "from sklearn.naive_bayes import MultinomialNB\n",
    "from sklearn.model_selection import cross_validate\n",
    "from sklearn.metrics import make_scorer, fbeta_score\n",
    "from sklearn.model_selection import cross_val_predict\n",
    "from sklearn.metrics import confusion_matrix\n",
    "from sklearn.metrics import accuracy_score, make_scorer, f1_score, precision_score, recall_score\n",
    "from sklearn import svm\n",
    "from imblearn.over_sampling import SMOTE\n",
    "from imblearn.pipeline import Pipeline as imbpipe\n",
    "from imblearn.under_sampling import RandomUnderSampler\n",
    "from gensim.models import Word2Vec\n",
    "from nltk.tokenize import  word_tokenize"
   ]
  },
  {
   "cell_type": "code",
   "execution_count": 3,
   "metadata": {},
   "outputs": [],
   "source": [
    "df = load(open('df_clean.pkl', 'rb'))"
   ]
  },
  {
   "cell_type": "code",
   "execution_count": 4,
   "metadata": {},
   "outputs": [
    {
     "data": {
      "text/html": [
       "<div>\n",
       "<style scoped>\n",
       "    .dataframe tbody tr th:only-of-type {\n",
       "        vertical-align: middle;\n",
       "    }\n",
       "\n",
       "    .dataframe tbody tr th {\n",
       "        vertical-align: top;\n",
       "    }\n",
       "\n",
       "    .dataframe thead th {\n",
       "        text-align: right;\n",
       "    }\n",
       "</style>\n",
       "<table border=\"1\" class=\"dataframe\">\n",
       "  <thead>\n",
       "    <tr style=\"text-align: right;\">\n",
       "      <th></th>\n",
       "      <th>text</th>\n",
       "      <th>company</th>\n",
       "      <th>is_ther</th>\n",
       "      <th>target</th>\n",
       "      <th>product</th>\n",
       "    </tr>\n",
       "  </thead>\n",
       "  <tbody>\n",
       "    <tr>\n",
       "      <th>0</th>\n",
       "      <td>wesley83 i have a 3g iphone after 3 hrs tweeti...</td>\n",
       "      <td>apple</td>\n",
       "      <td>Negative emotion</td>\n",
       "      <td>Negative emotion</td>\n",
       "      <td>iphone</td>\n",
       "    </tr>\n",
       "    <tr>\n",
       "      <th>1</th>\n",
       "      <td>jessedee know about fludapp  awesome ipadiphon...</td>\n",
       "      <td>apple</td>\n",
       "      <td>Positive emotion</td>\n",
       "      <td>Positive emotion</td>\n",
       "      <td>ipad or iphone app</td>\n",
       "    </tr>\n",
       "    <tr>\n",
       "      <th>2</th>\n",
       "      <td>swonderlin can not wait for ipad 2 also they s...</td>\n",
       "      <td>apple</td>\n",
       "      <td>Positive emotion</td>\n",
       "      <td>Positive emotion</td>\n",
       "      <td>ipad</td>\n",
       "    </tr>\n",
       "    <tr>\n",
       "      <th>3</th>\n",
       "      <td>sxsw i hope this years festival isnt as crashy...</td>\n",
       "      <td>apple</td>\n",
       "      <td>Negative emotion</td>\n",
       "      <td>Negative emotion</td>\n",
       "      <td>ipad or iphone app</td>\n",
       "    </tr>\n",
       "    <tr>\n",
       "      <th>4</th>\n",
       "      <td>sxtxstate great stuff on fri sxsw marissa maye...</td>\n",
       "      <td>google</td>\n",
       "      <td>Positive emotion</td>\n",
       "      <td>Positive emotion</td>\n",
       "      <td>google</td>\n",
       "    </tr>\n",
       "  </tbody>\n",
       "</table>\n",
       "</div>"
      ],
      "text/plain": [
       "                                                text company  \\\n",
       "0  wesley83 i have a 3g iphone after 3 hrs tweeti...   apple   \n",
       "1  jessedee know about fludapp  awesome ipadiphon...   apple   \n",
       "2  swonderlin can not wait for ipad 2 also they s...   apple   \n",
       "3  sxsw i hope this years festival isnt as crashy...   apple   \n",
       "4  sxtxstate great stuff on fri sxsw marissa maye...  google   \n",
       "\n",
       "            is_ther            target             product  \n",
       "0  Negative emotion  Negative emotion              iphone  \n",
       "1  Positive emotion  Positive emotion  ipad or iphone app  \n",
       "2  Positive emotion  Positive emotion                ipad  \n",
       "3  Negative emotion  Negative emotion  ipad or iphone app  \n",
       "4  Positive emotion  Positive emotion              google  "
      ]
     },
     "execution_count": 4,
     "metadata": {},
     "output_type": "execute_result"
    }
   ],
   "source": [
    "df.head()"
   ]
  },
  {
   "cell_type": "code",
   "execution_count": 5,
   "metadata": {},
   "outputs": [],
   "source": [
    "data = df['text'].map(word_tokenize)"
   ]
  },
  {
   "cell_type": "code",
   "execution_count": 6,
   "metadata": {},
   "outputs": [
    {
     "data": {
      "text/plain": [
       "0    [wesley83, i, have, a, 3g, iphone, after, 3, h...\n",
       "1    [jessedee, know, about, fludapp, awesome, ipad...\n",
       "2    [swonderlin, can, not, wait, for, ipad, 2, als...\n",
       "3    [sxsw, i, hope, this, years, festival, isnt, a...\n",
       "4    [sxtxstate, great, stuff, on, fri, sxsw, maris...\n",
       "Name: text, dtype: object"
      ]
     },
     "execution_count": 6,
     "metadata": {},
     "output_type": "execute_result"
    }
   ],
   "source": [
    "data.head()"
   ]
  },
  {
   "cell_type": "code",
   "execution_count": 7,
   "metadata": {},
   "outputs": [],
   "source": [
    "model = Word2Vec(data, size = 100, window = 5, min_count=1, workers=4)"
   ]
  },
  {
   "cell_type": "code",
   "execution_count": 8,
   "metadata": {},
   "outputs": [
    {
     "data": {
      "text/plain": [
       "(998714, 1435080)"
      ]
     },
     "execution_count": 8,
     "metadata": {},
     "output_type": "execute_result"
    }
   ],
   "source": [
    "model.train(data, total_examples=model.corpus_count, epochs=10)"
   ]
  },
  {
   "cell_type": "code",
   "execution_count": 9,
   "metadata": {},
   "outputs": [],
   "source": [
    "wv = model.wv"
   ]
  },
  {
   "cell_type": "code",
   "execution_count": 10,
   "metadata": {},
   "outputs": [
    {
     "data": {
      "text/plain": [
       "[('ðü', 0.5463603138923645),\n",
       " ('remake', 0.4807436466217041),\n",
       " ('googlebook', 0.44324833154678345),\n",
       " ('goona', 0.4311572313308716),\n",
       " ('windowsmobile', 0.41601628065109253),\n",
       " ('geek_games', 0.41179487109184265),\n",
       " ('vicariously', 0.4113345146179199),\n",
       " ('cnnsxsw', 0.4012351632118225),\n",
       " ('wmost', 0.39660996198654175),\n",
       " ('growth', 0.38726550340652466)]"
      ]
     },
     "execution_count": 10,
     "metadata": {},
     "output_type": "execute_result"
    }
   ],
   "source": [
    "wv.most_similar('sxsw', 'apple')"
   ]
  },
  {
   "cell_type": "code",
   "execution_count": 11,
   "metadata": {},
   "outputs": [
    {
     "data": {
      "text/plain": [
       "[('excitement', 0.5189834833145142),\n",
       " ('flaw', 0.42453861236572266),\n",
       " ('tved', 0.3794412612915039),\n",
       " ('hooks', 0.35293471813201904),\n",
       " ('outsold', 0.33603334426879883),\n",
       " ('spacedont', 0.31875282526016235),\n",
       " ('photovideostatus', 0.31031590700149536),\n",
       " ('_û', 0.2999911308288574),\n",
       " ('goingsons', 0.294762521982193),\n",
       " ('rearfacing', 0.2938436269760132)]"
      ]
     },
     "execution_count": 11,
     "metadata": {},
     "output_type": "execute_result"
    }
   ],
   "source": [
    "wv.most_similar(negative='apple')"
   ]
  },
  {
   "cell_type": "code",
   "execution_count": 12,
   "metadata": {},
   "outputs": [
    {
     "data": {
      "text/plain": [
       "[('64gb', 0.8465262055397034),\n",
       " ('20s', 0.8312111496925354),\n",
       " ('wilderness', 0.8299901485443115),\n",
       " ('days', 0.8199472427368164),\n",
       " ('still', 0.8093585968017578),\n",
       " ('somewhere', 0.8091620206832886),\n",
       " ('retweet', 0.808823823928833),\n",
       " ('compan', 0.8080310225486755),\n",
       " ('cab', 0.8047149181365967),\n",
       " ('quotsaving', 0.8041754961013794)]"
      ]
     },
     "execution_count": 12,
     "metadata": {},
     "output_type": "execute_result"
    }
   ],
   "source": [
    "wv.most_similar(positive=['apple', 'macbook'], negative=['google'])"
   ]
  },
  {
   "cell_type": "code",
   "execution_count": null,
   "metadata": {},
   "outputs": [],
   "source": []
  }
 ],
 "metadata": {
  "kernelspec": {
   "display_name": "Python (learn-env)",
   "language": "python",
   "name": "learn-env"
  },
  "language_info": {
   "codemirror_mode": {
    "name": "ipython",
    "version": 3
   },
   "file_extension": ".py",
   "mimetype": "text/x-python",
   "name": "python",
   "nbconvert_exporter": "python",
   "pygments_lexer": "ipython3",
   "version": "3.8.5"
  }
 },
 "nbformat": 4,
 "nbformat_minor": 4
}
