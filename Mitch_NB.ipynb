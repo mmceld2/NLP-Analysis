{
 "cells": [
  {
   "cell_type": "code",
   "execution_count": 192,
   "metadata": {},
   "outputs": [],
   "source": [
    "import pandas as pd\n",
    "from src import *\n",
    "import matplotlib.pyplot as plt\n",
    "from string import punctuation\n",
    "import nltk\n",
    "from nltk.tokenize import regexp_tokenize, word_tokenize, RegexpTokenizer, RegexpTokenizer, TweetTokenizer\n",
    "from nltk.corpus import stopwords, wordnet\n",
    "from nltk import pos_tag\n",
    "from nltk.stem import WordNetLemmatizer\n",
    "from sklearn.linear_model import LogisticRegression , SGDClassifier\n",
    "from sklearn.feature_extraction.text import TfidfVectorizer, CountVectorizer\n",
    "from sklearn.model_selection import train_test_split , cross_validate , GridSearchCV, cross_val_predict\n",
    "from sklearn.pipeline import make_pipeline , Pipeline\n",
    "from sklearn.naive_bayes import MultinomialNB\n",
    "from sklearn.metrics import accuracy_score, precision_score, confusion_matrix, recall_score, f1_score, plot_confusion_matrix\n",
    "from nltk.corpus import stopwords as sw\n",
    "from sklearn.ensemble import RandomForestClassifier\n",
    "from nltk.tokenize import  word_tokenize\n",
    "from nltk.sentiment.vader import SentimentIntensityAnalyzer\n",
    "pd.set_option ('display.max_colwidth', None)\n",
    "from sklearn.svm import SVC\n",
    "from imblearn.over_sampling import SMOTE\n",
    "from imblearn.pipeline import Pipeline as imbpipe\n",
    "from xgboost import XGBClassifier\n",
    "from nltk.stem.snowball import SnowballStemmer\n",
    "import warnings\n",
    "warnings.filterwarnings('ignore')\n",
    "%matplotlib inline"
   ]
  },
  {
   "cell_type": "code",
   "execution_count": 2,
   "metadata": {},
   "outputs": [],
   "source": [
    "def mean_scores(results):\n",
    "    '''Return Train/Test Mean Score from a Cross Val'''\n",
    "    return print(f'''Mean Train Score: {results['train_score'].mean()}\n",
    "Mean Test Score: {results['test_score'].mean()}''')\n",
    "\n",
    "def metrics(y_true,y_preds):\n",
    "    '''Gives recall,precision,accuracy,F1 score and confusion matrix'''\n",
    "    return print(f'''Recall Score: {recall_score(y_true,y_preds,average='micro')}\n",
    "Precision Score: {precision_score(y_true,y_preds,average='micro')}\n",
    "Accuracy Score:{accuracy_score(y_true,y_preds)}\n",
    "F1 Score: {f1_score(y_true,y_preds,average='micro')}\n",
    "Confusion Matrix: \n",
    "{confusion_matrix(y_true,y_preds)}''')\n",
    "\n",
    "def gs_mean_scores(results):\n",
    "    '''Return Train and Test Scores from a grid search'''\n",
    "    return print(f'''Mean Train Score: {results.cv_results_['mean_train_score'].mean()}'\n",
    "Mean Test Score: {results.cv_results_['mean_test_score'].mean()}''')\n",
    "\n",
    "def company_search(test):\n",
    "    if test == 'iphone':\n",
    "        return 'apple'\n",
    "    elif test == 'apple':\n",
    "        return 'apple'\n",
    "    elif test == 'ipad':\n",
    "        return 'apple'\n",
    "    elif test == 'ipad or iphone app':\n",
    "        return 'apple'\n",
    "    elif test == 'itunes':\n",
    "        return 'apple'\n",
    "    elif test == 'other apple product or service':\n",
    "        return 'apple'\n",
    "    elif test == 'ios':\n",
    "        return 'apple'\n",
    "    elif test == 'ipadquot':\n",
    "        return 'apple'\n",
    "    elif test == 'applequot':\n",
    "        return 'apple'\n",
    "    elif test == 'iphonequot':\n",
    "        return 'apple'\n",
    "    elif test == 'quotiphone':\n",
    "        return 'apple'\n",
    "    elif test == 'iosquot':\n",
    "        return 'apple'\n",
    "    elif test =='quotipad':\n",
    "        return 'apple'\n",
    "    elif test == 'quotapple':\n",
    "        return 'apple'\n",
    "    elif test =='google':\n",
    "        return 'google'\n",
    "    elif test == 'android':\n",
    "        return 'google'\n",
    "    elif test == 'other google product or service':\n",
    "        return 'google'\n",
    "    elif test == 'android app':\n",
    "        return 'google'\n",
    "    elif test == 'quotgoogle':\n",
    "        return 'google'\n",
    "    elif test == 'googlequot':\n",
    "        return 'google'\n",
    "    elif test == 'androidquot':\n",
    "        return 'google'\n",
    "    else:\n",
    "        return 'unknown'"
   ]
  },
  {
   "cell_type": "code",
   "execution_count": 3,
   "metadata": {},
   "outputs": [
    {
     "data": {
      "text/plain": [
       "tweet_text                                               1\n",
       "emotion_in_tweet_is_directed_at                       5802\n",
       "is_there_an_emotion_directed_at_a_brand_or_product       0\n",
       "dtype: int64"
      ]
     },
     "execution_count": 3,
     "metadata": {},
     "output_type": "execute_result"
    }
   ],
   "source": [
    "df = pd.read_csv('data/judge-1377884607_tweet_product_company.csv',encoding='latin1')\n",
    "df.isna().sum()"
   ]
  },
  {
   "cell_type": "markdown",
   "metadata": {},
   "source": [
    "There are 5802 missing values telling what the tweet is directed at. A way to combat this would be to look at the tweet and look for keywords such as iphone or ipad and assign who it is directed to that way."
   ]
  },
  {
   "cell_type": "code",
   "execution_count": 4,
   "metadata": {},
   "outputs": [],
   "source": [
    "df = df.dropna(subset=['tweet_text'])"
   ]
  },
  {
   "cell_type": "code",
   "execution_count": 5,
   "metadata": {},
   "outputs": [
    {
     "data": {
      "text/plain": [
       "0                        [wesley, 83, i, have, a, 3g, iphone, after, 3, hrs, tweeting, at, rise_austin, it, was, dead, i, need, to, upgrade, plugin, stations, at, sxsw]\n",
       "1                [jessedee, know, about, fludapp, awesome, ipadiphone, app, that, youll, likely, appreciate, for, its, design, also, theyre, giving, free, ts, at, sxsw]\n",
       "2                                                                             [swonderlin, can, not, wait, for, ipad, 2, also, they, should, sale, them, down, at, sxsw]\n",
       "3                                                                           [sxsw, i, hope, this, years, festival, isnt, as, crashy, as, this, years, iphone, app, sxsw]\n",
       "4                                [sxtxstate, great, stuff, on, fri, sxsw, marissa, mayer, google, tim, oreilly, tech, booksconferences, amp, matt, mullenweg, wordpress]\n",
       "                                                                                      ...                                                                               \n",
       "9088                                                                                                                                      [ipad, everywhere, sxsw, link]\n",
       "9089                               [wave, buzz, rt, mention, we, interrupt, your, regularly, scheduled, sxsw, geek, programming, with, big, news, link, google, circles]\n",
       "9090          [googles, zeiger, a, physician, never, reported, potential, ae, yet, fda, relies, on, physicians, quotwere, operating, wout, dataquot, sxsw, health, 2dev]\n",
       "9091    [some, verizon, iphone, customers, complained, their, time, fell, back, an, hour, this, weekend, of, course, they, were, the, new, yorkers, who, attended, sxsw]\n",
       "9092                                                                                                        [mention, google, tests, ûïcheckin, offersû, at, sxsw, link]\n",
       "Name: tweet_text, Length: 9092, dtype: object"
      ]
     },
     "execution_count": 5,
     "metadata": {},
     "output_type": "execute_result"
    }
   ],
   "source": [
    "tweets = TweetTokenizer(preserve_case=False,reduce_len=True)\n",
    "tweet = df.copy()\n",
    "tweet['tweet_text'] = tweet['tweet_text'].str.replace(r'[^\\w\\s]', '')\n",
    "tweet['tweet_text'] = tweet['tweet_text'].str.replace('ÏÏàü_ÊÎÒÁââ_â_ÛâRT','')\n",
    "tweet['tweet_text'].apply(tweets.tokenize)"
   ]
  },
  {
   "cell_type": "code",
   "execution_count": 6,
   "metadata": {},
   "outputs": [],
   "source": [
    "tweet['tweet_text'] = tweet['tweet_text'].str.strip('ÏÏàü_ÊÎÒÁââ_â_ÛâRTÛÏ')\n",
    "tweet['tweet_text'] = tweet['tweet_text'].str.strip('Û')"
   ]
  },
  {
   "cell_type": "code",
   "execution_count": 7,
   "metadata": {},
   "outputs": [
    {
     "data": {
      "text/plain": [
       "0                          wesley83 I have a 3G iPhone After 3 hrs tweeting at RISE_Austin it was dead  I need to upgrade Plugin stations at SXSW\n",
       "1              jessedee Know about fludapp  Awesome iPadiPhone app that youll likely appreciate for its design Also theyre giving free Ts at SXSW\n",
       "2                                                                      swonderlin Can not wait for iPad 2 also They should sale them down at SXSW\n",
       "3                                                                    sxsw I hope this years festival isnt as crashy as this years iPhone app sxsw\n",
       "4                           sxtxstate great stuff on Fri SXSW Marissa Mayer Google Tim OReilly tech booksconferences amp Matt Mullenweg Wordpress\n",
       "                                                                          ...                                                                    \n",
       "9088                                                                                                                    Ipad everywhere SXSW link\n",
       "9089                          Wave buzz RT mention We interrupt your regularly scheduled sxsw geek programming with big news link  google circles\n",
       "9090         Googles Zeiger a physician never reported potential AE Yet FDA relies on physicians quotWere operating wout dataquot sxsw health2dev\n",
       "9091    Some Verizon iPhone customers complained their time fell back an hour this weekend  Of course they were the New Yorkers who attended SXSW\n",
       "9092                                                                                          mention Google Tests ÛÏCheckin OffersÛ At SXSW link\n",
       "Name: tweet_text, Length: 9092, dtype: object"
      ]
     },
     "execution_count": 7,
     "metadata": {},
     "output_type": "execute_result"
    }
   ],
   "source": [
    "tweet['tweet_text']"
   ]
  },
  {
   "cell_type": "code",
   "execution_count": 8,
   "metadata": {},
   "outputs": [],
   "source": [
    "snbstem = SnowballStemmer('english')\n",
    "tweet['tweet_text'] = tweet['tweet_text'].apply(lambda x: [snbstem.stem(x)])\n",
    "tweet['tweet_text'] = tweet['tweet_text'].str.join(' ')\n"
   ]
  },
  {
   "cell_type": "code",
   "execution_count": null,
   "metadata": {},
   "outputs": [],
   "source": []
  },
  {
   "cell_type": "code",
   "execution_count": 10,
   "metadata": {},
   "outputs": [],
   "source": [
    "#Take out puncuation and other unnecessary characters\n",
    "df['tweet_text'] = df['tweet_text'].str.replace(r'[^\\w\\s]', '')\n",
    "df['tweet_text'] = df['tweet_text'].str.replace('quot', '')\n",
    "# Make lower case and split\n",
    "df['tweet_text'] = df['tweet_text'].str.lower()\n",
    "df['tweet_text'] = df['tweet_text'].str.split(' ')\n",
    "# Drop the 1 NA tweet we have\n",
    "df = df.dropna(subset=['tweet_text'])"
   ]
  },
  {
   "cell_type": "markdown",
   "metadata": {},
   "source": [
    "Here we do some basic cleaning of the data set, removing puncuation making everything lower case and splitting the data."
   ]
  },
  {
   "cell_type": "code",
   "execution_count": 11,
   "metadata": {},
   "outputs": [],
   "source": [
    "# Make a blank column to set up for some data cleaning\n",
    "df['test'] = ''\n",
    "# Fill in the values with a string na to avoid errors\n",
    "df.fillna('na',inplace=True)\n"
   ]
  },
  {
   "cell_type": "code",
   "execution_count": 12,
   "metadata": {},
   "outputs": [],
   "source": [
    "# This salvages alot of our data\n",
    "\n",
    "apple = ['iphone','ipad','apple','apples','ipads']\n",
    "android = ['android','google','androids','googles']\n",
    "\n",
    "# Loop through the tweet column and look for keywords to assign product to\n",
    "for ind , val in enumerate(df['tweet_text']):\n",
    "    if df['emotion_in_tweet_is_directed_at'].values[ind] == 'na':\n",
    "        for y in val:\n",
    "            if y in apple:\n",
    "                df['test'].values[ind] = y\n",
    "            elif y in android:\n",
    "                df['test'].values[ind] = y\n",
    "                \n",
    "    else:\n",
    "        df['test'].values[ind] = df['emotion_in_tweet_is_directed_at'].values[ind]\n",
    "      "
   ]
  },
  {
   "cell_type": "markdown",
   "metadata": {},
   "source": [
    "Since there were such a high amount of NA values in the emotion tweeted at column, we thought it was best to try to salvage as much data as possible. We looked for keywords in the tweets and assigned a product to them based on what they "
   ]
  },
  {
   "cell_type": "code",
   "execution_count": 13,
   "metadata": {},
   "outputs": [
    {
     "data": {
      "text/plain": [
       "array(['iphone', 'ipad or iphone app', 'ipad', 'google', 'android',\n",
       "       'apple', 'android app', 'other google product or service', '',\n",
       "       'googles', 'ipads', 'apples', 'other apple product or service',\n",
       "       'androids'], dtype=object)"
      ]
     },
     "execution_count": 13,
     "metadata": {},
     "output_type": "execute_result"
    }
   ],
   "source": [
    "#make everything lower case to make values match\n",
    "df['test'] = df['test'].map(lambda x : x.lower())\n",
    "df['test'].unique()"
   ]
  },
  {
   "cell_type": "code",
   "execution_count": 14,
   "metadata": {},
   "outputs": [],
   "source": [
    "#This cell replaces words with the rightful product to reduce unique values\n",
    "df['test'] = df['test'].replace({'googles': 'google', 'apples': 'apple', 'androids': 'android','ipads':'ipad'})"
   ]
  },
  {
   "cell_type": "code",
   "execution_count": 15,
   "metadata": {},
   "outputs": [
    {
     "data": {
      "text/plain": [
       "array(['iphone', 'ipad or iphone app', 'ipad', 'google', 'android',\n",
       "       'apple', 'android app', 'other google product or service', '',\n",
       "       'other apple product or service'], dtype=object)"
      ]
     },
     "execution_count": 15,
     "metadata": {},
     "output_type": "execute_result"
    }
   ],
   "source": [
    "df['test'].unique()"
   ]
  },
  {
   "cell_type": "markdown",
   "metadata": {},
   "source": [
    "We went from 5802 NA values to almost under 900! The remainder tweets do not mention anything about either product, and therefore are not useful for our analysis."
   ]
  },
  {
   "cell_type": "code",
   "execution_count": 16,
   "metadata": {},
   "outputs": [
    {
     "data": {
      "text/plain": [
       "array(['Negative emotion', 'Positive emotion',\n",
       "       'No emotion toward brand or product', \"I can't tell\"], dtype=object)"
      ]
     },
     "execution_count": 16,
     "metadata": {},
     "output_type": "execute_result"
    }
   ],
   "source": [
    "df['is_there_an_emotion_directed_at_a_brand_or_product'].unique()"
   ]
  },
  {
   "cell_type": "markdown",
   "metadata": {},
   "source": [
    "Looking at the target of our dataset, there seems to be four different values. Negative emotion, positive emotion, no emotion and I can't tell. Let's get a closer look at these 'I can't tell' labels."
   ]
  },
  {
   "cell_type": "code",
   "execution_count": 83,
   "metadata": {},
   "outputs": [
    {
     "data": {
      "text/html": [
       "<div>\n",
       "<style scoped>\n",
       "    .dataframe tbody tr th:only-of-type {\n",
       "        vertical-align: middle;\n",
       "    }\n",
       "\n",
       "    .dataframe tbody tr th {\n",
       "        vertical-align: top;\n",
       "    }\n",
       "\n",
       "    .dataframe thead th {\n",
       "        text-align: right;\n",
       "    }\n",
       "</style>\n",
       "<table border=\"1\" class=\"dataframe\">\n",
       "  <thead>\n",
       "    <tr style=\"text-align: right;\">\n",
       "      <th></th>\n",
       "      <th>tweet_text</th>\n",
       "      <th>emotion_in_tweet_is_directed_at</th>\n",
       "      <th>is_there_an_emotion_directed_at_a_brand_or_product</th>\n",
       "      <th>test</th>\n",
       "      <th>product</th>\n",
       "    </tr>\n",
       "  </thead>\n",
       "  <tbody>\n",
       "  </tbody>\n",
       "</table>\n",
       "</div>"
      ],
      "text/plain": [
       "Empty DataFrame\n",
       "Columns: [tweet_text, emotion_in_tweet_is_directed_at, is_there_an_emotion_directed_at_a_brand_or_product, test, product]\n",
       "Index: []"
      ]
     },
     "execution_count": 83,
     "metadata": {},
     "output_type": "execute_result"
    }
   ],
   "source": [
    "df.loc[df['is_there_an_emotion_directed_at_a_brand_or_product'] == \"google\"]"
   ]
  },
  {
   "cell_type": "markdown",
   "metadata": {},
   "source": [
    "Since this makes up such a small amount of our data, we will move the I can't tell value to that of neutral, along with the value 'No emotion toward brand or product'."
   ]
  },
  {
   "cell_type": "code",
   "execution_count": 18,
   "metadata": {},
   "outputs": [],
   "source": [
    "# Here we make change targets into more readable text\n",
    "emotion_dict = {'No emotion toward brand or product' : 'Neutral emotion', \"I can't tell\": 'Neutral emotion', 'Positive emotion': 'Positive emotion',\n",
    "               'Negative emotion': 'Negative emotion'}\n",
    "df['is_there_an_emotion_directed_at_a_brand_or_product'] = df['is_there_an_emotion_directed_at_a_brand_or_product'].map(emotion_dict)\n"
   ]
  },
  {
   "cell_type": "code",
   "execution_count": 19,
   "metadata": {},
   "outputs": [
    {
     "data": {
      "text/plain": [
       "array(['Negative emotion', 'Positive emotion', 'Neutral emotion'],\n",
       "      dtype=object)"
      ]
     },
     "execution_count": 19,
     "metadata": {},
     "output_type": "execute_result"
    }
   ],
   "source": [
    "df['is_there_an_emotion_directed_at_a_brand_or_product'].unique()"
   ]
  },
  {
   "cell_type": "code",
   "execution_count": 20,
   "metadata": {},
   "outputs": [],
   "source": [
    "df['product'] = df['test'].map(company_search)"
   ]
  },
  {
   "cell_type": "code",
   "execution_count": 21,
   "metadata": {},
   "outputs": [
    {
     "data": {
      "text/html": [
       "<div>\n",
       "<style scoped>\n",
       "    .dataframe tbody tr th:only-of-type {\n",
       "        vertical-align: middle;\n",
       "    }\n",
       "\n",
       "    .dataframe tbody tr th {\n",
       "        vertical-align: top;\n",
       "    }\n",
       "\n",
       "    .dataframe thead th {\n",
       "        text-align: right;\n",
       "    }\n",
       "</style>\n",
       "<table border=\"1\" class=\"dataframe\">\n",
       "  <thead>\n",
       "    <tr style=\"text-align: right;\">\n",
       "      <th></th>\n",
       "      <th>tweet_text</th>\n",
       "      <th>emotion_in_tweet_is_directed_at</th>\n",
       "      <th>is_there_an_emotion_directed_at_a_brand_or_product</th>\n",
       "      <th>test</th>\n",
       "      <th>product</th>\n",
       "    </tr>\n",
       "  </thead>\n",
       "  <tbody>\n",
       "    <tr>\n",
       "      <th>51</th>\n",
       "      <td>[ûïmention, link, lt, help, me, forward, this, doc, to, all, anonymous, accounts, techiesamp, ppl, who, can, help, us, jam, libya, sxsw]</td>\n",
       "      <td>na</td>\n",
       "      <td>Neutral emotion</td>\n",
       "      <td></td>\n",
       "      <td>unknown</td>\n",
       "    </tr>\n",
       "    <tr>\n",
       "      <th>52</th>\n",
       "      <td>[¼, what, _, link, ã_, edchat, musedchat, sxsw, sxswi, classical, newtwitter]</td>\n",
       "      <td>na</td>\n",
       "      <td>Neutral emotion</td>\n",
       "      <td></td>\n",
       "      <td>unknown</td>\n",
       "    </tr>\n",
       "    <tr>\n",
       "      <th>53</th>\n",
       "      <td>[mention, mention, on, the, locationbased, fast, fun, and, future, , link, via, mention, sxsw]</td>\n",
       "      <td>na</td>\n",
       "      <td>Neutral emotion</td>\n",
       "      <td></td>\n",
       "      <td>unknown</td>\n",
       "    </tr>\n",
       "    <tr>\n",
       "      <th>66</th>\n",
       "      <td>[at, sxsw, mention, , mention, wanna, buy, you, a, drink, 7pm, at, fado, on, 4th, link, join, us]</td>\n",
       "      <td>na</td>\n",
       "      <td>Neutral emotion</td>\n",
       "      <td></td>\n",
       "      <td>unknown</td>\n",
       "    </tr>\n",
       "    <tr>\n",
       "      <th>71</th>\n",
       "      <td>[chilcott, mention, sxsw, stand, talking, with, blogger, staff, too, late, to, win, competition, for, best, tweet, mentioning, mention, so, no, tshirt]</td>\n",
       "      <td>na</td>\n",
       "      <td>Neutral emotion</td>\n",
       "      <td></td>\n",
       "      <td>unknown</td>\n",
       "    </tr>\n",
       "    <tr>\n",
       "      <th>...</th>\n",
       "      <td>...</td>\n",
       "      <td>...</td>\n",
       "      <td>...</td>\n",
       "      <td>...</td>\n",
       "      <td>...</td>\n",
       "    </tr>\n",
       "    <tr>\n",
       "      <th>8932</th>\n",
       "      <td>[z6, no, news, is, good, news, link, codes, valid, 40075959p, 031111, infektd, sxsw, zlf]</td>\n",
       "      <td>na</td>\n",
       "      <td>Neutral emotion</td>\n",
       "      <td></td>\n",
       "      <td>unknown</td>\n",
       "    </tr>\n",
       "    <tr>\n",
       "      <th>8936</th>\n",
       "      <td>[client, news, mention, releases, dope, melodies, amp, heavy, bass, amp, invades, sxsw, gt, link]</td>\n",
       "      <td>na</td>\n",
       "      <td>Neutral emotion</td>\n",
       "      <td></td>\n",
       "      <td>unknown</td>\n",
       "    </tr>\n",
       "    <tr>\n",
       "      <th>8970</th>\n",
       "      <td>[this, is, my, 5th, year, downloading, the, sxsw, music, torrent, link, all, free, and, legal, great, music]</td>\n",
       "      <td>na</td>\n",
       "      <td>Neutral emotion</td>\n",
       "      <td></td>\n",
       "      <td>unknown</td>\n",
       "    </tr>\n",
       "    <tr>\n",
       "      <th>9024</th>\n",
       "      <td>[by, the, way, were, looking, for, a, spanishspeaking, trend, scout, based, in, austin, gt, link, sxsw]</td>\n",
       "      <td>na</td>\n",
       "      <td>Neutral emotion</td>\n",
       "      <td></td>\n",
       "      <td>unknown</td>\n",
       "    </tr>\n",
       "    <tr>\n",
       "      <th>9026</th>\n",
       "      <td>[true, story, rt, mention, i, just, rated, amys, ice, cream, 5, stars, mention, best, ice, cream, in, town, link, sxsw]</td>\n",
       "      <td>na</td>\n",
       "      <td>Neutral emotion</td>\n",
       "      <td></td>\n",
       "      <td>unknown</td>\n",
       "    </tr>\n",
       "  </tbody>\n",
       "</table>\n",
       "<p>915 rows × 5 columns</p>\n",
       "</div>"
      ],
      "text/plain": [
       "                                                                                                                                                   tweet_text  \\\n",
       "51                   [ûïmention, link, lt, help, me, forward, this, doc, to, all, anonymous, accounts, techiesamp, ppl, who, can, help, us, jam, libya, sxsw]   \n",
       "52                                                                              [¼, what, _, link, ã_, edchat, musedchat, sxsw, sxswi, classical, newtwitter]   \n",
       "53                                                             [mention, mention, on, the, locationbased, fast, fun, and, future, , link, via, mention, sxsw]   \n",
       "66                                                          [at, sxsw, mention, , mention, wanna, buy, you, a, drink, 7pm, at, fado, on, 4th, link, join, us]   \n",
       "71    [chilcott, mention, sxsw, stand, talking, with, blogger, staff, too, late, to, win, competition, for, best, tweet, mentioning, mention, so, no, tshirt]   \n",
       "...                                                                                                                                                       ...   \n",
       "8932                                                                [z6, no, news, is, good, news, link, codes, valid, 40075959p, 031111, infektd, sxsw, zlf]   \n",
       "8936                                                        [client, news, mention, releases, dope, melodies, amp, heavy, bass, amp, invades, sxsw, gt, link]   \n",
       "8970                                             [this, is, my, 5th, year, downloading, the, sxsw, music, torrent, link, all, free, and, legal, great, music]   \n",
       "9024                                                  [by, the, way, were, looking, for, a, spanishspeaking, trend, scout, based, in, austin, gt, link, sxsw]   \n",
       "9026                                  [true, story, rt, mention, i, just, rated, amys, ice, cream, 5, stars, mention, best, ice, cream, in, town, link, sxsw]   \n",
       "\n",
       "     emotion_in_tweet_is_directed_at  \\\n",
       "51                                na   \n",
       "52                                na   \n",
       "53                                na   \n",
       "66                                na   \n",
       "71                                na   \n",
       "...                              ...   \n",
       "8932                              na   \n",
       "8936                              na   \n",
       "8970                              na   \n",
       "9024                              na   \n",
       "9026                              na   \n",
       "\n",
       "     is_there_an_emotion_directed_at_a_brand_or_product test  product  \n",
       "51                                      Neutral emotion       unknown  \n",
       "52                                      Neutral emotion       unknown  \n",
       "53                                      Neutral emotion       unknown  \n",
       "66                                      Neutral emotion       unknown  \n",
       "71                                      Neutral emotion       unknown  \n",
       "...                                                 ...  ...      ...  \n",
       "8932                                    Neutral emotion       unknown  \n",
       "8936                                    Neutral emotion       unknown  \n",
       "8970                                    Neutral emotion       unknown  \n",
       "9024                                    Neutral emotion       unknown  \n",
       "9026                                    Neutral emotion       unknown  \n",
       "\n",
       "[915 rows x 5 columns]"
      ]
     },
     "execution_count": 21,
     "metadata": {},
     "output_type": "execute_result"
    }
   ],
   "source": [
    "df.loc[df['product'] == 'unknown']"
   ]
  },
  {
   "cell_type": "markdown",
   "metadata": {},
   "source": [
    "# Prepare for Testing"
   ]
  },
  {
   "cell_type": "code",
   "execution_count": 207,
   "metadata": {},
   "outputs": [],
   "source": [
    "target_dict = {'Negative emotion': 2, 'Neutral emotion': 1, 'Positive emotion': 0}\n",
    "df_test = df.copy()\n",
    "df_test['target'] = df['is_there_an_emotion_directed_at_a_brand_or_product'].map(target_dict)\n",
    "#df_test = df_test.loc[df_test['product'] != 'unknown']"
   ]
  },
  {
   "cell_type": "code",
   "execution_count": 208,
   "metadata": {},
   "outputs": [],
   "source": [
    "df_test.drop(['emotion_in_tweet_is_directed_at','test','is_there_an_emotion_directed_at_a_brand_or_product'],axis=1,inplace=True)\n"
   ]
  },
  {
   "cell_type": "code",
   "execution_count": 209,
   "metadata": {},
   "outputs": [],
   "source": [
    "X = df_test['tweet_text'].str.join(' ')\n",
    "new_X = tweet['tweet_text']\n",
    "y = df_test['target']"
   ]
  },
  {
   "cell_type": "code",
   "execution_count": null,
   "metadata": {},
   "outputs": [],
   "source": []
  },
  {
   "cell_type": "code",
   "execution_count": 26,
   "metadata": {},
   "outputs": [],
   "source": [
    "X_train,X_test,y_train,y_test = train_test_split(new_X,y,random_state=42,stratify=y)"
   ]
  },
  {
   "cell_type": "code",
   "execution_count": null,
   "metadata": {},
   "outputs": [],
   "source": []
  },
  {
   "cell_type": "code",
   "execution_count": 210,
   "metadata": {},
   "outputs": [],
   "source": [
    "# Make Our test and train set\n",
    "X_train,X_test,y_train,y_test = train_test_split(X,y)"
   ]
  },
  {
   "cell_type": "code",
   "execution_count": 27,
   "metadata": {},
   "outputs": [],
   "source": [
    "# Our first model we will try a CountVectorizer with Naive Bayes\n",
    "cv = CountVectorizer()\n",
    "\n",
    "X_t_vec = cv.fit_transform(X_train)\n",
    "X_t_vec = cv.fit_transform(X_train)\n",
    "X_t_vec = pd.DataFrame.sparse.from_spmatrix(X_t_vec)\n",
    "X_t_vec.columns = sorted(cv.vocabulary_)\n",
    "X_t_vec.set_index(y_train.index, inplace=True)"
   ]
  },
  {
   "cell_type": "code",
   "execution_count": 28,
   "metadata": {},
   "outputs": [],
   "source": [
    "X_val_vec = cv.transform(X_test)\n",
    "X_val_vec  = pd.DataFrame.sparse.from_spmatrix(X_val_vec)\n",
    "X_val_vec.columns = sorted(cv.vocabulary_)\n",
    "X_val_vec.set_index(y_test.index, inplace=True)"
   ]
  },
  {
   "cell_type": "code",
   "execution_count": 29,
   "metadata": {},
   "outputs": [],
   "source": [
    "mnb = MultinomialNB()"
   ]
  },
  {
   "cell_type": "code",
   "execution_count": 30,
   "metadata": {},
   "outputs": [
    {
     "data": {
      "text/plain": [
       "MultinomialNB()"
      ]
     },
     "execution_count": 30,
     "metadata": {},
     "output_type": "execute_result"
    }
   ],
   "source": [
    "mnb.fit(X_t_vec,y_train)"
   ]
  },
  {
   "cell_type": "code",
   "execution_count": 31,
   "metadata": {},
   "outputs": [],
   "source": [
    "results = cross_validate(mnb,X_t_vec,y_train,return_train_score=True)"
   ]
  },
  {
   "cell_type": "code",
   "execution_count": 32,
   "metadata": {},
   "outputs": [
    {
     "name": "stdout",
     "output_type": "stream",
     "text": [
      "Mean Train Score: 0.8383560308146365\n",
      "Mean Test Score: 0.6540537196928458\n"
     ]
    }
   ],
   "source": [
    "mean_scores(results)"
   ]
  },
  {
   "cell_type": "markdown",
   "metadata": {},
   "source": [
    "From our first look at the model, it seems to be overfit. It has high variance from our test and train scores."
   ]
  },
  {
   "cell_type": "code",
   "execution_count": 33,
   "metadata": {},
   "outputs": [],
   "source": [
    "y_hat = cross_val_predict(mnb,X_t_vec,y_train)\n"
   ]
  },
  {
   "cell_type": "code",
   "execution_count": 34,
   "metadata": {},
   "outputs": [
    {
     "name": "stdout",
     "output_type": "stream",
     "text": [
      "Recall Score: 0.6540548467517231\n",
      "Precision Score: 0.6540548467517231\n",
      "Accuracy Score:0.6540548467517231\n",
      "F1 Score: 0.6540548467517231\n",
      "Confusion Matrix: \n",
      "[[1205 1012   16]\n",
      " [ 880 3220   58]\n",
      " [ 173  220   35]]\n"
     ]
    }
   ],
   "source": [
    "metrics(y_train,y_hat)"
   ]
  },
  {
   "cell_type": "code",
   "execution_count": 59,
   "metadata": {},
   "outputs": [
    {
     "name": "stdout",
     "output_type": "stream",
     "text": [
      "Mean Train Score: 0.8967590536810104\n",
      "Mean Test Score: 0.6899842507148497\n"
     ]
    }
   ],
   "source": [
    "lr_pipe = Pipeline([(\"vec\" , CountVectorizer(stop_words='english')),\n",
    "                       (\"lr\",LogisticRegression(C=.5,solver='saga'))])\n",
    "results_LR = cross_validate(lr_pipe,X_train,y_train,return_train_score=True)\n",
    "mean_scores(results_LR)"
   ]
  },
  {
   "cell_type": "code",
   "execution_count": 60,
   "metadata": {},
   "outputs": [
    {
     "name": "stdout",
     "output_type": "stream",
     "text": [
      "Recall Score: 0.689837219533656\n",
      "Precision Score: 0.689837219533656\n",
      "Accuracy Score:0.689837219533656\n",
      "F1 Score: 0.689837219533656\n",
      "Confusion Matrix: \n",
      "[[1127 1092   14]\n",
      " [ 602 3512   44]\n",
      " [  89  274   65]]\n"
     ]
    }
   ],
   "source": [
    "y_hat_train = cross_val_predict(lr_pipe, X_train, y_train)\n",
    "metrics(y_train,y_hat_train)"
   ]
  },
  {
   "cell_type": "code",
   "execution_count": 39,
   "metadata": {},
   "outputs": [],
   "source": [
    "pipe = make_pipeline(TfidfVectorizer(), MultinomialNB())\n",
    "cv = cross_validate(pipe, X_train, y_train,return_train_score=True)"
   ]
  },
  {
   "cell_type": "code",
   "execution_count": 40,
   "metadata": {},
   "outputs": [
    {
     "name": "stdout",
     "output_type": "stream",
     "text": [
      "Mean Train Score: 0.7308622601342362\n",
      "Mean Test Score: 0.6502423711710625\n"
     ]
    }
   ],
   "source": [
    "mean_scores(cv)"
   ]
  },
  {
   "cell_type": "code",
   "execution_count": 41,
   "metadata": {},
   "outputs": [
    {
     "name": "stdout",
     "output_type": "stream",
     "text": [
      "Mean Train Score: 0.9963704503119363\n",
      "Mean Test Score: 0.672091707312875\n"
     ]
    }
   ],
   "source": [
    "pipe = make_pipeline(TfidfVectorizer(), RandomForestClassifier())\n",
    "cv = cross_validate(pipe, X_train, y_train,return_train_score=True)\n",
    "mean_scores(cv)"
   ]
  },
  {
   "cell_type": "markdown",
   "metadata": {},
   "source": [
    "Using a TFidfVectorizer, we have fixed our over fitting problem but the test score has not improved that much. Maybe we can tweak some hyperparameters to help improve the scores."
   ]
  },
  {
   "cell_type": "code",
   "execution_count": 640,
   "metadata": {},
   "outputs": [],
   "source": [
    "RF_pipe = Pipeline([( \"tfid\" , TfidfVectorizer(max_features=500)),\n",
    "                       (\"rf\",RandomForestClassifier())])\n",
    "\n",
    "params = {'rf__criterion':['gini', 'entropy'],\n",
    "          'rf__max_depth':[None,3,5],\n",
    "          'rf__min_samples_split':[2,5,10],\n",
    "          'rf__min_samples_leaf':[1,3,5,7],\n",
    "          'rf__max_features' : [5,10]}\n",
    "\n",
    "clf = GridSearchCV(RF_pipe,params,return_train_score = True)\n"
   ]
  },
  {
   "cell_type": "code",
   "execution_count": 641,
   "metadata": {},
   "outputs": [
    {
     "data": {
      "text/plain": [
       "GridSearchCV(estimator=Pipeline(steps=[('tfid',\n",
       "                                        TfidfVectorizer(max_features=500)),\n",
       "                                       ('rf', RandomForestClassifier())]),\n",
       "             param_grid={'rf__criterion': ['gini', 'entropy'],\n",
       "                         'rf__max_depth': [None, 3, 5],\n",
       "                         'rf__max_features': [5, 10],\n",
       "                         'rf__min_samples_leaf': [1, 3, 5, 7],\n",
       "                         'rf__min_samples_split': [2, 5, 10]},\n",
       "             return_train_score=True)"
      ]
     },
     "execution_count": 641,
     "metadata": {},
     "output_type": "execute_result"
    }
   ],
   "source": [
    "clf.fit(X_train,y_train)"
   ]
  },
  {
   "cell_type": "code",
   "execution_count": 642,
   "metadata": {},
   "outputs": [
    {
     "data": {
      "text/plain": [
       "{'rf__criterion': 'gini',\n",
       " 'rf__max_depth': None,\n",
       " 'rf__max_features': 10,\n",
       " 'rf__min_samples_leaf': 1,\n",
       " 'rf__min_samples_split': 5}"
      ]
     },
     "execution_count": 642,
     "metadata": {},
     "output_type": "execute_result"
    }
   ],
   "source": [
    "clf.best_params_"
   ]
  },
  {
   "cell_type": "code",
   "execution_count": 643,
   "metadata": {},
   "outputs": [
    {
     "name": "stdout",
     "output_type": "stream",
     "text": [
      "Mean Train Score: 0.6658646695343339'\n",
      "Mean Test Score: 0.625308436200932\n"
     ]
    }
   ],
   "source": [
    "gs_mean_scores(clf)"
   ]
  },
  {
   "cell_type": "code",
   "execution_count": 211,
   "metadata": {},
   "outputs": [
    {
     "name": "stdout",
     "output_type": "stream",
     "text": [
      "Mean Train Score: 0.8253409124508442\n",
      "Mean Test Score: 0.6883707020265372\n"
     ]
    }
   ],
   "source": [
    "lr_pipe = Pipeline([(\"tfid\" , TfidfVectorizer(stop_words='english')),\n",
    "                       (\"lr\",LogisticRegression())])\n",
    "results_LR = cross_validate(lr_pipe,X_train,y_train,return_train_score=True)\n",
    "mean_scores(results_LR)"
   ]
  },
  {
   "cell_type": "code",
   "execution_count": 686,
   "metadata": {},
   "outputs": [],
   "source": [
    "lr_grid = {'lr__C' : [.5, 1, 50],\n",
    "       'lr__max_iter' : [50,100,1750, 2000],\n",
    "       }\n",
    "\n",
    "clf_lr = GridSearchCV(lr_pipe,lr_grid,return_train_score=True)"
   ]
  },
  {
   "cell_type": "code",
   "execution_count": null,
   "metadata": {},
   "outputs": [],
   "source": [
    "LR_results = clf_LR.fit(X_train,y_train)\n",
    "gs_m"
   ]
  },
  {
   "cell_type": "code",
   "execution_count": 688,
   "metadata": {},
   "outputs": [
    {
     "name": "stdout",
     "output_type": "stream",
     "text": [
      "Mean Train Score: 0.84885982563729'\n",
      "Mean Test Score: 0.6776658946217912\n"
     ]
    }
   ],
   "source": [
    "lr_results = clf_lr.fit(X_train,y_train)\n",
    "gs_mean_scores(lr_results)"
   ]
  },
  {
   "cell_type": "code",
   "execution_count": 689,
   "metadata": {},
   "outputs": [
    {
     "data": {
      "text/plain": [
       "{'lr__C': 1, 'lr__max_iter': 100}"
      ]
     },
     "execution_count": 689,
     "metadata": {},
     "output_type": "execute_result"
    }
   ],
   "source": [
    "lr_results.best_params_"
   ]
  },
  {
   "cell_type": "code",
   "execution_count": 162,
   "metadata": {},
   "outputs": [],
   "source": [
    "common_words = ['sxsw', 'mention', 'link', 'ipad', 'iphone', 'google', 'apple', '2', 'android', 'rt']"
   ]
  },
  {
   "cell_type": "code",
   "execution_count": 691,
   "metadata": {},
   "outputs": [
    {
     "name": "stdout",
     "output_type": "stream",
     "text": [
      "Mean Train Score: 0.9092975854162691\n",
      "Mean Test Score: 0.6789855696099039\n"
     ]
    }
   ],
   "source": [
    "sgd_pipe = Pipeline([(\"tfid\" , TfidfVectorizer(stop_words=common_words + sw.words('english'))),\n",
    "                       (\"sgd\",SGDClassifier())])\n",
    "results_sgd = cross_validate(sgd_pipe,X_train,y_train,return_train_score=True)\n",
    "mean_scores(results_sgd)"
   ]
  },
  {
   "cell_type": "code",
   "execution_count": 692,
   "metadata": {},
   "outputs": [],
   "source": [
    "results_sgd = clf_sgd.fit(X_train,y_train)"
   ]
  },
  {
   "cell_type": "code",
   "execution_count": 693,
   "metadata": {},
   "outputs": [
    {
     "name": "stdout",
     "output_type": "stream",
     "text": [
      "Recall Score: 0.6788385393752749\n",
      "Precision Score: 0.6788385393752749\n",
      "Accuracy Score:0.6788385393752749\n",
      "F1 Score: 0.6788385393752749\n",
      "Confusion Matrix: \n",
      "[[1154 1056   23]\n",
      " [ 715 3384   59]\n",
      " [  83  254   91]]\n"
     ]
    }
   ],
   "source": [
    "y_pred = cross_val_predict(sgd_pipe,X_train,y_train)\n",
    "metrics(y_train,y_pred)"
   ]
  },
  {
   "cell_type": "code",
   "execution_count": 694,
   "metadata": {},
   "outputs": [
    {
     "name": "stdout",
     "output_type": "stream",
     "text": [
      "Mean Train Score: 0.7481179469363216'\n",
      "Mean Test Score: 0.6457699076773462\n"
     ]
    }
   ],
   "source": [
    "gs_mean_scores(results_sgd)"
   ]
  },
  {
   "cell_type": "code",
   "execution_count": 695,
   "metadata": {},
   "outputs": [
    {
     "name": "stdout",
     "output_type": "stream",
     "text": [
      "Recall Score: 0.6789851884440534\n",
      "Precision Score: 0.6789851884440534\n",
      "Accuracy Score:0.6789851884440534\n",
      "F1 Score: 0.6789851884440534\n",
      "Confusion Matrix: \n",
      "[[1156 1053   24]\n",
      " [ 716 3386   56]\n",
      " [  84  256   88]]\n"
     ]
    }
   ],
   "source": [
    "y_hat_train = cross_val_predict(sgd_pipe, X_train, y_train)\n",
    "metrics(y_train,y_hat_train)"
   ]
  },
  {
   "cell_type": "code",
   "execution_count": 696,
   "metadata": {},
   "outputs": [
    {
     "name": "stdout",
     "output_type": "stream",
     "text": [
      "Mean Train Score: 0.8988487787308047\n",
      "Mean Test Score: 0.6825064600039157\n"
     ]
    }
   ],
   "source": [
    "xgb_pipe = Pipeline([(\"tfid\" , TfidfVectorizer()),\n",
    "                       (\"xgb\",XGBClassifier())])\n",
    "results_xgb = cross_validate(xgb_pipe,X_train,y_train,return_train_score=True)\n",
    "mean_scores(results_xgb)"
   ]
  },
  {
   "cell_type": "code",
   "execution_count": 697,
   "metadata": {},
   "outputs": [
    {
     "name": "stdout",
     "output_type": "stream",
     "text": [
      "Mean Train Score: 0.8464584134117856\n",
      "Mean Test Score: 0.6848509949804532\n"
     ]
    }
   ],
   "source": [
    "xgb_pipe = Pipeline([(\"count\" , CountVectorizer()),\n",
    "                       (\"xgb\",XGBClassifier())])\n",
    "results_xgb = cross_validate(xgb_pipe,X_train,y_train,return_train_score=True)\n",
    "mean_scores(results_xgb)"
   ]
  },
  {
   "cell_type": "code",
   "execution_count": 698,
   "metadata": {},
   "outputs": [],
   "source": [
    "xgb_grid = {'xgb__n_estimators':[50,75,100],\n",
    "            'xgb__max_depth':[1,3,4,5]}\n",
    "\n",
    "xgb_gs = GridSearchCV(estimator=xgb_pipe, param_grid=xgb_grid, return_train_score=True)"
   ]
  },
  {
   "cell_type": "code",
   "execution_count": 699,
   "metadata": {},
   "outputs": [],
   "source": [
    "results_xgb = xgb_gs.fit(X_train,y_train)"
   ]
  },
  {
   "cell_type": "code",
   "execution_count": 700,
   "metadata": {},
   "outputs": [
    {
     "name": "stdout",
     "output_type": "stream",
     "text": [
      "Mean Train Score: 0.7427226035375187'\n",
      "Mean Test Score: 0.6709451417830112\n"
     ]
    }
   ],
   "source": [
    "gs_mean_scores(results_xgb)"
   ]
  },
  {
   "cell_type": "code",
   "execution_count": 701,
   "metadata": {},
   "outputs": [],
   "source": [
    "xgb_pred = cross_val_predict(xgb_gs.best_estimator_, X_train, y_train)"
   ]
  },
  {
   "cell_type": "code",
   "execution_count": 702,
   "metadata": {},
   "outputs": [
    {
     "name": "stdout",
     "output_type": "stream",
     "text": [
      "Recall Score: 0.6807449772693943\n",
      "Precision Score: 0.6807449772693943\n",
      "Accuracy Score:0.6807449772693943\n",
      "F1 Score: 0.6807449772693943\n",
      "Confusion Matrix: \n",
      "[[ 816 1405   12]\n",
      " [ 357 3779   22]\n",
      " [  76  305   47]]\n"
     ]
    }
   ],
   "source": [
    "metrics(y_train,xgb_pred)"
   ]
  },
  {
   "cell_type": "code",
   "execution_count": 212,
   "metadata": {},
   "outputs": [
    {
     "name": "stdout",
     "output_type": "stream",
     "text": [
      "Mean Train Score: 0.9637777161043031\n",
      "Mean Test Score: 0.6911578091281309\n"
     ]
    }
   ],
   "source": [
    "svc_pipe = Pipeline([(\"tfid\" , TfidfVectorizer(stop_words=sw.words('english'))),\n",
    "                     (\"svc\", SVC(C=3,kernel='rbf'))])\n",
    "results_svc = cross_validate(svc_pipe,X_train,y_train,return_train_score=True)\n",
    "mean_scores(results_svc)"
   ]
  },
  {
   "cell_type": "code",
   "execution_count": null,
   "metadata": {},
   "outputs": [],
   "source": []
  },
  {
   "cell_type": "code",
   "execution_count": 221,
   "metadata": {},
   "outputs": [
    {
     "data": {
      "text/plain": [
       "Pipeline(steps=[('tfid',\n",
       "                 TfidfVectorizer(stop_words=['i', 'me', 'my', 'myself', 'we',\n",
       "                                             'our', 'ours', 'ourselves', 'you',\n",
       "                                             \"you're\", \"you've\", \"you'll\",\n",
       "                                             \"you'd\", 'your', 'yours',\n",
       "                                             'yourself', 'yourselves', 'he',\n",
       "                                             'him', 'his', 'himself', 'she',\n",
       "                                             \"she's\", 'her', 'hers', 'herself',\n",
       "                                             'it', \"it's\", 'its', 'itself', ...])),\n",
       "                ('svc', SVC(C=3))])"
      ]
     },
     "execution_count": 221,
     "metadata": {},
     "output_type": "execute_result"
    }
   ],
   "source": [
    "svc_pipe.fit(X_train,y_train)"
   ]
  },
  {
   "cell_type": "code",
   "execution_count": 137,
   "metadata": {},
   "outputs": [],
   "source": [
    "svc_params = {'svc__C': [1,2,3,4,5],\n",
    "             'svc__kernel':['linear','rbf','sigmoid','poly'],\n",
    "              'svc__degree':[3,5,7,8],\n",
    "             }\n",
    "\n",
    "svc_gs = GridSearchCV(estimator=svc_pipe, param_grid=svc_params, return_train_score=True)"
   ]
  },
  {
   "cell_type": "code",
   "execution_count": 219,
   "metadata": {},
   "outputs": [],
   "source": [
    "#svc_gs.fit(X_train,y_train)"
   ]
  },
  {
   "cell_type": "code",
   "execution_count": 217,
   "metadata": {},
   "outputs": [
    {
     "data": {
      "text/plain": [
       "{'svc__C': 3, 'svc__degree': 3, 'svc__kernel': 'rbf'}"
      ]
     },
     "execution_count": 217,
     "metadata": {},
     "output_type": "execute_result"
    }
   ],
   "source": [
    "svc_gs.best_params_"
   ]
  },
  {
   "cell_type": "code",
   "execution_count": 228,
   "metadata": {},
   "outputs": [
    {
     "data": {
      "text/plain": [
       "<sklearn.metrics._plot.confusion_matrix.ConfusionMatrixDisplay at 0x1616e9bd3d0>"
      ]
     },
     "execution_count": 228,
     "metadata": {},
     "output_type": "execute_result"
    },
    {
     "data": {
      "image/png": "[encoded data removed]",
      "text/plain": [
       "<Figure size 432x288 with 2 Axes>"
      ]
     },
     "metadata": {
      "needs_background": "light"
     },
     "output_type": "display_data"
    }
   ],
   "source": [
    "plot_confusion_matrix(svc_pipe,X_test,y_test,display_labels=['Positive','Neutral','Negative'])"
   ]
  },
  {
   "cell_type": "code",
   "execution_count": 223,
   "metadata": {},
   "outputs": [
    {
     "data": {
      "text/plain": [
       "0.7056753189617246"
      ]
     },
     "execution_count": 223,
     "metadata": {},
     "output_type": "execute_result"
    }
   ],
   "source": [
    "svc_pipe.score(X_test,y_test)"
   ]
  },
  {
   "cell_type": "code",
   "execution_count": 179,
   "metadata": {},
   "outputs": [],
   "source": [
    "\n"
   ]
  },
  {
   "cell_type": "code",
   "execution_count": 181,
   "metadata": {},
   "outputs": [],
   "source": []
  },
  {
   "cell_type": "code",
   "execution_count": null,
   "metadata": {},
   "outputs": [],
   "source": []
  },
  {
   "cell_type": "code",
   "execution_count": null,
   "metadata": {},
   "outputs": [],
   "source": []
  },
  {
   "cell_type": "code",
   "execution_count": null,
   "metadata": {},
   "outputs": [],
   "source": []
  }
 ],
 "metadata": {
  "kernelspec": {
   "display_name": "Python (learn-env)",
   "language": "python",
   "name": "learn-env"
  },
  "language_info": {
   "codemirror_mode": {
    "name": "ipython",
    "version": 3
   },
   "file_extension": ".py",
   "mimetype": "text/x-python",
   "name": "python",
   "nbconvert_exporter": "python",
   "pygments_lexer": "ipython3",
   "version": "3.8.5"
  }
 },
 "nbformat": 4,
 "nbformat_minor": 4
}
