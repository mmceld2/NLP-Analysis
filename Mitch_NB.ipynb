{
 "cells": [
  {
   "cell_type": "code",
   "execution_count": 296,
   "metadata": {},
   "outputs": [],
   "source": [
    "import pandas as pd\n",
    "import nltk\n",
    "from nltk.tokenize import regexp_tokenize, word_tokenize, RegexpTokenizer, RegexpTokenizer\n",
    "from nltk.corpus import stopwords, wordnet\n",
    "from nltk import pos_tag\n",
    "from nltk.stem import WordNetLemmatizer\n",
    "from sklearn.feature_extraction.text import TfidfVectorizer, CountVectorizer\n",
    "from sklearn.model_selection import train_test_split , cross_validate\n",
    "from sklearn.naive_bayes import MultinomialNB\n",
    "from sklearn.metrics import accuracy_score, precision_score, confusion_matrix, recall_score\n",
    "pd.set_option ('display.max_colwidth', None)"
   ]
  },
  {
   "cell_type": "code",
   "execution_count": 149,
   "metadata": {},
   "outputs": [
    {
     "data": {
      "text/plain": [
       "tweet_text                                               1\n",
       "emotion_in_tweet_is_directed_at                       5802\n",
       "is_there_an_emotion_directed_at_a_brand_or_product       0\n",
       "dtype: int64"
      ]
     },
     "execution_count": 149,
     "metadata": {},
     "output_type": "execute_result"
    }
   ],
   "source": [
    "df = pd.read_csv('data/judge-1377884607_tweet_product_company.csv',encoding='latin1')\n",
    "df.isna().sum()"
   ]
  },
  {
   "cell_type": "markdown",
   "metadata": {},
   "source": [
    "There are 5802 missing values telling what the tweet is directed at. A way to combat this would be to look at the tweet and look for keywords such as iphone or ipad and assign who it is directed to that way."
   ]
  },
  {
   "cell_type": "code",
   "execution_count": null,
   "metadata": {},
   "outputs": [],
   "source": []
  },
  {
   "cell_type": "code",
   "execution_count": 150,
   "metadata": {},
   "outputs": [],
   "source": [
    "#Take out puncuation and other unnecessary characters\n",
    "df['tweet_text'] = df['tweet_text'].str.replace(r'[^\\w\\s]', '')\n",
    "df['tweet_text'] = df['tweet_text'].str.replace('quot', '')\n",
    "# Make lower case and split\n",
    "df['tweet_text'] = df['tweet_text'].str.lower()\n",
    "df['tweet_text'] = df['tweet_text'].str.split(' ')\n",
    "# Drop the 1 NA tweet we have\n",
    "df = df.dropna(subset=['tweet_text'])"
   ]
  },
  {
   "cell_type": "markdown",
   "metadata": {},
   "source": [
    "Here we do some basic cleaning of the data set, removing puncuation making everything lower case and splitting the data."
   ]
  },
  {
   "cell_type": "code",
   "execution_count": 151,
   "metadata": {},
   "outputs": [],
   "source": [
    "# Make a blank column to set up for some data cleaning\n",
    "df['test'] = ''\n",
    "# Fill in the values with a string na to avoid errors\n",
    "df.fillna('na',inplace=True)\n"
   ]
  },
  {
   "cell_type": "code",
   "execution_count": 152,
   "metadata": {},
   "outputs": [],
   "source": [
    "# This salvages alot of our data\n",
    "\n",
    "apple = ['iphone','ipad','apple','apples','ipads']\n",
    "android = ['android','google','androids','googles']\n",
    "\n",
    "# Loop through the tweet column and look for keywords to assign product to\n",
    "for ind , val in enumerate(df['tweet_text']):\n",
    "    if df['emotion_in_tweet_is_directed_at'].values[ind] == 'na':\n",
    "        for y in val:\n",
    "            if y in apple:\n",
    "                df['test'].values[ind] = y\n",
    "            elif y in android:\n",
    "                df['test'].values[ind] = y\n",
    "                \n",
    "    else:\n",
    "        df['test'].values[ind] = df['emotion_in_tweet_is_directed_at'].values[ind]\n",
    "      "
   ]
  },
  {
   "cell_type": "markdown",
   "metadata": {},
   "source": [
    "Since there were such a high amount of NA values in the emotion tweeted at column, we thought it was best to try to salvage as much data as possible. We looked for keywords in the tweets and assigned a product to them based on what they "
   ]
  },
  {
   "cell_type": "code",
   "execution_count": 153,
   "metadata": {},
   "outputs": [
    {
     "data": {
      "text/plain": [
       "array(['iphone', 'ipad or iphone app', 'ipad', 'google', 'android',\n",
       "       'apple', 'android app', 'other google product or service', '',\n",
       "       'googles', 'ipads', 'apples', 'other apple product or service',\n",
       "       'androids'], dtype=object)"
      ]
     },
     "execution_count": 153,
     "metadata": {},
     "output_type": "execute_result"
    }
   ],
   "source": [
    "#make everything lower case to make values match\n",
    "df['test'] = df['test'].map(lambda x : x.lower())\n",
    "df['test'].unique()"
   ]
  },
  {
   "cell_type": "code",
   "execution_count": 154,
   "metadata": {},
   "outputs": [],
   "source": [
    "#This cell replaces words with the rightful product to reduce unique values\n",
    "df['test'] = df['test'].replace({'googles': 'google', 'apples': 'apple', 'androids': 'android','ipads':'ipad'})"
   ]
  },
  {
   "cell_type": "code",
   "execution_count": 155,
   "metadata": {},
   "outputs": [
    {
     "data": {
      "text/plain": [
       "array(['iphone', 'ipad or iphone app', 'ipad', 'google', 'android',\n",
       "       'apple', 'android app', 'other google product or service', '',\n",
       "       'other apple product or service'], dtype=object)"
      ]
     },
     "execution_count": 155,
     "metadata": {},
     "output_type": "execute_result"
    }
   ],
   "source": [
    "df['test'].unique()"
   ]
  },
  {
   "cell_type": "markdown",
   "metadata": {},
   "source": [
    "We went from 5802 NA values to almost under 900! The remainder tweets do not mention anything about either product, and therefore are not useful for our analysis."
   ]
  },
  {
   "cell_type": "code",
   "execution_count": 156,
   "metadata": {},
   "outputs": [
    {
     "data": {
      "text/plain": [
       "array(['Negative emotion', 'Positive emotion',\n",
       "       'No emotion toward brand or product', \"I can't tell\"], dtype=object)"
      ]
     },
     "execution_count": 156,
     "metadata": {},
     "output_type": "execute_result"
    }
   ],
   "source": [
    "df['is_there_an_emotion_directed_at_a_brand_or_product'].unique()"
   ]
  },
  {
   "cell_type": "markdown",
   "metadata": {},
   "source": [
    "Looking at the target of our dataset, there seems to be four different values. Negative emotion, positive emotion, no emotion and I can't tell. Let's get a closer look at these 'I can't tell' labels."
   ]
  },
  {
   "cell_type": "code",
   "execution_count": 157,
   "metadata": {},
   "outputs": [
    {
     "data": {
      "text/html": [
       "<div>\n",
       "<style scoped>\n",
       "    .dataframe tbody tr th:only-of-type {\n",
       "        vertical-align: middle;\n",
       "    }\n",
       "\n",
       "    .dataframe tbody tr th {\n",
       "        vertical-align: top;\n",
       "    }\n",
       "\n",
       "    .dataframe thead th {\n",
       "        text-align: right;\n",
       "    }\n",
       "</style>\n",
       "<table border=\"1\" class=\"dataframe\">\n",
       "  <thead>\n",
       "    <tr style=\"text-align: right;\">\n",
       "      <th></th>\n",
       "      <th>tweet_text</th>\n",
       "      <th>emotion_in_tweet_is_directed_at</th>\n",
       "      <th>is_there_an_emotion_directed_at_a_brand_or_product</th>\n",
       "      <th>test</th>\n",
       "    </tr>\n",
       "  </thead>\n",
       "  <tbody>\n",
       "    <tr>\n",
       "      <th>90</th>\n",
       "      <td>[thanks, to, mention, for, publishing, the, news, of, mention, new, medical, apps, at, the, sxswi, conf, blog, link, sxsw, sxswh]</td>\n",
       "      <td>na</td>\n",
       "      <td>I can't tell</td>\n",
       "      <td></td>\n",
       "    </tr>\n",
       "    <tr>\n",
       "      <th>102</th>\n",
       "      <td>[ûïmention, apple, has, opened, a, popup, store, in, austin, so, the, nerds, in, town, for, sxsw, can, get, their, new, ipads, link, wow]</td>\n",
       "      <td>na</td>\n",
       "      <td>I can't tell</td>\n",
       "      <td>ipad</td>\n",
       "    </tr>\n",
       "    <tr>\n",
       "      <th>237</th>\n",
       "      <td>[just, what, america, needs, rt, mention, google, to, launch, major, new, social, network, called, circles, possibly, today, link, sxsw]</td>\n",
       "      <td>na</td>\n",
       "      <td>I can't tell</td>\n",
       "      <td>google</td>\n",
       "    </tr>\n",
       "    <tr>\n",
       "      <th>341</th>\n",
       "      <td>[the, queue, at, the, apple, store, in, austin, is, four, blocks, long, crazy, stuff, sxsw]</td>\n",
       "      <td>na</td>\n",
       "      <td>I can't tell</td>\n",
       "      <td>apple</td>\n",
       "    </tr>\n",
       "    <tr>\n",
       "      <th>368</th>\n",
       "      <td>[hope, its, better, than, wave, rt, mention, buzz, is, googles, previewing, a, social, networking, platform, at, sxsw, link]</td>\n",
       "      <td>na</td>\n",
       "      <td>I can't tell</td>\n",
       "      <td>google</td>\n",
       "    </tr>\n",
       "    <tr>\n",
       "      <th>...</th>\n",
       "      <td>...</td>\n",
       "      <td>...</td>\n",
       "      <td>...</td>\n",
       "      <td>...</td>\n",
       "    </tr>\n",
       "    <tr>\n",
       "      <th>9020</th>\n",
       "      <td>[its, funny, watching, a, room, full, of, people, hold, their, ipad, in, the, air, to, take, a, photo, like, a, room, full, of, tablets, staring, you, down, sxsw]</td>\n",
       "      <td>na</td>\n",
       "      <td>I can't tell</td>\n",
       "      <td>ipad</td>\n",
       "    </tr>\n",
       "    <tr>\n",
       "      <th>9032</th>\n",
       "      <td>[mention, yeah, we, have, mention, , google, has, nothing, on, us, , sxsw]</td>\n",
       "      <td>na</td>\n",
       "      <td>I can't tell</td>\n",
       "      <td>google</td>\n",
       "    </tr>\n",
       "    <tr>\n",
       "      <th>9037</th>\n",
       "      <td>[mention, yes, the, google, presentation, was, not, exactly, what, i, was, expecting, sxsw]</td>\n",
       "      <td>na</td>\n",
       "      <td>I can't tell</td>\n",
       "      <td>google</td>\n",
       "    </tr>\n",
       "    <tr>\n",
       "      <th>9058</th>\n",
       "      <td>[do, you, know, what, apple, is, really, good, at, making, you, feel, bad, about, your, xmas, present, , seth, meyers, on, ipad2, sxsw, doyoureallyneedthat]</td>\n",
       "      <td>na</td>\n",
       "      <td>I can't tell</td>\n",
       "      <td>apple</td>\n",
       "    </tr>\n",
       "    <tr>\n",
       "      <th>9066</th>\n",
       "      <td>[how, much, you, want, to, bet, apple, is, disproportionately, stocking, the, sxsw, popup, store, with, ipad, 2, the, influencerhipsters, thank, you]</td>\n",
       "      <td>Apple</td>\n",
       "      <td>I can't tell</td>\n",
       "      <td>apple</td>\n",
       "    </tr>\n",
       "  </tbody>\n",
       "</table>\n",
       "<p>156 rows × 4 columns</p>\n",
       "</div>"
      ],
      "text/plain": [
       "                                                                                                                                                              tweet_text  \\\n",
       "90                                     [thanks, to, mention, for, publishing, the, news, of, mention, new, medical, apps, at, the, sxswi, conf, blog, link, sxsw, sxswh]   \n",
       "102                            [ûïmention, apple, has, opened, a, popup, store, in, austin, so, the, nerds, in, town, for, sxsw, can, get, their, new, ipads, link, wow]   \n",
       "237                             [just, what, america, needs, rt, mention, google, to, launch, major, new, social, network, called, circles, possibly, today, link, sxsw]   \n",
       "341                                                                          [the, queue, at, the, apple, store, in, austin, is, four, blocks, long, crazy, stuff, sxsw]   \n",
       "368                                         [hope, its, better, than, wave, rt, mention, buzz, is, googles, previewing, a, social, networking, platform, at, sxsw, link]   \n",
       "...                                                                                                                                                                  ...   \n",
       "9020  [its, funny, watching, a, room, full, of, people, hold, their, ipad, in, the, air, to, take, a, photo, like, a, room, full, of, tablets, staring, you, down, sxsw]   \n",
       "9032                                                                                          [mention, yeah, we, have, mention, , google, has, nothing, on, us, , sxsw]   \n",
       "9037                                                                         [mention, yes, the, google, presentation, was, not, exactly, what, i, was, expecting, sxsw]   \n",
       "9058        [do, you, know, what, apple, is, really, good, at, making, you, feel, bad, about, your, xmas, present, , seth, meyers, on, ipad2, sxsw, doyoureallyneedthat]   \n",
       "9066               [how, much, you, want, to, bet, apple, is, disproportionately, stocking, the, sxsw, popup, store, with, ipad, 2, the, influencerhipsters, thank, you]   \n",
       "\n",
       "     emotion_in_tweet_is_directed_at  \\\n",
       "90                                na   \n",
       "102                               na   \n",
       "237                               na   \n",
       "341                               na   \n",
       "368                               na   \n",
       "...                              ...   \n",
       "9020                              na   \n",
       "9032                              na   \n",
       "9037                              na   \n",
       "9058                              na   \n",
       "9066                           Apple   \n",
       "\n",
       "     is_there_an_emotion_directed_at_a_brand_or_product    test  \n",
       "90                                         I can't tell          \n",
       "102                                        I can't tell    ipad  \n",
       "237                                        I can't tell  google  \n",
       "341                                        I can't tell   apple  \n",
       "368                                        I can't tell  google  \n",
       "...                                                 ...     ...  \n",
       "9020                                       I can't tell    ipad  \n",
       "9032                                       I can't tell  google  \n",
       "9037                                       I can't tell  google  \n",
       "9058                                       I can't tell   apple  \n",
       "9066                                       I can't tell   apple  \n",
       "\n",
       "[156 rows x 4 columns]"
      ]
     },
     "execution_count": 157,
     "metadata": {},
     "output_type": "execute_result"
    }
   ],
   "source": [
    "df.loc[df['is_there_an_emotion_directed_at_a_brand_or_product'] == \"I can't tell\"]"
   ]
  },
  {
   "cell_type": "markdown",
   "metadata": {},
   "source": [
    "Since this makes up such a small amount of our data, we will move the I can't tell value to that of neutral, along with the value 'No emotion toward brand or product'."
   ]
  },
  {
   "cell_type": "code",
   "execution_count": null,
   "metadata": {},
   "outputs": [],
   "source": [
    "emotion_dict = {'No emotion toward brand or product' : 'Neutral emotion', \"I can't tell\": 'Neutral emotion', 'Positive emotion': 'Positive emotion',\n",
    "               'Negative emotion': 'Negative emotion'}\n",
    "df['is_ther'] = df['Emotion'].map(emotion_dict)\n"
   ]
  },
  {
   "cell_type": "code",
   "execution_count": 159,
   "metadata": {},
   "outputs": [],
   "source": [
    "emotion_dict = {'No emotion toward brand or product' : 'Neutral emotion', \"I can't tell\": 'Neutral emotion', 'Positive emotion': 'Positive emotion',\n",
    "               'Negative emotion': 'Negative emotion'}\n",
    "df['is_there_an_emotion_directed_at_a_brand_or_product'] = df['is_there_an_emotion_directed_at_a_brand_or_product'].map(emotion_dict)\n"
   ]
  },
  {
   "cell_type": "code",
   "execution_count": 160,
   "metadata": {},
   "outputs": [
    {
     "data": {
      "text/plain": [
       "array(['Negative emotion', 'Positive emotion', 'Neutral emotion'],\n",
       "      dtype=object)"
      ]
     },
     "execution_count": 160,
     "metadata": {},
     "output_type": "execute_result"
    }
   ],
   "source": [
    "df['is_there_an_emotion_directed_at_a_brand_or_product'].unique()"
   ]
  },
  {
   "cell_type": "code",
   "execution_count": 161,
   "metadata": {},
   "outputs": [],
   "source": [
    "df['product'] = df['test'].map(company_search)\n"
   ]
  },
  {
   "cell_type": "code",
   "execution_count": 162,
   "metadata": {},
   "outputs": [],
   "source": [
    "def company_search(test):\n",
    "    if test == 'iphone':\n",
    "        return 'apple'\n",
    "    elif test == 'apple':\n",
    "        return 'apple'\n",
    "    elif test == 'ipad':\n",
    "        return 'apple'\n",
    "    elif test == 'ipad or iphone app':\n",
    "        return 'apple'\n",
    "    elif test == 'itunes':\n",
    "        return 'apple'\n",
    "    elif test == 'other apple product or service':\n",
    "        return 'apple'\n",
    "    elif test == 'ios':\n",
    "        return 'apple'\n",
    "    elif test == 'ipadquot':\n",
    "        return 'apple'\n",
    "    elif test == 'applequot':\n",
    "        return 'apple'\n",
    "    elif test == 'iphonequot':\n",
    "        return 'apple'\n",
    "    elif test == 'quotiphone':\n",
    "        return 'apple'\n",
    "    elif test == 'iosquot':\n",
    "        return 'apple'\n",
    "    elif test =='quotipad':\n",
    "        return 'apple'\n",
    "    elif test == 'quotapple':\n",
    "        return 'apple'\n",
    "    elif test =='google':\n",
    "        return 'google'\n",
    "    elif test == 'android':\n",
    "        return 'google'\n",
    "    elif test == 'other google product or service':\n",
    "        return 'google'\n",
    "    elif test == 'android app':\n",
    "        return 'google'\n",
    "    elif test == 'quotgoogle':\n",
    "        return 'google'\n",
    "    elif test == 'googlequot':\n",
    "        return 'google'\n",
    "    elif test == 'androidquot':\n",
    "        return 'google'\n",
    "    else:\n",
    "        return 'unknown'"
   ]
  },
  {
   "cell_type": "code",
   "execution_count": 163,
   "metadata": {},
   "outputs": [
    {
     "data": {
      "text/html": [
       "<div>\n",
       "<style scoped>\n",
       "    .dataframe tbody tr th:only-of-type {\n",
       "        vertical-align: middle;\n",
       "    }\n",
       "\n",
       "    .dataframe tbody tr th {\n",
       "        vertical-align: top;\n",
       "    }\n",
       "\n",
       "    .dataframe thead th {\n",
       "        text-align: right;\n",
       "    }\n",
       "</style>\n",
       "<table border=\"1\" class=\"dataframe\">\n",
       "  <thead>\n",
       "    <tr style=\"text-align: right;\">\n",
       "      <th></th>\n",
       "      <th>tweet_text</th>\n",
       "      <th>emotion_in_tweet_is_directed_at</th>\n",
       "      <th>is_there_an_emotion_directed_at_a_brand_or_product</th>\n",
       "      <th>test</th>\n",
       "      <th>product</th>\n",
       "    </tr>\n",
       "  </thead>\n",
       "  <tbody>\n",
       "    <tr>\n",
       "      <th>51</th>\n",
       "      <td>[ûïmention, link, lt, help, me, forward, this, doc, to, all, anonymous, accounts, techiesamp, ppl, who, can, help, us, jam, libya, sxsw]</td>\n",
       "      <td>na</td>\n",
       "      <td>Neutral emotion</td>\n",
       "      <td></td>\n",
       "      <td>unknown</td>\n",
       "    </tr>\n",
       "    <tr>\n",
       "      <th>52</th>\n",
       "      <td>[¼, what, _, link, ã_, edchat, musedchat, sxsw, sxswi, classical, newtwitter]</td>\n",
       "      <td>na</td>\n",
       "      <td>Neutral emotion</td>\n",
       "      <td></td>\n",
       "      <td>unknown</td>\n",
       "    </tr>\n",
       "    <tr>\n",
       "      <th>53</th>\n",
       "      <td>[mention, mention, on, the, locationbased, fast, fun, and, future, , link, via, mention, sxsw]</td>\n",
       "      <td>na</td>\n",
       "      <td>Neutral emotion</td>\n",
       "      <td></td>\n",
       "      <td>unknown</td>\n",
       "    </tr>\n",
       "    <tr>\n",
       "      <th>66</th>\n",
       "      <td>[at, sxsw, mention, , mention, wanna, buy, you, a, drink, 7pm, at, fado, on, 4th, link, join, us]</td>\n",
       "      <td>na</td>\n",
       "      <td>Neutral emotion</td>\n",
       "      <td></td>\n",
       "      <td>unknown</td>\n",
       "    </tr>\n",
       "    <tr>\n",
       "      <th>71</th>\n",
       "      <td>[chilcott, mention, sxsw, stand, talking, with, blogger, staff, too, late, to, win, competition, for, best, tweet, mentioning, mention, so, no, tshirt]</td>\n",
       "      <td>na</td>\n",
       "      <td>Neutral emotion</td>\n",
       "      <td></td>\n",
       "      <td>unknown</td>\n",
       "    </tr>\n",
       "    <tr>\n",
       "      <th>...</th>\n",
       "      <td>...</td>\n",
       "      <td>...</td>\n",
       "      <td>...</td>\n",
       "      <td>...</td>\n",
       "      <td>...</td>\n",
       "    </tr>\n",
       "    <tr>\n",
       "      <th>8932</th>\n",
       "      <td>[z6, no, news, is, good, news, link, codes, valid, 40075959p, 031111, infektd, sxsw, zlf]</td>\n",
       "      <td>na</td>\n",
       "      <td>Neutral emotion</td>\n",
       "      <td></td>\n",
       "      <td>unknown</td>\n",
       "    </tr>\n",
       "    <tr>\n",
       "      <th>8936</th>\n",
       "      <td>[client, news, mention, releases, dope, melodies, amp, heavy, bass, amp, invades, sxsw, gt, link]</td>\n",
       "      <td>na</td>\n",
       "      <td>Neutral emotion</td>\n",
       "      <td></td>\n",
       "      <td>unknown</td>\n",
       "    </tr>\n",
       "    <tr>\n",
       "      <th>8970</th>\n",
       "      <td>[this, is, my, 5th, year, downloading, the, sxsw, music, torrent, link, all, free, and, legal, great, music]</td>\n",
       "      <td>na</td>\n",
       "      <td>Neutral emotion</td>\n",
       "      <td></td>\n",
       "      <td>unknown</td>\n",
       "    </tr>\n",
       "    <tr>\n",
       "      <th>9024</th>\n",
       "      <td>[by, the, way, were, looking, for, a, spanishspeaking, trend, scout, based, in, austin, gt, link, sxsw]</td>\n",
       "      <td>na</td>\n",
       "      <td>Neutral emotion</td>\n",
       "      <td></td>\n",
       "      <td>unknown</td>\n",
       "    </tr>\n",
       "    <tr>\n",
       "      <th>9026</th>\n",
       "      <td>[true, story, rt, mention, i, just, rated, amys, ice, cream, 5, stars, mention, best, ice, cream, in, town, link, sxsw]</td>\n",
       "      <td>na</td>\n",
       "      <td>Neutral emotion</td>\n",
       "      <td></td>\n",
       "      <td>unknown</td>\n",
       "    </tr>\n",
       "  </tbody>\n",
       "</table>\n",
       "<p>915 rows × 5 columns</p>\n",
       "</div>"
      ],
      "text/plain": [
       "                                                                                                                                                   tweet_text  \\\n",
       "51                   [ûïmention, link, lt, help, me, forward, this, doc, to, all, anonymous, accounts, techiesamp, ppl, who, can, help, us, jam, libya, sxsw]   \n",
       "52                                                                              [¼, what, _, link, ã_, edchat, musedchat, sxsw, sxswi, classical, newtwitter]   \n",
       "53                                                             [mention, mention, on, the, locationbased, fast, fun, and, future, , link, via, mention, sxsw]   \n",
       "66                                                          [at, sxsw, mention, , mention, wanna, buy, you, a, drink, 7pm, at, fado, on, 4th, link, join, us]   \n",
       "71    [chilcott, mention, sxsw, stand, talking, with, blogger, staff, too, late, to, win, competition, for, best, tweet, mentioning, mention, so, no, tshirt]   \n",
       "...                                                                                                                                                       ...   \n",
       "8932                                                                [z6, no, news, is, good, news, link, codes, valid, 40075959p, 031111, infektd, sxsw, zlf]   \n",
       "8936                                                        [client, news, mention, releases, dope, melodies, amp, heavy, bass, amp, invades, sxsw, gt, link]   \n",
       "8970                                             [this, is, my, 5th, year, downloading, the, sxsw, music, torrent, link, all, free, and, legal, great, music]   \n",
       "9024                                                  [by, the, way, were, looking, for, a, spanishspeaking, trend, scout, based, in, austin, gt, link, sxsw]   \n",
       "9026                                  [true, story, rt, mention, i, just, rated, amys, ice, cream, 5, stars, mention, best, ice, cream, in, town, link, sxsw]   \n",
       "\n",
       "     emotion_in_tweet_is_directed_at  \\\n",
       "51                                na   \n",
       "52                                na   \n",
       "53                                na   \n",
       "66                                na   \n",
       "71                                na   \n",
       "...                              ...   \n",
       "8932                              na   \n",
       "8936                              na   \n",
       "8970                              na   \n",
       "9024                              na   \n",
       "9026                              na   \n",
       "\n",
       "     is_there_an_emotion_directed_at_a_brand_or_product test  product  \n",
       "51                                      Neutral emotion       unknown  \n",
       "52                                      Neutral emotion       unknown  \n",
       "53                                      Neutral emotion       unknown  \n",
       "66                                      Neutral emotion       unknown  \n",
       "71                                      Neutral emotion       unknown  \n",
       "...                                                 ...  ...      ...  \n",
       "8932                                    Neutral emotion       unknown  \n",
       "8936                                    Neutral emotion       unknown  \n",
       "8970                                    Neutral emotion       unknown  \n",
       "9024                                    Neutral emotion       unknown  \n",
       "9026                                    Neutral emotion       unknown  \n",
       "\n",
       "[915 rows x 5 columns]"
      ]
     },
     "execution_count": 163,
     "metadata": {},
     "output_type": "execute_result"
    }
   ],
   "source": [
    "df.loc[df['product'] == 'unknown']"
   ]
  },
  {
   "cell_type": "markdown",
   "metadata": {},
   "source": [
    "# Prepare for Testing"
   ]
  },
  {
   "cell_type": "code",
   "execution_count": 204,
   "metadata": {},
   "outputs": [],
   "source": [
    "target_dict = {'Negative emotion': 0, 'Neutral emotion': 1, 'Positive emotion': 2}\n",
    "df_test = df.copy()\n",
    "df_test['target'] = df['is_there_an_emotion_directed_at_a_brand_or_product'].map(target_dict)"
   ]
  },
  {
   "cell_type": "code",
   "execution_count": 210,
   "metadata": {},
   "outputs": [
    {
     "name": "stdout",
     "output_type": "stream",
     "text": [
      "<class 'pandas.core.frame.DataFrame'>\n",
      "Int64Index: 8177 entries, 0 to 9092\n",
      "Data columns (total 3 columns):\n",
      " #   Column      Non-Null Count  Dtype \n",
      "---  ------      --------------  ----- \n",
      " 0   tweet_text  8177 non-null   object\n",
      " 1   product     8177 non-null   object\n",
      " 2   target      8177 non-null   int64 \n",
      "dtypes: int64(1), object(2)\n",
      "memory usage: 255.5+ KB\n"
     ]
    }
   ],
   "source": [
    "df_test.info()"
   ]
  },
  {
   "cell_type": "code",
   "execution_count": 206,
   "metadata": {},
   "outputs": [],
   "source": [
    "df_test = df_test[df_test['product'] != 'unknown']"
   ]
  },
  {
   "cell_type": "code",
   "execution_count": 207,
   "metadata": {},
   "outputs": [
    {
     "name": "stdout",
     "output_type": "stream",
     "text": [
      "<class 'pandas.core.frame.DataFrame'>\n",
      "Int64Index: 8177 entries, 0 to 9092\n",
      "Data columns (total 6 columns):\n",
      " #   Column                                              Non-Null Count  Dtype \n",
      "---  ------                                              --------------  ----- \n",
      " 0   tweet_text                                          8177 non-null   object\n",
      " 1   emotion_in_tweet_is_directed_at                     8177 non-null   object\n",
      " 2   is_there_an_emotion_directed_at_a_brand_or_product  8177 non-null   object\n",
      " 3   test                                                8177 non-null   object\n",
      " 4   product                                             8177 non-null   object\n",
      " 5   target                                              8177 non-null   int64 \n",
      "dtypes: int64(1), object(5)\n",
      "memory usage: 447.2+ KB\n"
     ]
    }
   ],
   "source": [
    "\n",
    "df_test.info()"
   ]
  },
  {
   "cell_type": "code",
   "execution_count": 208,
   "metadata": {},
   "outputs": [],
   "source": [
    "df_test.drop(['emotion_in_tweet_is_directed_at','test','is_there_an_emotion_directed_at_a_brand_or_product'],axis=1,inplace=True)\n"
   ]
  },
  {
   "cell_type": "code",
   "execution_count": 237,
   "metadata": {},
   "outputs": [],
   "source": [
    "X = df_test['tweet_text']\n",
    "y = df_test['target']"
   ]
  },
  {
   "cell_type": "code",
   "execution_count": null,
   "metadata": {},
   "outputs": [],
   "source": []
  },
  {
   "cell_type": "code",
   "execution_count": 269,
   "metadata": {},
   "outputs": [],
   "source": [
    "X_train,X_test,y_train,y_test = train_test_split(X,y,stratify=y)\n"
   ]
  },
  {
   "cell_type": "code",
   "execution_count": 270,
   "metadata": {},
   "outputs": [],
   "source": [
    "X_train = X_train.str.join(' ')\n",
    "X_test = X_test.str.join(' ')"
   ]
  },
  {
   "cell_type": "code",
   "execution_count": 271,
   "metadata": {},
   "outputs": [
    {
     "data": {
      "text/plain": [
       "1079    1\n",
       "7146    1\n",
       "3567    1\n",
       "8667    1\n",
       "588     1\n",
       "       ..\n",
       "6200    1\n",
       "8071    1\n",
       "4641    1\n",
       "6180    2\n",
       "142     2\n",
       "Name: target, Length: 6132, dtype: int64"
      ]
     },
     "execution_count": 271,
     "metadata": {},
     "output_type": "execute_result"
    }
   ],
   "source": [
    "y_train"
   ]
  },
  {
   "cell_type": "code",
   "execution_count": 272,
   "metadata": {},
   "outputs": [
    {
     "data": {
      "text/plain": [
       "1079                                                                                                 ive seen several people working on ipad 2s at sxsw today\n",
       "7146                                  sxsw rumor google employees are given a travel budget per city if they use less they can bank the diff for future trips\n",
       "3567                       mention i try to stay awake d im trying to get ustream working on iphone see your badgepicture now is dat right kickoffparty  sxsw\n",
       "8667                                                                                     google launching new social network called cicles at sxsw today link\n",
       "588                                                        diller on google tv the first product wasnt good it wasnt a consumer product basically sxsw diller\n",
       "                                                                                ...                                                                          \n",
       "6200    rt mention just a friendly reminder for sxsw attendees if you talk or text during a film i will slap you in the mouth amp steal your ipad that is all\n",
       "8071                                     contactless iphone payment system being trialled by visa amp anz bank due to apple boycotting existing nfc link sxsw\n",
       "4641                                            ipad lounge recharge coffee h2o ipad art showfree daily for sxsw 106 e 8th at congress åç austin details link\n",
       "6180                                      rt mention its not a rumor apple is opening up a temporary store in downtown austin for sxsw and ipad 2 launch link\n",
       "142                                                           must have sxsw app rt mention lovely review from forbes for our sxsw ipad app holler gram  link\n",
       "Name: tweet_text, Length: 6132, dtype: object"
      ]
     },
     "execution_count": 272,
     "metadata": {},
     "output_type": "execute_result"
    }
   ],
   "source": [
    "X_train"
   ]
  },
  {
   "cell_type": "code",
   "execution_count": 273,
   "metadata": {},
   "outputs": [],
   "source": [
    "cv = CountVectorizer()\n",
    "\n",
    "X_t_vec = cv.fit_transform(X_train)\n",
    "\n",
    "X_t_vec = cv.fit_transform(X_train)\n",
    "X_t_vec = pd.DataFrame.sparse.from_spmatrix(X_t_vec)\n",
    "X_t_vec.columns = sorted(cv.vocabulary_)\n",
    "X_t_vec.set_index(y_train.index, inplace=True)"
   ]
  },
  {
   "cell_type": "code",
   "execution_count": 274,
   "metadata": {},
   "outputs": [],
   "source": [
    "X_val_vec = cv.transform(X_test)\n",
    "X_val_vec  = pd.DataFrame.sparse.from_spmatrix(X_val_vec)\n",
    "X_val_vec.columns = sorted(cv.vocabulary_)\n",
    "X_val_vec.set_index(y_test.index, inplace=True)"
   ]
  },
  {
   "cell_type": "code",
   "execution_count": 275,
   "metadata": {},
   "outputs": [],
   "source": [
    "mnb = MultinomialNB()"
   ]
  },
  {
   "cell_type": "code",
   "execution_count": 276,
   "metadata": {},
   "outputs": [
    {
     "data": {
      "text/plain": [
       "MultinomialNB()"
      ]
     },
     "execution_count": 276,
     "metadata": {},
     "output_type": "execute_result"
    }
   ],
   "source": [
    "mnb.fit(X_t_vec,y_train)"
   ]
  },
  {
   "cell_type": "code",
   "execution_count": 285,
   "metadata": {},
   "outputs": [],
   "source": [
    "y_hat = mnb.predict(X_t_vec)\n"
   ]
  },
  {
   "cell_type": "code",
   "execution_count": 286,
   "metadata": {},
   "outputs": [
    {
     "data": {
      "text/plain": [
       "array([[ 166,  163,   95],\n",
       "       [  21, 3190,  277],\n",
       "       [   2,  516, 1702]], dtype=int64)"
      ]
     },
     "execution_count": 286,
     "metadata": {},
     "output_type": "execute_result"
    }
   ],
   "source": [
    "cm = confusion_matrix(y_train, y_hat)\n",
    "cm"
   ]
  },
  {
   "cell_type": "code",
   "execution_count": 283,
   "metadata": {},
   "outputs": [],
   "source": [
    "def metrics(y_true,y_preds):\n",
    "    '''Gives recall,precision,accuracy,F1 score and confusion matrix'''\n",
    "    return print(f'''Recall Score: {recall_score(y_true,y_preds)}\n",
    "Precision Score: {precision_score(y_true,y_preds)}\n",
    "Accuracy Score:{accuracy_score(y_true,y_preds)}\n",
    "F1 Score: {f1_score(y_true,y_preds)}\n",
    "Confusion Matrix: \n",
    "{confusion_matrix(y_true,y_preds)}''')\n"
   ]
  },
  {
   "cell_type": "code",
   "execution_count": 295,
   "metadata": {},
   "outputs": [
    {
     "data": {
      "text/plain": [
       "0.824853228962818"
      ]
     },
     "execution_count": 295,
     "metadata": {},
     "output_type": "execute_result"
    }
   ],
   "source": [
    "accuracy_score(y_train,y_hat)"
   ]
  },
  {
   "cell_type": "code",
   "execution_count": 297,
   "metadata": {},
   "outputs": [
    {
     "data": {
      "text/plain": [
       "{'fit_time': array([2.48398972, 2.51967573, 2.24389744, 2.24685454, 2.53409481]),\n",
       " 'score_time': array([0.37696266, 0.36453629, 0.64675856, 0.37896633, 0.36654329]),\n",
       " 'test_score': array([0.64221679, 0.64384678, 0.63621533, 0.65579119, 0.65497553])}"
      ]
     },
     "execution_count": 297,
     "metadata": {},
     "output_type": "execute_result"
    }
   ],
   "source": [
    "cross_validate(mnb,X_t_vec,y_train)"
   ]
  }
 ],
 "metadata": {
  "kernelspec": {
   "display_name": "Python (learn-env)",
   "language": "python",
   "name": "learn-env"
  },
  "language_info": {
   "codemirror_mode": {
    "name": "ipython",
    "version": 3
   },
   "file_extension": ".py",
   "mimetype": "text/x-python",
   "name": "python",
   "nbconvert_exporter": "python",
   "pygments_lexer": "ipython3",
   "version": "3.8.5"
  }
 },
 "nbformat": 4,
 "nbformat_minor": 4
}
